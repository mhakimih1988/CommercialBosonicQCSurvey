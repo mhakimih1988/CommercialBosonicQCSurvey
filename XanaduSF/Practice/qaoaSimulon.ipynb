{
 "cells": [
  {
   "cell_type": "code",
   "execution_count": null,
   "id": "6a7bd17d",
   "metadata": {},
   "outputs": [],
   "source": []
  },
  {
   "cell_type": "code",
   "execution_count": 6,
   "id": "812d202f",
   "metadata": {},
   "outputs": [],
   "source": [
    "import strawberryfields as sf\n",
    "from strawberryfields.ops import *\n",
    "# from strawberryfields.utils import scale\n",
    "from numpy import pi, sqrt\n",
    "import math\n",
    "import random\n",
    "\n",
    "from matplotlib import pyplot as plt\n",
    "\n"
   ]
  },
  {
   "cell_type": "code",
   "execution_count": 7,
   "id": "230fa7ba",
   "metadata": {},
   "outputs": [],
   "source": [
    "# eng, q = sf.Engine(1)\n",
    "prog = sf.Program(1)\n",
    "eng = sf.RemoteEngine(\"simulon_gaussian\")\n",
    "\n",
    "iterations = 45\n",
    "shots = 10\n",
    "parabolic_min = 10\n",
    "possible_parameters = [0.1, 0.3, 0.5, 0.7, 0.9, 1.1]\n",
    "testing_trials = 100\n",
    "optimal_value = math.inf\n",
    "simulation = []\n",
    "\n"
   ]
  },
  {
   "cell_type": "code",
   "execution_count": 8,
   "id": "b0514347",
   "metadata": {},
   "outputs": [],
   "source": [
    "#Calculating loss\n",
    "\n",
    "def function_optimize(x, parabolic_min):\n",
    "    y = (x - parabolic_min)**2\n",
    "    return y\n",
    "\n"
   ]
  },
  {
   "cell_type": "code",
   "execution_count": null,
   "id": "d2d22be2",
   "metadata": {},
   "outputs": [],
   "source": [
    "#Run the photonic quantum circuit\n",
    "\n",
    "def run_circuit(alpha_param, beta_param, parabolic_min):\n",
    "\n",
    "    prog = sf.Program(1)\n",
    "\n",
    "    # with eng:\n",
    "    with prog.context as q:\n",
    "\n",
    "        Squeezed(-0.5,0) | q[0]\n",
    "\n",
    "        Zgate(parabolic_min*4*beta_param[0]) | q[0]\n",
    "        Pgate(-4*beta_param[0]) | q[0]\n",
    "        Rgate(-1*alpha_param[0]) | q[0]\n",
    "        Zgate(parabolic_min*4*beta_param[1]) | q[0]\n",
    "        Pgate(-4*beta_param[1]) | q[0]\n",
    "        Rgate(-1*alpha_param[1]) | q[0]\n",
    "        Zgate(parabolic_min*4*beta_param[2]) | q[0]\n",
    "        Pgate(-4*beta_param[2]) | q[0]\n",
    "        Rgate(-1*alpha_param[2]) | q[0]\n",
    "\n",
    "        MeasureX | q[0]\n",
    "\n",
    "        # state = eng.run(prog, cutoff_dim=5, shots=1)\n",
    "        state = eng.run(prog, shots=1)\n",
    "\n",
    "    return q[0].val\n",
    "\n"
   ]
  },
  {
   "cell_type": "code",
   "execution_count": 10,
   "id": "8ad94ad7",
   "metadata": {},
   "outputs": [
    {
     "name": "stderr",
     "output_type": "stream",
     "text": [
      "2025-05-28 01:13:21,421 - INFO - Compiling program for device simulon_gaussian using compiler gaussian.\n",
      "2025-05-28 01:13:24,603 - ERROR - The remote job b78b5ef9-f485-42a6-92b3-29ae6c8baa58 failed due to an internal server error: {'error-code': 'device-error', 'error-detail': 'The device was unable to process your job request. The error has been forwarded to technical support.'}. Please try again.\n"
     ]
    },
    {
     "ename": "FailedJobError",
     "evalue": "The remote job b78b5ef9-f485-42a6-92b3-29ae6c8baa58 failed due to an internal server error: {'error-code': 'device-error', 'error-detail': 'The device was unable to process your job request. The error has been forwarded to technical support.'}. Please try again.",
     "output_type": "error",
     "traceback": [
      "\u001b[1;31m---------------------------------------------------------------------------\u001b[0m",
      "\u001b[1;31mFailedJobError\u001b[0m                            Traceback (most recent call last)",
      "Cell \u001b[1;32mIn[10], line 12\u001b[0m\n\u001b[0;32m     10\u001b[0m grid \u001b[38;5;241m=\u001b[39m []\n\u001b[0;32m     11\u001b[0m \u001b[38;5;28;01mfor\u001b[39;00m h \u001b[38;5;129;01min\u001b[39;00m \u001b[38;5;28mrange\u001b[39m(\u001b[38;5;241m0\u001b[39m, shots):\n\u001b[1;32m---> 12\u001b[0m     hello \u001b[38;5;241m=\u001b[39m \u001b[43mrun_circuit\u001b[49m\u001b[43m(\u001b[49m\u001b[43malpha_param\u001b[49m\u001b[43m,\u001b[49m\u001b[43m \u001b[49m\u001b[43mbeta_param\u001b[49m\u001b[43m,\u001b[49m\u001b[43m \u001b[49m\u001b[43mparabolic_min\u001b[49m\u001b[43m)\u001b[49m\n\u001b[0;32m     13\u001b[0m     result \u001b[38;5;241m=\u001b[39m result\u001b[38;5;241m+\u001b[39mhello\n\u001b[0;32m     14\u001b[0m     grid\u001b[38;5;241m.\u001b[39mappend(hello)\n",
      "Cell \u001b[1;32mIn[9], line 25\u001b[0m, in \u001b[0;36mrun_circuit\u001b[1;34m(alpha_param, beta_param, parabolic_min)\u001b[0m\n\u001b[0;32m     22\u001b[0m     MeasureX \u001b[38;5;241m|\u001b[39m q[\u001b[38;5;241m0\u001b[39m]\n\u001b[0;32m     24\u001b[0m     \u001b[38;5;66;03m# state = eng.run(prog, cutoff_dim=5, shots=1)\u001b[39;00m\n\u001b[1;32m---> 25\u001b[0m     state \u001b[38;5;241m=\u001b[39m \u001b[43meng\u001b[49m\u001b[38;5;241;43m.\u001b[39;49m\u001b[43mrun\u001b[49m\u001b[43m(\u001b[49m\u001b[43mprog\u001b[49m\u001b[43m,\u001b[49m\u001b[43m \u001b[49m\u001b[43mshots\u001b[49m\u001b[38;5;241;43m=\u001b[39;49m\u001b[38;5;241;43m1\u001b[39;49m\u001b[43m)\u001b[49m\n\u001b[0;32m     27\u001b[0m \u001b[38;5;28;01mreturn\u001b[39;00m q[\u001b[38;5;241m0\u001b[39m]\u001b[38;5;241m.\u001b[39mval\n",
      "File \u001b[1;32mc:\\Users\\mhakimi\\Documents\\strawberryfields9\\StrawberryFieldsVenv\\lib\\site-packages\\strawberryfields\\engine.py:730\u001b[0m, in \u001b[0;36mRemoteEngine.run\u001b[1;34m(self, program, compile_options, recompile, **kwargs)\u001b[0m\n\u001b[0;32m    725\u001b[0m     message \u001b[38;5;241m=\u001b[39m (\n\u001b[0;32m    726\u001b[0m         \u001b[38;5;124mf\u001b[39m\u001b[38;5;124m\"\u001b[39m\u001b[38;5;124mThe remote job \u001b[39m\u001b[38;5;132;01m{\u001b[39;00mjob\u001b[38;5;241m.\u001b[39mid\u001b[38;5;132;01m}\u001b[39;00m\u001b[38;5;124m failed due to an internal \u001b[39m\u001b[38;5;124m\"\u001b[39m\n\u001b[0;32m    727\u001b[0m         \u001b[38;5;124mf\u001b[39m\u001b[38;5;124m\"\u001b[39m\u001b[38;5;124mserver error: \u001b[39m\u001b[38;5;132;01m{\u001b[39;00mjob\u001b[38;5;241m.\u001b[39mmetadata\u001b[38;5;132;01m}\u001b[39;00m\u001b[38;5;124m. Please try again.\u001b[39m\u001b[38;5;124m\"\u001b[39m\n\u001b[0;32m    728\u001b[0m     )\n\u001b[0;32m    729\u001b[0m     \u001b[38;5;28mself\u001b[39m\u001b[38;5;241m.\u001b[39mlog\u001b[38;5;241m.\u001b[39merror(message)\n\u001b[1;32m--> 730\u001b[0m     \u001b[38;5;28;01mraise\u001b[39;00m FailedJobError(message)\n\u001b[0;32m    732\u001b[0m \u001b[38;5;28;01mif\u001b[39;00m job\u001b[38;5;241m.\u001b[39mstatus \u001b[38;5;241m==\u001b[39m \u001b[38;5;124m\"\u001b[39m\u001b[38;5;124mcomplete\u001b[39m\u001b[38;5;124m\"\u001b[39m:\n\u001b[0;32m    733\u001b[0m     \u001b[38;5;28mself\u001b[39m\u001b[38;5;241m.\u001b[39mlog\u001b[38;5;241m.\u001b[39minfo(\u001b[38;5;124mf\u001b[39m\u001b[38;5;124m\"\u001b[39m\u001b[38;5;124mThe remote job \u001b[39m\u001b[38;5;132;01m{\u001b[39;00mjob\u001b[38;5;241m.\u001b[39mid\u001b[38;5;132;01m}\u001b[39;00m\u001b[38;5;124m has been completed.\u001b[39m\u001b[38;5;124m\"\u001b[39m)\n",
      "\u001b[1;31mFailedJobError\u001b[0m: The remote job b78b5ef9-f485-42a6-92b3-29ae6c8baa58 failed due to an internal server error: {'error-code': 'device-error', 'error-detail': 'The device was unable to process your job request. The error has been forwarded to technical support.'}. Please try again."
     ]
    }
   ],
   "source": [
    "#Search for the optimal value\n",
    "\n",
    "op = 0\n",
    "\n",
    "alpha_param = [0.5, 0.5, 0.5]\n",
    "beta_param = [0.5, 0.5, 0.5]\n",
    "\n",
    "for i in range(0, iterations):\n",
    "    result = 0\n",
    "    grid = []\n",
    "    for h in range(0, shots):\n",
    "        hello = run_circuit(alpha_param, beta_param, parabolic_min)\n",
    "        result = result+hello\n",
    "        grid.append(hello)\n",
    "    result = result/shots\n",
    "    calculation = function_optimize(result, parabolic_min)\n",
    "\n",
    "    yer_a = alpha_param\n",
    "    yer_b = beta_param\n",
    "\n",
    "    if (calculation < optimal_value):\n",
    "        simulation = grid\n",
    "        optimal_value = calculation\n",
    "        the_x_measurement = result\n",
    "        op = [[alpha_param[0], alpha_param[1], alpha_param[2]], [beta_param[0], beta_param[1], beta_param[2]]]\n",
    "\n",
    "    alpha_param[0] = possible_parameters[random.randint(0, len(possible_parameters)-1)]\n",
    "    alpha_param[1] = possible_parameters[random.randint(0, len(possible_parameters)-1)]\n",
    "    alpha_param[2] = possible_parameters[random.randint(0, len(possible_parameters)-1)]\n",
    "\n",
    "    beta_param[0] = possible_parameters[random.randint(0, len(possible_parameters)-1)]\n",
    "    beta_param[1] = possible_parameters[random.randint(0, len(possible_parameters)-1)]\n",
    "    beta_param[2] = possible_parameters[random.randint(0, len(possible_parameters)-1)]\n",
    "\n",
    "\n",
    "optimal_parameters = op\n",
    "\n",
    "\n",
    "x_arr = range(0, testing_trials)\n",
    "y_arr = []\n",
    "\n",
    "for i in range(0, testing_trials):\n",
    "\n",
    "    state = run_circuit(optimal_parameters[0], optimal_parameters[1], parabolic_min)\n",
    "    y_arr.append(state)\n",
    "\n",
    "print(y_arr)"
   ]
  },
  {
   "cell_type": "code",
   "execution_count": null,
   "id": "f421fe0f",
   "metadata": {},
   "outputs": [],
   "source": [
    "device = eng.device"
   ]
  },
  {
   "cell_type": "code",
   "execution_count": null,
   "id": "45407e56",
   "metadata": {},
   "outputs": [
    {
     "name": "stdout",
     "output_type": "stream",
     "text": [
      "<strawberryfields.device.Device object at 0x00000206574CD1F0>\n"
     ]
    }
   ],
   "source": [
    "print(device)"
   ]
  },
  {
   "cell_type": "code",
   "execution_count": null,
   "id": "19c2738b",
   "metadata": {},
   "outputs": [],
   "source": []
  }
 ],
 "metadata": {
  "kernelspec": {
   "display_name": "StrawberryFieldsVenv",
   "language": "python",
   "name": "python3"
  },
  "language_info": {
   "codemirror_mode": {
    "name": "ipython",
    "version": 3
   },
   "file_extension": ".py",
   "mimetype": "text/x-python",
   "name": "python",
   "nbconvert_exporter": "python",
   "pygments_lexer": "ipython3",
   "version": "3.9.13"
  }
 },
 "nbformat": 4,
 "nbformat_minor": 5
}
