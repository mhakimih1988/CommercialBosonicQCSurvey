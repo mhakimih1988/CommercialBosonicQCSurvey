{
  "cells": [
    {
      "cell_type": "code",
      "execution_count": 1,
      "metadata": {
        "collapsed": false
      },
      "outputs": [],
      "source": [
        "# This cell is added by sphinx-gallery\n",
        "# It can be customized to whatever you like\n",
        "%matplotlib inline"
      ]
    },
    {
      "cell_type": "markdown",
      "metadata": {},
      "source": [
        "\n",
        "\n",
        "Executing programs on X8 devices\n",
        "================================\n",
        "\n",
        "In this tutorial, we demonstrate how Strawberry Fields can execute quantum programs on the X8 family\n",
        "of remote photonic devices, via the Xanadu cloud platform. Topics covered include:\n",
        "\n",
        "* Configuring Strawberry Fields to access the cloud platform,\n",
        "* Using the :class:`~strawberryfields.RemoteEngine` to execute jobs remotely on ``X8``,\n",
        "* Compiling quantum programs for specific quantum chip architectures,\n",
        "* Saving and running Blackbird scripts, an assembly language for quantum photonic hardware, and\n",
        "* Embedding and sampling from bipartite graphs on ``X8``.\n",
        "\n",
        "<div class=\"alert alert-danger\"><h4>Warning</h4><p>An API key is required to access the Xanadu Cloud platform locally. In the following,\n",
        "    replace ``AUTHENTICATION_TOKEN`` with your personal API token.\n",
        "\n",
        "    If you do not have an API key, you can `contact us <mailto:hardware-access@xanadu.ai>`__ to\n",
        "    setup an account.</p></div>\n",
        "\n",
        "<div class=\"alert alert-info\"><h4>Note</h4><p>**What's in a name?**\n",
        "\n",
        "    ``X8``, rather than being a single hardware chip, corresponds to a family of physical devices,\n",
        "    with individual names including ``X8_01``.\n",
        "\n",
        "    While ``X8`` is used here to specify *any* chip in the ``X8`` device class (including\n",
        "    ``X8_01``), you may also specify a specific chip ID (such as ``X8_01``) during program\n",
        "    compilation and execution.</p></div>\n",
        "\n",
        "\n",
        "Configuring your credentials\n",
        "----------------------------\n",
        "\n",
        "Before using :class:`~strawberryfields.RemoteEngine` for the first time, we need to register\n",
        "a Xanadu Cloud API key with the Xanadu Cloud Client (XCC). We can do this by using the\n",
        ":class:`xcc.Settings` class from the XCC.\n"
      ]
    },
    {
      "cell_type": "code",
      "execution_count": 2,
      "metadata": {
        "collapsed": false
      },
      "outputs": [],
      "source": [
        "# import xcc\n",
        "# xcc.Settings(REFRESH_TOKEN=\"Xanadu Cloud API key goes here\").save()"
      ]
    },
    {
      "cell_type": "markdown",
      "metadata": {},
      "source": [
        "This only needs to be executed once; your Xanadu Cloud credentials will be saved to disk\n",
        "and automatically loaded when a new :class:`RemoteEngine` instance is created.\n",
        "\n",
        "To test that your account credentials correctly authenticate against the cloud platform,\n",
        "you can import `xcc.commands` and use the :func:`xcc.commands.ping` command,\n",
        "\n"
      ]
    },
    {
      "cell_type": "code",
      "execution_count": 3,
      "metadata": {
        "collapsed": false
      },
      "outputs": [
        {
          "data": {
            "text/plain": [
              "'Successfully connected to the Xanadu Cloud.'"
            ]
          },
          "execution_count": 3,
          "metadata": {},
          "output_type": "execute_result"
        }
      ],
      "source": [
        "import xcc.commands\n",
        "xcc.commands.ping()"
      ]
    },
    {
      "cell_type": "markdown",
      "metadata": {},
      "source": [
        ".. rst-class:: sphx-glr-script-out\n",
        "\n",
        " Out:\n",
        "\n",
        " .. code-block:: none\n",
        "\n",
        "    'Successfully connected to the Xanadu Cloud.'\n",
        "\n"
      ]
    },
    {
      "cell_type": "markdown",
      "metadata": {},
      "source": [
        "<div class=\"alert alert-info\"><h4>Note</h4><p>The XCC also provides a command line interface for configuring\n",
        "    access to the cloud platform and for submitting jobs:\n",
        "\n",
        "    .. code-block:: console\n",
        "\n",
        "        $ xcc config set REFRESH_TOKEN \"Xanadu Cloud API key goes here\"\n",
        "        $ xcc ping\n",
        "        Successfully connected to the Xanadu Cloud.</p></div>\n",
        "\n",
        "For more details on configuring Strawberry Fields for cloud access, including\n",
        "using the command line interface, see the :doc:`introduction/photonic_hardware`\n",
        "quickstart guide.\n",
        "\n",
        "Device details\n",
        "--------------\n",
        "\n",
        "Below, we will be submitting a job to run on ``X8``.\n",
        "\n",
        "``X8`` is an 8-mode chip, with the following restrictions:\n",
        "\n",
        "\n",
        "* The initial states are two-mode squeezed states (:class:`~strawberryfields.ops.S2gate`). We call\n",
        "  modes 0 to 3 the *signal modes* and modes 4 to 7 the *idler modes*. Two-mode squeezing is\n",
        "  between the pairs of modes: (0, 4), (1, 5), (2, 6), (3, 7).\n",
        "\n",
        "* Any arbitrary $4\\times 4$ unitary (consisting of :class:`~strawberryfields.ops.BSgate`,\n",
        "  :class:`~strawberryfields.ops.MZgate`,\n",
        "  :class:`~strawberryfields.ops.Rgate`, and :class:`~strawberryfields.ops.Interferometer`\n",
        "  operations) can be applied identically on both the signal and idler modes.\n",
        "\n",
        "* Finally, the chip terminates with photon-number resolving measurements\n",
        "  (:class:`~strawberryfields.ops.MeasureFock`).\n",
        "\n",
        ".. figure:: /tutorials/images/X8.png\n",
        "    :align: center\n",
        "    :width: 70%\n",
        "    :target: javascript:void(0);\n",
        "\n",
        "At this point, only the parameters ``(r=1, phi=0)`` and ``(r=0, phi=0)`` (corresponding to no\n",
        "squeezing) are allowed for the two-mode squeezing gates between any pair of signal and idler\n",
        "modes. Eventually, a range of squeezing amplitudes :code:`r` will be supported.\n",
        "\n",
        "Executing jobs\n",
        "--------------\n",
        "\n",
        "In this section, we will use Strawberry Fields to submit a simple circuit to the chip.\n",
        "\n",
        "First, we import NumPy and Strawberry Fields, including the remote engine.\n",
        "\n",
        "\n"
      ]
    },
    {
      "cell_type": "code",
      "execution_count": 4,
      "metadata": {
        "collapsed": false
      },
      "outputs": [],
      "source": [
        "import numpy as np\n",
        "\n",
        "import strawberryfields as sf\n",
        "from strawberryfields import ops\n",
        "from strawberryfields import RemoteEngine"
      ]
    },
    {
      "cell_type": "markdown",
      "metadata": {},
      "source": [
        "Lets use the :func:`~strawberryfields.utils.random_interferometer` function to generate a random $4\\times 4$\n",
        "unitary:\n",
        "\n"
      ]
    },
    {
      "cell_type": "code",
      "execution_count": 5,
      "metadata": {
        "collapsed": false
      },
      "outputs": [
        {
          "name": "stdout",
          "output_type": "stream",
          "text": [
            "[[-0.4157465062046548+0.3155680389820535j\n",
            "   0.0655024316576236-0.5379217619056633j\n",
            "  -0.0094892431808626+0.0077703395309502j\n",
            "   0.1150775878618366+0.6484812948159864j]\n",
            " [-0.085606109257287 -0.0202619914518807j\n",
            "  -0.3606025953420359-0.492964432876418j\n",
            "   0.0065674635220519-0.614172374590004j\n",
            "  -0.3471954145119804-0.3484499802939721j]\n",
            " [-0.602771552997966 -0.2430016520981486j\n",
            "  -0.033569262508165 +0.3909383134568384j\n",
            "  -0.0263185101827062-0.4547908140952613j\n",
            "   0.4645532444224996-0.0178864807335804j]\n",
            " [-0.3944466946300546-0.3766446046092949j\n",
            "  -0.2986586117944974-0.3002412679060437j\n",
            "  -0.2136387345811092+0.607807437700219j\n",
            "   0.0930456703877944-0.3154044618363062j]]\n"
          ]
        }
      ],
      "source": [
        "from strawberryfields.utils import random_interferometer\n",
        "U = random_interferometer(4)\n",
        "np.set_printoptions(precision=16)\n",
        "print(U)"
      ]
    },
    {
      "cell_type": "markdown",
      "metadata": {},
      "source": [
        ".. rst-class:: sphx-glr-script-out\n",
        "\n",
        " Out:\n",
        "\n",
        " .. code-block:: none\n",
        "\n",
        "    array([[-0.2075958002056761-0.1295303874004949j, 0.4168590195887626+0.585773678107707j, 0.2890475539846776-0.3529463027479843j, 0.213901659507021 +0.411521709357663j ],\n",
        "    [-0.2618964139102731+0.4432947111670047j, -0.5184820552871022+0.1650915362584557j, -0.4128306651379415-0.4882838386727423j, -0.0079437590004708+0.172938838723708j ],\n",
        "    [ 0.1415402337953751+0.5501271526107689j, 0.3692746956219556+0.0108433797647406j, 0.1986531501150634-0.1359201690880894j, -0.6937372152789114-0.0404525424120204j],\n",
        "    [-0.5917850330700981-0.0462912812620793j, 0.1868543708455093-0.1249918525715507j, -0.322811013686639 +0.4699849324731709j, -0.2704622309566428+0.4459455876188795j]])\n",
        "\n"
      ]
    },
    {
      "cell_type": "markdown",
      "metadata": {},
      "source": [
        "Next we create an 8-mode quantum program:\n",
        "\n"
      ]
    },
    {
      "cell_type": "code",
      "execution_count": 6,
      "metadata": {
        "collapsed": false
      },
      "outputs": [],
      "source": [
        "prog = sf.Program(8, name=\"remote_job1\")\n",
        "\n",
        "with prog.context as q:\n",
        "    # Initial squeezed states\n",
        "    # Allowed values are r=1.0 or r=0.0\n",
        "    ops.S2gate(1.0) | (q[0], q[4])\n",
        "    ops.S2gate(1.0) | (q[1], q[5])\n",
        "    ops.S2gate(1.0) | (q[3], q[7])\n",
        "\n",
        "    # Interferometer on the signal modes (0-3)\n",
        "    ops.Interferometer(U) | (q[0], q[1], q[2], q[3])\n",
        "    ops.BSgate(0.543, 0.123) | (q[2], q[0])\n",
        "    ops.Rgate(0.453) | q[1]\n",
        "    ops.MZgate(0.65, -0.54) | (q[2], q[3])\n",
        "\n",
        "    # *Same* interferometer on the idler modes (4-7)\n",
        "    ops.Interferometer(U) | (q[4], q[5], q[6], q[7])\n",
        "    ops.BSgate(0.543, 0.123) | (q[6], q[4])\n",
        "    ops.Rgate(0.453) | q[5]\n",
        "    ops.MZgate(0.65, -0.54) | (q[6], q[7])\n",
        "\n",
        "    ops.MeasureFock() | q"
      ]
    },
    {
      "cell_type": "markdown",
      "metadata": {},
      "source": [
        "Finally, we create the engine. Similarly to the :class:`~strawberryfields.engine.LocalEngine`, the\n",
        ":class:`~strawberryfields.RemoteEngine` is in charge of compiling and executing programs. However,\n",
        "it differs in that the program will be executed on *remote* devices, rather than on local\n",
        "simulators.\n",
        "\n",
        "Below, we create a remote engine to submit and execute quantum programs\n",
        "on the ``X8`` photonic device.\n",
        "\n"
      ]
    },
    {
      "cell_type": "code",
      "execution_count": 7,
      "metadata": {
        "collapsed": false
      },
      "outputs": [],
      "source": [
        "eng = RemoteEngine(\"X8\")"
      ]
    },
    {
      "cell_type": "markdown",
      "metadata": {},
      "source": [
        "We can now run the program by calling ``eng.run``, and passing the program to be executed\n",
        "as well as additional runtime options.\n",
        "\n"
      ]
    },
    {
      "cell_type": "code",
      "execution_count": 8,
      "metadata": {
        "collapsed": false
      },
      "outputs": [
        {
          "name": "stderr",
          "output_type": "stream",
          "text": [
            "2025-06-02 12:42:07,888 - INFO - Compiling program for device X8_01 using compiler Xunitary.\n",
            "2025-06-02 12:42:24,884 - INFO - The remote job 76ebe379-a9d1-45fa-8719-cc445c348658 has been completed.\n"
          ]
        }
      ],
      "source": [
        "results = eng.run(prog, shots=20)"
      ]
    },
    {
      "cell_type": "markdown",
      "metadata": {},
      "source": [
        ".. rst-class:: sphx-glr-script-out\n",
        "\n",
        " Out:\n",
        "\n",
        " .. code-block:: none\n",
        "\n",
        "    2022-03-22 15:48:31,995 - INFO - Compiling program for device X8_01 using compiler Xunitary.\n",
        "    2022-03-22 15:48:52,487 - INFO - The remote job 0884466f-b0f1-4153-8b8f-5f0b7ff9e8fd has been completed.\n",
        "\n"
      ]
    },
    {
      "cell_type": "code",
      "execution_count": 9,
      "metadata": {
        "collapsed": false
      },
      "outputs": [
        {
          "name": "stdout",
          "output_type": "stream",
          "text": [
            "[[0 0 0 1 1 0 0 0]\n",
            " [0 0 0 0 1 0 0 0]\n",
            " [0 0 0 0 0 0 0 0]\n",
            " [0 0 0 1 1 0 0 0]\n",
            " [0 0 0 2 0 1 0 1]\n",
            " [0 2 0 0 0 0 2 0]\n",
            " [2 1 0 2 1 1 0 1]\n",
            " [1 0 0 0 0 0 0 0]\n",
            " [2 0 0 0 0 0 2 1]\n",
            " [0 0 0 0 0 2 1 0]\n",
            " [0 1 1 0 0 0 0 0]\n",
            " [0 3 0 0 1 2 0 1]\n",
            " [0 0 1 0 0 0 1 0]\n",
            " [1 1 0 1 1 1 1 0]\n",
            " [0 0 0 3 1 1 1 0]\n",
            " [0 1 1 1 0 0 2 0]\n",
            " [0 0 1 0 1 0 1 0]\n",
            " [0 2 0 0 0 1 0 0]\n",
            " [1 0 0 0 0 0 0 0]\n",
            " [0 1 0 2 0 0 0 0]]\n"
          ]
        }
      ],
      "source": [
        "print(results.samples)"
      ]
    },
    {
      "cell_type": "markdown",
      "metadata": {},
      "source": [
        ".. rst-class:: sphx-glr-script-out\n",
        "\n",
        " Out:\n",
        "\n",
        " .. code-block:: none\n",
        "\n",
        "    array([[0, 0, 1, 0, 1, 0, 1, 0],\n",
        "           [0, 0, 0, 0, 0, 0, 0, 0],\n",
        "           [0, 0, 0, 0, 0, 0, 0, 2],\n",
        "           [0, 0, 0, 0, 0, 1, 0, 0],\n",
        "           [1, 0, 0, 0, 0, 0, 3, 0],\n",
        "           [3, 0, 0, 0, 2, 0, 1, 0],\n",
        "           [0, 1, 0, 0, 0, 1, 1, 0],\n",
        "           [0, 1, 0, 0, 1, 0, 0, 0],\n",
        "           [0, 0, 0, 0, 0, 0, 1, 1],\n",
        "           [0, 0, 0, 0, 0, 0, 0, 0],\n",
        "           [0, 0, 0, 0, 0, 1, 0, 0],\n",
        "           [1, 0, 0, 0, 1, 0, 0, 0],\n",
        "           [0, 0, 0, 0, 0, 0, 1, 0],\n",
        "           [0, 0, 0, 0, 0, 0, 0, 0],\n",
        "           [0, 0, 0, 0, 0, 0, 0, 1],\n",
        "           [0, 0, 0, 0, 0, 0, 0, 1],\n",
        "           [1, 0, 0, 0, 0, 0, 0, 0],\n",
        "           [0, 0, 0, 0, 0, 1, 0, 0],\n",
        "           [0, 0, 1, 1, 0, 2, 1, 2],\n",
        "           [2, 0, 1, 0, 1, 0, 0, 0]])\n",
        "\n"
      ]
    },
    {
      "cell_type": "markdown",
      "metadata": {},
      "source": [
        "The samples returned correspond to 20 measurements (or shots) of the 8 mode quantum program\n",
        "above. Some modes have measured zero photons, and others have\n",
        "detected single photons, with a few even detecting 2 or 3.\n",
        "\n",
        "By taking the average of the returned array along the shots axis, we can estimate the\n",
        "mean photon number of each mode:\n",
        "\n"
      ]
    },
    {
      "cell_type": "code",
      "execution_count": 10,
      "metadata": {
        "collapsed": false
      },
      "outputs": [
        {
          "name": "stdout",
          "output_type": "stream",
          "text": [
            "[0.35 0.6  0.2  0.65 0.4  0.45 0.55 0.2 ]\n"
          ]
        }
      ],
      "source": [
        "print(np.mean(results.samples, axis=0))"
      ]
    },
    {
      "cell_type": "markdown",
      "metadata": {},
      "source": [
        ".. rst-class:: sphx-glr-script-out\n",
        "\n",
        " Out:\n",
        "\n",
        " .. code-block:: none\n",
        "\n",
        "    array([0.4, 0.1, 0.15, 0.05, 0.3, 0.3, 0.45, 0.35])\n",
        "\n"
      ]
    },
    {
      "cell_type": "markdown",
      "metadata": {},
      "source": [
        "We can also use the Python collections module to convert the samples into\n",
        "counts:\n",
        "\n"
      ]
    },
    {
      "cell_type": "code",
      "execution_count": 11,
      "metadata": {
        "collapsed": false
      },
      "outputs": [
        {
          "name": "stdout",
          "output_type": "stream",
          "text": [
            "1\n"
          ]
        }
      ],
      "source": [
        "from collections import Counter\n",
        "bitstrings = [tuple(i) for i in results.samples]\n",
        "counts = {k:v for k, v in Counter(bitstrings).items()}\n",
        "print(counts[(0, 0, 0, 0, 0, 0, 0, 0)])"
      ]
    },
    {
      "cell_type": "markdown",
      "metadata": {},
      "source": [
        ".. rst-class:: sphx-glr-script-out\n",
        "\n",
        " Out:\n",
        "\n",
        " .. code-block:: none\n",
        "\n",
        "    2\n",
        "\n"
      ]
    },
    {
      "cell_type": "markdown",
      "metadata": {},
      "source": [
        "<div class=\"alert alert-info\"><h4>Note</h4><p>The :class:`~strawberryfields.utils.operation` decorator allows you to create your own\n",
        "    Strawberry Fields operation. This can make it easier to ensure that the same unitary is always\n",
        "    applied to the signal and idler modes.\n",
        "\n",
        "    .. code-block:: python3\n",
        "\n",
        "        from strawberryfields.utils import operation\n",
        "\n",
        "        @operation(4)\n",
        "        def unitary(q):\n",
        "            ops.Interferometer(U) | q\n",
        "            ops.BSgate(0.543, 0.123) | (q[2], q[0])\n",
        "            ops.Rgate(0.453) | q[1]\n",
        "            ops.MZgate(0.65, -0.54) | (q[2], q[3])\n",
        "\n",
        "        prog = sf.Program(8)\n",
        "\n",
        "        with prog.context as q:\n",
        "            ops.S2gate(1.0) | (q[0], q[4])\n",
        "            ops.S2gate(1.0) | (q[1], q[5])\n",
        "            ops.S2gate(1.0) | (q[3], q[7])\n",
        "\n",
        "            unitary() | q[:4]\n",
        "            unitary() | q[4:]\n",
        "\n",
        "            ops.MeasureFock() | q\n",
        "\n",
        "    Refer to the :class:`~strawberryfields.utils.operation` documentation for more details.</p></div>\n",
        "\n",
        "Job management\n",
        "~~~~~~~~~~~~~~\n",
        "\n",
        "Above, when we called ``eng.run()``, we had to wait for the\n",
        "remote device to execute the program and the result to be returned before we could\n",
        "continue executing code. That is, ``eng.run()`` is a **blocking** method.\n",
        "\n",
        "Sometimes, however, it is useful to submit the program\n",
        "and continue performing computation locally, every now and again checking to see\n",
        "if the job is complete and the results are ready. This is possible with\n",
        "the **non-blocking** :meth:`eng.run_async() <strawberryfields.RemoteEngine.run_async>` method:\n",
        "\n"
      ]
    },
    {
      "cell_type": "code",
      "execution_count": 12,
      "metadata": {
        "collapsed": false
      },
      "outputs": [
        {
          "name": "stderr",
          "output_type": "stream",
          "text": [
            "2025-06-02 12:45:05,465 - INFO - Compiling program for device X8_01 using compiler Xunitary.\n"
          ]
        }
      ],
      "source": [
        "job = eng.run_async(prog, shots=100)"
      ]
    },
    {
      "cell_type": "markdown",
      "metadata": {},
      "source": [
        "Unlike ``eng.run()``, it returns a :class:`xcc.Job` instance, which allows us to\n",
        "check the status of our submitted job:\n",
        "\n"
      ]
    },
    {
      "cell_type": "code",
      "execution_count": 20,
      "metadata": {
        "collapsed": false
      },
      "outputs": [
        {
          "name": "stdout",
          "output_type": "stream",
          "text": [
            "0fb240fd-3bb9-4a2c-ab2e-3312548bfe76\n",
            "open\n"
          ]
        }
      ],
      "source": [
        "print(job.id)\n",
        "print(job.status)"
      ]
    },
    {
      "cell_type": "markdown",
      "metadata": {},
      "source": [
        ".. rst-class:: sphx-glr-script-out\n",
        "\n",
        " Out:\n",
        "\n",
        " .. code-block:: none\n",
        "\n",
        "    \"4c734d7b-6d9e-4df0-9e18-19356a66123d\"\n",
        "    \"queued\"\n",
        "\n"
      ]
    },
    {
      "cell_type": "markdown",
      "metadata": {},
      "source": [
        "When the job result is ready, it is available via the :meth:`result <xcc.Job.result>` property. To\n",
        "update the status of the job, :meth:`job.clear() <xcc.Job.clear>` can be called. This will clear\n",
        "the cached property values of the job and re-fetch them when they're called again.\n",
        "\n",
        ".. code-block:: python\n",
        "\n",
        "   job.clear()\n",
        "   job.status()\n",
        "\n",
        ".. rst-class:: sphx-glr-script-out\n",
        "\n",
        " Out:\n",
        "\n",
        " .. code-block:: none\n",
        "\n",
        "    \"queued\"\n",
        "\n"
      ]
    },
    {
      "cell_type": "markdown",
      "metadata": {},
      "source": [
        "Instead of clearing the cache and checking the status, :meth:`job.wait() <xcc.Job.wait>` can be\n",
        "called. This is a blocking method which automatically refreshes and checks the status of the\n",
        "job. Once the job is finished it will continue executing the next line.\n",
        "\n"
      ]
    },
    {
      "cell_type": "code",
      "execution_count": 21,
      "metadata": {
        "collapsed": false
      },
      "outputs": [
        {
          "name": "stdout",
          "output_type": "stream",
          "text": [
            "complete\n"
          ]
        }
      ],
      "source": [
        "job.wait()\n",
        "print(job.status)"
      ]
    },
    {
      "cell_type": "markdown",
      "metadata": {},
      "source": [
        ".. rst-class:: sphx-glr-script-out\n",
        "\n",
        " Out:\n",
        "\n",
        " .. code-block:: none\n",
        "\n",
        "    \"complete\"\n",
        "\n"
      ]
    },
    {
      "cell_type": "markdown",
      "metadata": {},
      "source": [
        "The returned result from the :class:`xcc.Job` object will be a dictionary containing the samples\n",
        "under the first entry of the \"output\" key. We can encapsulate the data in an :class:`sf.Result\n",
        "<strawberryfields.Result>` object, which is the type of the object returned by the ``eng.run()``\n",
        "method above.\n",
        "\n"
      ]
    },
    {
      "cell_type": "code",
      "execution_count": 22,
      "metadata": {
        "collapsed": false
      },
      "outputs": [
        {
          "name": "stdout",
          "output_type": "stream",
          "text": [
            "(100, 8)\n"
          ]
        }
      ],
      "source": [
        "result = sf.Result(job.result)\n",
        "print(result.samples.shape)"
      ]
    },
    {
      "cell_type": "markdown",
      "metadata": {},
      "source": [
        ".. rst-class:: sphx-glr-script-out\n",
        "\n",
        " Out:\n",
        "\n",
        " .. code-block:: none\n",
        "\n",
        "    (100, 8)\n",
        "\n"
      ]
    },
    {
      "cell_type": "markdown",
      "metadata": {},
      "source": [
        "Finally, an incomplete job can be *cancelled* by calling :meth:`job.cancel() <xcc.Job.cancel>`.\n",
        "\n",
        "Hardware compilation\n",
        "--------------------\n",
        "\n",
        "When creating a quantum program to run on hardware, Strawberry Fields can compile any collection\n",
        "of the following gates into a multi-mode unitary:\n",
        "\n",
        "* `General beamsplitters\n",
        "  <https://strawberryfields.readthedocs.io/en/stable/code/api/strawberryfields.ops.BSgate.html>`_\n",
        "  (:class:`~strawberryfields.ops.BSgate`),\n",
        "\n",
        "* `Mach-Zehnder interferometers\n",
        "  <https://strawberryfields.readthedocs.io/en/stable/code/api/strawberryfields.ops.MZgate.html>`_\n",
        "  (:class:`~strawberryfields.ops.MZgate`), or\n",
        "\n",
        "* `rotations/phase shifts\n",
        "  <https://strawberryfields.readthedocs.io/en/stable/code/api/strawberryfields.ops.Rgate.html>`_\n",
        "  (:class:`~strawberryfields.ops.Rgate`).\n",
        "\n",
        "Furthermore, several automatic decompositions are supported:\n",
        "\n",
        "* You can use the :class:`~strawberryfields.ops.Interferometer` command to directly pass a unitary matrix to be\n",
        "  decomposed and compiled to match the device architecture. This performs a rectangular\n",
        "  decomposition using Mach-Zehnder interferometers.\n",
        "\n",
        "* You can use :class:`~strawberryfields.ops.BipartiteGraphEmbed` to embed a bipartite graph on the photonic\n",
        "  device.\n",
        "\n",
        "  .. warning::\n",
        "\n",
        "      Decomposed squeezing values depend on the graph structure, so only bipartite graphs that\n",
        "      result in equal squeezing on all modes can be executed on ``X8`` chips. This restriction\n",
        "      will be lifted in the future with new generations of chip.\n",
        "\n",
        "Before sending the program to the cloud platform to be executed, however, Strawberry Fields must\n",
        "**compile** the program to match the physical architecture or layout of the photonic chip, in this\n",
        "case ``X8``. This happens implicitly when using the remote engine, however we can use the\n",
        ":meth:`~strawberryfields.Program.compile` method to explicitly compile the program for a specific chip.\n",
        "\n",
        "For example, lets compile the program we created in the previous section.\n",
        "\n",
        "\n"
      ]
    },
    {
      "cell_type": "markdown",
      "metadata": {},
      "source": [
        "To do so we make use of the ``eng.device`` object containing hardware-related information for the\n",
        "compilation and validation of programs.\n",
        "\n",
        "\n"
      ]
    },
    {
      "cell_type": "code",
      "execution_count": 23,
      "metadata": {
        "collapsed": false
      },
      "outputs": [
        {
          "name": "stdout",
          "output_type": "stream",
          "text": [
            "S2gate(0, 0) | (q[2], q[6])\n",
            "S2gate(1, 0) | (q[0], q[4])\n",
            "S2gate(1, 0) | (q[1], q[5])\n",
            "S2gate(1, 0) | (q[3], q[7])\n",
            "MZgate(2.27, 5.395) | (q[0], q[1])\n",
            "MZgate(0.6594, 3.704) | (q[2], q[3])\n",
            "MZgate(0.6234, 1.06) | (q[1], q[2])\n",
            "MZgate(1.472, 4.034) | (q[0], q[1])\n",
            "MZgate(1.193, 2.663) | (q[2], q[3])\n",
            "MZgate(0.9432, 4.459) | (q[1], q[2])\n",
            "Rgate(1.233) | (q[0])\n",
            "Rgate(1.595) | (q[1])\n",
            "Rgate(3.488) | (q[2])\n",
            "Rgate(1.866) | (q[3])\n",
            "MZgate(2.27, 5.395) | (q[4], q[5])\n",
            "MZgate(0.6594, 3.704) | (q[6], q[7])\n",
            "MZgate(0.6234, 1.06) | (q[5], q[6])\n",
            "MZgate(1.472, 4.034) | (q[4], q[5])\n",
            "MZgate(1.193, 2.663) | (q[6], q[7])\n",
            "MZgate(0.9432, 4.459) | (q[5], q[6])\n",
            "Rgate(1.233) | (q[4])\n",
            "Rgate(1.595) | (q[5])\n",
            "Rgate(3.488) | (q[6])\n",
            "Rgate(1.866) | (q[7])\n",
            "MeasureFock | (q[0], q[1], q[2], q[3], q[4], q[5], q[6], q[7])\n"
          ]
        }
      ],
      "source": [
        "prog_compiled = prog.compile(device=eng.device)\n",
        "prog_compiled.print()"
      ]
    },
    {
      "cell_type": "markdown",
      "metadata": {},
      "source": [
        ".. rst-class:: sphx-glr-script-out\n",
        "\n",
        " Out:\n",
        "\n",
        " .. code-block:: none\n",
        "\n",
        "    S2gate(1, 0) | (q[0], q[4])\n",
        "    S2gate(1, 0) | (q[1], q[5])\n",
        "    S2gate(0, 0) | (q[2], q[6])\n",
        "    S2gate(1, 0) | (q[3], q[7])\n",
        "    MZgate(0.6666, 5.766) | (q[0], q[1]\n",
        "    MZgate(1.977, 3.391) | (q[2], q[3])\n",
        "    MZgate(1.138, 1.928) | (q[1], q[2])\n",
        "    MZgate(1.531, 1.561) | (q[0], q[1])\n",
        "    MZgate(0.9116, 0.5838) | (q[2], q[3])\n",
        "    MZgate(2.462, 1.365) | (q[1], q[2])\n",
        "    Rgate(1.353) | (q[0])\n",
        "    Rgate(5.833) | (q[1])\n",
        "    Rgate(2.993) | (q[2])\n",
        "    Rgate(0.5873) | (q[3])\n",
        "    MZgate(0.6666, 5.766) | (q[4], q[5])\n",
        "    MZgate(1.977, 3.391) | (q[6], q[7])\n",
        "    MZgate(1.138, 1.928) | (q[5], q[6])\n",
        "    MZgate(1.531, 1.561) | (q[4], q[5])\n",
        "    MZgate(0.9116, 0.5838) | (q[6], q[7])\n",
        "    MZgate(2.462, 1.365) | (q[5], q[6])\n",
        "    Rgate(1.353) | (q[4])\n",
        "    Rgate(5.833) | (q[5])\n",
        "    Rgate(2.993) | (q[6])\n",
        "    Rgate(0.5873) | (q[7])\n",
        "    MeasureFock | (q[0], q[1], q[2], q[3], q[4], q[5], q[6], q[7])\n",
        "\n"
      ]
    },
    {
      "cell_type": "markdown",
      "metadata": {},
      "source": [
        "While equivalent to the uncompiled program, we can now see the low-level hardware\n",
        "operations that are applied on the physical chip.\n",
        "\n",
        "<div class=\"alert alert-info\"><h4>Note</h4><p>By default, the device specification will instruct Strawberry Fields\n",
        "    which compilation strategy to apply. However, the compiler strategy\n",
        "    can be explicitly provided in addition to the device specification:\n",
        "\n",
        "    >>> prog2 = prog.compile(device=device, compiler=\"Xunitary\")\n",
        "\n",
        "    While some compilers may require a device spec, they can also be used\n",
        "    independently:\n",
        "\n",
        "    >>> prog2 = prog.compile(compiler=\"Xunitary\")\n",
        "\n",
        "    For more details on available compilers, see :doc:`introduction/circuits`.</p></div>\n",
        "\n",
        "\n"
      ]
    },
    {
      "cell_type": "markdown",
      "metadata": {},
      "source": [
        "Working with Blackbird scripts\n",
        "------------------------------\n",
        "\n",
        "When submitting quantum programs to be executed remotely, they are communicated to\n",
        "the cloud platform using Blackbird---a quantum photonic assembly language.\n",
        "Strawberry Fields also supports exporting programs directly as Blackbird scripts\n",
        "(an ``xbb`` file); Blackbird scripts can then be submitted to be executed via the\n",
        "`Xanadu Cloud Client <https://xanadu-cloud-client.readthedocs.io>`__.\n",
        "\n",
        "For example, lets consider a Blackbird script ``program1.xbb``\n",
        "representing the same quantum program we constructed above:\n",
        "\n",
        ".. code-block:: python3\n",
        "\n",
        "    name remote_job1\n",
        "    version 1.0\n",
        "    target X8_01 (shots = 20)\n",
        "\n",
        "    # Initial states are two-mode squeezed states\n",
        "    S2gate(1.0, 0.0) | [0, 4]\n",
        "    S2gate(1.0, 0.0) | [1, 5]\n",
        "    S2gate(0.0, 0.0) | [2, 6]\n",
        "    S2gate(1.0, 0.0) | [3, 7]\n",
        "\n",
        "    # Apply the compiled MZgates and Rgates from\n",
        "    # above to the signal modes\n",
        "    MZgate(0.6665938628222643, 5.765809053658708) | [0, 1]\n",
        "    MZgate(1.9765338789427835, 3.3911669348390467) | [2, 3]\n",
        "    MZgate(1.138222372780161, 1.9282663401816624) | [1, 2]\n",
        "    MZgate(1.531178005879373, 1.5605970765345907) | [0, 1]\n",
        "    MZgate(0.9115589243094834, 0.5838121565893191) | [2, 3]\n",
        "    MZgate(2.462416459243228, 1.3645885573522776) | [1, 2]\n",
        "    Rgate(1.3525981148291777) | 0\n",
        "    Rgate(5.832982291650049) | 1\n",
        "    Rgate(2.993152273515084) | 2\n",
        "    Rgate(0.5872963359911774) | 3\n",
        "\n",
        "    # Apply the compiled MZgates and Rgates from\n",
        "    # above to the idler modes\n",
        "    MZgate(0.6665938628222643, 5.765809053658708) | [4, 5]\n",
        "    MZgate(1.9765338789427835, 3.3911669348390467) | [6, 7]\n",
        "    MZgate(1.138222372780161, 1.9282663401816624) | [5, 6]\n",
        "    MZgate(1.531178005879373, 1.5605970765345907) | [4, 5]\n",
        "    MZgate(0.9115589243094834, 0.5838121565893191) | [6, 7]\n",
        "    MZgate(2.462416459243228, 1.3645885573522776) | [5, 6]\n",
        "    Rgate(1.3525981148291777) | 4\n",
        "    Rgate(5.832982291650049) | 5\n",
        "    Rgate(2.993152273515084) | 6\n",
        "    Rgate(0.5872963359911774) | 7\n",
        "\n",
        "    # Perform a PNR measurement in the Fock basis\n",
        "    MeasureFock() | [0, 1, 2, 3, 4, 5, 6, 7]\n",
        "\n",
        "The above Blackbird script can be remotely executed using the command line,\n",
        "\n",
        ".. code-block:: console\n",
        "\n",
        "    $ xcc job submit --name \"remote_job1\" --target \"X8_01\" --circuit \"$(cat program1.xbb)\"\n",
        "\n",
        "Out:\n",
        "\n",
        ".. code-block:: json\n",
        "\n",
        "    {\n",
        "        \"id\": \"743bad0a-8a21-4a6b-86de-50f7ff35a9b3\",\n",
        "        \"name\": \"remote_job1\",\n",
        "        \"status\": \"open\",\n",
        "        \"target\": \"X8_01\",\n",
        "        \"language\": \"blackbird:1.0\",\n",
        "        \"created_at\": \"2021-11-16 21:15:50.257162+00:00\",\n",
        "        \"finished_at\": null,\n",
        "        \"running_time\": null,\n",
        "        \"metadata\": {}\n",
        "    }\n",
        "\n",
        "<div class=\"alert alert-danger\"><h4>Warning</h4><p>Windows PowerShell users should write ``Get-Content remote_job1.xbb -Raw`` instead of ``cat program1.xbb``.</p></div>\n",
        "\n",
        "After executing the above command, the result will be accessible via its unique ID\n",
        "\n",
        ".. code-block:: console\n",
        "\n",
        "    $ xcc job get 743bad0a-8a21-4a6b-86de-50f7ff35a9b3 --result\n",
        "\n",
        "<div class=\"alert alert-info\"><h4>Note</h4><p>Saved Blackbird scripts can be imported as Strawberry Fields programs\n",
        "    using the :func:`~strawberryfields.load` function:\n",
        "\n",
        "    >>> prog = load(\"test.xbb\")\n",
        "\n",
        "    Strawberry Fields programs can also be exported as Blackbird scripts\n",
        "    using :func:`~strawberryfields.save`:\n",
        "\n",
        "    >>> sf.save(\"program1.xbb\", prog)</p></div>\n",
        "\n"
      ]
    },
    {
      "cell_type": "markdown",
      "metadata": {},
      "source": [
        "Embedding bipartite graphs\n",
        "--------------------------\n",
        "\n",
        "The X8 device class supports embedding bipartite graphs, i.e., those with adjacency matrices\n",
        "\n",
        "\\begin{align}A = \\begin{bmatrix}0 & B\\\\ B^T & 0\\end{bmatrix}\\end{align}\n",
        "\n",
        "where $B$ represents the edges between the two sets of vertices in the graph. However, the\n",
        "devices are currently restricted to bipartite graphs with equally sized partitions, such that the\n",
        "singular values form the set $\\{0, d\\}$ for some real value $d$.\n",
        "\n",
        "Here, we will consider a `complete bipartite graph\n",
        "<https://en.wikipedia.org/wiki/Complete_bipartite_graph>`_, since the singular values are of the\n",
        "form $\\{0, d\\}$.\n",
        "\n"
      ]
    },
    {
      "cell_type": "code",
      "execution_count": 24,
      "metadata": {
        "collapsed": false
      },
      "outputs": [
        {
          "name": "stdout",
          "output_type": "stream",
          "text": [
            "S2gate(1, 0) | (q[0], q[4])\n",
            "S2gate(0, 0) | (q[1], q[5])\n",
            "S2gate(0, 0) | (q[2], q[6])\n",
            "S2gate(0, 0) | (q[3], q[7])\n",
            "MZgate(1.556, 1.571) | (q[0], q[1])\n",
            "MZgate(3.142, 4.605) | (q[2], q[3])\n",
            "MZgate(0.2397, 0.6849) | (q[1], q[2])\n",
            "MZgate(1.812, 5.517) | (q[0], q[1])\n",
            "MZgate(1.571, 1.559) | (q[2], q[3])\n",
            "MZgate(3.142, 1.422) | (q[1], q[2])\n",
            "Rgate(0.6526) | (q[0])\n",
            "Rgate(2.372) | (q[1])\n",
            "Rgate(2.356) | (q[2])\n",
            "Rgate(2.356) | (q[3])\n",
            "MZgate(1.556, 1.571) | (q[4], q[5])\n",
            "MZgate(3.142, 4.605) | (q[6], q[7])\n",
            "MZgate(0.2397, 0.6849) | (q[5], q[6])\n",
            "MZgate(1.812, 5.517) | (q[4], q[5])\n",
            "MZgate(1.571, 1.559) | (q[6], q[7])\n",
            "MZgate(3.142, 1.422) | (q[5], q[6])\n",
            "Rgate(0.6526) | (q[4])\n",
            "Rgate(2.372) | (q[5])\n",
            "Rgate(2.356) | (q[6])\n",
            "Rgate(2.356) | (q[7])\n",
            "MeasureFock | (q[0], q[1], q[2], q[3], q[4], q[5], q[6], q[7])\n"
          ]
        }
      ],
      "source": [
        "B = np.ones([4, 4])\n",
        "A = np.block([[0*B, B], [B.T, 0*B]])\n",
        "\n",
        "prog = sf.Program(8)\n",
        "\n",
        "# the following mean photon number per mode\n",
        "# quantity is set to ensure that the singular values\n",
        "# are scaled such that all Sgates have squeezing value r=1\n",
        "m = 0.345274461385554870545\n",
        "\n",
        "with prog.context as q:\n",
        "    ops.BipartiteGraphEmbed(A, mean_photon_per_mode=m) | q\n",
        "    ops.MeasureFock() | q\n",
        "\n",
        "\n",
        "prog.compile(device=eng.device).print()"
      ]
    },
    {
      "cell_type": "markdown",
      "metadata": {},
      "source": [
        ".. rst-class:: sphx-glr-script-out\n",
        "\n",
        " Out:\n",
        "\n",
        " .. code-block:: none\n",
        "\n",
        "    S2gate(1, 0) | (q[0], q[4])\n",
        "    S2gate(0, 0) | (q[3], q[7])\n",
        "    S2gate(0, 0) | (q[2], q[6])\n",
        "    MZgate(3.598, 5.444) | (q[2], q[3])\n",
        "    MZgate(3.598, 5.444) | (q[6], q[7])\n",
        "    S2gate(0, 0) | (q[1], q[5])\n",
        "    MZgate(0, 5.236) | (q[0], q[1])\n",
        "    MZgate(4.886, 5.496) | (q[1], q[2])\n",
        "    MZgate(0.7106, 4.492) | (q[2], q[3])\n",
        "    Rgate(0.9284) | (q[3])\n",
        "    MZgate(2.922, 3.142) | (q[0], q[1])\n",
        "    MZgate(4.528, 3.734) | (q[1], q[2])\n",
        "    Rgate(-2.51) | (q[2])\n",
        "    MZgate(0, 5.236) | (q[4], q[5])\n",
        "    MZgate(4.886, 5.496) | (q[5], q[6])\n",
        "    MZgate(0.7106, 4.492) | (q[6], q[7])\n",
        "    Rgate(0.9284) | (q[7])\n",
        "    MZgate(2.922, 3.142) | (q[4], q[5])\n",
        "    MZgate(4.528, 3.734) | (q[5], q[6])\n",
        "    Rgate(-2.51) | (q[6])\n",
        "    Rgate(-2.51) | (q[1])\n",
        "    Rgate(-0.8273) | (q[4])\n",
        "    Rgate(-0.8273) | (q[0])\n",
        "    Rgate(-2.51) | (q[5])\n",
        "    MeasureFock | (q[0], q[1], q[2], q[3], q[4], q[5], q[6], q[7])\n",
        "\n"
      ]
    },
    {
      "cell_type": "markdown",
      "metadata": {},
      "source": [
        "If the bipartite graph to be embedded does not satisfy the aforementioned\n",
        "restriction on the singular values, an error message will be raised on\n",
        "compilation:\n",
        "\n",
        ">>> B = np.array([[0, 1, 0, 1], [1, 0, 1, 0], [0, 1, 1, 1], [1, 0, 1, 0]])\n",
        ">>> A = np.block([[np.zeros_like(B), B], [B.T, np.zeros_like(B)]])\n",
        ">>> prog = sf.Program(8)\n",
        ">>> with prog.context as q:\n",
        "...     ops.BipartiteGraphEmbed(A, mean_photon_per_mode=1) | q\n",
        "...     ops.MeasureFock() | q\n",
        "CircuitError: Incorrect squeezing value(s) (r, phi)={(1.336, 0.0), (0.177, 0.0), (0.818, 0.0)}.\n",
        "Allowed squeezing value(s) are (r, phi)={(1.0, 0.0), (0.0, 0.0)}.\n",
        "\n"
      ]
    }
  ],
  "metadata": {
    "kernelspec": {
      "display_name": "StrawberryFieldsVenv",
      "language": "python",
      "name": "python3"
    },
    "language_info": {
      "codemirror_mode": {
        "name": "ipython",
        "version": 3
      },
      "file_extension": ".py",
      "mimetype": "text/x-python",
      "name": "python",
      "nbconvert_exporter": "python",
      "pygments_lexer": "ipython3",
      "version": "3.9.13"
    }
  },
  "nbformat": 4,
  "nbformat_minor": 0
}
