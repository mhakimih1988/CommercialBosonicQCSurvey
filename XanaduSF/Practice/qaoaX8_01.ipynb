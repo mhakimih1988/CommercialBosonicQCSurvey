{
 "cells": [
  {
   "cell_type": "code",
   "execution_count": null,
   "id": "6a7bd17d",
   "metadata": {},
   "outputs": [],
   "source": []
  },
  {
   "cell_type": "code",
   "execution_count": 1,
   "id": "812d202f",
   "metadata": {},
   "outputs": [],
   "source": [
    "import strawberryfields as sf\n",
    "from strawberryfields.ops import *\n",
    "# from strawberryfields.utils import scale\n",
    "from numpy import pi, sqrt\n",
    "import math\n",
    "import random\n",
    "\n",
    "from matplotlib import pyplot as plt\n",
    "\n"
   ]
  },
  {
   "cell_type": "code",
   "execution_count": 2,
   "id": "230fa7ba",
   "metadata": {},
   "outputs": [],
   "source": [
    "# eng, q = sf.Engine(1)\n",
    "prog = sf.Program(1)\n",
    "eng = sf.RemoteEngine(\"X8_01\")\n",
    "\n",
    "iterations = 45\n",
    "shots = 10\n",
    "parabolic_min = 10\n",
    "possible_parameters = [0.1, 0.3, 0.5, 0.7, 0.9, 1.1]\n",
    "testing_trials = 100\n",
    "optimal_value = math.inf\n",
    "simulation = []\n",
    "\n"
   ]
  },
  {
   "cell_type": "code",
   "execution_count": 3,
   "id": "b0514347",
   "metadata": {},
   "outputs": [],
   "source": [
    "#Calculating loss\n",
    "\n",
    "def function_optimize(x, parabolic_min):\n",
    "    y = (x - parabolic_min)**2\n",
    "    return y\n",
    "\n"
   ]
  },
  {
   "cell_type": "code",
   "execution_count": null,
   "id": "d2d22be2",
   "metadata": {},
   "outputs": [],
   "source": [
    "#Run the photonic quantum circuit\n",
    "\n",
    "def run_circuit(alpha_param, beta_param, parabolic_min):\n",
    "\n",
    "    prog = sf.Program(1)\n",
    "\n",
    "    # with eng:\n",
    "    with prog.context as q:\n",
    "\n",
    "        Squeezed(-0.5,0) | q[0]\n",
    "\n",
    "        Zgate(parabolic_min*4*beta_param[0]) | q[0]\n",
    "        Pgate(-4*beta_param[0]) | q[0]\n",
    "        Rgate(-1*alpha_param[0]) | q[0]\n",
    "        Zgate(parabolic_min*4*beta_param[1]) | q[0]\n",
    "        Pgate(-4*beta_param[1]) | q[0]\n",
    "        Rgate(-1*alpha_param[1]) | q[0]\n",
    "        Zgate(parabolic_min*4*beta_param[2]) | q[0]\n",
    "        Pgate(-4*beta_param[2]) | q[0]\n",
    "        Rgate(-1*alpha_param[2]) | q[0]\n",
    "\n",
    "        MeasureX | q[0]\n",
    "\n",
    "        # state = eng.run(prog, cutoff_dim=5, shots=1)\n",
    "        state = eng.run(prog, shots=1)\n",
    "\n",
    "    return q[0].val\n",
    "\n"
   ]
  },
  {
   "cell_type": "code",
   "execution_count": 7,
   "id": "8ad94ad7",
   "metadata": {},
   "outputs": [
    {
     "name": "stderr",
     "output_type": "stream",
     "text": [
      "2025-06-03 00:37:50,426 - INFO - Compiling program for device X8_01 using compiler Xunitary.\n"
     ]
    },
    {
     "ename": "CircuitError",
     "evalue": "The operation Zgate cannot be used with the compiler 'Xunitary'.",
     "output_type": "error",
     "traceback": [
      "\u001b[1;31m---------------------------------------------------------------------------\u001b[0m",
      "\u001b[1;31mCircuitError\u001b[0m                              Traceback (most recent call last)",
      "Cell \u001b[1;32mIn[7], line 12\u001b[0m\n\u001b[0;32m     10\u001b[0m grid \u001b[38;5;241m=\u001b[39m []\n\u001b[0;32m     11\u001b[0m \u001b[38;5;28;01mfor\u001b[39;00m h \u001b[38;5;129;01min\u001b[39;00m \u001b[38;5;28mrange\u001b[39m(\u001b[38;5;241m0\u001b[39m, shots):\n\u001b[1;32m---> 12\u001b[0m     hello \u001b[38;5;241m=\u001b[39m \u001b[43mrun_circuit\u001b[49m\u001b[43m(\u001b[49m\u001b[43malpha_param\u001b[49m\u001b[43m,\u001b[49m\u001b[43m \u001b[49m\u001b[43mbeta_param\u001b[49m\u001b[43m,\u001b[49m\u001b[43m \u001b[49m\u001b[43mparabolic_min\u001b[49m\u001b[43m)\u001b[49m\n\u001b[0;32m     13\u001b[0m     result \u001b[38;5;241m=\u001b[39m result\u001b[38;5;241m+\u001b[39mhello\n\u001b[0;32m     14\u001b[0m     grid\u001b[38;5;241m.\u001b[39mappend(hello)\n",
      "Cell \u001b[1;32mIn[6], line 25\u001b[0m, in \u001b[0;36mrun_circuit\u001b[1;34m(alpha_param, beta_param, parabolic_min)\u001b[0m\n\u001b[0;32m     22\u001b[0m     MeasureX \u001b[38;5;241m|\u001b[39m q[\u001b[38;5;241m0\u001b[39m]\n\u001b[0;32m     24\u001b[0m     \u001b[38;5;66;03m# state = eng.run(prog, cutoff_dim=5, shots=1)\u001b[39;00m\n\u001b[1;32m---> 25\u001b[0m     state \u001b[38;5;241m=\u001b[39m \u001b[43meng\u001b[49m\u001b[38;5;241;43m.\u001b[39;49m\u001b[43mrun\u001b[49m\u001b[43m(\u001b[49m\u001b[43mprog\u001b[49m\u001b[43m,\u001b[49m\u001b[43m \u001b[49m\u001b[43mshots\u001b[49m\u001b[38;5;241;43m=\u001b[39;49m\u001b[38;5;241;43m1\u001b[39;49m\u001b[43m)\u001b[49m\n\u001b[0;32m     27\u001b[0m \u001b[38;5;28;01mreturn\u001b[39;00m q[\u001b[38;5;241m0\u001b[39m]\u001b[38;5;241m.\u001b[39mval\n",
      "File \u001b[1;32mc:\\Users\\mhakimi\\Documents\\strawberryfields9\\StrawberryFieldsVenv\\lib\\site-packages\\strawberryfields\\engine.py:706\u001b[0m, in \u001b[0;36mRemoteEngine.run\u001b[1;34m(self, program, compile_options, recompile, **kwargs)\u001b[0m\n\u001b[0;32m    672\u001b[0m \u001b[38;5;28;01mdef\u001b[39;00m\u001b[38;5;250m \u001b[39m\u001b[38;5;21mrun\u001b[39m(\n\u001b[0;32m    673\u001b[0m     \u001b[38;5;28mself\u001b[39m, program: Program, \u001b[38;5;241m*\u001b[39m, compile_options\u001b[38;5;241m=\u001b[39m\u001b[38;5;28;01mNone\u001b[39;00m, recompile\u001b[38;5;241m=\u001b[39m\u001b[38;5;28;01mFalse\u001b[39;00m, \u001b[38;5;241m*\u001b[39m\u001b[38;5;241m*\u001b[39mkwargs\n\u001b[0;32m    674\u001b[0m ) \u001b[38;5;241m-\u001b[39m\u001b[38;5;241m>\u001b[39m Optional[Result]:\n\u001b[0;32m    675\u001b[0m \u001b[38;5;250m    \u001b[39m\u001b[38;5;124;03m\"\"\"Runs a blocking job.\u001b[39;00m\n\u001b[0;32m    676\u001b[0m \n\u001b[0;32m    677\u001b[0m \u001b[38;5;124;03m    In the blocking mode, the engine blocks until the job is completed, failed, or\u001b[39;00m\n\u001b[1;32m   (...)\u001b[0m\n\u001b[0;32m    704\u001b[0m \u001b[38;5;124;03m        FailedJobError: if the remote job fails on the server side (\"cancelled\" or \"failed\")\u001b[39;00m\n\u001b[0;32m    705\u001b[0m \u001b[38;5;124;03m    \"\"\"\u001b[39;00m\n\u001b[1;32m--> 706\u001b[0m     job \u001b[38;5;241m=\u001b[39m \u001b[38;5;28mself\u001b[39m\u001b[38;5;241m.\u001b[39mrun_async(\n\u001b[0;32m    707\u001b[0m         program, compile_options\u001b[38;5;241m=\u001b[39mcompile_options, recompile\u001b[38;5;241m=\u001b[39mrecompile, \u001b[38;5;241m*\u001b[39m\u001b[38;5;241m*\u001b[39mkwargs\n\u001b[0;32m    708\u001b[0m     )\n\u001b[0;32m    709\u001b[0m     \u001b[38;5;28;01mtry\u001b[39;00m:\n\u001b[0;32m    710\u001b[0m         \u001b[38;5;28;01mwhile\u001b[39;00m \u001b[38;5;28;01mTrue\u001b[39;00m:\n\u001b[0;32m    711\u001b[0m             \u001b[38;5;66;03m# TODO: needed to refresh connection; remove once xcc.Connection\u001b[39;00m\n\u001b[0;32m    712\u001b[0m             \u001b[38;5;66;03m# is able to refresh config info dynamically\u001b[39;00m\n",
      "File \u001b[1;32mc:\\Users\\mhakimi\\Documents\\strawberryfields9\\StrawberryFieldsVenv\\lib\\site-packages\\strawberryfields\\engine.py:802\u001b[0m, in \u001b[0;36mRemoteEngine.run_async\u001b[1;34m(self, program, compile_options, recompile, **kwargs)\u001b[0m\n\u001b[0;32m    800\u001b[0m     msg \u001b[38;5;241m=\u001b[39m \u001b[38;5;124mf\u001b[39m\u001b[38;5;124m\"\u001b[39m\u001b[38;5;124mCompiling program for device \u001b[39m\u001b[38;5;132;01m{\u001b[39;00mdevice\u001b[38;5;241m.\u001b[39mtarget\u001b[38;5;132;01m}\u001b[39;00m\u001b[38;5;124m using compiler \u001b[39m\u001b[38;5;132;01m{\u001b[39;00mcompiler_name\u001b[38;5;132;01m}\u001b[39;00m\u001b[38;5;124m.\u001b[39m\u001b[38;5;124m\"\u001b[39m\n\u001b[0;32m    801\u001b[0m     \u001b[38;5;28mself\u001b[39m\u001b[38;5;241m.\u001b[39mlog\u001b[38;5;241m.\u001b[39minfo(msg)\n\u001b[1;32m--> 802\u001b[0m     program \u001b[38;5;241m=\u001b[39m program\u001b[38;5;241m.\u001b[39mcompile(device\u001b[38;5;241m=\u001b[39mdevice, \u001b[38;5;241m*\u001b[39m\u001b[38;5;241m*\u001b[39mcompile_options)\n\u001b[0;32m    804\u001b[0m \u001b[38;5;28;01melif\u001b[39;00m recompile:\n\u001b[0;32m    805\u001b[0m     \u001b[38;5;66;03m# recompiling program\u001b[39;00m\n\u001b[0;32m    806\u001b[0m     \u001b[38;5;28;01mif\u001b[39;00m compile_options:\n",
      "File \u001b[1;32mc:\\Users\\mhakimi\\Documents\\strawberryfields9\\StrawberryFieldsVenv\\lib\\site-packages\\strawberryfields\\program.py:726\u001b[0m, in \u001b[0;36mProgram.compile\u001b[1;34m(self, device, compiler, **kwargs)\u001b[0m\n\u001b[0;32m    723\u001b[0m     compiler \u001b[38;5;241m=\u001b[39m _get_compiler(compiler)\n\u001b[0;32m    724\u001b[0m     target \u001b[38;5;241m=\u001b[39m compiler\u001b[38;5;241m.\u001b[39mshort_name\n\u001b[1;32m--> 726\u001b[0m seq \u001b[38;5;241m=\u001b[39m \u001b[43mcompiler\u001b[49m\u001b[38;5;241;43m.\u001b[39;49m\u001b[43mdecompose\u001b[49m\u001b[43m(\u001b[49m\u001b[38;5;28;43mself\u001b[39;49m\u001b[38;5;241;43m.\u001b[39;49m\u001b[43mcircuit\u001b[49m\u001b[43m)\u001b[49m\n\u001b[0;32m    728\u001b[0m \u001b[38;5;28;01mif\u001b[39;00m kwargs\u001b[38;5;241m.\u001b[39mget(\u001b[38;5;124m\"\u001b[39m\u001b[38;5;124mwarn_connected\u001b[39m\u001b[38;5;124m\"\u001b[39m, \u001b[38;5;28;01mTrue\u001b[39;00m):\n\u001b[0;32m    729\u001b[0m     DAG \u001b[38;5;241m=\u001b[39m pu\u001b[38;5;241m.\u001b[39mlist_to_DAG(seq)\n",
      "File \u001b[1;32mc:\\Users\\mhakimi\\Documents\\strawberryfields9\\StrawberryFieldsVenv\\lib\\site-packages\\strawberryfields\\compilers\\compiler.py:293\u001b[0m, in \u001b[0;36mCompiler.decompose\u001b[1;34m(self, seq)\u001b[0m\n\u001b[0;32m    290\u001b[0m         compiled\u001b[38;5;241m.\u001b[39mappend(cmd)\n\u001b[0;32m    292\u001b[0m     \u001b[38;5;28;01melse\u001b[39;00m:\n\u001b[1;32m--> 293\u001b[0m         \u001b[38;5;28;01mraise\u001b[39;00m pu\u001b[38;5;241m.\u001b[39mCircuitError(\n\u001b[0;32m    294\u001b[0m             \u001b[38;5;124m\"\u001b[39m\u001b[38;5;124mThe operation \u001b[39m\u001b[38;5;132;01m{}\u001b[39;00m\u001b[38;5;124m cannot be used with the compiler \u001b[39m\u001b[38;5;124m'\u001b[39m\u001b[38;5;132;01m{}\u001b[39;00m\u001b[38;5;124m'\u001b[39m\u001b[38;5;124m.\u001b[39m\u001b[38;5;124m\"\u001b[39m\u001b[38;5;241m.\u001b[39mformat(\n\u001b[0;32m    295\u001b[0m                 cmd\u001b[38;5;241m.\u001b[39mop\u001b[38;5;241m.\u001b[39m\u001b[38;5;18m__class__\u001b[39m\u001b[38;5;241m.\u001b[39m\u001b[38;5;18m__name__\u001b[39m, \u001b[38;5;28mself\u001b[39m\u001b[38;5;241m.\u001b[39mshort_name\n\u001b[0;32m    296\u001b[0m             )\n\u001b[0;32m    297\u001b[0m         )\n\u001b[0;32m    299\u001b[0m \u001b[38;5;28;01mreturn\u001b[39;00m compiled\n",
      "\u001b[1;31mCircuitError\u001b[0m: The operation Zgate cannot be used with the compiler 'Xunitary'."
     ]
    }
   ],
   "source": [
    "#Search for the optimal value\n",
    "\n",
    "op = 0\n",
    "\n",
    "alpha_param = [0.5, 0.5, 0.5]\n",
    "beta_param = [0.5, 0.5, 0.5]\n",
    "\n",
    "for i in range(0, iterations):\n",
    "    result = 0\n",
    "    grid = []\n",
    "    for h in range(0, shots):\n",
    "        hello = run_circuit(alpha_param, beta_param, parabolic_min)\n",
    "        result = result+hello\n",
    "        grid.append(hello)\n",
    "    result = result/shots\n",
    "    calculation = function_optimize(result, parabolic_min)\n",
    "\n",
    "    yer_a = alpha_param\n",
    "    yer_b = beta_param\n",
    "\n",
    "    if (calculation < optimal_value):\n",
    "        simulation = grid\n",
    "        optimal_value = calculation\n",
    "        the_x_measurement = result\n",
    "        op = [[alpha_param[0], alpha_param[1], alpha_param[2]], [beta_param[0], beta_param[1], beta_param[2]]]\n",
    "\n",
    "    alpha_param[0] = possible_parameters[random.randint(0, len(possible_parameters)-1)]\n",
    "    alpha_param[1] = possible_parameters[random.randint(0, len(possible_parameters)-1)]\n",
    "    alpha_param[2] = possible_parameters[random.randint(0, len(possible_parameters)-1)]\n",
    "\n",
    "    beta_param[0] = possible_parameters[random.randint(0, len(possible_parameters)-1)]\n",
    "    beta_param[1] = possible_parameters[random.randint(0, len(possible_parameters)-1)]\n",
    "    beta_param[2] = possible_parameters[random.randint(0, len(possible_parameters)-1)]\n",
    "\n",
    "\n",
    "optimal_parameters = op\n",
    "\n",
    "\n",
    "x_arr = range(0, testing_trials)\n",
    "y_arr = []\n",
    "\n",
    "for i in range(0, testing_trials):\n",
    "\n",
    "    state = run_circuit(optimal_parameters[0], optimal_parameters[1], parabolic_min)\n",
    "    y_arr.append(state)\n",
    "\n",
    "print(y_arr)"
   ]
  },
  {
   "cell_type": "code",
   "execution_count": null,
   "id": "f421fe0f",
   "metadata": {},
   "outputs": [],
   "source": [
    "device = eng.device"
   ]
  },
  {
   "cell_type": "code",
   "execution_count": null,
   "id": "45407e56",
   "metadata": {},
   "outputs": [
    {
     "name": "stdout",
     "output_type": "stream",
     "text": [
      "<strawberryfields.device.Device object at 0x00000206574CD1F0>\n"
     ]
    }
   ],
   "source": [
    "print(device)"
   ]
  },
  {
   "cell_type": "code",
   "execution_count": null,
   "id": "19c2738b",
   "metadata": {},
   "outputs": [],
   "source": []
  }
 ],
 "metadata": {
  "kernelspec": {
   "display_name": "StrawberryFieldsVenv",
   "language": "python",
   "name": "python3"
  },
  "language_info": {
   "codemirror_mode": {
    "name": "ipython",
    "version": 3
   },
   "file_extension": ".py",
   "mimetype": "text/x-python",
   "name": "python",
   "nbconvert_exporter": "python",
   "pygments_lexer": "ipython3",
   "version": "3.9.13"
  }
 },
 "nbformat": 4,
 "nbformat_minor": 5
}
