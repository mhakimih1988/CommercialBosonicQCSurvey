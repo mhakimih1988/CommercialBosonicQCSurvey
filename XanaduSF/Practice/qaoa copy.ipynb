{
 "cells": [
  {
   "cell_type": "code",
   "execution_count": null,
   "id": "6a7bd17d",
   "metadata": {},
   "outputs": [],
   "source": []
  },
  {
   "cell_type": "code",
   "execution_count": 1,
   "id": "812d202f",
   "metadata": {},
   "outputs": [],
   "source": [
    "import strawberryfields as sf\n",
    "from strawberryfields.ops import *\n",
    "# from strawberryfields.utils import scale\n",
    "from numpy import pi, sqrt\n",
    "import math\n",
    "import random\n",
    "import numpy as np\n",
    "\n",
    "from matplotlib import pyplot as plt\n",
    "\n"
   ]
  },
  {
   "cell_type": "code",
   "execution_count": 2,
   "id": "230fa7ba",
   "metadata": {},
   "outputs": [],
   "source": [
    "# eng, q = sf.Engine(1)\n",
    "prog = sf.Program(1)\n",
    "# eng = sf.Engine('fock',cutoff_dim=10)\n",
    "# eng = sf.Engine(\"fock\", backend_options={\"cutoff_dim\":10})\n",
    "eng = sf.RemoteEngine(\"simulon_gaussian\")\n",
    "\n",
    "\n",
    "\n",
    "iterations = 45\n",
    "shots = 10\n",
    "parabolic_min = 10\n",
    "possible_parameters = [0.1, 0.3, 0.5, 0.7, 0.9, 1.1]\n",
    "testing_trials = 100\n",
    "optimal_value = math.inf\n",
    "simulation = []\n",
    "\n",
    "\n",
    "alpha_param = [0.5, 0.5, 0.5]\n",
    "beta_param = [0.5, 0.5, 0.5]\n",
    "\n"
   ]
  },
  {
   "cell_type": "code",
   "execution_count": 3,
   "id": "bf4c5bc0",
   "metadata": {},
   "outputs": [
    {
     "name": "stderr",
     "output_type": "stream",
     "text": [
      "2025-06-24 11:22:12,447 - INFO - Compiling program for device simulon_gaussian using compiler gaussian.\n",
      "2025-06-24 11:22:15,498 - INFO - The remote job 94a1eef8-3c21-4371-b1ed-ac8ab3a7464c has been completed.\n"
     ]
    },
    {
     "ename": "AttributeError",
     "evalue": "'NoneType' object has no attribute 'quad_prob'",
     "output_type": "error",
     "traceback": [
      "\u001b[1;31m---------------------------------------------------------------------------\u001b[0m",
      "\u001b[1;31mAttributeError\u001b[0m                            Traceback (most recent call last)",
      "Cell \u001b[1;32mIn[3], line 26\u001b[0m\n\u001b[0;32m     23\u001b[0m p_vals \u001b[38;5;241m=\u001b[39m np\u001b[38;5;241m.\u001b[39mlinspace(\u001b[38;5;241m-\u001b[39m\u001b[38;5;241m5\u001b[39m, \u001b[38;5;241m5\u001b[39m, \u001b[38;5;241m200\u001b[39m)\n\u001b[0;32m     25\u001b[0m \u001b[38;5;66;03m# Get probabilities\u001b[39;00m\n\u001b[1;32m---> 26\u001b[0m prob_x \u001b[38;5;241m=\u001b[39m \u001b[43mstate\u001b[49m\u001b[38;5;241;43m.\u001b[39;49m\u001b[43mquad_prob\u001b[49m(\u001b[38;5;241m0\u001b[39m, x_vals, basis\u001b[38;5;241m=\u001b[39m\u001b[38;5;124m\"\u001b[39m\u001b[38;5;124mx\u001b[39m\u001b[38;5;124m\"\u001b[39m)\n\u001b[0;32m     27\u001b[0m prob_p \u001b[38;5;241m=\u001b[39m state\u001b[38;5;241m.\u001b[39mquad_prob(\u001b[38;5;241m0\u001b[39m, p_vals, basis\u001b[38;5;241m=\u001b[39m\u001b[38;5;124m\"\u001b[39m\u001b[38;5;124mp\u001b[39m\u001b[38;5;124m\"\u001b[39m)\n\u001b[0;32m     29\u001b[0m \u001b[38;5;66;03m# Plot\u001b[39;00m\n",
      "\u001b[1;31mAttributeError\u001b[0m: 'NoneType' object has no attribute 'quad_prob'"
     ]
    }
   ],
   "source": [
    "\n",
    "prog = sf.Program(1)\n",
    "\n",
    "with prog.context as q:\n",
    "    Squeezed(-0.5, 0) | q[0]\n",
    "    Zgate(parabolic_min*4*beta_param[0]) | q[0]\n",
    "    # Pgate(-4*beta_param[0]) | q[0]\n",
    "    Rgate(-1*alpha_param[0]) | q[0]\n",
    "    Zgate(parabolic_min*4*beta_param[1]) | q[0]\n",
    "    # Pgate(-4*beta_param[1]) | q[0]\n",
    "    Rgate(-1*alpha_param[1]) | q[0]\n",
    "    Zgate(parabolic_min*4*beta_param[2]) | q[0]\n",
    "    # Pgate(-4*beta_param[2]) | q[0]\n",
    "    Rgate(-1*alpha_param[2]) | q[0]\n",
    "\n",
    "# Run on local simulator\n",
    "# eng = sf.Engine(backend=\"fock\", cutoff_dim=5)\n",
    "# result = eng.run(prog, cutoff_dim=10)\n",
    "result = eng.run(prog, shots=1)\n",
    "state = result.state\n",
    "\n",
    "# Define range of x and p\n",
    "x_vals = np.linspace(-5, 5, 200)\n",
    "p_vals = np.linspace(-5, 5, 200)\n",
    "\n",
    "# Get probabilities\n",
    "prob_x = state.quad_prob(0, x_vals, basis=\"x\")\n",
    "prob_p = state.quad_prob(0, p_vals, basis=\"p\")\n",
    "\n",
    "# Plot\n",
    "plt.figure(figsize=(12, 5))\n",
    "\n",
    "plt.subplot(1, 2, 1)\n",
    "plt.plot(x_vals, prob_x, label=\"X quadrature\")\n",
    "plt.title(\"X Quadrature Probability\")\n",
    "plt.xlabel(\"x\")\n",
    "plt.ylabel(\"Probability\")\n",
    "plt.grid(True)\n",
    "\n",
    "plt.subplot(1, 2, 2)\n",
    "plt.plot(p_vals, prob_p, color=\"orange\", label=\"P quadrature\")\n",
    "plt.title(\"P Quadrature Probability\")\n",
    "plt.xlabel(\"p\")\n",
    "plt.ylabel(\"Probability\")\n",
    "plt.grid(True)\n",
    "\n",
    "plt.tight_layout()\n",
    "plt.show()\n",
    "\n"
   ]
  },
  {
   "cell_type": "code",
   "execution_count": 5,
   "id": "3f1ea66d",
   "metadata": {},
   "outputs": [
    {
     "name": "stdout",
     "output_type": "stream",
     "text": [
      "<Result: shots=0, num_modes=0, contains state=False>\n"
     ]
    }
   ],
   "source": [
    "print(result)"
   ]
  },
  {
   "cell_type": "code",
   "execution_count": null,
   "id": "abf77ff2",
   "metadata": {},
   "outputs": [],
   "source": []
  },
  {
   "cell_type": "code",
   "execution_count": null,
   "id": "9d217ff5",
   "metadata": {},
   "outputs": [],
   "source": []
  },
  {
   "cell_type": "code",
   "execution_count": null,
   "id": "06697487",
   "metadata": {},
   "outputs": [],
   "source": []
  },
  {
   "cell_type": "code",
   "execution_count": null,
   "id": "4e838f39",
   "metadata": {},
   "outputs": [],
   "source": []
  },
  {
   "cell_type": "code",
   "execution_count": null,
   "id": "e432c115",
   "metadata": {},
   "outputs": [],
   "source": []
  },
  {
   "cell_type": "code",
   "execution_count": null,
   "id": "8c42038c",
   "metadata": {},
   "outputs": [],
   "source": []
  },
  {
   "cell_type": "code",
   "execution_count": null,
   "id": "e67b2b20",
   "metadata": {},
   "outputs": [],
   "source": []
  },
  {
   "cell_type": "code",
   "execution_count": null,
   "id": "b0514347",
   "metadata": {},
   "outputs": [],
   "source": [
    "#Calculating loss\n",
    "\n",
    "def function_optimize(x, parabolic_min):\n",
    "    y = (x - parabolic_min)**2\n",
    "    return y\n",
    "\n"
   ]
  },
  {
   "cell_type": "code",
   "execution_count": null,
   "id": "d2d22be2",
   "metadata": {},
   "outputs": [],
   "source": [
    "#Run the photonic quantum circuit\n",
    "\n",
    "def run_circuit(alpha_param, beta_param, parabolic_min):\n",
    "\n",
    "    prog = sf.Program(1)\n",
    "\n",
    "    # with eng:\n",
    "    with prog.context as q:\n",
    "\n",
    "        Squeezed(-0.5,0) | q[0]\n",
    "\n",
    "        Zgate(parabolic_min*4*beta_param[0]) | q[0]\n",
    "        Pgate(-4*beta_param[0]) | q[0]\n",
    "        Rgate(-1*alpha_param[0]) | q[0]\n",
    "        Zgate(parabolic_min*4*beta_param[1]) | q[0]\n",
    "        Pgate(-4*beta_param[1]) | q[0]\n",
    "        Rgate(-1*alpha_param[1]) | q[0]\n",
    "        Zgate(parabolic_min*4*beta_param[2]) | q[0]\n",
    "        Pgate(-4*beta_param[2]) | q[0]\n",
    "        Rgate(-1*alpha_param[2]) | q[0]\n",
    "\n",
    "        MeasureX | q[0]\n",
    "\n",
    "        state = eng.run(prog, cutoff_dim=5)\n",
    "\n",
    "    return q[0].val\n",
    "\n"
   ]
  },
  {
   "cell_type": "code",
   "execution_count": null,
   "id": "8ad94ad7",
   "metadata": {},
   "outputs": [
    {
     "name": "stdout",
     "output_type": "stream",
     "text": [
      "[array([9.08319969]), array([9.2528578]), array([9.88208275]), array([9.53255929]), array([9.35851804]), array([9.77843099]), array([9.11970645]), array([9.29762336]), array([9.35000506]), array([9.15215515]), array([9.70096993]), array([9.48673216]), array([9.3905478]), array([9.64843308]), array([9.06176826]), array([9.71188918]), array([9.02572207]), array([9.26750098]), array([9.27324394]), array([9.11846597]), array([9.57813161]), array([9.42052365]), array([9.24956251]), array([9.39129207]), array([9.61852709]), array([8.65362994]), array([9.57566121]), array([9.40468347]), array([9.24130666]), array([9.76703626]), array([9.22959661]), array([9.62663638]), array([9.24931217]), array([9.28639126]), array([9.08960181]), array([9.24777504]), array([9.77912325]), array([9.88579171]), array([9.08704266]), array([9.18592823]), array([9.83398144]), array([9.64354149]), array([9.7241117]), array([9.37855096]), array([9.52975966]), array([9.59239752]), array([9.25156394]), array([9.44501645]), array([9.41369674]), array([9.45186753]), array([9.24145318]), array([9.38408247]), array([9.36376099]), array([9.58320249]), array([9.63804416]), array([9.36772846]), array([9.354423]), array([8.97791601]), array([9.6255593]), array([9.23296386]), array([9.29998251]), array([9.25080508]), array([9.26272643]), array([9.79644707]), array([8.9912927]), array([9.28466574]), array([9.32118495]), array([9.51719914]), array([9.33454721]), array([9.17499297]), array([9.42769062]), array([9.35500504]), array([9.26372217]), array([9.37525707]), array([9.58085227]), array([9.10967346]), array([9.27558221]), array([9.50216219]), array([9.19532937]), array([9.22198825]), array([9.37649557]), array([9.31221416]), array([8.93322922]), array([9.66243038]), array([8.81969939]), array([9.92782902]), array([8.99878725]), array([9.01282576]), array([9.57838563]), array([9.88493192]), array([9.26881214]), array([9.05505663]), array([9.05780599]), array([9.17344882]), array([9.1652836]), array([9.30159798]), array([8.81416293]), array([9.3274523]), array([8.89669031]), array([9.14236245])]\n"
     ]
    }
   ],
   "source": [
    "#Search for the optimal value\n",
    "\n",
    "op = 0\n",
    "\n",
    "alpha_param = [0.5, 0.5, 0.5]\n",
    "beta_param = [0.5, 0.5, 0.5]\n",
    "\n",
    "for i in range(0, iterations):\n",
    "    result = 0\n",
    "    grid = []\n",
    "    for h in range(0, shots):\n",
    "        hello = run_circuit(alpha_param, beta_param, parabolic_min)\n",
    "        result = result+hello\n",
    "        grid.append(hello)\n",
    "    result = result/shots\n",
    "    calculation = function_optimize(result, parabolic_min)\n",
    "\n",
    "    yer_a = alpha_param\n",
    "    yer_b = beta_param\n",
    "\n",
    "    if (calculation < optimal_value):\n",
    "        simulation = grid\n",
    "        optimal_value = calculation\n",
    "        the_x_measurement = result\n",
    "        op = [[alpha_param[0], alpha_param[1], alpha_param[2]], [beta_param[0], beta_param[1], beta_param[2]]]\n",
    "\n",
    "    alpha_param[0] = possible_parameters[random.randint(0, len(possible_parameters)-1)]\n",
    "    alpha_param[1] = possible_parameters[random.randint(0, len(possible_parameters)-1)]\n",
    "    alpha_param[2] = possible_parameters[random.randint(0, len(possible_parameters)-1)]\n",
    "\n",
    "    beta_param[0] = possible_parameters[random.randint(0, len(possible_parameters)-1)]\n",
    "    beta_param[1] = possible_parameters[random.randint(0, len(possible_parameters)-1)]\n",
    "    beta_param[2] = possible_parameters[random.randint(0, len(possible_parameters)-1)]\n",
    "\n",
    "\n",
    "optimal_parameters = op\n",
    "\n",
    "\n",
    "x_arr = range(0, testing_trials)\n",
    "y_arr = []\n",
    "\n",
    "for i in range(0, testing_trials):\n",
    "\n",
    "    state = run_circuit(optimal_parameters[0], optimal_parameters[1], parabolic_min)\n",
    "    y_arr.append(state)\n",
    "\n",
    "print(y_arr)"
   ]
  },
  {
   "cell_type": "code",
   "execution_count": null,
   "id": "f421fe0f",
   "metadata": {},
   "outputs": [],
   "source": []
  },
  {
   "cell_type": "code",
   "execution_count": null,
   "id": "45407e56",
   "metadata": {},
   "outputs": [],
   "source": []
  }
 ],
 "metadata": {
  "kernelspec": {
   "display_name": "StrawberryFieldsVenv",
   "language": "python",
   "name": "python3"
  },
  "language_info": {
   "codemirror_mode": {
    "name": "ipython",
    "version": 3
   },
   "file_extension": ".py",
   "mimetype": "text/x-python",
   "name": "python",
   "nbconvert_exporter": "python",
   "pygments_lexer": "ipython3",
   "version": "3.9.13"
  }
 },
 "nbformat": 4,
 "nbformat_minor": 5
}
