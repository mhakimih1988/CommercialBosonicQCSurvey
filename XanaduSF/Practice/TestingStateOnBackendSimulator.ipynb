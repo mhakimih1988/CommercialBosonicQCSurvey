{
 "cells": [
  {
   "cell_type": "code",
   "execution_count": null,
   "id": "80a6bff0",
   "metadata": {},
   "outputs": [],
   "source": []
  },
  {
   "cell_type": "code",
   "execution_count": 15,
   "id": "3cba276a",
   "metadata": {},
   "outputs": [
    {
     "name": "stderr",
     "output_type": "stream",
     "text": [
      "2025-07-07 15:33:27,449 - INFO - Compiling program for device simulon_gaussian using compiler gaussian.\n",
      "c:\\Users\\mhakimi\\Documents\\strawberryfields9\\StrawberryFieldsVenv\\lib\\site-packages\\strawberryfields\\program.py:732: UserWarning: The circuit consists of 2 disconnected components.\n",
      "2025-07-07 15:33:31,948 - INFO - The remote job 94d264f0-caff-47d0-8673-5e59e4f86287 has been completed.\n"
     ]
    }
   ],
   "source": [
    "import strawberryfields as sf\n",
    "from strawberryfields import ops\n",
    "\n",
    "# Choose number of modes for your program\n",
    "num_modes = 2\n",
    "\n",
    "# Create a program with that many modes\n",
    "prog = sf.Program(num_modes)\n",
    "\n",
    "# Create an engine with the simulon_gaussian backend\n",
    "eng = sf.RemoteEngine(\"simulon_gaussian\")\n",
    "\n",
    "with prog.context as q:\n",
    "    ops.Sgate(0.5) | q[0]\n",
    "    ops.Sgate(0.5) | q[1]\n",
    "    ops.MeasureFock() | q[0]\n",
    "    ops.MeasureFock() | q[1]\n",
    "\n",
    "# Run the program on the backend\n",
    "result = eng.run(prog, shots = 10)\n",
    "state=result.state"
   ]
  },
  {
   "cell_type": "code",
   "execution_count": 16,
   "id": "da8f527b",
   "metadata": {},
   "outputs": [
    {
     "name": "stdout",
     "output_type": "stream",
     "text": [
      "<Result: shots=10, num_modes=2, contains state=False>\n"
     ]
    }
   ],
   "source": [
    "print(result)"
   ]
  },
  {
   "cell_type": "code",
   "execution_count": 17,
   "id": "e70ea663",
   "metadata": {},
   "outputs": [
    {
     "name": "stdout",
     "output_type": "stream",
     "text": [
      "[[0 4]\n",
      " [0 0]\n",
      " [0 0]\n",
      " [0 2]\n",
      " [2 0]\n",
      " [0 0]\n",
      " [0 2]\n",
      " [0 0]\n",
      " [0 0]\n",
      " [0 0]]\n"
     ]
    }
   ],
   "source": [
    "print(result.samples)\n"
   ]
  },
  {
   "cell_type": "code",
   "execution_count": 12,
   "id": "41c6d782",
   "metadata": {},
   "outputs": [
    {
     "name": "stdout",
     "output_type": "stream",
     "text": [
      "None\n"
     ]
    }
   ],
   "source": [
    "print(state)"
   ]
  },
  {
   "cell_type": "code",
   "execution_count": 13,
   "id": "e714214c",
   "metadata": {},
   "outputs": [
    {
     "ename": "AttributeError",
     "evalue": "'NoneType' object has no attribute 'fock_prob'",
     "output_type": "error",
     "traceback": [
      "\u001b[1;31m---------------------------------------------------------------------------\u001b[0m",
      "\u001b[1;31mAttributeError\u001b[0m                            Traceback (most recent call last)",
      "Cell \u001b[1;32mIn[13], line 2\u001b[0m\n\u001b[0;32m      1\u001b[0m \u001b[38;5;66;03m# Now you can access state properties, e.g.:\u001b[39;00m\n\u001b[1;32m----> 2\u001b[0m \u001b[38;5;28mprint\u001b[39m(\u001b[38;5;124m\"\u001b[39m\u001b[38;5;124mFock probabilities:\u001b[39m\u001b[38;5;124m\"\u001b[39m, \u001b[43mstate\u001b[49m\u001b[38;5;241;43m.\u001b[39;49m\u001b[43mfock_prob\u001b[49m([\u001b[38;5;241m0\u001b[39m,\u001b[38;5;241m0\u001b[39m]))\n",
      "\u001b[1;31mAttributeError\u001b[0m: 'NoneType' object has no attribute 'fock_prob'"
     ]
    }
   ],
   "source": [
    "# Now you can access state properties, e.g.:\n",
    "print(\"Fock probabilities:\", state.fock_prob([0,0]))"
   ]
  },
  {
   "cell_type": "code",
   "execution_count": null,
   "id": "4e4a4756",
   "metadata": {},
   "outputs": [],
   "source": [
    "    "
   ]
  }
 ],
 "metadata": {
  "kernelspec": {
   "display_name": "StrawberryFieldsVenv",
   "language": "python",
   "name": "python3"
  },
  "language_info": {
   "codemirror_mode": {
    "name": "ipython",
    "version": 3
   },
   "file_extension": ".py",
   "mimetype": "text/x-python",
   "name": "python",
   "nbconvert_exporter": "python",
   "pygments_lexer": "ipython3",
   "version": "3.9.13"
  }
 },
 "nbformat": 4,
 "nbformat_minor": 5
}
