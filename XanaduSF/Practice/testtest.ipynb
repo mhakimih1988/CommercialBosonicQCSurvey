{
 "cells": [
  {
   "cell_type": "code",
   "execution_count": 2,
   "id": "c5a4753a",
   "metadata": {},
   "outputs": [],
   "source": [
    "import strawberryfields as sf"
   ]
  },
  {
   "cell_type": "code",
   "execution_count": 3,
   "id": "2793516d",
   "metadata": {},
   "outputs": [
    {
     "data": {
      "text/plain": [
       "[<strawberryfields.program_utils.RegRef at 0x1f32e512b80>]"
      ]
     },
     "execution_count": 3,
     "metadata": {},
     "output_type": "execute_result"
    }
   ],
   "source": [
    "from strawberryfields.ops import Coherent\n",
    "\n",
    "prog = sf.Program(2)\n",
    "q = prog.register  # manually get register references\n",
    "\n",
    "# Add operations manually\n",
    "prog.append(Coherent(1.0), [q[0]])\n"
   ]
  },
  {
   "cell_type": "code",
   "execution_count": null,
   "id": "d8b8e1be",
   "metadata": {},
   "outputs": [],
   "source": []
  }
 ],
 "metadata": {
  "kernelspec": {
   "display_name": "StrawberryFieldsVenv",
   "language": "python",
   "name": "python3"
  },
  "language_info": {
   "codemirror_mode": {
    "name": "ipython",
    "version": 3
   },
   "file_extension": ".py",
   "mimetype": "text/x-python",
   "name": "python",
   "nbconvert_exporter": "python",
   "pygments_lexer": "ipython3",
   "version": "3.9.13"
  }
 },
 "nbformat": 4,
 "nbformat_minor": 5
}
