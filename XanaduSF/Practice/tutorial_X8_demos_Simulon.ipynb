{
  "cells": [
    {
      "cell_type": "code",
      "execution_count": 1,
      "metadata": {
        "collapsed": false
      },
      "outputs": [],
      "source": [
        "# This cell is added by sphinx-gallery\n",
        "# It can be customized to whatever you like\n",
        "# %matplotlib inline"
      ]
    },
    {
      "cell_type": "code",
      "execution_count": 2,
      "metadata": {
        "collapsed": false
      },
      "outputs": [],
      "source": [
        "# from strawberryfields.utils import random_interferometer\n",
        "# U_GBS = random_interferometer(4)"
      ]
    },
    {
      "cell_type": "code",
      "execution_count": 3,
      "metadata": {},
      "outputs": [],
      "source": [
        "from strawberryfields.ops import *\n"
      ]
    },
    {
      "cell_type": "code",
      "execution_count": 4,
      "metadata": {
        "collapsed": false
      },
      "outputs": [],
      "source": [
        "import strawberryfields as sf\n",
        "from strawberryfields import ops\n",
        "\n",
        "nr_modes = 8\n",
        "gbs_prog = sf.Program(nr_modes)\n",
        "with gbs_prog.context as q:\n",
        "    # Two-mode squeezing. Allowed values are r=1.0 (on) or r=0.0 (off)\n",
        "    # ops.S2gate(1.0) | (q[0], q[4])\n",
        "    # ops.S2gate(1.0) | (q[1], q[5])\n",
        "    # ops.S2gate(1.0) | (q[2], q[6])\n",
        "    # ops.S2gate(1.0) | (q[3], q[7])\n",
        "    Zgate(0.5*4*0.5) | q[0]\n",
        "    # Pgate(-4*0.5) | q[0]          # cannot be implemented on \"simulon_gaussian\"\n",
        "    Rgate(-1*0.5) | q[0]\n",
        "    Squeezed(-0.5,0) | q[0]\n",
        "\n",
        "    # Equal interferometers on signal and idler modes\n",
        "    # ops.Interferometer(U_GBS) | (q[0], q[1], q[2], q[3])\n",
        "    # ops.Interferometer(U_GBS) | (q[4], q[5], q[6], q[7])\n",
        "\n",
        "    # Measure output state in the Fock basis\n",
        "    ops.MeasureFock() | q"
      ]
    },
    {
      "cell_type": "code",
      "execution_count": 5,
      "metadata": {
        "collapsed": false
      },
      "outputs": [
        {
          "name": "stderr",
          "output_type": "stream",
          "text": [
            "2025-06-11 17:38:44,906 - INFO - Compiling program for device simulon_gaussian using compiler gaussian.\n",
            "2025-06-11 17:38:47,888 - INFO - The remote job 64777834-6cca-4541-8838-2bf718a47da9 has been completed.\n"
          ]
        }
      ],
      "source": [
        "from strawberryfields import RemoteEngine\n",
        "\n",
        "eng = sf.RemoteEngine(\"simulon_gaussian\")\n",
        "gbs_results = eng.run(gbs_prog, shots=1)\n",
        "gbs_samples = gbs_results.samples"
      ]
    },
    {
      "cell_type": "code",
      "execution_count": null,
      "metadata": {},
      "outputs": [],
      "source": []
    }
  ],
  "metadata": {
    "kernelspec": {
      "display_name": "StrawberryFieldsVenv",
      "language": "python",
      "name": "python3"
    },
    "language_info": {
      "codemirror_mode": {
        "name": "ipython",
        "version": 3
      },
      "file_extension": ".py",
      "mimetype": "text/x-python",
      "name": "python",
      "nbconvert_exporter": "python",
      "pygments_lexer": "ipython3",
      "version": "3.9.13"
    }
  },
  "nbformat": 4,
  "nbformat_minor": 0
}
