{
  "cells": [
    {
      "cell_type": "code",
      "execution_count": 1,
      "metadata": {
        "collapsed": false
      },
      "outputs": [],
      "source": [
        "# This cell is added by sphinx-gallery\n",
        "# It can be customized to whatever you like\n",
        "%matplotlib inline"
      ]
    },
    {
      "cell_type": "markdown",
      "metadata": {},
      "source": [
        "\n",
        "Quantum algorithms on the Xanadu quantum cloud\n",
        "==============================================\n",
        "\n",
        "In this tutorial, we program photonic devices available on the Xanadu cloud platform to implement\n",
        "proof-of-principle algorithms for Gaussian boson sampling, molecular vibronic spectra, and graph\n",
        "similarity. You will learn how to use Strawberry Fields 🍓 to\n",
        "program the chips and process the output samples for each task. We follow closely the results\n",
        "presented in the paper \"Quantum circuits with many photons on a programmable nanophotonic chip\"\n",
        "[[#arrazola2021]_].\n",
        "\n",
        "More details on how to submit jobs to the Xanadu cloud can be found in\n",
        ":doc:`this tutorial </demos/tutorial_X8>`. Additional information on the algorithms themselves\n",
        "can be found in the tutorials for :doc:`vibronic spectra\n",
        "</apps/run_tutorial_vibronic>` and :doc:`graph similarity </apps/run_tutorial_similarity>`.\n",
        "\n",
        "Finally, an authentication token is required to access hardware ️🔑. If you do not have an\n",
        "authentication token, please sign up for hardware access via\n",
        "`Xanadu Cloud <https://platform.xanadu.ai/auth/realms/platform/protocol/openid-connect/registrations?client_id=public&redirect_uri=https%3A%2F%2Fcloud.xanadu.ai%2Flogin&response_type=code>`__.\n",
        "\n",
        "\n",
        "Remote programming of photonic chips\n",
        "------------------------------------\n",
        "Strawberry Fields is a software platform for photonic quantum computing --- it provides access\n",
        "to tools for designing and simulating photonic circuits, and also serves as the application\n",
        "programming interface for photonic hardware on the Xanadu cloud. In this tutorial, we program\n",
        "X8 devices, which consist of eight modes separated into four spatial modes, each carrying\n",
        "two separate frequencies. We call modes 0 to 3 the signal modes and modes 4 to 7 the idler modes.\n",
        "\n",
        "The circuit architecture consists of the following components:\n",
        "\n",
        "* Firstly, two mode squeezing operations act on each pair of\n",
        "  signal/idler modes. Squeezing can be turned on or off for a fixed squeezing level.\n",
        "\n",
        "* The second component of the circuit is a universal four-mode interferometer\n",
        "  acting equally on signal and idler modes.\n",
        "\n",
        "* Finally, output modes are probed using transition-edge sensors capable\n",
        "  of counting the number of photons.\n",
        "\n",
        "The figure below shows a micrograph of the chip, a photograph of the\n",
        "complete system fit to a standard server rack, and a schematic of the control system.\n",
        "\n",
        "![](/tutorials/images/overview.svg)\n",
        "\n",
        "    :align: center\n",
        "    :width: 70%\n",
        "    :target: javascript:void(0);\n",
        "\n",
        "\n",
        "Gaussian boson sampling\n",
        "-----------------------\n",
        "\n",
        ":doc:`Gaussian boson sampling </demos/run_gaussian_boson_sampling>` is a platform for photonic\n",
        "quantum computing where a Gaussian state is measured in the photon-number basis. The\n",
        "combinations of squeezing and interferometer operations implemented in Xanadu's hardware\n",
        "generate a Gaussian output state, so these devices can be used to implement Gaussian boson\n",
        "sampling. When the interferometers are programmed according to random unitaries, arguments from\n",
        "computational complexity theory can be invoked to argue that the output distribution cannot be\n",
        "sampled from efficiently using classical computers.\n",
        "\n",
        "`Haar-random unitaries\n",
        "<https://pennylane.ai/qml/demos/tutorial_haar_measure.html>`__ can be generated\n",
        "using the :func:`~strawberryfields.utils.random_interferometer` function.\n"
      ]
    },
    {
      "cell_type": "code",
      "execution_count": 16,
      "metadata": {
        "collapsed": false
      },
      "outputs": [],
      "source": [
        "from strawberryfields.utils import random_interferometer\n",
        "U_GBS = random_interferometer(4)"
      ]
    },
    {
      "cell_type": "markdown",
      "metadata": {},
      "source": [
        "We define a program on eight modes where two-mode squeezing gates are applied to each pair of\n",
        "signal-idler modes. To maximize the number of photons generated, we turn all squeezers on and\n",
        "program the interferometer according to the random unitary generated above.\n",
        "\n"
      ]
    },
    {
      "cell_type": "code",
      "execution_count": 17,
      "metadata": {
        "collapsed": false
      },
      "outputs": [],
      "source": [
        "import strawberryfields as sf\n",
        "from strawberryfields import ops\n",
        "\n",
        "nr_modes = 8\n",
        "gbs_prog = sf.Program(nr_modes)\n",
        "with gbs_prog.context as q:\n",
        "    # Two-mode squeezing. Allowed values are r=1.0 (on) or r=0.0 (off)\n",
        "    ops.S2gate(1.0) | (q[0], q[4])\n",
        "    ops.S2gate(1.0) | (q[1], q[5])\n",
        "    ops.S2gate(1.0) | (q[2], q[6])\n",
        "    ops.S2gate(1.0) | (q[3], q[7])\n",
        "\n",
        "    # Equal interferometers on signal and idler modes\n",
        "    ops.Interferometer(U_GBS) | (q[0], q[1], q[2], q[3])\n",
        "    ops.Interferometer(U_GBS) | (q[4], q[5], q[6], q[7])\n",
        "\n",
        "    # Measure output state in the Fock basis\n",
        "    ops.MeasureFock() | q"
      ]
    },
    {
      "cell_type": "markdown",
      "metadata": {},
      "source": [
        "This program can then be executed across any compatible device. We run the remote\n",
        "engine to request 400,000 samples (four hundred thousand samples! 🤯) from Xanadu's X8 chip.\n",
        "\n"
      ]
    },
    {
      "cell_type": "code",
      "execution_count": 18,
      "metadata": {
        "collapsed": false
      },
      "outputs": [
        {
          "name": "stderr",
          "output_type": "stream",
          "text": [
            "2025-06-08 22:22:19,331 - INFO - Compiling program for device X8_01 using compiler Xunitary.\n"
          ]
        },
        {
          "ename": "HTTPError",
          "evalue": "The target specified for this job (X8_01) is not online.",
          "output_type": "error",
          "traceback": [
            "\u001b[1;31m---------------------------------------------------------------------------\u001b[0m",
            "\u001b[1;31mHTTPError\u001b[0m                                 Traceback (most recent call last)",
            "Cell \u001b[1;32mIn[18], line 4\u001b[0m\n\u001b[0;32m      1\u001b[0m \u001b[38;5;28;01mfrom\u001b[39;00m\u001b[38;5;250m \u001b[39m\u001b[38;5;21;01mstrawberryfields\u001b[39;00m\u001b[38;5;250m \u001b[39m\u001b[38;5;28;01mimport\u001b[39;00m RemoteEngine\n\u001b[0;32m      3\u001b[0m eng \u001b[38;5;241m=\u001b[39m sf\u001b[38;5;241m.\u001b[39mRemoteEngine(\u001b[38;5;124m\"\u001b[39m\u001b[38;5;124mX8\u001b[39m\u001b[38;5;124m\"\u001b[39m)\n\u001b[1;32m----> 4\u001b[0m gbs_results \u001b[38;5;241m=\u001b[39m \u001b[43meng\u001b[49m\u001b[38;5;241;43m.\u001b[39;49m\u001b[43mrun\u001b[49m\u001b[43m(\u001b[49m\u001b[43mgbs_prog\u001b[49m\u001b[43m,\u001b[49m\u001b[43m \u001b[49m\u001b[43mshots\u001b[49m\u001b[38;5;241;43m=\u001b[39;49m\u001b[38;5;241;43m400000\u001b[39;49m\u001b[43m)\u001b[49m\n\u001b[0;32m      5\u001b[0m gbs_samples \u001b[38;5;241m=\u001b[39m gbs_results\u001b[38;5;241m.\u001b[39msamples\n",
            "File \u001b[1;32mc:\\Users\\mhakimi\\Documents\\strawberryfields9\\StrawberryFieldsVenv\\lib\\site-packages\\strawberryfields\\engine.py:706\u001b[0m, in \u001b[0;36mRemoteEngine.run\u001b[1;34m(self, program, compile_options, recompile, **kwargs)\u001b[0m\n\u001b[0;32m    672\u001b[0m \u001b[38;5;28;01mdef\u001b[39;00m\u001b[38;5;250m \u001b[39m\u001b[38;5;21mrun\u001b[39m(\n\u001b[0;32m    673\u001b[0m     \u001b[38;5;28mself\u001b[39m, program: Program, \u001b[38;5;241m*\u001b[39m, compile_options\u001b[38;5;241m=\u001b[39m\u001b[38;5;28;01mNone\u001b[39;00m, recompile\u001b[38;5;241m=\u001b[39m\u001b[38;5;28;01mFalse\u001b[39;00m, \u001b[38;5;241m*\u001b[39m\u001b[38;5;241m*\u001b[39mkwargs\n\u001b[0;32m    674\u001b[0m ) \u001b[38;5;241m-\u001b[39m\u001b[38;5;241m>\u001b[39m Optional[Result]:\n\u001b[0;32m    675\u001b[0m \u001b[38;5;250m    \u001b[39m\u001b[38;5;124;03m\"\"\"Runs a blocking job.\u001b[39;00m\n\u001b[0;32m    676\u001b[0m \n\u001b[0;32m    677\u001b[0m \u001b[38;5;124;03m    In the blocking mode, the engine blocks until the job is completed, failed, or\u001b[39;00m\n\u001b[1;32m   (...)\u001b[0m\n\u001b[0;32m    704\u001b[0m \u001b[38;5;124;03m        FailedJobError: if the remote job fails on the server side (\"cancelled\" or \"failed\")\u001b[39;00m\n\u001b[0;32m    705\u001b[0m \u001b[38;5;124;03m    \"\"\"\u001b[39;00m\n\u001b[1;32m--> 706\u001b[0m     job \u001b[38;5;241m=\u001b[39m \u001b[38;5;28mself\u001b[39m\u001b[38;5;241m.\u001b[39mrun_async(\n\u001b[0;32m    707\u001b[0m         program, compile_options\u001b[38;5;241m=\u001b[39mcompile_options, recompile\u001b[38;5;241m=\u001b[39mrecompile, \u001b[38;5;241m*\u001b[39m\u001b[38;5;241m*\u001b[39mkwargs\n\u001b[0;32m    708\u001b[0m     )\n\u001b[0;32m    709\u001b[0m     \u001b[38;5;28;01mtry\u001b[39;00m:\n\u001b[0;32m    710\u001b[0m         \u001b[38;5;28;01mwhile\u001b[39;00m \u001b[38;5;28;01mTrue\u001b[39;00m:\n\u001b[0;32m    711\u001b[0m             \u001b[38;5;66;03m# TODO: needed to refresh connection; remove once xcc.Connection\u001b[39;00m\n\u001b[0;32m    712\u001b[0m             \u001b[38;5;66;03m# is able to refresh config info dynamically\u001b[39;00m\n",
            "File \u001b[1;32mc:\\Users\\mhakimi\\Documents\\strawberryfields9\\StrawberryFieldsVenv\\lib\\site-packages\\strawberryfields\\engine.py:842\u001b[0m, in \u001b[0;36mRemoteEngine.run_async\u001b[1;34m(self, program, compile_options, recompile, **kwargs)\u001b[0m\n\u001b[0;32m    838\u001b[0m circuit \u001b[38;5;241m=\u001b[39m bb\u001b[38;5;241m.\u001b[39mserialize()\n\u001b[0;32m    840\u001b[0m connection \u001b[38;5;241m=\u001b[39m \u001b[38;5;28mself\u001b[39m\u001b[38;5;241m.\u001b[39mconnection\n\u001b[1;32m--> 842\u001b[0m job \u001b[38;5;241m=\u001b[39m \u001b[43mxcc\u001b[49m\u001b[38;5;241;43m.\u001b[39;49m\u001b[43mJob\u001b[49m\u001b[38;5;241;43m.\u001b[39;49m\u001b[43msubmit\u001b[49m\u001b[43m(\u001b[49m\n\u001b[0;32m    843\u001b[0m \u001b[43m    \u001b[49m\u001b[43mconnection\u001b[49m\u001b[38;5;241;43m=\u001b[39;49m\u001b[43mconnection\u001b[49m\u001b[43m,\u001b[49m\n\u001b[0;32m    844\u001b[0m \u001b[43m    \u001b[49m\u001b[43mname\u001b[49m\u001b[38;5;241;43m=\u001b[39;49m\u001b[43mprogram\u001b[49m\u001b[38;5;241;43m.\u001b[39;49m\u001b[43mname\u001b[49m\u001b[43m,\u001b[49m\n\u001b[0;32m    845\u001b[0m \u001b[43m    \u001b[49m\u001b[43mtarget\u001b[49m\u001b[38;5;241;43m=\u001b[39;49m\u001b[38;5;28;43mself\u001b[39;49m\u001b[38;5;241;43m.\u001b[39;49m\u001b[43mtarget\u001b[49m\u001b[43m,\u001b[49m\n\u001b[0;32m    846\u001b[0m \u001b[43m    \u001b[49m\u001b[43mcircuit\u001b[49m\u001b[38;5;241;43m=\u001b[39;49m\u001b[43mcircuit\u001b[49m\u001b[43m,\u001b[49m\n\u001b[0;32m    847\u001b[0m \u001b[43m    \u001b[49m\u001b[43mlanguage\u001b[49m\u001b[38;5;241;43m=\u001b[39;49m\u001b[38;5;124;43mf\u001b[39;49m\u001b[38;5;124;43m\"\u001b[39;49m\u001b[38;5;124;43mblackbird:\u001b[39;49m\u001b[38;5;132;43;01m{\u001b[39;49;00m\u001b[43mbb\u001b[49m\u001b[38;5;241;43m.\u001b[39;49m\u001b[43mversion\u001b[49m\u001b[38;5;132;43;01m}\u001b[39;49;00m\u001b[38;5;124;43m\"\u001b[39;49m\u001b[43m,\u001b[49m\n\u001b[0;32m    848\u001b[0m \u001b[43m\u001b[49m\u001b[43m)\u001b[49m\n\u001b[0;32m    850\u001b[0m \u001b[38;5;28;01mreturn\u001b[39;00m job\n",
            "File \u001b[1;32mc:\\Users\\mhakimi\\Documents\\strawberryfields9\\StrawberryFieldsVenv\\lib\\site-packages\\xcc\\job.py:156\u001b[0m, in \u001b[0;36mJob.submit\u001b[1;34m(connection, name, target, circuit, language)\u001b[0m\n\u001b[0;32m    138\u001b[0m \u001b[38;5;250m\u001b[39m\u001b[38;5;124;03m\"\"\"Submits a job to the Xanadu Cloud.\u001b[39;00m\n\u001b[0;32m    139\u001b[0m \n\u001b[0;32m    140\u001b[0m \u001b[38;5;124;03mArgs:\u001b[39;00m\n\u001b[1;32m   (...)\u001b[0m\n\u001b[0;32m    148\u001b[0m \u001b[38;5;124;03m    Job: job submitted to the Xanadu Cloud\u001b[39;00m\n\u001b[0;32m    149\u001b[0m \u001b[38;5;124;03m\"\"\"\u001b[39;00m\n\u001b[0;32m    150\u001b[0m payload \u001b[38;5;241m=\u001b[39m {\n\u001b[0;32m    151\u001b[0m     \u001b[38;5;124m\"\u001b[39m\u001b[38;5;124mname\u001b[39m\u001b[38;5;124m\"\u001b[39m: name,\n\u001b[0;32m    152\u001b[0m     \u001b[38;5;124m\"\u001b[39m\u001b[38;5;124mtarget\u001b[39m\u001b[38;5;124m\"\u001b[39m: target,\n\u001b[0;32m    153\u001b[0m     \u001b[38;5;124m\"\u001b[39m\u001b[38;5;124mcircuit\u001b[39m\u001b[38;5;124m\"\u001b[39m: circuit,\n\u001b[0;32m    154\u001b[0m     \u001b[38;5;124m\"\u001b[39m\u001b[38;5;124mlanguage\u001b[39m\u001b[38;5;124m\"\u001b[39m: language,\n\u001b[0;32m    155\u001b[0m }\n\u001b[1;32m--> 156\u001b[0m response \u001b[38;5;241m=\u001b[39m \u001b[43mconnection\u001b[49m\u001b[38;5;241;43m.\u001b[39;49m\u001b[43mrequest\u001b[49m\u001b[43m(\u001b[49m\u001b[38;5;124;43m\"\u001b[39;49m\u001b[38;5;124;43mPOST\u001b[39;49m\u001b[38;5;124;43m\"\u001b[39;49m\u001b[43m,\u001b[49m\u001b[43m \u001b[49m\u001b[38;5;124;43m\"\u001b[39;49m\u001b[38;5;124;43m/jobs\u001b[39;49m\u001b[38;5;124;43m\"\u001b[39;49m\u001b[43m,\u001b[49m\u001b[43m \u001b[49m\u001b[43mjson\u001b[49m\u001b[38;5;241;43m=\u001b[39;49m\u001b[43mpayload\u001b[49m\u001b[43m)\u001b[49m\n\u001b[0;32m    157\u001b[0m details \u001b[38;5;241m=\u001b[39m response\u001b[38;5;241m.\u001b[39mjson()\n\u001b[0;32m    159\u001b[0m job \u001b[38;5;241m=\u001b[39m Job(details[\u001b[38;5;124m\"\u001b[39m\u001b[38;5;124mid\u001b[39m\u001b[38;5;124m\"\u001b[39m], connection\u001b[38;5;241m=\u001b[39mconnection)\n",
            "File \u001b[1;32mc:\\Users\\mhakimi\\Documents\\strawberryfields9\\StrawberryFieldsVenv\\lib\\site-packages\\xcc\\connection.py:279\u001b[0m, in \u001b[0;36mConnection.request\u001b[1;34m(self, method, path, headers, **kwargs)\u001b[0m\n\u001b[0;32m    276\u001b[0m                 errors\u001b[38;5;241m.\u001b[39mextend(chain\u001b[38;5;241m.\u001b[39mfrom_iterable(entry\u001b[38;5;241m.\u001b[39mvalues()))\n\u001b[0;32m    278\u001b[0m         message \u001b[38;5;241m=\u001b[39m \u001b[38;5;124m\"\u001b[39m\u001b[38;5;124m; \u001b[39m\u001b[38;5;124m\"\u001b[39m\u001b[38;5;241m.\u001b[39mjoin(errors)\n\u001b[1;32m--> 279\u001b[0m         \u001b[38;5;28;01mraise\u001b[39;00m requests\u001b[38;5;241m.\u001b[39mexceptions\u001b[38;5;241m.\u001b[39mHTTPError(message, response\u001b[38;5;241m=\u001b[39mresponse)\n\u001b[0;32m    281\u001b[0m \u001b[38;5;66;03m# Otherwise, the details of the error may be encoded in the \"detail\" field.\u001b[39;00m\n\u001b[0;32m    282\u001b[0m \u001b[38;5;28;01mif\u001b[39;00m \u001b[38;5;129;01mnot\u001b[39;00m response\u001b[38;5;241m.\u001b[39mok \u001b[38;5;129;01mand\u001b[39;00m \u001b[38;5;124m\"\u001b[39m\u001b[38;5;124mdetail\u001b[39m\u001b[38;5;124m\"\u001b[39m \u001b[38;5;129;01min\u001b[39;00m body:\n",
            "\u001b[1;31mHTTPError\u001b[0m: The target specified for this job (X8_01) is not online."
          ]
        }
      ],
      "source": [
        "from strawberryfields import RemoteEngine\n",
        "\n",
        "eng = sf.RemoteEngine(\"X8\")\n",
        "gbs_results = eng.run(gbs_prog, shots=400000)\n",
        "gbs_samples = gbs_results.samples"
      ]
    },
    {
      "cell_type": "markdown",
      "metadata": {},
      "source": [
        "To visualize the results, we create a histogram depicting the probabilities of observing\n",
        "all possible patterns with four photons. These can be arranged into orbits that\n",
        "describe how the photons are distributed across modes. For example the orbit $[1, 1, 1,\n",
        "1]$ is the set of all patterns where a single photon is detected in four different modes, e.g.,\n",
        "$[0, 1, 1, 0, 0, 1, 0, 1]$. Similarly the orbit $[2, 2]$ is the set of all patterns\n",
        "where two photons are detected in one mode and two photons are detected in another mode, e.g.,\n",
        "$[0, 0, 2, 0, 2, 0, 0, 0]$.\n",
        "\n"
      ]
    },
    {
      "cell_type": "markdown",
      "metadata": {},
      "source": [
        "To visualize the results, we create a histogram depicting the probabilities of observing\n",
        "all possible patterns with four photons. These can be arranged into orbits that\n",
        "describe how the photons are distributed across modes. For example the orbit $[1, 1, 1,\n",
        "1]$ is the set of all patterns where a single photon is detected in four different modes, e.g.,\n",
        "$[0, 1, 1, 0, 0, 1, 0, 1]$. Similarly the orbit $[2, 2]$ is the set of all patterns\n",
        "where two photons are detected in one mode and two photons are detected in another mode, e.g.,\n",
        "$[0, 0, 2, 0, 2, 0, 0, 0]$.\n",
        "\n"
      ]
    },
    {
      "cell_type": "code",
      "execution_count": 5,
      "metadata": {
        "collapsed": false
      },
      "outputs": [
        {
          "name": "stdout",
          "output_type": "stream",
          "text": [
            "[[1, 1, 1, 1], [2, 1, 1], [3, 1], [2, 2], [4]]\n",
            "[70, 238, 294, 322, 330]\n"
          ]
        }
      ],
      "source": [
        "from sympy.utilities.iterables import multiset_permutations\n",
        "from strawberryfields.apps.similarity import orbits\n",
        "import numpy as np\n",
        "\n",
        "nr_photons = 4\n",
        "\n",
        "# generate all possible patterns and count the number in each orbit\n",
        "patterns = []\n",
        "counts = []\n",
        "counter = 0\n",
        "for orb in orbits(nr_photons):\n",
        "    orb = orb + [0] * (nr_modes - len(orb))\n",
        "    for p in multiset_permutations(orb):\n",
        "        patterns.append(p)\n",
        "        counter += 1\n",
        "    counts.append(counter)\n",
        "\n",
        "patterns = np.array(patterns)\n",
        "nr_patterns = len(patterns)\n",
        "\n",
        "print(list(orbits(nr_photons)))\n",
        "print(counts)"
      ]
    },
    {
      "cell_type": "markdown",
      "metadata": {},
      "source": [
        ".. rst-class:: sphx-glr-script-out\n",
        "\n",
        " Out:\n",
        "\n",
        " .. code-block:: none\n",
        "\n",
        "      [[1, 1, 1, 1], [2, 1, 1], [3, 1], [2, 2], [4]]\n",
        "      [70, 238, 294, 322, 330]\n",
        "\n"
      ]
    },
    {
      "cell_type": "markdown",
      "metadata": {},
      "source": [
        "To create the histogram, we use a python dictionary that assigns a unique number to each pattern,\n",
        "making it easy to record the number of times each pattern is observed.\n",
        "\n"
      ]
    },
    {
      "cell_type": "code",
      "execution_count": 6,
      "metadata": {
        "collapsed": false
      },
      "outputs": [],
      "source": [
        "sample_dict = {}\n",
        "for i in range(nr_patterns):\n",
        "    sample_dict[str(patterns[i])] = i"
      ]
    },
    {
      "cell_type": "markdown",
      "metadata": {},
      "source": [
        "We iterate over all samples with four photons, keeping track of the number of times each\n",
        "pattern appears. The resulting array is normalized so its entries sum to unity.\n",
        "This provides an empirical estimate of the conditional probability of observing each pattern\n",
        "across samples with four photons.\n",
        "\n"
      ]
    },
    {
      "cell_type": "code",
      "execution_count": 7,
      "metadata": {
        "collapsed": false
      },
      "outputs": [],
      "source": [
        "from strawberryfields.apps.sample import postselect\n",
        "\n",
        "# post-select samples on outputs with four photons\n",
        "gbs_samples = postselect(gbs_samples, nr_photons, nr_photons)\n",
        "\n",
        "probs_samples = np.zeros(nr_patterns)\n",
        "\n",
        "for s in gbs_samples:\n",
        "    index = sample_dict[str(s)]\n",
        "    probs_samples[index] += 1\n",
        "\n",
        "norm = np.sum(probs_samples)\n",
        "probs_samples = np.array([p / norm for p in probs_samples])"
      ]
    },
    {
      "cell_type": "markdown",
      "metadata": {},
      "source": [
        "We plot the reconstructed probability distribution. We use a different\n",
        "colour for each of the five orbit of four photons: $[1,1,1,1]$, $[2,1,1]$,\n",
        "$[3,1]$, $[2,2]$, $[4]$. The resulting histogram depicts that some patterns\n",
        "occur with higher probability than others.\n",
        "\n"
      ]
    },
    {
      "cell_type": "code",
      "execution_count": 8,
      "metadata": {
        "collapsed": false
      },
      "outputs": [
        {
          "data": {
            "image/png": "[encoded data removed]",
            "text/plain": [
              "<Figure size 640x480 with 1 Axes>"
            ]
          },
          "metadata": {},
          "output_type": "display_data"
        }
      ],
      "source": [
        "import matplotlib.pyplot as plt\n",
        "\n",
        "plt.figure()\n",
        "x = np.arange(nr_patterns)\n",
        "plt.bar(x[:counts[0]], probs_samples[:counts[0]], color=\"#508104\")\n",
        "plt.bar(x[counts[0]:counts[1]], probs_samples[counts[0]:counts[1]], color=\"#9e8e01\")\n",
        "plt.bar(x[counts[1]:counts[2]], probs_samples[counts[1]:counts[2]], color=\"#f3b800\")\n",
        "plt.bar(x[counts[2]:counts[3]], probs_samples[counts[2]:counts[3]], color=\"#db8200\")\n",
        "plt.bar(x[counts[3]:counts[4]], probs_samples[counts[3]:counts[4]], color=\"#b64201\")\n",
        "plt.xlabel(\"Pattern\")\n",
        "plt.xticks([], [])\n",
        "plt.ylabel(\"Probability\")\n",
        "plt.show()"
      ]
    },
    {
      "cell_type": "markdown",
      "metadata": {},
      "source": [
        "![](/tutorials/images/GBS_histogram.svg)\n",
        "\n",
        "    :align: center\n",
        "    :width: 66%\n",
        "\n",
        "\n",
        "Vibronic spectra\n",
        "----------------\n",
        "Molecules can absorb light when they undergo a transition between different vibrational and\n",
        "electronic (vibronic) states. The vibronic spectrum of a\n",
        "molecule describes the wavelengths of light that are more strongly absorbed in this process. In\n",
        "the photonic algorithm for vibronic spectra, optical modes represent the vibrational\n",
        "normal modes of the molecule. The device is programmed to replicate the transformation\n",
        "experienced by the vibrational modes during a vibronic transition.\n",
        "\n",
        "In this proof-of-principle demonstration, we program the device according to the interferometer\n",
        "transformations that result from the mode-mixing of ethylene upon a vibronic transition. This\n",
        "interferometer is described by the following unitary:\n",
        "\n"
      ]
    },
    {
      "cell_type": "code",
      "execution_count": 9,
      "metadata": {
        "collapsed": false
      },
      "outputs": [],
      "source": [
        "U_vibronic = np.array([\n",
        "    [-0.5349105592386603, 0.8382670887228271, 0.10356058421030308, -0.021311662937477004],\n",
        "    [-0.6795134137271818, -0.4999083619063322, 0.5369830827402383, 0.001522863010877817],\n",
        "    [-0.4295084785810517, -0.17320833713971984, -0.7062800928050401, 0.5354341876268153],\n",
        "    [0.2601051345260338, 0.13190447151471643, 0.4495473331653913, 0.8443066531962792]\n",
        "])"
      ]
    },
    {
      "cell_type": "markdown",
      "metadata": {},
      "source": [
        "We define a new program to execute the vibronic spectrum algorithm. We only include\n",
        "squeezing on the first pair of modes.\n",
        "\n"
      ]
    },
    {
      "cell_type": "code",
      "execution_count": 10,
      "metadata": {
        "collapsed": false
      },
      "outputs": [
        {
          "name": "stderr",
          "output_type": "stream",
          "text": [
            "2025-06-02 13:30:49,474 - INFO - Compiling program for device X8_01 using compiler Xunitary.\n",
            "2025-06-02 13:31:07,598 - INFO - The remote job 9a9b21ad-3a47-4633-abce-be1ebb2cebd3 has been completed.\n"
          ]
        }
      ],
      "source": [
        "eng = sf.RemoteEngine(\"X8\")\n",
        "vibronic_prog = sf.Program(nr_modes)\n",
        "\n",
        "with vibronic_prog.context as q:\n",
        "    ops.S2gate(1.0) | (q[0], q[4])\n",
        "\n",
        "    ops.Interferometer(U_vibronic) | (q[0], q[1], q[2], q[3])\n",
        "    ops.Interferometer(U_vibronic) | (q[4], q[5], q[6], q[7])\n",
        "\n",
        "    ops.MeasureFock() | q\n",
        "\n",
        "vibronic_results = eng.run(vibronic_prog, shots=400000)\n",
        "vibronic_samples = vibronic_results.samples"
      ]
    },
    {
      "cell_type": "markdown",
      "metadata": {},
      "source": [
        "The Strawberry Fields applications module contains functionality for reconstructing vibronic\n",
        "spectra. Each photon pattern is assigned an energy that can be used to\n",
        "reconstruct a histogram. The peaks of this histogram represent the absorption lines\n",
        "of the molecule's vibronic spectrum. We employ a convention where zero energy is assigned to a\n",
        "transition between vibrational ground states of the initial and final electronic states,\n",
        "which correspond to vacuum outputs.\n",
        "\n"
      ]
    },
    {
      "cell_type": "code",
      "execution_count": 14,
      "metadata": {
        "collapsed": false
      },
      "outputs": [
        {
          "ename": "ValueError",
          "evalue": "Invalid property specified for object of type plotly.graph_objs.layout.XAxis: 'titlefont'\n\nDid you mean \"tickfont\"?\n\n    Valid properties:\n        anchor\n            If set to an opposite-letter axis id (e.g. `x2`, `y`),\n            this axis is bound to the corresponding opposite-letter\n            axis. If set to \"free\", this axis' position is\n            determined by `position`.\n        automargin\n            Determines whether long tick labels automatically grow\n            the figure margins.\n        autorange\n            Determines whether or not the range of this axis is\n            computed in relation to the input data. See `rangemode`\n            for more info. If `range` is provided and it has a\n            value for both the lower and upper bound, `autorange`\n            is set to False. Using \"min\" applies autorange only to\n            set the minimum. Using \"max\" applies autorange only to\n            set the maximum. Using *min reversed* applies autorange\n            only to set the minimum on a reversed axis. Using *max\n            reversed* applies autorange only to set the maximum on\n            a reversed axis. Using \"reversed\" applies autorange on\n            both ends and reverses the axis direction.\n        autorangeoptions\n            :class:`plotly.graph_objects.layout.xaxis.Autorangeopti\n            ons` instance or dict with compatible properties\n        autotickangles\n            When `tickangle` is set to \"auto\", it will be set to\n            the first angle in this array that is large enough to\n            prevent label overlap.\n        autotypenumbers\n            Using \"strict\" a numeric string in trace data is not\n            converted to a number. Using *convert types* a numeric\n            string in trace data may be treated as a number during\n            automatic axis `type` detection. Defaults to\n            layout.autotypenumbers.\n        calendar\n            Sets the calendar system to use for `range` and `tick0`\n            if this is a date axis. This does not set the calendar\n            for interpreting data on this axis, that's specified in\n            the trace or via the global `layout.calendar`\n        categoryarray\n            Sets the order in which categories on this axis appear.\n            Only has an effect if `categoryorder` is set to\n            \"array\". Used with `categoryorder`.\n        categoryarraysrc\n            Sets the source reference on Chart Studio Cloud for\n            `categoryarray`.\n        categoryorder\n            Specifies the ordering logic for the case of\n            categorical variables. By default, plotly uses \"trace\",\n            which specifies the order that is present in the data\n            supplied. Set `categoryorder` to *category ascending*\n            or *category descending* if order should be determined\n            by the alphanumerical order of the category names. Set\n            `categoryorder` to \"array\" to derive the ordering from\n            the attribute `categoryarray`. If a category is not\n            found in the `categoryarray` array, the sorting\n            behavior for that attribute will be identical to the\n            \"trace\" mode. The unspecified categories will follow\n            the categories in `categoryarray`. Set `categoryorder`\n            to *total ascending* or *total descending* if order\n            should be determined by the numerical order of the\n            values. Similarly, the order can be determined by the\n            min, max, sum, mean, geometric mean or median of all\n            the values.\n        color\n            Sets default for all colors associated with this axis\n            all at once: line, font, tick, and grid colors. Grid\n            color is lightened by blending this with the plot\n            background Individual pieces can override this.\n        constrain\n            If this axis needs to be compressed (either due to its\n            own `scaleanchor` and `scaleratio` or those of the\n            other axis), determines how that happens: by increasing\n            the \"range\", or by decreasing the \"domain\". Default is\n            \"domain\" for axes containing image traces, \"range\"\n            otherwise.\n        constraintoward\n            If this axis needs to be compressed (either due to its\n            own `scaleanchor` and `scaleratio` or those of the\n            other axis), determines which direction we push the\n            originally specified plot area. Options are \"left\",\n            \"center\" (default), and \"right\" for x axes, and \"top\",\n            \"middle\" (default), and \"bottom\" for y axes.\n        dividercolor\n            Sets the color of the dividers Only has an effect on\n            \"multicategory\" axes.\n        dividerwidth\n            Sets the width (in px) of the dividers Only has an\n            effect on \"multicategory\" axes.\n        domain\n            Sets the domain of this axis (in plot fraction).\n        dtick\n            Sets the step in-between ticks on this axis. Use with\n            `tick0`. Must be a positive number, or special strings\n            available to \"log\" and \"date\" axes. If the axis `type`\n            is \"log\", then ticks are set every 10^(n*dtick) where n\n            is the tick number. For example, to set a tick mark at\n            1, 10, 100, 1000, ... set dtick to 1. To set tick marks\n            at 1, 100, 10000, ... set dtick to 2. To set tick marks\n            at 1, 5, 25, 125, 625, 3125, ... set dtick to\n            log_10(5), or 0.69897000433. \"log\" has several special\n            values; \"L<f>\", where `f` is a positive number, gives\n            ticks linearly spaced in value (but not position). For\n            example `tick0` = 0.1, `dtick` = \"L0.5\" will put ticks\n            at 0.1, 0.6, 1.1, 1.6 etc. To show powers of 10 plus\n            small digits between, use \"D1\" (all digits) or \"D2\"\n            (only 2 and 5). `tick0` is ignored for \"D1\" and \"D2\".\n            If the axis `type` is \"date\", then you must convert the\n            time to milliseconds. For example, to set the interval\n            between ticks to one day, set `dtick` to 86400000.0.\n            \"date\" also has special values \"M<n>\" gives ticks\n            spaced by a number of months. `n` must be a positive\n            integer. To set ticks on the 15th of every third month,\n            set `tick0` to \"2000-01-15\" and `dtick` to \"M3\". To set\n            ticks every 4 years, set `dtick` to \"M48\"\n        exponentformat\n            Determines a formatting rule for the tick exponents.\n            For example, consider the number 1,000,000,000. If\n            \"none\", it appears as 1,000,000,000. If \"e\", 1e+9. If\n            \"E\", 1E+9. If \"power\", 1x10^9 (with 9 in a super\n            script). If \"SI\", 1G. If \"B\", 1B.\n        fixedrange\n            Determines whether or not this axis is zoom-able. If\n            true, then zoom is disabled.\n        gridcolor\n            Sets the color of the grid lines.\n        griddash\n            Sets the dash style of lines. Set to a dash type string\n            (\"solid\", \"dot\", \"dash\", \"longdash\", \"dashdot\", or\n            \"longdashdot\") or a dash length list in px (eg\n            \"5px,10px,2px,2px\").\n        gridwidth\n            Sets the width (in px) of the grid lines.\n        hoverformat\n            Sets the hover text formatting rule using d3 formatting\n            mini-languages which are very similar to those in\n            Python. For numbers, see:\n            https://github.com/d3/d3-format/tree/v1.4.5#d3-format.\n            And for dates see: https://github.com/d3/d3-time-\n            format/tree/v2.2.3#locale_format. We add two items to\n            d3's date formatter: \"%h\" for half of the year as a\n            decimal number as well as \"%{n}f\" for fractional\n            seconds with n digits. For example, *2016-10-13\n            09:15:23.456* with tickformat \"%H~%M~%S.%2f\" would\n            display \"09~15~23.46\"\n        insiderange\n            Could be used to set the desired inside range of this\n            axis (excluding the labels) when `ticklabelposition` of\n            the anchored axis has \"inside\". Not implemented for\n            axes with `type` \"log\". This would be ignored when\n            `range` is provided.\n        labelalias\n            Replacement text for specific tick or hover labels. For\n            example using {US: 'USA', CA: 'Canada'} changes US to\n            USA and CA to Canada. The labels we would have shown\n            must match the keys exactly, after adding any\n            tickprefix or ticksuffix. For negative numbers the\n            minus sign symbol used (U+2212) is wider than the\n            regular ascii dash. That means you need to use −1\n            instead of -1. labelalias can be used with any axis\n            type, and both keys (if needed) and values (if desired)\n            can include html-like tags or MathJax.\n        layer\n            Sets the layer on which this axis is displayed. If\n            *above traces*, this axis is displayed above all the\n            subplot's traces If *below traces*, this axis is\n            displayed below all the subplot's traces, but above the\n            grid lines. Useful when used together with scatter-like\n            traces with `cliponaxis` set to False to show markers\n            and/or text nodes above this axis.\n        linecolor\n            Sets the axis line color.\n        linewidth\n            Sets the width (in px) of the axis line.\n        matches\n            If set to another axis id (e.g. `x2`, `y`), the range\n            of this axis will match the range of the corresponding\n            axis in data-coordinates space. Moreover, matching axes\n            share auto-range values, category lists and histogram\n            auto-bins. Note that setting axes simultaneously in\n            both a `scaleanchor` and a `matches` constraint is\n            currently forbidden. Moreover, note that matching axes\n            must have the same `type`.\n        maxallowed\n            Determines the maximum range of this axis.\n        minallowed\n            Determines the minimum range of this axis.\n        minexponent\n            Hide SI prefix for 10^n if |n| is below this number.\n            This only has an effect when `tickformat` is \"SI\" or\n            \"B\".\n        minor\n            :class:`plotly.graph_objects.layout.xaxis.Minor`\n            instance or dict with compatible properties\n        mirror\n            Determines if the axis lines or/and ticks are mirrored\n            to the opposite side of the plotting area. If True, the\n            axis lines are mirrored. If \"ticks\", the axis lines and\n            ticks are mirrored. If False, mirroring is disable. If\n            \"all\", axis lines are mirrored on all shared-axes\n            subplots. If \"allticks\", axis lines and ticks are\n            mirrored on all shared-axes subplots.\n        nticks\n            Specifies the maximum number of ticks for the\n            particular axis. The actual number of ticks will be\n            chosen automatically to be less than or equal to\n            `nticks`. Has an effect only if `tickmode` is set to\n            \"auto\".\n        overlaying\n            If set a same-letter axis id, this axis is overlaid on\n            top of the corresponding same-letter axis, with traces\n            and axes visible for both axes. If False, this axis\n            does not overlay any same-letter axes. In this case,\n            for axes with overlapping domains only the highest-\n            numbered axis will be visible.\n        position\n            Sets the position of this axis in the plotting space\n            (in normalized coordinates). Only has an effect if\n            `anchor` is set to \"free\".\n        range\n            Sets the range of this axis. If the axis `type` is\n            \"log\", then you must take the log of your desired range\n            (e.g. to set the range from 1 to 100, set the range\n            from 0 to 2). If the axis `type` is \"date\", it should\n            be date strings, like date data, though Date objects\n            and unix milliseconds will be accepted and converted to\n            strings. If the axis `type` is \"category\", it should be\n            numbers, using the scale where each category is\n            assigned a serial number from zero in the order it\n            appears. Leaving either or both elements `null` impacts\n            the default `autorange`.\n        rangebreaks\n            A tuple of\n            :class:`plotly.graph_objects.layout.xaxis.Rangebreak`\n            instances or dicts with compatible properties\n        rangebreakdefaults\n            When used in a template (as\n            layout.template.layout.xaxis.rangebreakdefaults), sets\n            the default property values to use for elements of\n            layout.xaxis.rangebreaks\n        rangemode\n            If \"normal\", the range is computed in relation to the\n            extrema of the input data. If \"tozero\", the range\n            extends to 0, regardless of the input data If\n            \"nonnegative\", the range is non-negative, regardless of\n            the input data. Applies only to linear axes.\n        rangeselector\n            :class:`plotly.graph_objects.layout.xaxis.Rangeselector\n            ` instance or dict with compatible properties\n        rangeslider\n            :class:`plotly.graph_objects.layout.xaxis.Rangeslider`\n            instance or dict with compatible properties\n        scaleanchor\n            If set to another axis id (e.g. `x2`, `y`), the range\n            of this axis changes together with the range of the\n            corresponding axis such that the scale of pixels per\n            unit is in a constant ratio. Both axes are still\n            zoomable, but when you zoom one, the other will zoom\n            the same amount, keeping a fixed midpoint. `constrain`\n            and `constraintoward` determine how we enforce the\n            constraint. You can chain these, ie `yaxis:\n            {scaleanchor: *x*}, xaxis2: {scaleanchor: *y*}` but you\n            can only link axes of the same `type`. The linked axis\n            can have the opposite letter (to constrain the aspect\n            ratio) or the same letter (to match scales across\n            subplots). Loops (`yaxis: {scaleanchor: *x*}, xaxis:\n            {scaleanchor: *y*}` or longer) are redundant and the\n            last constraint encountered will be ignored to avoid\n            possible inconsistent constraints via `scaleratio`.\n            Note that setting axes simultaneously in both a\n            `scaleanchor` and a `matches` constraint is currently\n            forbidden. Setting `false` allows to remove a default\n            constraint (occasionally, you may need to prevent a\n            default `scaleanchor` constraint from being applied,\n            eg. when having an image trace `yaxis: {scaleanchor:\n            \"x\"}` is set automatically in order for pixels to be\n            rendered as squares, setting `yaxis: {scaleanchor:\n            false}` allows to remove the constraint).\n        scaleratio\n            If this axis is linked to another by `scaleanchor`,\n            this determines the pixel to unit scale ratio. For\n            example, if this value is 10, then every unit on this\n            axis spans 10 times the number of pixels as a unit on\n            the linked axis. Use this for example to create an\n            elevation profile where the vertical scale is\n            exaggerated a fixed amount with respect to the\n            horizontal.\n        separatethousands\n            If \"true\", even 4-digit integers are separated\n        showdividers\n            Determines whether or not a dividers are drawn between\n            the category levels of this axis. Only has an effect on\n            \"multicategory\" axes.\n        showexponent\n            If \"all\", all exponents are shown besides their\n            significands. If \"first\", only the exponent of the\n            first tick is shown. If \"last\", only the exponent of\n            the last tick is shown. If \"none\", no exponents appear.\n        showgrid\n            Determines whether or not grid lines are drawn. If\n            True, the grid lines are drawn at every tick mark.\n        showline\n            Determines whether or not a line bounding this axis is\n            drawn.\n        showspikes\n            Determines whether or not spikes (aka droplines) are\n            drawn for this axis. Note: This only takes affect when\n            hovermode = closest\n        showticklabels\n            Determines whether or not the tick labels are drawn.\n        showtickprefix\n            If \"all\", all tick labels are displayed with a prefix.\n            If \"first\", only the first tick is displayed with a\n            prefix. If \"last\", only the last tick is displayed with\n            a suffix. If \"none\", tick prefixes are hidden.\n        showticksuffix\n            Same as `showtickprefix` but for tick suffixes.\n        side\n            Determines whether a x (y) axis is positioned at the\n            \"bottom\" (\"left\") or \"top\" (\"right\") of the plotting\n            area.\n        spikecolor\n            Sets the spike color. If undefined, will use the series\n            color\n        spikedash\n            Sets the dash style of lines. Set to a dash type string\n            (\"solid\", \"dot\", \"dash\", \"longdash\", \"dashdot\", or\n            \"longdashdot\") or a dash length list in px (eg\n            \"5px,10px,2px,2px\").\n        spikemode\n            Determines the drawing mode for the spike line If\n            \"toaxis\", the line is drawn from the data point to the\n            axis the  series is plotted on. If \"across\", the line\n            is drawn across the entire plot area, and supercedes\n            \"toaxis\". If \"marker\", then a marker dot is drawn on\n            the axis the series is plotted on\n        spikesnap\n            Determines whether spikelines are stuck to the cursor\n            or to the closest datapoints.\n        spikethickness\n            Sets the width (in px) of the zero line.\n        tick0\n            Sets the placement of the first tick on this axis. Use\n            with `dtick`. If the axis `type` is \"log\", then you\n            must take the log of your starting tick (e.g. to set\n            the starting tick to 100, set the `tick0` to 2) except\n            when `dtick`=*L<f>* (see `dtick` for more info). If the\n            axis `type` is \"date\", it should be a date string, like\n            date data. If the axis `type` is \"category\", it should\n            be a number, using the scale where each category is\n            assigned a serial number from zero in the order it\n            appears.\n        tickangle\n            Sets the angle of the tick labels with respect to the\n            horizontal. For example, a `tickangle` of -90 draws the\n            tick labels vertically.\n        tickcolor\n            Sets the tick color.\n        tickfont\n            Sets the tick font.\n        tickformat\n            Sets the tick label formatting rule using d3 formatting\n            mini-languages which are very similar to those in\n            Python. For numbers, see:\n            https://github.com/d3/d3-format/tree/v1.4.5#d3-format.\n            And for dates see: https://github.com/d3/d3-time-\n            format/tree/v2.2.3#locale_format. We add two items to\n            d3's date formatter: \"%h\" for half of the year as a\n            decimal number as well as \"%{n}f\" for fractional\n            seconds with n digits. For example, *2016-10-13\n            09:15:23.456* with tickformat \"%H~%M~%S.%2f\" would\n            display \"09~15~23.46\"\n        tickformatstops\n            A tuple of :class:`plotly.graph_objects.layout.xaxis.Ti\n            ckformatstop` instances or dicts with compatible\n            properties\n        tickformatstopdefaults\n            When used in a template (as\n            layout.template.layout.xaxis.tickformatstopdefaults),\n            sets the default property values to use for elements of\n            layout.xaxis.tickformatstops\n        ticklabelindex\n            Only for axes with `type` \"date\" or \"linear\". Instead\n            of drawing the major tick label, draw the label for the\n            minor tick that is n positions away from the major\n            tick. E.g. to always draw the label for the minor tick\n            before each major tick, choose `ticklabelindex` -1.\n            This is useful for date axes with `ticklabelmode`\n            \"period\" if you want to label the period that ends with\n            each major tick instead of the period that begins\n            there.\n        ticklabelindexsrc\n            Sets the source reference on Chart Studio Cloud for\n            `ticklabelindex`.\n        ticklabelmode\n            Determines where tick labels are drawn with respect to\n            their corresponding ticks and grid lines. Only has an\n            effect for axes of `type` \"date\" When set to \"period\",\n            tick labels are drawn in the middle of the period\n            between ticks.\n        ticklabeloverflow\n            Determines how we handle tick labels that would\n            overflow either the graph div or the domain of the\n            axis. The default value for inside tick labels is *hide\n            past domain*. Otherwise on \"category\" and\n            \"multicategory\" axes the default is \"allow\". In other\n            cases the default is *hide past div*.\n        ticklabelposition\n            Determines where tick labels are drawn with respect to\n            the axis Please note that top or bottom has no effect\n            on x axes or when `ticklabelmode` is set to \"period\".\n            Similarly left or right has no effect on y axes or when\n            `ticklabelmode` is set to \"period\". Has no effect on\n            \"multicategory\" axes or when `tickson` is set to\n            \"boundaries\". When used on axes linked by `matches` or\n            `scaleanchor`, no extra padding for inside labels would\n            be added by autorange, so that the scales could match.\n        ticklabelshift\n            Shifts the tick labels by the specified number of\n            pixels in parallel to the axis. Positive values move\n            the labels in the positive direction of the axis.\n        ticklabelstandoff\n            Sets the standoff distance (in px) between the axis\n            tick labels and their default position. A positive\n            `ticklabelstandoff` moves the labels farther away from\n            the plot area if `ticklabelposition` is \"outside\", and\n            deeper into the plot area if `ticklabelposition` is\n            \"inside\". A negative `ticklabelstandoff` works in the\n            opposite direction, moving outside ticks towards the\n            plot area and inside ticks towards the outside. If the\n            negative value is large enough, inside ticks can even\n            end up outside and vice versa.\n        ticklabelstep\n            Sets the spacing between tick labels as compared to the\n            spacing between ticks. A value of 1 (default) means\n            each tick gets a label. A value of 2 means shows every\n            2nd label. A larger value n means only every nth tick\n            is labeled. `tick0` determines which labels are shown.\n            Not implemented for axes with `type` \"log\" or\n            \"multicategory\", or when `tickmode` is \"array\".\n        ticklen\n            Sets the tick length (in px).\n        tickmode\n            Sets the tick mode for this axis. If \"auto\", the number\n            of ticks is set via `nticks`. If \"linear\", the\n            placement of the ticks is determined by a starting\n            position `tick0` and a tick step `dtick` (\"linear\" is\n            the default value if `tick0` and `dtick` are provided).\n            If \"array\", the placement of the ticks is set via\n            `tickvals` and the tick text is `ticktext`. (\"array\" is\n            the default value if `tickvals` is provided). If\n            \"sync\", the number of ticks will sync with the\n            overlayed axis set by `overlaying` property.\n        tickprefix\n            Sets a tick label prefix.\n        ticks\n            Determines whether ticks are drawn or not. If \"\", this\n            axis' ticks are not drawn. If \"outside\" (\"inside\"),\n            this axis' are drawn outside (inside) the axis lines.\n        tickson\n            Determines where ticks and grid lines are drawn with\n            respect to their corresponding tick labels. Only has an\n            effect for axes of `type` \"category\" or\n            \"multicategory\". When set to \"boundaries\", ticks and\n            grid lines are drawn half a category to the left/bottom\n            of labels.\n        ticksuffix\n            Sets a tick label suffix.\n        ticktext\n            Sets the text displayed at the ticks position via\n            `tickvals`. Only has an effect if `tickmode` is set to\n            \"array\". Used with `tickvals`.\n        ticktextsrc\n            Sets the source reference on Chart Studio Cloud for\n            `ticktext`.\n        tickvals\n            Sets the values at which ticks on this axis appear.\n            Only has an effect if `tickmode` is set to \"array\".\n            Used with `ticktext`.\n        tickvalssrc\n            Sets the source reference on Chart Studio Cloud for\n            `tickvals`.\n        tickwidth\n            Sets the tick width (in px).\n        title\n            :class:`plotly.graph_objects.layout.xaxis.Title`\n            instance or dict with compatible properties\n        type\n            Sets the axis type. By default, plotly attempts to\n            determined the axis type by looking into the data of\n            the traces that referenced the axis in question.\n        uirevision\n            Controls persistence of user-driven changes in axis\n            `range`, `autorange`, and `title` if in `editable:\n            true` configuration. Defaults to `layout.uirevision`.\n        visible\n            A single toggle to hide the axis while preserving\n            interaction like dragging. Default is true when a\n            cheater plot is present on the axis, otherwise false\n        zeroline\n            Determines whether or not a line is drawn at along the\n            0 value of this axis. If True, the zero line is drawn\n            on top of the grid lines.\n        zerolinecolor\n            Sets the line color of the zero line.\n        zerolinewidth\n            Sets the width (in px) of the zero line.\n        \nDid you mean \"tickfont\"?\n\nBad property path:\ntitlefont_size\n^^^^^^^^^",
          "output_type": "error",
          "traceback": [
            "\u001b[1;31m---------------------------------------------------------------------------\u001b[0m",
            "\u001b[1;31mValueError\u001b[0m                                Traceback (most recent call last)",
            "Cell \u001b[1;32mIn[14], line 11\u001b[0m\n\u001b[0;32m      9\u001b[0m energies \u001b[38;5;241m=\u001b[39m vibronic\u001b[38;5;241m.\u001b[39menergies(vibronic_samples, w, wp)\n\u001b[0;32m     10\u001b[0m \u001b[38;5;66;03m# MAS: plotly version matters:  pip install plotly==4.14.3\u001b[39;00m\n\u001b[1;32m---> 11\u001b[0m \u001b[43mplot\u001b[49m\u001b[38;5;241;43m.\u001b[39;49m\u001b[43mspectrum\u001b[49m\u001b[43m(\u001b[49m\u001b[43menergies\u001b[49m\u001b[43m,\u001b[49m\u001b[43m \u001b[49m\u001b[43mxmin\u001b[49m\u001b[38;5;241;43m=\u001b[39;49m\u001b[38;5;241;43m-\u001b[39;49m\u001b[38;5;241;43m6000\u001b[39;49m\u001b[43m,\u001b[49m\u001b[43m \u001b[49m\u001b[43mxmax\u001b[49m\u001b[38;5;241;43m=\u001b[39;49m\u001b[38;5;241;43m6000\u001b[39;49m\u001b[43m)\u001b[49m          \n",
            "File \u001b[1;32mc:\\Users\\mhakimi\\Documents\\strawberryfields9\\StrawberryFieldsVenv\\lib\\site-packages\\strawberryfields\\apps\\plot.py:409\u001b[0m, in \u001b[0;36mspectrum\u001b[1;34m(energies, gamma, xmin, xmax)\u001b[0m\n\u001b[0;32m    398\u001b[0m text_font \u001b[38;5;241m=\u001b[39m \u001b[38;5;28mdict\u001b[39m(color\u001b[38;5;241m=\u001b[39m\u001b[38;5;124m\"\u001b[39m\u001b[38;5;124mblack\u001b[39m\u001b[38;5;124m\"\u001b[39m, family\u001b[38;5;241m=\u001b[39m\u001b[38;5;124m\"\u001b[39m\u001b[38;5;124mComputer Modern\u001b[39m\u001b[38;5;124m\"\u001b[39m)\n\u001b[0;32m    400\u001b[0m axis_style \u001b[38;5;241m=\u001b[39m \u001b[38;5;28mdict\u001b[39m(\n\u001b[0;32m    401\u001b[0m     titlefont_size\u001b[38;5;241m=\u001b[39m\u001b[38;5;241m30\u001b[39m,\n\u001b[0;32m    402\u001b[0m     tickfont\u001b[38;5;241m=\u001b[39mtext_font,\n\u001b[1;32m   (...)\u001b[0m\n\u001b[0;32m    406\u001b[0m     mirror\u001b[38;5;241m=\u001b[39m\u001b[38;5;28;01mTrue\u001b[39;00m,\n\u001b[0;32m    407\u001b[0m )\n\u001b[1;32m--> 409\u001b[0m layout \u001b[38;5;241m=\u001b[39m \u001b[43mgo\u001b[49m\u001b[38;5;241;43m.\u001b[39;49m\u001b[43mLayout\u001b[49m\u001b[43m(\u001b[49m\n\u001b[0;32m    410\u001b[0m \u001b[43m    \u001b[49m\u001b[43myaxis\u001b[49m\u001b[38;5;241;43m=\u001b[39;49m\u001b[38;5;28;43mdict\u001b[39;49m\u001b[43m(\u001b[49m\u001b[43mtitle\u001b[49m\u001b[38;5;241;43m=\u001b[39;49m\u001b[43m{\u001b[49m\u001b[38;5;124;43m\"\u001b[39;49m\u001b[38;5;124;43mtext\u001b[39;49m\u001b[38;5;124;43m\"\u001b[39;49m\u001b[43m:\u001b[49m\u001b[43m \u001b[49m\u001b[38;5;124;43m\"\u001b[39;49m\u001b[38;5;124;43mCounts\u001b[39;49m\u001b[38;5;124;43m\"\u001b[39;49m\u001b[43m,\u001b[49m\u001b[43m \u001b[49m\u001b[38;5;124;43m\"\u001b[39;49m\u001b[38;5;124;43mfont\u001b[39;49m\u001b[38;5;124;43m\"\u001b[39;49m\u001b[43m:\u001b[49m\u001b[43m \u001b[49m\u001b[43mtext_font\u001b[49m\u001b[43m}\u001b[49m\u001b[43m,\u001b[49m\u001b[43m \u001b[49m\u001b[38;5;241;43m*\u001b[39;49m\u001b[38;5;241;43m*\u001b[39;49m\u001b[43maxis_style\u001b[49m\u001b[43m,\u001b[49m\u001b[43m \u001b[49m\u001b[43mrangemode\u001b[49m\u001b[38;5;241;43m=\u001b[39;49m\u001b[38;5;124;43m\"\u001b[39;49m\u001b[38;5;124;43mtozero\u001b[39;49m\u001b[38;5;124;43m\"\u001b[39;49m\u001b[43m)\u001b[49m\u001b[43m,\u001b[49m\n\u001b[0;32m    411\u001b[0m \u001b[43m    \u001b[49m\u001b[43mxaxis\u001b[49m\u001b[38;5;241;43m=\u001b[39;49m\u001b[38;5;28;43mdict\u001b[39;49m\u001b[43m(\u001b[49m\n\u001b[0;32m    412\u001b[0m \u001b[43m        \u001b[49m\u001b[43mtitle\u001b[49m\u001b[38;5;241;43m=\u001b[39;49m\u001b[43m{\u001b[49m\u001b[38;5;124;43m\"\u001b[39;49m\u001b[38;5;124;43mtext\u001b[39;49m\u001b[38;5;124;43m\"\u001b[39;49m\u001b[43m:\u001b[49m\u001b[43m \u001b[49m\u001b[38;5;124;43m\"\u001b[39;49m\u001b[38;5;124;43mEnergy (cm<sup>-1</sup>)\u001b[39;49m\u001b[38;5;124;43m\"\u001b[39;49m\u001b[43m,\u001b[49m\u001b[43m \u001b[49m\u001b[38;5;124;43m\"\u001b[39;49m\u001b[38;5;124;43mfont\u001b[39;49m\u001b[38;5;124;43m\"\u001b[39;49m\u001b[43m:\u001b[49m\u001b[43m \u001b[49m\u001b[43mtext_font\u001b[49m\u001b[43m}\u001b[49m\u001b[43m,\u001b[49m\n\u001b[0;32m    413\u001b[0m \u001b[43m        \u001b[49m\u001b[38;5;241;43m*\u001b[39;49m\u001b[38;5;241;43m*\u001b[39;49m\u001b[43maxis_style\u001b[49m\u001b[43m,\u001b[49m\n\u001b[0;32m    414\u001b[0m \u001b[43m        \u001b[49m\u001b[38;5;28;43mrange\u001b[39;49m\u001b[38;5;241;43m=\u001b[39;49m\u001b[43m[\u001b[49m\u001b[43mxmin\u001b[49m\u001b[43m,\u001b[49m\u001b[43m \u001b[49m\u001b[43mxmax\u001b[49m\u001b[43m]\u001b[49m\u001b[43m,\u001b[49m\n\u001b[0;32m    415\u001b[0m \u001b[43m    \u001b[49m\u001b[43m)\u001b[49m\u001b[43m,\u001b[49m\n\u001b[0;32m    416\u001b[0m \u001b[43m    \u001b[49m\u001b[43mplot_bgcolor\u001b[49m\u001b[38;5;241;43m=\u001b[39;49m\u001b[38;5;124;43m\"\u001b[39;49m\u001b[38;5;124;43mwhite\u001b[39;49m\u001b[38;5;124;43m\"\u001b[39;49m\u001b[43m,\u001b[49m\n\u001b[0;32m    417\u001b[0m \u001b[43m    \u001b[49m\u001b[43mmargin\u001b[49m\u001b[38;5;241;43m=\u001b[39;49m\u001b[38;5;28;43mdict\u001b[39;49m\u001b[43m(\u001b[49m\u001b[43mt\u001b[49m\u001b[38;5;241;43m=\u001b[39;49m\u001b[38;5;241;43m25\u001b[39;49m\u001b[43m)\u001b[49m\u001b[43m,\u001b[49m\n\u001b[0;32m    418\u001b[0m \u001b[43m    \u001b[49m\u001b[43mbargap\u001b[49m\u001b[38;5;241;43m=\u001b[39;49m\u001b[38;5;241;43m0.04\u001b[39;49m\u001b[43m,\u001b[49m\n\u001b[0;32m    419\u001b[0m \u001b[43m    \u001b[49m\u001b[43mshowlegend\u001b[49m\u001b[38;5;241;43m=\u001b[39;49m\u001b[38;5;28;43;01mFalse\u001b[39;49;00m\u001b[43m,\u001b[49m\n\u001b[0;32m    420\u001b[0m \u001b[43m\u001b[49m\u001b[43m)\u001b[49m\n\u001b[0;32m    422\u001b[0m bars \u001b[38;5;241m=\u001b[39m go\u001b[38;5;241m.\u001b[39mBar(x\u001b[38;5;241m=\u001b[39mh[\u001b[38;5;241m1\u001b[39m]\u001b[38;5;241m.\u001b[39mtolist(), y\u001b[38;5;241m=\u001b[39mh[\u001b[38;5;241m0\u001b[39m]\u001b[38;5;241m.\u001b[39mtolist(), width\u001b[38;5;241m=\u001b[39mbar_width, marker\u001b[38;5;241m=\u001b[39m\u001b[38;5;28mdict\u001b[39m(color\u001b[38;5;241m=\u001b[39mGREY))\n\u001b[0;32m    424\u001b[0m line \u001b[38;5;241m=\u001b[39m go\u001b[38;5;241m.\u001b[39mScatter(x\u001b[38;5;241m=\u001b[39mX, y\u001b[38;5;241m=\u001b[39mL, mode\u001b[38;5;241m=\u001b[39m\u001b[38;5;124m\"\u001b[39m\u001b[38;5;124mlines\u001b[39m\u001b[38;5;124m\"\u001b[39m, line\u001b[38;5;241m=\u001b[39m\u001b[38;5;28mdict\u001b[39m(color\u001b[38;5;241m=\u001b[39mGREEN, width\u001b[38;5;241m=\u001b[39mline_width))\n",
            "File \u001b[1;32mc:\\Users\\mhakimi\\Documents\\strawberryfields9\\StrawberryFieldsVenv\\lib\\site-packages\\plotly\\graph_objs\\_layout.py:3519\u001b[0m, in \u001b[0;36mLayout.__init__\u001b[1;34m(self, arg, activeselection, activeshape, annotations, annotationdefaults, autosize, autotypenumbers, barcornerradius, bargap, bargroupgap, barmode, barnorm, boxgap, boxgroupgap, boxmode, calendar, clickmode, coloraxis, colorscale, colorway, computed, datarevision, dragmode, editrevision, extendfunnelareacolors, extendiciclecolors, extendpiecolors, extendsunburstcolors, extendtreemapcolors, font, funnelareacolorway, funnelgap, funnelgroupgap, funnelmode, geo, grid, height, hiddenlabels, hiddenlabelssrc, hidesources, hoverdistance, hoverlabel, hovermode, hoversubplots, iciclecolorway, images, imagedefaults, legend, map, mapbox, margin, meta, metasrc, minreducedheight, minreducedwidth, modebar, newselection, newshape, paper_bgcolor, piecolorway, plot_bgcolor, polar, scattergap, scattermode, scene, selectdirection, selectionrevision, selections, selectiondefaults, separators, shapes, shapedefaults, showlegend, sliders, sliderdefaults, smith, spikedistance, sunburstcolorway, template, ternary, title, transition, treemapcolorway, uirevision, uniformtext, updatemenus, updatemenudefaults, violingap, violingroupgap, violinmode, waterfallgap, waterfallgroupgap, waterfallmode, width, xaxis, yaxis, **kwargs)\u001b[0m\n\u001b[0;32m   3517\u001b[0m \u001b[38;5;28mself\u001b[39m\u001b[38;5;241m.\u001b[39m_set_property(\u001b[38;5;124m\"\u001b[39m\u001b[38;5;124mwaterfallmode\u001b[39m\u001b[38;5;124m\"\u001b[39m, arg, waterfallmode)\n\u001b[0;32m   3518\u001b[0m \u001b[38;5;28mself\u001b[39m\u001b[38;5;241m.\u001b[39m_set_property(\u001b[38;5;124m\"\u001b[39m\u001b[38;5;124mwidth\u001b[39m\u001b[38;5;124m\"\u001b[39m, arg, width)\n\u001b[1;32m-> 3519\u001b[0m \u001b[38;5;28;43mself\u001b[39;49m\u001b[38;5;241;43m.\u001b[39;49m\u001b[43m_set_property\u001b[49m\u001b[43m(\u001b[49m\u001b[38;5;124;43m\"\u001b[39;49m\u001b[38;5;124;43mxaxis\u001b[39;49m\u001b[38;5;124;43m\"\u001b[39;49m\u001b[43m,\u001b[49m\u001b[43m \u001b[49m\u001b[43marg\u001b[49m\u001b[43m,\u001b[49m\u001b[43m \u001b[49m\u001b[43mxaxis\u001b[49m\u001b[43m)\u001b[49m\n\u001b[0;32m   3520\u001b[0m \u001b[38;5;28mself\u001b[39m\u001b[38;5;241m.\u001b[39m_set_property(\u001b[38;5;124m\"\u001b[39m\u001b[38;5;124myaxis\u001b[39m\u001b[38;5;124m\"\u001b[39m, arg, yaxis)\n\u001b[0;32m   3521\u001b[0m \u001b[38;5;28mself\u001b[39m\u001b[38;5;241m.\u001b[39m_process_kwargs(\u001b[38;5;241m*\u001b[39m\u001b[38;5;241m*\u001b[39m\u001b[38;5;28mdict\u001b[39m(arg, \u001b[38;5;241m*\u001b[39m\u001b[38;5;241m*\u001b[39mkwargs))\n",
            "File \u001b[1;32mc:\\Users\\mhakimi\\Documents\\strawberryfields9\\StrawberryFieldsVenv\\lib\\site-packages\\plotly\\basedatatypes.py:4422\u001b[0m, in \u001b[0;36mBasePlotlyType._set_property\u001b[1;34m(self, name, arg, provided)\u001b[0m\n\u001b[0;32m   4416\u001b[0m \u001b[38;5;28;01mdef\u001b[39;00m\u001b[38;5;250m \u001b[39m\u001b[38;5;21m_set_property\u001b[39m(\u001b[38;5;28mself\u001b[39m, name, arg, provided):\n\u001b[0;32m   4417\u001b[0m \u001b[38;5;250m    \u001b[39m\u001b[38;5;124;03m\"\"\"\u001b[39;00m\n\u001b[0;32m   4418\u001b[0m \u001b[38;5;124;03m    Initialize a property of this object using the provided value\u001b[39;00m\n\u001b[0;32m   4419\u001b[0m \u001b[38;5;124;03m    or a value popped from the arguments dictionary. If neither\u001b[39;00m\n\u001b[0;32m   4420\u001b[0m \u001b[38;5;124;03m    is available, do not set the property.\u001b[39;00m\n\u001b[0;32m   4421\u001b[0m \u001b[38;5;124;03m    \"\"\"\u001b[39;00m\n\u001b[1;32m-> 4422\u001b[0m     \u001b[43m_set_property_provided_value\u001b[49m\u001b[43m(\u001b[49m\u001b[38;5;28;43mself\u001b[39;49m\u001b[43m,\u001b[49m\u001b[43m \u001b[49m\u001b[43mname\u001b[49m\u001b[43m,\u001b[49m\u001b[43m \u001b[49m\u001b[43marg\u001b[49m\u001b[43m,\u001b[49m\u001b[43m \u001b[49m\u001b[43mprovided\u001b[49m\u001b[43m)\u001b[49m\n",
            "File \u001b[1;32mc:\\Users\\mhakimi\\Documents\\strawberryfields9\\StrawberryFieldsVenv\\lib\\site-packages\\plotly\\basedatatypes.py:398\u001b[0m, in \u001b[0;36m_set_property_provided_value\u001b[1;34m(obj, name, arg, provided)\u001b[0m\n\u001b[0;32m    396\u001b[0m val \u001b[38;5;241m=\u001b[39m provided \u001b[38;5;28;01mif\u001b[39;00m provided \u001b[38;5;129;01mis\u001b[39;00m \u001b[38;5;129;01mnot\u001b[39;00m \u001b[38;5;28;01mNone\u001b[39;00m \u001b[38;5;28;01melse\u001b[39;00m val\n\u001b[0;32m    397\u001b[0m \u001b[38;5;28;01mif\u001b[39;00m val \u001b[38;5;129;01mis\u001b[39;00m \u001b[38;5;129;01mnot\u001b[39;00m \u001b[38;5;28;01mNone\u001b[39;00m:\n\u001b[1;32m--> 398\u001b[0m     \u001b[43mobj\u001b[49m\u001b[43m[\u001b[49m\u001b[43mname\u001b[49m\u001b[43m]\u001b[49m \u001b[38;5;241m=\u001b[39m val\n",
            "File \u001b[1;32mc:\\Users\\mhakimi\\Documents\\strawberryfields9\\StrawberryFieldsVenv\\lib\\site-packages\\plotly\\basedatatypes.py:5990\u001b[0m, in \u001b[0;36mBaseLayoutType.__setitem__\u001b[1;34m(self, prop, value)\u001b[0m\n\u001b[0;32m   5987\u001b[0m match \u001b[38;5;241m=\u001b[39m \u001b[38;5;28mself\u001b[39m\u001b[38;5;241m.\u001b[39m_subplot_re_match(prop)\n\u001b[0;32m   5988\u001b[0m \u001b[38;5;28;01mif\u001b[39;00m match \u001b[38;5;129;01mis\u001b[39;00m \u001b[38;5;28;01mNone\u001b[39;00m:\n\u001b[0;32m   5989\u001b[0m     \u001b[38;5;66;03m# Set as ordinary property\u001b[39;00m\n\u001b[1;32m-> 5990\u001b[0m     \u001b[38;5;28;43msuper\u001b[39;49m\u001b[43m(\u001b[49m\u001b[43mBaseLayoutHierarchyType\u001b[49m\u001b[43m,\u001b[49m\u001b[43m \u001b[49m\u001b[38;5;28;43mself\u001b[39;49m\u001b[43m)\u001b[49m\u001b[38;5;241;43m.\u001b[39;49m\u001b[38;5;21;43m__setitem__\u001b[39;49m\u001b[43m(\u001b[49m\u001b[43mprop\u001b[49m\u001b[43m,\u001b[49m\u001b[43m \u001b[49m\u001b[43mvalue\u001b[49m\u001b[43m)\u001b[49m\n\u001b[0;32m   5991\u001b[0m \u001b[38;5;28;01melse\u001b[39;00m:\n\u001b[0;32m   5992\u001b[0m     \u001b[38;5;66;03m# Set as subplotid property\u001b[39;00m\n\u001b[0;32m   5993\u001b[0m     \u001b[38;5;28mself\u001b[39m\u001b[38;5;241m.\u001b[39m_set_subplotid_prop(prop, value)\n",
            "File \u001b[1;32mc:\\Users\\mhakimi\\Documents\\strawberryfields9\\StrawberryFieldsVenv\\lib\\site-packages\\plotly\\basedatatypes.py:4944\u001b[0m, in \u001b[0;36mBasePlotlyType.__setitem__\u001b[1;34m(self, prop, value)\u001b[0m\n\u001b[0;32m   4942\u001b[0m \u001b[38;5;66;03m# ### Handle compound property ###\u001b[39;00m\n\u001b[0;32m   4943\u001b[0m \u001b[38;5;28;01mif\u001b[39;00m \u001b[38;5;28misinstance\u001b[39m(validator, CompoundValidator):\n\u001b[1;32m-> 4944\u001b[0m     \u001b[38;5;28;43mself\u001b[39;49m\u001b[38;5;241;43m.\u001b[39;49m\u001b[43m_set_compound_prop\u001b[49m\u001b[43m(\u001b[49m\u001b[43mprop\u001b[49m\u001b[43m,\u001b[49m\u001b[43m \u001b[49m\u001b[43mvalue\u001b[49m\u001b[43m)\u001b[49m\n\u001b[0;32m   4946\u001b[0m \u001b[38;5;66;03m# ### Handle compound array property ###\u001b[39;00m\n\u001b[0;32m   4947\u001b[0m \u001b[38;5;28;01melif\u001b[39;00m \u001b[38;5;28misinstance\u001b[39m(validator, (CompoundArrayValidator, BaseDataValidator)):\n",
            "File \u001b[1;32mc:\\Users\\mhakimi\\Documents\\strawberryfields9\\StrawberryFieldsVenv\\lib\\site-packages\\plotly\\basedatatypes.py:5355\u001b[0m, in \u001b[0;36mBasePlotlyType._set_compound_prop\u001b[1;34m(self, prop, val)\u001b[0m\n\u001b[0;32m   5352\u001b[0m \u001b[38;5;66;03m# Import value\u001b[39;00m\n\u001b[0;32m   5353\u001b[0m \u001b[38;5;66;03m# ------------\u001b[39;00m\n\u001b[0;32m   5354\u001b[0m validator \u001b[38;5;241m=\u001b[39m \u001b[38;5;28mself\u001b[39m\u001b[38;5;241m.\u001b[39m_get_validator(prop)\n\u001b[1;32m-> 5355\u001b[0m val \u001b[38;5;241m=\u001b[39m \u001b[43mvalidator\u001b[49m\u001b[38;5;241;43m.\u001b[39;49m\u001b[43mvalidate_coerce\u001b[49m\u001b[43m(\u001b[49m\u001b[43mval\u001b[49m\u001b[43m,\u001b[49m\u001b[43m \u001b[49m\u001b[43mskip_invalid\u001b[49m\u001b[38;5;241;43m=\u001b[39;49m\u001b[38;5;28;43mself\u001b[39;49m\u001b[38;5;241;43m.\u001b[39;49m\u001b[43m_skip_invalid\u001b[49m\u001b[43m)\u001b[49m\n\u001b[0;32m   5357\u001b[0m \u001b[38;5;66;03m# Save deep copies of current and new states\u001b[39;00m\n\u001b[0;32m   5358\u001b[0m \u001b[38;5;66;03m# ------------------------------------------\u001b[39;00m\n\u001b[0;32m   5359\u001b[0m curr_val \u001b[38;5;241m=\u001b[39m \u001b[38;5;28mself\u001b[39m\u001b[38;5;241m.\u001b[39m_compound_props\u001b[38;5;241m.\u001b[39mget(prop, \u001b[38;5;28;01mNone\u001b[39;00m)\n",
            "File \u001b[1;32mc:\\Users\\mhakimi\\Documents\\strawberryfields9\\StrawberryFieldsVenv\\lib\\site-packages\\_plotly_utils\\basevalidators.py:2489\u001b[0m, in \u001b[0;36mCompoundValidator.validate_coerce\u001b[1;34m(self, v, skip_invalid, _validate)\u001b[0m\n\u001b[0;32m   2486\u001b[0m     v \u001b[38;5;241m=\u001b[39m \u001b[38;5;28mself\u001b[39m\u001b[38;5;241m.\u001b[39mdata_class()\n\u001b[0;32m   2488\u001b[0m \u001b[38;5;28;01melif\u001b[39;00m \u001b[38;5;28misinstance\u001b[39m(v, \u001b[38;5;28mdict\u001b[39m):\n\u001b[1;32m-> 2489\u001b[0m     v \u001b[38;5;241m=\u001b[39m \u001b[38;5;28;43mself\u001b[39;49m\u001b[38;5;241;43m.\u001b[39;49m\u001b[43mdata_class\u001b[49m\u001b[43m(\u001b[49m\u001b[43mv\u001b[49m\u001b[43m,\u001b[49m\u001b[43m \u001b[49m\u001b[43mskip_invalid\u001b[49m\u001b[38;5;241;43m=\u001b[39;49m\u001b[43mskip_invalid\u001b[49m\u001b[43m,\u001b[49m\u001b[43m \u001b[49m\u001b[43m_validate\u001b[49m\u001b[38;5;241;43m=\u001b[39;49m\u001b[43m_validate\u001b[49m\u001b[43m)\u001b[49m\n\u001b[0;32m   2491\u001b[0m \u001b[38;5;28;01melif\u001b[39;00m \u001b[38;5;28misinstance\u001b[39m(v, \u001b[38;5;28mself\u001b[39m\u001b[38;5;241m.\u001b[39mdata_class):\n\u001b[0;32m   2492\u001b[0m     \u001b[38;5;66;03m# Copy object\u001b[39;00m\n\u001b[0;32m   2493\u001b[0m     v \u001b[38;5;241m=\u001b[39m \u001b[38;5;28mself\u001b[39m\u001b[38;5;241m.\u001b[39mdata_class(v)\n",
            "File \u001b[1;32mc:\\Users\\mhakimi\\Documents\\strawberryfields9\\StrawberryFieldsVenv\\lib\\site-packages\\plotly\\graph_objs\\layout\\_xaxis.py:3417\u001b[0m, in \u001b[0;36mXAxis.__init__\u001b[1;34m(self, arg, anchor, automargin, autorange, autorangeoptions, autotickangles, autotypenumbers, calendar, categoryarray, categoryarraysrc, categoryorder, color, constrain, constraintoward, dividercolor, dividerwidth, domain, dtick, exponentformat, fixedrange, gridcolor, griddash, gridwidth, hoverformat, insiderange, labelalias, layer, linecolor, linewidth, matches, maxallowed, minallowed, minexponent, minor, mirror, nticks, overlaying, position, range, rangebreaks, rangebreakdefaults, rangemode, rangeselector, rangeslider, scaleanchor, scaleratio, separatethousands, showdividers, showexponent, showgrid, showline, showspikes, showticklabels, showtickprefix, showticksuffix, side, spikecolor, spikedash, spikemode, spikesnap, spikethickness, tick0, tickangle, tickcolor, tickfont, tickformat, tickformatstops, tickformatstopdefaults, ticklabelindex, ticklabelindexsrc, ticklabelmode, ticklabeloverflow, ticklabelposition, ticklabelshift, ticklabelstandoff, ticklabelstep, ticklen, tickmode, tickprefix, ticks, tickson, ticksuffix, ticktext, ticktextsrc, tickvals, tickvalssrc, tickwidth, title, type, uirevision, visible, zeroline, zerolinecolor, zerolinewidth, **kwargs)\u001b[0m\n\u001b[0;32m   3415\u001b[0m \u001b[38;5;28mself\u001b[39m\u001b[38;5;241m.\u001b[39m_set_property(\u001b[38;5;124m\"\u001b[39m\u001b[38;5;124mzerolinecolor\u001b[39m\u001b[38;5;124m\"\u001b[39m, arg, zerolinecolor)\n\u001b[0;32m   3416\u001b[0m \u001b[38;5;28mself\u001b[39m\u001b[38;5;241m.\u001b[39m_set_property(\u001b[38;5;124m\"\u001b[39m\u001b[38;5;124mzerolinewidth\u001b[39m\u001b[38;5;124m\"\u001b[39m, arg, zerolinewidth)\n\u001b[1;32m-> 3417\u001b[0m \u001b[38;5;28mself\u001b[39m\u001b[38;5;241m.\u001b[39m_process_kwargs(\u001b[38;5;241m*\u001b[39m\u001b[38;5;241m*\u001b[39m\u001b[38;5;28mdict\u001b[39m(arg, \u001b[38;5;241m*\u001b[39m\u001b[38;5;241m*\u001b[39mkwargs))\n\u001b[0;32m   3418\u001b[0m \u001b[38;5;28mself\u001b[39m\u001b[38;5;241m.\u001b[39m_skip_invalid \u001b[38;5;241m=\u001b[39m \u001b[38;5;28;01mFalse\u001b[39;00m\n",
            "File \u001b[1;32mc:\\Users\\mhakimi\\Documents\\strawberryfields9\\StrawberryFieldsVenv\\lib\\site-packages\\plotly\\basedatatypes.py:4470\u001b[0m, in \u001b[0;36mBasePlotlyType._process_kwargs\u001b[1;34m(self, **kwargs)\u001b[0m\n\u001b[0;32m   4468\u001b[0m     \u001b[38;5;28mself\u001b[39m[k] \u001b[38;5;241m=\u001b[39m v\n\u001b[0;32m   4469\u001b[0m \u001b[38;5;28;01melif\u001b[39;00m \u001b[38;5;129;01mnot\u001b[39;00m \u001b[38;5;28mself\u001b[39m\u001b[38;5;241m.\u001b[39m_skip_invalid:\n\u001b[1;32m-> 4470\u001b[0m     \u001b[38;5;28;01mraise\u001b[39;00m err\n",
            "\u001b[1;31mValueError\u001b[0m: Invalid property specified for object of type plotly.graph_objs.layout.XAxis: 'titlefont'\n\nDid you mean \"tickfont\"?\n\n    Valid properties:\n        anchor\n            If set to an opposite-letter axis id (e.g. `x2`, `y`),\n            this axis is bound to the corresponding opposite-letter\n            axis. If set to \"free\", this axis' position is\n            determined by `position`.\n        automargin\n            Determines whether long tick labels automatically grow\n            the figure margins.\n        autorange\n            Determines whether or not the range of this axis is\n            computed in relation to the input data. See `rangemode`\n            for more info. If `range` is provided and it has a\n            value for both the lower and upper bound, `autorange`\n            is set to False. Using \"min\" applies autorange only to\n            set the minimum. Using \"max\" applies autorange only to\n            set the maximum. Using *min reversed* applies autorange\n            only to set the minimum on a reversed axis. Using *max\n            reversed* applies autorange only to set the maximum on\n            a reversed axis. Using \"reversed\" applies autorange on\n            both ends and reverses the axis direction.\n        autorangeoptions\n            :class:`plotly.graph_objects.layout.xaxis.Autorangeopti\n            ons` instance or dict with compatible properties\n        autotickangles\n            When `tickangle` is set to \"auto\", it will be set to\n            the first angle in this array that is large enough to\n            prevent label overlap.\n        autotypenumbers\n            Using \"strict\" a numeric string in trace data is not\n            converted to a number. Using *convert types* a numeric\n            string in trace data may be treated as a number during\n            automatic axis `type` detection. Defaults to\n            layout.autotypenumbers.\n        calendar\n            Sets the calendar system to use for `range` and `tick0`\n            if this is a date axis. This does not set the calendar\n            for interpreting data on this axis, that's specified in\n            the trace or via the global `layout.calendar`\n        categoryarray\n            Sets the order in which categories on this axis appear.\n            Only has an effect if `categoryorder` is set to\n            \"array\". Used with `categoryorder`.\n        categoryarraysrc\n            Sets the source reference on Chart Studio Cloud for\n            `categoryarray`.\n        categoryorder\n            Specifies the ordering logic for the case of\n            categorical variables. By default, plotly uses \"trace\",\n            which specifies the order that is present in the data\n            supplied. Set `categoryorder` to *category ascending*\n            or *category descending* if order should be determined\n            by the alphanumerical order of the category names. Set\n            `categoryorder` to \"array\" to derive the ordering from\n            the attribute `categoryarray`. If a category is not\n            found in the `categoryarray` array, the sorting\n            behavior for that attribute will be identical to the\n            \"trace\" mode. The unspecified categories will follow\n            the categories in `categoryarray`. Set `categoryorder`\n            to *total ascending* or *total descending* if order\n            should be determined by the numerical order of the\n            values. Similarly, the order can be determined by the\n            min, max, sum, mean, geometric mean or median of all\n            the values.\n        color\n            Sets default for all colors associated with this axis\n            all at once: line, font, tick, and grid colors. Grid\n            color is lightened by blending this with the plot\n            background Individual pieces can override this.\n        constrain\n            If this axis needs to be compressed (either due to its\n            own `scaleanchor` and `scaleratio` or those of the\n            other axis), determines how that happens: by increasing\n            the \"range\", or by decreasing the \"domain\". Default is\n            \"domain\" for axes containing image traces, \"range\"\n            otherwise.\n        constraintoward\n            If this axis needs to be compressed (either due to its\n            own `scaleanchor` and `scaleratio` or those of the\n            other axis), determines which direction we push the\n            originally specified plot area. Options are \"left\",\n            \"center\" (default), and \"right\" for x axes, and \"top\",\n            \"middle\" (default), and \"bottom\" for y axes.\n        dividercolor\n            Sets the color of the dividers Only has an effect on\n            \"multicategory\" axes.\n        dividerwidth\n            Sets the width (in px) of the dividers Only has an\n            effect on \"multicategory\" axes.\n        domain\n            Sets the domain of this axis (in plot fraction).\n        dtick\n            Sets the step in-between ticks on this axis. Use with\n            `tick0`. Must be a positive number, or special strings\n            available to \"log\" and \"date\" axes. If the axis `type`\n            is \"log\", then ticks are set every 10^(n*dtick) where n\n            is the tick number. For example, to set a tick mark at\n            1, 10, 100, 1000, ... set dtick to 1. To set tick marks\n            at 1, 100, 10000, ... set dtick to 2. To set tick marks\n            at 1, 5, 25, 125, 625, 3125, ... set dtick to\n            log_10(5), or 0.69897000433. \"log\" has several special\n            values; \"L<f>\", where `f` is a positive number, gives\n            ticks linearly spaced in value (but not position). For\n            example `tick0` = 0.1, `dtick` = \"L0.5\" will put ticks\n            at 0.1, 0.6, 1.1, 1.6 etc. To show powers of 10 plus\n            small digits between, use \"D1\" (all digits) or \"D2\"\n            (only 2 and 5). `tick0` is ignored for \"D1\" and \"D2\".\n            If the axis `type` is \"date\", then you must convert the\n            time to milliseconds. For example, to set the interval\n            between ticks to one day, set `dtick` to 86400000.0.\n            \"date\" also has special values \"M<n>\" gives ticks\n            spaced by a number of months. `n` must be a positive\n            integer. To set ticks on the 15th of every third month,\n            set `tick0` to \"2000-01-15\" and `dtick` to \"M3\". To set\n            ticks every 4 years, set `dtick` to \"M48\"\n        exponentformat\n            Determines a formatting rule for the tick exponents.\n            For example, consider the number 1,000,000,000. If\n            \"none\", it appears as 1,000,000,000. If \"e\", 1e+9. If\n            \"E\", 1E+9. If \"power\", 1x10^9 (with 9 in a super\n            script). If \"SI\", 1G. If \"B\", 1B.\n        fixedrange\n            Determines whether or not this axis is zoom-able. If\n            true, then zoom is disabled.\n        gridcolor\n            Sets the color of the grid lines.\n        griddash\n            Sets the dash style of lines. Set to a dash type string\n            (\"solid\", \"dot\", \"dash\", \"longdash\", \"dashdot\", or\n            \"longdashdot\") or a dash length list in px (eg\n            \"5px,10px,2px,2px\").\n        gridwidth\n            Sets the width (in px) of the grid lines.\n        hoverformat\n            Sets the hover text formatting rule using d3 formatting\n            mini-languages which are very similar to those in\n            Python. For numbers, see:\n            https://github.com/d3/d3-format/tree/v1.4.5#d3-format.\n            And for dates see: https://github.com/d3/d3-time-\n            format/tree/v2.2.3#locale_format. We add two items to\n            d3's date formatter: \"%h\" for half of the year as a\n            decimal number as well as \"%{n}f\" for fractional\n            seconds with n digits. For example, *2016-10-13\n            09:15:23.456* with tickformat \"%H~%M~%S.%2f\" would\n            display \"09~15~23.46\"\n        insiderange\n            Could be used to set the desired inside range of this\n            axis (excluding the labels) when `ticklabelposition` of\n            the anchored axis has \"inside\". Not implemented for\n            axes with `type` \"log\". This would be ignored when\n            `range` is provided.\n        labelalias\n            Replacement text for specific tick or hover labels. For\n            example using {US: 'USA', CA: 'Canada'} changes US to\n            USA and CA to Canada. The labels we would have shown\n            must match the keys exactly, after adding any\n            tickprefix or ticksuffix. For negative numbers the\n            minus sign symbol used (U+2212) is wider than the\n            regular ascii dash. That means you need to use −1\n            instead of -1. labelalias can be used with any axis\n            type, and both keys (if needed) and values (if desired)\n            can include html-like tags or MathJax.\n        layer\n            Sets the layer on which this axis is displayed. If\n            *above traces*, this axis is displayed above all the\n            subplot's traces If *below traces*, this axis is\n            displayed below all the subplot's traces, but above the\n            grid lines. Useful when used together with scatter-like\n            traces with `cliponaxis` set to False to show markers\n            and/or text nodes above this axis.\n        linecolor\n            Sets the axis line color.\n        linewidth\n            Sets the width (in px) of the axis line.\n        matches\n            If set to another axis id (e.g. `x2`, `y`), the range\n            of this axis will match the range of the corresponding\n            axis in data-coordinates space. Moreover, matching axes\n            share auto-range values, category lists and histogram\n            auto-bins. Note that setting axes simultaneously in\n            both a `scaleanchor` and a `matches` constraint is\n            currently forbidden. Moreover, note that matching axes\n            must have the same `type`.\n        maxallowed\n            Determines the maximum range of this axis.\n        minallowed\n            Determines the minimum range of this axis.\n        minexponent\n            Hide SI prefix for 10^n if |n| is below this number.\n            This only has an effect when `tickformat` is \"SI\" or\n            \"B\".\n        minor\n            :class:`plotly.graph_objects.layout.xaxis.Minor`\n            instance or dict with compatible properties\n        mirror\n            Determines if the axis lines or/and ticks are mirrored\n            to the opposite side of the plotting area. If True, the\n            axis lines are mirrored. If \"ticks\", the axis lines and\n            ticks are mirrored. If False, mirroring is disable. If\n            \"all\", axis lines are mirrored on all shared-axes\n            subplots. If \"allticks\", axis lines and ticks are\n            mirrored on all shared-axes subplots.\n        nticks\n            Specifies the maximum number of ticks for the\n            particular axis. The actual number of ticks will be\n            chosen automatically to be less than or equal to\n            `nticks`. Has an effect only if `tickmode` is set to\n            \"auto\".\n        overlaying\n            If set a same-letter axis id, this axis is overlaid on\n            top of the corresponding same-letter axis, with traces\n            and axes visible for both axes. If False, this axis\n            does not overlay any same-letter axes. In this case,\n            for axes with overlapping domains only the highest-\n            numbered axis will be visible.\n        position\n            Sets the position of this axis in the plotting space\n            (in normalized coordinates). Only has an effect if\n            `anchor` is set to \"free\".\n        range\n            Sets the range of this axis. If the axis `type` is\n            \"log\", then you must take the log of your desired range\n            (e.g. to set the range from 1 to 100, set the range\n            from 0 to 2). If the axis `type` is \"date\", it should\n            be date strings, like date data, though Date objects\n            and unix milliseconds will be accepted and converted to\n            strings. If the axis `type` is \"category\", it should be\n            numbers, using the scale where each category is\n            assigned a serial number from zero in the order it\n            appears. Leaving either or both elements `null` impacts\n            the default `autorange`.\n        rangebreaks\n            A tuple of\n            :class:`plotly.graph_objects.layout.xaxis.Rangebreak`\n            instances or dicts with compatible properties\n        rangebreakdefaults\n            When used in a template (as\n            layout.template.layout.xaxis.rangebreakdefaults), sets\n            the default property values to use for elements of\n            layout.xaxis.rangebreaks\n        rangemode\n            If \"normal\", the range is computed in relation to the\n            extrema of the input data. If \"tozero\", the range\n            extends to 0, regardless of the input data If\n            \"nonnegative\", the range is non-negative, regardless of\n            the input data. Applies only to linear axes.\n        rangeselector\n            :class:`plotly.graph_objects.layout.xaxis.Rangeselector\n            ` instance or dict with compatible properties\n        rangeslider\n            :class:`plotly.graph_objects.layout.xaxis.Rangeslider`\n            instance or dict with compatible properties\n        scaleanchor\n            If set to another axis id (e.g. `x2`, `y`), the range\n            of this axis changes together with the range of the\n            corresponding axis such that the scale of pixels per\n            unit is in a constant ratio. Both axes are still\n            zoomable, but when you zoom one, the other will zoom\n            the same amount, keeping a fixed midpoint. `constrain`\n            and `constraintoward` determine how we enforce the\n            constraint. You can chain these, ie `yaxis:\n            {scaleanchor: *x*}, xaxis2: {scaleanchor: *y*}` but you\n            can only link axes of the same `type`. The linked axis\n            can have the opposite letter (to constrain the aspect\n            ratio) or the same letter (to match scales across\n            subplots). Loops (`yaxis: {scaleanchor: *x*}, xaxis:\n            {scaleanchor: *y*}` or longer) are redundant and the\n            last constraint encountered will be ignored to avoid\n            possible inconsistent constraints via `scaleratio`.\n            Note that setting axes simultaneously in both a\n            `scaleanchor` and a `matches` constraint is currently\n            forbidden. Setting `false` allows to remove a default\n            constraint (occasionally, you may need to prevent a\n            default `scaleanchor` constraint from being applied,\n            eg. when having an image trace `yaxis: {scaleanchor:\n            \"x\"}` is set automatically in order for pixels to be\n            rendered as squares, setting `yaxis: {scaleanchor:\n            false}` allows to remove the constraint).\n        scaleratio\n            If this axis is linked to another by `scaleanchor`,\n            this determines the pixel to unit scale ratio. For\n            example, if this value is 10, then every unit on this\n            axis spans 10 times the number of pixels as a unit on\n            the linked axis. Use this for example to create an\n            elevation profile where the vertical scale is\n            exaggerated a fixed amount with respect to the\n            horizontal.\n        separatethousands\n            If \"true\", even 4-digit integers are separated\n        showdividers\n            Determines whether or not a dividers are drawn between\n            the category levels of this axis. Only has an effect on\n            \"multicategory\" axes.\n        showexponent\n            If \"all\", all exponents are shown besides their\n            significands. If \"first\", only the exponent of the\n            first tick is shown. If \"last\", only the exponent of\n            the last tick is shown. If \"none\", no exponents appear.\n        showgrid\n            Determines whether or not grid lines are drawn. If\n            True, the grid lines are drawn at every tick mark.\n        showline\n            Determines whether or not a line bounding this axis is\n            drawn.\n        showspikes\n            Determines whether or not spikes (aka droplines) are\n            drawn for this axis. Note: This only takes affect when\n            hovermode = closest\n        showticklabels\n            Determines whether or not the tick labels are drawn.\n        showtickprefix\n            If \"all\", all tick labels are displayed with a prefix.\n            If \"first\", only the first tick is displayed with a\n            prefix. If \"last\", only the last tick is displayed with\n            a suffix. If \"none\", tick prefixes are hidden.\n        showticksuffix\n            Same as `showtickprefix` but for tick suffixes.\n        side\n            Determines whether a x (y) axis is positioned at the\n            \"bottom\" (\"left\") or \"top\" (\"right\") of the plotting\n            area.\n        spikecolor\n            Sets the spike color. If undefined, will use the series\n            color\n        spikedash\n            Sets the dash style of lines. Set to a dash type string\n            (\"solid\", \"dot\", \"dash\", \"longdash\", \"dashdot\", or\n            \"longdashdot\") or a dash length list in px (eg\n            \"5px,10px,2px,2px\").\n        spikemode\n            Determines the drawing mode for the spike line If\n            \"toaxis\", the line is drawn from the data point to the\n            axis the  series is plotted on. If \"across\", the line\n            is drawn across the entire plot area, and supercedes\n            \"toaxis\". If \"marker\", then a marker dot is drawn on\n            the axis the series is plotted on\n        spikesnap\n            Determines whether spikelines are stuck to the cursor\n            or to the closest datapoints.\n        spikethickness\n            Sets the width (in px) of the zero line.\n        tick0\n            Sets the placement of the first tick on this axis. Use\n            with `dtick`. If the axis `type` is \"log\", then you\n            must take the log of your starting tick (e.g. to set\n            the starting tick to 100, set the `tick0` to 2) except\n            when `dtick`=*L<f>* (see `dtick` for more info). If the\n            axis `type` is \"date\", it should be a date string, like\n            date data. If the axis `type` is \"category\", it should\n            be a number, using the scale where each category is\n            assigned a serial number from zero in the order it\n            appears.\n        tickangle\n            Sets the angle of the tick labels with respect to the\n            horizontal. For example, a `tickangle` of -90 draws the\n            tick labels vertically.\n        tickcolor\n            Sets the tick color.\n        tickfont\n            Sets the tick font.\n        tickformat\n            Sets the tick label formatting rule using d3 formatting\n            mini-languages which are very similar to those in\n            Python. For numbers, see:\n            https://github.com/d3/d3-format/tree/v1.4.5#d3-format.\n            And for dates see: https://github.com/d3/d3-time-\n            format/tree/v2.2.3#locale_format. We add two items to\n            d3's date formatter: \"%h\" for half of the year as a\n            decimal number as well as \"%{n}f\" for fractional\n            seconds with n digits. For example, *2016-10-13\n            09:15:23.456* with tickformat \"%H~%M~%S.%2f\" would\n            display \"09~15~23.46\"\n        tickformatstops\n            A tuple of :class:`plotly.graph_objects.layout.xaxis.Ti\n            ckformatstop` instances or dicts with compatible\n            properties\n        tickformatstopdefaults\n            When used in a template (as\n            layout.template.layout.xaxis.tickformatstopdefaults),\n            sets the default property values to use for elements of\n            layout.xaxis.tickformatstops\n        ticklabelindex\n            Only for axes with `type` \"date\" or \"linear\". Instead\n            of drawing the major tick label, draw the label for the\n            minor tick that is n positions away from the major\n            tick. E.g. to always draw the label for the minor tick\n            before each major tick, choose `ticklabelindex` -1.\n            This is useful for date axes with `ticklabelmode`\n            \"period\" if you want to label the period that ends with\n            each major tick instead of the period that begins\n            there.\n        ticklabelindexsrc\n            Sets the source reference on Chart Studio Cloud for\n            `ticklabelindex`.\n        ticklabelmode\n            Determines where tick labels are drawn with respect to\n            their corresponding ticks and grid lines. Only has an\n            effect for axes of `type` \"date\" When set to \"period\",\n            tick labels are drawn in the middle of the period\n            between ticks.\n        ticklabeloverflow\n            Determines how we handle tick labels that would\n            overflow either the graph div or the domain of the\n            axis. The default value for inside tick labels is *hide\n            past domain*. Otherwise on \"category\" and\n            \"multicategory\" axes the default is \"allow\". In other\n            cases the default is *hide past div*.\n        ticklabelposition\n            Determines where tick labels are drawn with respect to\n            the axis Please note that top or bottom has no effect\n            on x axes or when `ticklabelmode` is set to \"period\".\n            Similarly left or right has no effect on y axes or when\n            `ticklabelmode` is set to \"period\". Has no effect on\n            \"multicategory\" axes or when `tickson` is set to\n            \"boundaries\". When used on axes linked by `matches` or\n            `scaleanchor`, no extra padding for inside labels would\n            be added by autorange, so that the scales could match.\n        ticklabelshift\n            Shifts the tick labels by the specified number of\n            pixels in parallel to the axis. Positive values move\n            the labels in the positive direction of the axis.\n        ticklabelstandoff\n            Sets the standoff distance (in px) between the axis\n            tick labels and their default position. A positive\n            `ticklabelstandoff` moves the labels farther away from\n            the plot area if `ticklabelposition` is \"outside\", and\n            deeper into the plot area if `ticklabelposition` is\n            \"inside\". A negative `ticklabelstandoff` works in the\n            opposite direction, moving outside ticks towards the\n            plot area and inside ticks towards the outside. If the\n            negative value is large enough, inside ticks can even\n            end up outside and vice versa.\n        ticklabelstep\n            Sets the spacing between tick labels as compared to the\n            spacing between ticks. A value of 1 (default) means\n            each tick gets a label. A value of 2 means shows every\n            2nd label. A larger value n means only every nth tick\n            is labeled. `tick0` determines which labels are shown.\n            Not implemented for axes with `type` \"log\" or\n            \"multicategory\", or when `tickmode` is \"array\".\n        ticklen\n            Sets the tick length (in px).\n        tickmode\n            Sets the tick mode for this axis. If \"auto\", the number\n            of ticks is set via `nticks`. If \"linear\", the\n            placement of the ticks is determined by a starting\n            position `tick0` and a tick step `dtick` (\"linear\" is\n            the default value if `tick0` and `dtick` are provided).\n            If \"array\", the placement of the ticks is set via\n            `tickvals` and the tick text is `ticktext`. (\"array\" is\n            the default value if `tickvals` is provided). If\n            \"sync\", the number of ticks will sync with the\n            overlayed axis set by `overlaying` property.\n        tickprefix\n            Sets a tick label prefix.\n        ticks\n            Determines whether ticks are drawn or not. If \"\", this\n            axis' ticks are not drawn. If \"outside\" (\"inside\"),\n            this axis' are drawn outside (inside) the axis lines.\n        tickson\n            Determines where ticks and grid lines are drawn with\n            respect to their corresponding tick labels. Only has an\n            effect for axes of `type` \"category\" or\n            \"multicategory\". When set to \"boundaries\", ticks and\n            grid lines are drawn half a category to the left/bottom\n            of labels.\n        ticksuffix\n            Sets a tick label suffix.\n        ticktext\n            Sets the text displayed at the ticks position via\n            `tickvals`. Only has an effect if `tickmode` is set to\n            \"array\". Used with `tickvals`.\n        ticktextsrc\n            Sets the source reference on Chart Studio Cloud for\n            `ticktext`.\n        tickvals\n            Sets the values at which ticks on this axis appear.\n            Only has an effect if `tickmode` is set to \"array\".\n            Used with `ticktext`.\n        tickvalssrc\n            Sets the source reference on Chart Studio Cloud for\n            `tickvals`.\n        tickwidth\n            Sets the tick width (in px).\n        title\n            :class:`plotly.graph_objects.layout.xaxis.Title`\n            instance or dict with compatible properties\n        type\n            Sets the axis type. By default, plotly attempts to\n            determined the axis type by looking into the data of\n            the traces that referenced the axis in question.\n        uirevision\n            Controls persistence of user-driven changes in axis\n            `range`, `autorange`, and `title` if in `editable:\n            true` configuration. Defaults to `layout.uirevision`.\n        visible\n            A single toggle to hide the axis while preserving\n            interaction like dragging. Default is true when a\n            cheater plot is present on the axis, otherwise false\n        zeroline\n            Determines whether or not a line is drawn at along the\n            0 value of this axis. If True, the zero line is drawn\n            on top of the grid lines.\n        zerolinecolor\n            Sets the line color of the zero line.\n        zerolinewidth\n            Sets the width (in px) of the zero line.\n        \nDid you mean \"tickfont\"?\n\nBad property path:\ntitlefont_size\n^^^^^^^^^"
          ]
        }
      ],
      "source": [
        "from strawberryfields.apps import vibronic, plot\n",
        "import plotly\n",
        "\n",
        "vibronic_samples = [list(s) for s in vibronic_samples]\n",
        "\n",
        "# frequencies of the initial and final normal modes\n",
        "w = [2979, 1580, 1286, 977]\n",
        "wp = [2828, 1398, 1227, 855]\n",
        "energies = vibronic.energies(vibronic_samples, w, wp)\n",
        "# MAS: plotly version matters:  pip install plotly==4.14.3\n",
        "plot.spectrum(energies, xmin=-6000, xmax=6000)          "
      ]
    },
    {
      "cell_type": "markdown",
      "metadata": {},
      "source": [
        "![](/tutorials/images/vibronic.png)\n",
        "\n",
        "    :align: center\n",
        "    :width: 66%\n",
        "\n",
        "\n",
        "Graph similarity\n",
        "----------------\n",
        "Graphs can be encoded in photonic circuits by selecting squeezing values and interferometer\n",
        "settings according to a decomposition of the graph's adjacency matrix. The\n",
        "statistics of the resulting distribution of photon patterns carry information about the encoded\n",
        "graph, which can be used to study similarity between graphs. One method to achieve this is to\n",
        "estimate orbit probabilities and collect them in the form of feature vectors.\n",
        "\n",
        "The specific architecture of X8 chips permits the encoding of bipartite weighted graphs such\n",
        "that the non-zero eigenvalues of their adjacency matrix are all equal. The\n",
        "adjaceny matrices of bipartite graphs have block structure, where the off-diagonal blocks\n",
        "contain the edge weights connecting nodes in the separate bipartitions.\n",
        "\n",
        "We construct two such\n",
        "adjacency matrices A1 and A2 from the respective off-diagonal blocks C1 and C2:\n",
        "\n"
      ]
    },
    {
      "cell_type": "code",
      "execution_count": null,
      "metadata": {
        "collapsed": false
      },
      "outputs": [],
      "source": [
        "# off-diagonal blocks\n",
        "C1 = np.array(\n",
        "    [\n",
        "        [0.0826, 0.1231, 0.0789, -0.1969],\n",
        "        [0.1231, 0.1834, 0.1176, -0.2935],\n",
        "        [0.0789, 0.1176, 0.0754, -0.1882],\n",
        "        [-0.1969, -0.2935, -0.1882, 0.4697],\n",
        "    ]\n",
        ")\n",
        "\n",
        "C2 = np.array(\n",
        "    [\n",
        "        [0.7925, 0.1076, -0.0125, 0.0545],\n",
        "        [0.1076, 0.1869, 0.0725, -0.3160],\n",
        "        [-0.0125, 0.0725, 0.8026, 0.0367],\n",
        "        [0.0545, -0.3160, 0.0367, 0.6511],\n",
        "    ]\n",
        ")\n",
        "\n",
        "# full adjacency matrices\n",
        "O = np.zeros((4, 4))\n",
        "A1 = np.block([[O, C1], [C1.T, O]])\n",
        "A2 = np.block([[O, C2], [C2.T, O]])"
      ]
    },
    {
      "cell_type": "markdown",
      "metadata": {},
      "source": [
        "The squeezing parameters $r_i$ and interferometer unitary $U$ of the circuit\n",
        "encoding the graphs are related to the Autonne-Takagi decomposition of the off-diagonal blocks\n",
        "$C$ as $C = U\\,\\text{diag}(r_i)\\,U^T$. These parameters can be obtained directly using\n",
        "Strawberry Fields.\n",
        "\n"
      ]
    },
    {
      "cell_type": "code",
      "execution_count": null,
      "metadata": {
        "collapsed": false
      },
      "outputs": [],
      "source": [
        "r1, U1 = sf.decompositions.takagi(C1)\n",
        "r2, U2 = sf.decompositions.takagi(C2)\n",
        "\n",
        "print(r1)\n",
        "print(r2)"
      ]
    },
    {
      "cell_type": "markdown",
      "metadata": {},
      "source": [
        ".. rst-class:: sphx-glr-script-out\n",
        "\n",
        " Out:\n",
        "\n",
        " .. code-block:: none\n",
        "\n",
        "      [8.11073932e-01 7.01706638e-05 3.67973142e-05 7.30565705e-06]\n",
        "      [8.11092959e-01 8.11039956e-01 8.11020979e-01 5.38942155e-05]\n",
        "\n"
      ]
    },
    {
      "cell_type": "markdown",
      "metadata": {},
      "source": [
        "To convert into a format accepted by the device, we set negligible values to zero and others\n",
        "equal to one, i.e., we turn on squeezers corresponding to non-negligible values. This results\n",
        "simply in changing the total mean photon number of the distribution.\n",
        "\n"
      ]
    },
    {
      "cell_type": "code",
      "execution_count": null,
      "metadata": {
        "collapsed": false
      },
      "outputs": [],
      "source": [
        "# set small values to zero\n",
        "r1[np.abs(r1) < 1e-2] = 0.0\n",
        "r2[np.abs(r2) < 1e-2] = 0.0\n",
        "\n",
        "# set large values to one\n",
        "r1[np.abs(r1) > 1e-2] = 1.0\n",
        "r2[np.abs(r2) > 1e-2] = 1.0\n",
        "\n",
        "# first graph\n",
        "eng = sf.RemoteEngine(\"X8\")\n",
        "similarity_prog1 = sf.Program(nr_modes)\n",
        "\n",
        "with similarity_prog1.context as q:\n",
        "    for i, r in enumerate(r1):\n",
        "        ops.S2gate(r) | (q[i], q[i + 4])\n",
        "\n",
        "    ops.Interferometer(U1) | (q[0], q[1], q[2], q[3])\n",
        "    ops.Interferometer(U1) | (q[4], q[5], q[6], q[7])\n",
        "    ops.MeasureFock() | q\n",
        "\n",
        "similarity_results1 = eng.run(similarity_prog1, shots=400000)\n",
        "similarity_samples1 = similarity_results1.samples\n",
        "\n",
        "# second graph\n",
        "eng = sf.RemoteEngine(\"X8\")\n",
        "similarity_prog2 = sf.Program(nr_modes)\n",
        "\n",
        "with similarity_prog2.context as q:\n",
        "    for i, r in enumerate(r2):\n",
        "        ops.S2gate(r) | (q[i], q[i + 4])\n",
        "\n",
        "    ops.Interferometer(U2) | (q[0], q[1], q[2], q[3])\n",
        "    ops.Interferometer(U2) | (q[4], q[5], q[6], q[7])\n",
        "    ops.MeasureFock() | q\n",
        "\n",
        "similarity_results2 = eng.run(similarity_prog2, shots=400000)\n",
        "similarity_samples2 = similarity_results2.samples"
      ]
    },
    {
      "cell_type": "markdown",
      "metadata": {},
      "source": [
        "We create feature vectors whose entries are given by the probabilities of observing samples\n",
        "inside different orbits. We consider the simple case of three-dimensional feature vectors\n",
        "constructed from orbits of three, four, and five photons. These can be obtained directly using\n",
        "Strawberry Fields.\n",
        "\n",
        "\n"
      ]
    },
    {
      "cell_type": "code",
      "execution_count": null,
      "metadata": {
        "collapsed": false
      },
      "outputs": [],
      "source": [
        "from strawberryfields.apps.similarity import feature_vector_orbits_sampling\n",
        "\n",
        "orbits = [[1, 1, 1], [1, 1, 1, 1], [2, 1, 1, 1]]\n",
        "vector1 = feature_vector_orbits_sampling(similarity_samples1, orbits)\n",
        "vector2 = feature_vector_orbits_sampling(similarity_samples2, orbits)"
      ]
    },
    {
      "cell_type": "markdown",
      "metadata": {},
      "source": [
        "We plot the feature vectors, which reflect and quantify the degree of similarity\n",
        "between their corresponding graphs.\n",
        "\n"
      ]
    },
    {
      "cell_type": "code",
      "execution_count": null,
      "metadata": {
        "collapsed": false
      },
      "outputs": [],
      "source": [
        "fig = plt.figure()\n",
        "ax = fig.add_subplot(111, projection='3d')\n",
        "\n",
        "ax.scatter(vector1[0], vector1[1], vector1[2], color=\"#508104\", s=150)\n",
        "ax.scatter(vector2[0], vector2[1], vector2[2], color=\"#b64201\", s=150)\n",
        "ax.set_xlabel('[1, 1, 1]')\n",
        "ax.set_ylabel('[1, 1, 1, 1]')\n",
        "ax.set_zlabel('[2, 1, 1, 1]')\n",
        "\n",
        "plt.show()"
      ]
    },
    {
      "cell_type": "markdown",
      "metadata": {},
      "source": [
        "![](/tutorials/images/similarity.svg)\n",
        "\n",
        "    :align: center\n",
        "    :width: 60%\n",
        "\n",
        "\n",
        "Conclusion\n",
        "-----------\n",
        "\n",
        "The demonstrations covered in this tutorial are photonic quantum algorithms executed remotely\n",
        "on programmable nanophotonic devices. There is something remarkable about this statement. It\n",
        "was not long ago that all quantum optics experiments occurred on large optical tables that\n",
        "could only be configured by a handful of experts familiar with the experimental setup.\n",
        "Technological progress across integrated nanophotonics, quantum software,\n",
        "and quantum algorithm development have made it possible for researchers and enthusiasts around\n",
        "the world to perform experiments from the comfort of their homes using just a few lines of\n",
        "code. We look forward to seeing what the community will be able to achieve when they play\n",
        "with these new toys. 😊\n",
        "\n"
      ]
    },
    {
      "cell_type": "markdown",
      "metadata": {},
      "source": [
        "References\n",
        "----------\n",
        "\n",
        ".. [#arrazola2021]\n",
        "\n",
        "    J.M. Arrazola, V. Bergholm, K. Brádler, T.R. Bromley, M.J. Collins, I. Dhand, A. Fumagalli,\n",
        "    T. Gerrits, A. Goussev, L.G. Helt, J. Hundal, T. Isacsson, R.B. Israel, J. Izaac,\n",
        "    S. Jahangiri, R. Janik, N. Killoran, S.P. Kumar, J. Lavoie, A.E. Lita, D.H. Mahler,\n",
        "    M. Menotti, B. Morrison, S.W. Nam, L. Neuhaus, H.Y. Qi, N. Quesada, A. Repingon,\n",
        "    K.K. Sabapathy, M. Schuld, D. Su, J. Swinarton, A. Száva, K. Tan, P. Tan, V.D. Vaidya,\n",
        "    Z. Vernon, Z. Zabaneh, Y. Zhang,\n",
        "    `Nature, 591, 54-60, (2021) <https://www.nature.com/articles/s41586-021-03202-1>`__.\n",
        "\n"
      ]
    }
  ],
  "metadata": {
    "kernelspec": {
      "display_name": "StrawberryFieldsVenv",
      "language": "python",
      "name": "python3"
    },
    "language_info": {
      "codemirror_mode": {
        "name": "ipython",
        "version": 3
      },
      "file_extension": ".py",
      "mimetype": "text/x-python",
      "name": "python",
      "nbconvert_exporter": "python",
      "pygments_lexer": "ipython3",
      "version": "3.9.13"
    }
  },
  "nbformat": 4,
  "nbformat_minor": 0
}
