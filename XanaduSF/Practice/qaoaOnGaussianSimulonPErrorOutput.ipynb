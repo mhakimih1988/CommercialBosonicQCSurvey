{
 "cells": [
  {
   "cell_type": "code",
   "execution_count": 14,
   "id": "6a7bd17d",
   "metadata": {},
   "outputs": [
    {
     "name": "stdout",
     "output_type": "stream",
     "text": [
      "hi\n"
     ]
    }
   ],
   "source": [
    "print('hi')"
   ]
  },
  {
   "cell_type": "code",
   "execution_count": null,
   "id": "c91f75c9",
   "metadata": {},
   "outputs": [],
   "source": []
  },
  {
   "cell_type": "code",
   "execution_count": null,
   "id": "230fa7ba",
   "metadata": {},
   "outputs": [],
   "source": [
    "prog = sf.Program(1)\n",
    "eng = sf.RemoteEngine(\"simulon_gaussian\")\n",
    "\n",
    "\n",
    "iterations = 2 #10\n",
    "shots =  2 #10\n",
    "parabolic_min = 4\n",
    "possible_parameters = [0.1, 0.3, 0.5, 0.7, 0.9, 1.1]\n",
    "testing_trials = 2 #10# 100\n",
    "optimal_value = math.inf\n",
    "simulation = []\n",
    "\n"
   ]
  },
  {
   "cell_type": "code",
   "execution_count": null,
   "id": "b0514347",
   "metadata": {},
   "outputs": [],
   "source": [
    "#Calculating loss\n",
    "\n",
    "def function_optimize(x, parabolic_min):\n",
    "    y = (x - parabolic_min)**2\n",
    "    return y\n",
    "\n"
   ]
  },
  {
   "cell_type": "code",
   "execution_count": null,
   "id": "3c113af8",
   "metadata": {},
   "outputs": [],
   "source": [
    "def run_circuit(alpha_param, beta_param, parabolic_min):\n",
    "    prog = sf.Program(1)\n",
    "\n",
    "    with prog.context as q:\n",
    "        for i in range(len(alpha_param)):\n",
    "            Zgate(parabolic_min * 4 * beta_param[i]) | q[0]\n",
    "            # Approximate Pgate(-4 * beta_param[i]) using R-Z-R sandwich (not equivalent)\n",
    "            Rgate(0.1) | q[0]\n",
    "            Zgate(-4 * beta_param[i]) | q[0]\n",
    "            Rgate(-0.1) | q[0]\n",
    "            Rgate(-1 * alpha_param[i]) | q[0]\n",
    "\n",
    "\n",
    "        MeasureX | q[0]\n",
    "\n",
    "    job = eng.run(prog, shots=1)\n",
    "    return job"
   ]
  },
  {
   "cell_type": "code",
   "execution_count": null,
   "id": "8ad94ad7",
   "metadata": {},
   "outputs": [],
   "source": [
    "#Search for the optimal value\n",
    "param_length = 6\n",
    "op = []\n",
    "\n",
    "alpha_param = []\n",
    "beta_param = []\n",
    "\n",
    "\n",
    "for i in range(param_length):\n",
    "    alpha_param.append(random.choice(possible_parameters))\n",
    "    beta_param.append(random.choice(possible_parameters))\n",
    "\n",
    "\n",
    "for i in range(0, iterations):\n",
    "    result = 0\n",
    "    grid = []\n",
    "    for h in range(0, shots):\n",
    "        hello = run_circuit(alpha_param, beta_param, parabolic_min)\n",
    "        result = result + hello.samples[0][0]\n",
    "        grid.append(hello)\n",
    "    result = result/shots\n",
    "    calculation = function_optimize(result, parabolic_min)\n",
    "\n",
    "    yer_a = alpha_param\n",
    "    yer_b = beta_param\n",
    "\n",
    "    if (calculation < optimal_value):\n",
    "        simulation = grid\n",
    "        optimal_value = calculation\n",
    "        the_x_measurement = result\n",
    "        op = [alpha_param[:], beta_param[:]]\n",
    "\n",
    "    for i in range(param_length):\n",
    "        alpha_param[i] = random.choice(possible_parameters)\n",
    "        beta_param[i] = random.choice(possible_parameters)\n",
    "\n",
    "\n",
    "optimal_parameters = op\n",
    "\n"
   ]
  },
  {
   "cell_type": "code",
   "execution_count": null,
   "id": "9d135cd9",
   "metadata": {},
   "outputs": [],
   "source": [
    "print(optimal_parameters)"
   ]
  },
  {
   "cell_type": "code",
   "execution_count": null,
   "id": "c1b95a56",
   "metadata": {},
   "outputs": [],
   "source": [
    "x_arr = range(0, testing_trials)\n",
    "y_arr = []\n",
    "\n",
    "for i in range(0, testing_trials):\n",
    "\n",
    "    state = run_circuit(optimal_parameters[0], optimal_parameters[1], parabolic_min)\n",
    "    y_arr.append(state.samples[0][0])\n",
    "\n",
    "print(y_arr)"
   ]
  },
  {
   "cell_type": "code",
   "execution_count": null,
   "id": "f421fe0f",
   "metadata": {},
   "outputs": [],
   "source": [
    "print(y_arr)"
   ]
  },
  {
   "cell_type": "code",
   "execution_count": null,
   "id": "5a4bc66e",
   "metadata": {},
   "outputs": [],
   "source": []
  }
 ],
 "metadata": {
  "kernelspec": {
   "display_name": "StrawberryFieldsVenv",
   "language": "python",
   "name": "python3"
  },
  "language_info": {
   "codemirror_mode": {
    "name": "ipython",
    "version": 3
   },
   "file_extension": ".py",
   "mimetype": "text/x-python",
   "name": "python",
   "nbconvert_exporter": "python",
   "pygments_lexer": "ipython3",
   "version": "3.9.13"
  }
 },
 "nbformat": 4,
 "nbformat_minor": 5
}
