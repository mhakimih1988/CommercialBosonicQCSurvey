{
 "cells": [
  {
   "cell_type": "code",
   "execution_count": null,
   "id": "5e908ba0",
   "metadata": {},
   "outputs": [],
   "source": []
  },
  {
   "cell_type": "code",
   "execution_count": 1,
   "id": "dc38de95",
   "metadata": {},
   "outputs": [],
   "source": [
    "import strawberryfields as sf"
   ]
  },
  {
   "cell_type": "code",
   "execution_count": 2,
   "id": "774cd01a",
   "metadata": {},
   "outputs": [],
   "source": [
    "from strawberryfields import ops"
   ]
  },
  {
   "cell_type": "code",
   "execution_count": 3,
   "id": "4dc0f292",
   "metadata": {},
   "outputs": [],
   "source": [
    "from strawberryfields.ops import *"
   ]
  },
  {
   "cell_type": "code",
   "execution_count": 4,
   "id": "83d94b40",
   "metadata": {},
   "outputs": [],
   "source": [
    "from strawberryfields.utils import random_interferometer"
   ]
  },
  {
   "cell_type": "code",
   "execution_count": 5,
   "id": "b5854145",
   "metadata": {},
   "outputs": [],
   "source": [
    "prog = sf.Program(8)"
   ]
  },
  {
   "cell_type": "code",
   "execution_count": 6,
   "id": "a88fd5ce",
   "metadata": {},
   "outputs": [],
   "source": [
    "U = random_interferometer(4)"
   ]
  },
  {
   "cell_type": "code",
   "execution_count": 7,
   "id": "7d744acc",
   "metadata": {},
   "outputs": [],
   "source": [
    "# def run_circuit(alpha_param, beta_param, parabolic_min):\n",
    "\n",
    "#     prog = sf.Program(1)\n",
    "\n",
    "#     # with eng:\n",
    "#     with prog.context as q:\n",
    "\n",
    "#         Squeezed(-0.5,0) | q[0]\n",
    "\n",
    "#         Zgate(parabolic_min*4*beta_param[0]) | q[0]\n",
    "#         Pgate(-4*beta_param[0]) | q[0]\n",
    "#         Rgate(-1*alpha_param[0]) | q[0]\n",
    "#         Zgate(parabolic_min*4*beta_param[1]) | q[0]\n",
    "#         Pgate(-4*beta_param[1]) | q[0]\n",
    "#         Rgate(-1*alpha_param[1]) | q[0]\n",
    "#         Zgate(parabolic_min*4*beta_param[2]) | q[0]\n",
    "#         Pgate(-4*beta_param[2]) | q[0]\n",
    "#         Rgate(-1*alpha_param[2]) | q[0]\n",
    "\n",
    "#         MeasureX | q[0]\n",
    "\n",
    "#         # state = eng.run(prog, cutoff_dim=5, shots=1)\n",
    "#         state = eng.run(prog, shots=1)\n",
    "\n",
    "#     return q[0].val"
   ]
  },
  {
   "cell_type": "code",
   "execution_count": 8,
   "id": "4b4af616",
   "metadata": {},
   "outputs": [],
   "source": [
    "parabolic_min = 10\n",
    "alpha_param = [0.5, 0.5, 0.5]\n",
    "beta_param = [0.5, 0.5, 0.5]"
   ]
  },
  {
   "cell_type": "code",
   "execution_count": null,
   "id": "d905095c",
   "metadata": {},
   "outputs": [],
   "source": [
    "# with prog.context as q:\n",
    "#     # ops.S2gate(1.0) | (q[0], q[4])\n",
    "#     # ops.S2gate(1.0) | (q[1], q[5])\n",
    "#     # ops.S2gate(1.0) | (q[2], q[6])\n",
    "#     # ops.S2gate(1.0) | (q[3], q[7])\n",
    "\n",
    "#     # ops.Interferometer(U) | q[0:4]\n",
    "#     # ops.Interferometer(U) | q[4:8]\n",
    "\n",
    "#     # ops.MeasureFock() | q\n",
    "\n",
    "#     # Squeezed(-0.5,0) | q[0]\n",
    "\n",
    "#     Zgate(parabolic_min*4*beta_param[0]) | q[0]\n",
    "#     Pgate(-4*beta_param[0]) | q[0]\n",
    "#     Rgate(-1*alpha_param[0]) | q[0]\n",
    "#     Zgate(parabolic_min*4*beta_param[1]) | q[0]\n",
    "#     Pgate(-4*beta_param[1]) | q[0]\n",
    "#     Rgate(-1*alpha_param[1]) | q[0]\n",
    "#     Zgate(parabolic_min*4*beta_param[2]) | q[0]\n",
    "#     Pgate(-4*beta_param[2]) | q[0]\n",
    "#     Rgate(-1*alpha_param[2]) | q[0]\n",
    "\n",
    "#     MeasureX | q[0]\n"
   ]
  },
  {
   "cell_type": "code",
   "execution_count": 1,
   "id": "610b9817",
   "metadata": {},
   "outputs": [],
   "source": [
    "import strawberryfields as sf\n",
    "from strawberryfields.ops import Zgate, Pgate, Rgate\n",
    "\n",
    "# Your parameters\n",
    "alpha_param = [0.5, 0.5, 0.5]\n",
    "beta_param = [0.5, 0.5, 0.5]\n",
    "parabolic_min = 1.0\n",
    "\n",
    "# Create a 1-mode program\n",
    "prog = sf.Program(1)\n",
    "\n",
    "with prog.context as q:\n",
    "    for i in range(3):\n",
    "        Zgate(parabolic_min * 4 * beta_param[i]) | q[0]\n",
    "        Pgate(-4 * beta_param[i]) | q[0]\n",
    "        Rgate(-alpha_param[i]) | q[0]\n"
   ]
  },
  {
   "cell_type": "code",
   "execution_count": 9,
   "id": "cef34968",
   "metadata": {},
   "outputs": [],
   "source": [
    "eng = sf.RemoteEngine(\"X8\")"
   ]
  },
  {
   "cell_type": "code",
   "execution_count": 10,
   "id": "888b7585",
   "metadata": {},
   "outputs": [
    {
     "name": "stderr",
     "output_type": "stream",
     "text": [
      "2025-06-09 17:58:19,489 - INFO - Compiling program for device X8_01 using compiler Xunitary.\n"
     ]
    },
    {
     "ename": "CircuitError",
     "evalue": "The applied unitary cannot mix between the modes 0-3 and modes 4-7.",
     "output_type": "error",
     "traceback": [
      "\u001b[1;31m---------------------------------------------------------------------------\u001b[0m",
      "\u001b[1;31mCircuitError\u001b[0m                              Traceback (most recent call last)",
      "Cell \u001b[1;32mIn[10], line 1\u001b[0m\n\u001b[1;32m----> 1\u001b[0m results \u001b[38;5;241m=\u001b[39m \u001b[43meng\u001b[49m\u001b[38;5;241;43m.\u001b[39;49m\u001b[43mrun\u001b[49m\u001b[43m(\u001b[49m\u001b[43mprog\u001b[49m\u001b[43m,\u001b[49m\u001b[43m \u001b[49m\u001b[43mshots\u001b[49m\u001b[38;5;241;43m=\u001b[39;49m\u001b[38;5;241;43m4\u001b[39;49m\u001b[43m)\u001b[49m\n",
      "File \u001b[1;32mc:\\Users\\mhakimi\\Documents\\strawberryfields9\\StrawberryFieldsVenv\\lib\\site-packages\\strawberryfields\\engine.py:706\u001b[0m, in \u001b[0;36mRemoteEngine.run\u001b[1;34m(self, program, compile_options, recompile, **kwargs)\u001b[0m\n\u001b[0;32m    672\u001b[0m \u001b[38;5;28;01mdef\u001b[39;00m\u001b[38;5;250m \u001b[39m\u001b[38;5;21mrun\u001b[39m(\n\u001b[0;32m    673\u001b[0m     \u001b[38;5;28mself\u001b[39m, program: Program, \u001b[38;5;241m*\u001b[39m, compile_options\u001b[38;5;241m=\u001b[39m\u001b[38;5;28;01mNone\u001b[39;00m, recompile\u001b[38;5;241m=\u001b[39m\u001b[38;5;28;01mFalse\u001b[39;00m, \u001b[38;5;241m*\u001b[39m\u001b[38;5;241m*\u001b[39mkwargs\n\u001b[0;32m    674\u001b[0m ) \u001b[38;5;241m-\u001b[39m\u001b[38;5;241m>\u001b[39m Optional[Result]:\n\u001b[0;32m    675\u001b[0m \u001b[38;5;250m    \u001b[39m\u001b[38;5;124;03m\"\"\"Runs a blocking job.\u001b[39;00m\n\u001b[0;32m    676\u001b[0m \n\u001b[0;32m    677\u001b[0m \u001b[38;5;124;03m    In the blocking mode, the engine blocks until the job is completed, failed, or\u001b[39;00m\n\u001b[1;32m   (...)\u001b[0m\n\u001b[0;32m    704\u001b[0m \u001b[38;5;124;03m        FailedJobError: if the remote job fails on the server side (\"cancelled\" or \"failed\")\u001b[39;00m\n\u001b[0;32m    705\u001b[0m \u001b[38;5;124;03m    \"\"\"\u001b[39;00m\n\u001b[1;32m--> 706\u001b[0m     job \u001b[38;5;241m=\u001b[39m \u001b[38;5;28mself\u001b[39m\u001b[38;5;241m.\u001b[39mrun_async(\n\u001b[0;32m    707\u001b[0m         program, compile_options\u001b[38;5;241m=\u001b[39mcompile_options, recompile\u001b[38;5;241m=\u001b[39mrecompile, \u001b[38;5;241m*\u001b[39m\u001b[38;5;241m*\u001b[39mkwargs\n\u001b[0;32m    708\u001b[0m     )\n\u001b[0;32m    709\u001b[0m     \u001b[38;5;28;01mtry\u001b[39;00m:\n\u001b[0;32m    710\u001b[0m         \u001b[38;5;28;01mwhile\u001b[39;00m \u001b[38;5;28;01mTrue\u001b[39;00m:\n\u001b[0;32m    711\u001b[0m             \u001b[38;5;66;03m# TODO: needed to refresh connection; remove once xcc.Connection\u001b[39;00m\n\u001b[0;32m    712\u001b[0m             \u001b[38;5;66;03m# is able to refresh config info dynamically\u001b[39;00m\n",
      "File \u001b[1;32mc:\\Users\\mhakimi\\Documents\\strawberryfields9\\StrawberryFieldsVenv\\lib\\site-packages\\strawberryfields\\engine.py:802\u001b[0m, in \u001b[0;36mRemoteEngine.run_async\u001b[1;34m(self, program, compile_options, recompile, **kwargs)\u001b[0m\n\u001b[0;32m    800\u001b[0m     msg \u001b[38;5;241m=\u001b[39m \u001b[38;5;124mf\u001b[39m\u001b[38;5;124m\"\u001b[39m\u001b[38;5;124mCompiling program for device \u001b[39m\u001b[38;5;132;01m{\u001b[39;00mdevice\u001b[38;5;241m.\u001b[39mtarget\u001b[38;5;132;01m}\u001b[39;00m\u001b[38;5;124m using compiler \u001b[39m\u001b[38;5;132;01m{\u001b[39;00mcompiler_name\u001b[38;5;132;01m}\u001b[39;00m\u001b[38;5;124m.\u001b[39m\u001b[38;5;124m\"\u001b[39m\n\u001b[0;32m    801\u001b[0m     \u001b[38;5;28mself\u001b[39m\u001b[38;5;241m.\u001b[39mlog\u001b[38;5;241m.\u001b[39minfo(msg)\n\u001b[1;32m--> 802\u001b[0m     program \u001b[38;5;241m=\u001b[39m program\u001b[38;5;241m.\u001b[39mcompile(device\u001b[38;5;241m=\u001b[39mdevice, \u001b[38;5;241m*\u001b[39m\u001b[38;5;241m*\u001b[39mcompile_options)\n\u001b[0;32m    804\u001b[0m \u001b[38;5;28;01melif\u001b[39;00m recompile:\n\u001b[0;32m    805\u001b[0m     \u001b[38;5;66;03m# recompiling program\u001b[39;00m\n\u001b[0;32m    806\u001b[0m     \u001b[38;5;28;01mif\u001b[39;00m compile_options:\n",
      "File \u001b[1;32mc:\\Users\\mhakimi\\Documents\\strawberryfields9\\StrawberryFieldsVenv\\lib\\site-packages\\strawberryfields\\program.py:740\u001b[0m, in \u001b[0;36mProgram.compile\u001b[1;34m(self, device, compiler, **kwargs)\u001b[0m\n\u001b[0;32m    736\u001b[0m     seq \u001b[38;5;241m=\u001b[39m pu\u001b[38;5;241m.\u001b[39moptimize_circuit(seq)\n\u001b[0;32m    738\u001b[0m compiled \u001b[38;5;241m=\u001b[39m \u001b[38;5;28mself\u001b[39m\u001b[38;5;241m.\u001b[39m_linked_copy()\n\u001b[1;32m--> 740\u001b[0m seq \u001b[38;5;241m=\u001b[39m \u001b[43mcompiler\u001b[49m\u001b[38;5;241;43m.\u001b[39;49m\u001b[43mcompile\u001b[49m\u001b[43m(\u001b[49m\u001b[43mseq\u001b[49m\u001b[43m,\u001b[49m\u001b[43m \u001b[49m\u001b[38;5;28;43mself\u001b[39;49m\u001b[38;5;241;43m.\u001b[39;49m\u001b[43mregister\u001b[49m\u001b[43m)\u001b[49m\n\u001b[0;32m    742\u001b[0m \u001b[38;5;66;03m# create the compiled Program\u001b[39;00m\n\u001b[0;32m    743\u001b[0m compiled\u001b[38;5;241m.\u001b[39mcircuit \u001b[38;5;241m=\u001b[39m seq\n",
      "File \u001b[1;32mc:\\Users\\mhakimi\\Documents\\strawberryfields9\\StrawberryFieldsVenv\\lib\\site-packages\\strawberryfields\\compilers\\xunitary.py:204\u001b[0m, in \u001b[0;36mXunitary.compile\u001b[1;34m(self, seq, registers)\u001b[0m\n\u001b[0;32m    201\u001b[0m U22 \u001b[38;5;241m=\u001b[39m U[half_n_modes:, half_n_modes:]\n\u001b[0;32m    202\u001b[0m \u001b[38;5;28;01mif\u001b[39;00m \u001b[38;5;129;01mnot\u001b[39;00m np\u001b[38;5;241m.\u001b[39mallclose(U12, \u001b[38;5;241m0\u001b[39m) \u001b[38;5;129;01mor\u001b[39;00m \u001b[38;5;129;01mnot\u001b[39;00m np\u001b[38;5;241m.\u001b[39mallclose(U21, \u001b[38;5;241m0\u001b[39m):\n\u001b[0;32m    203\u001b[0m     \u001b[38;5;66;03m# Not a bipartite graph\u001b[39;00m\n\u001b[1;32m--> 204\u001b[0m     \u001b[38;5;28;01mraise\u001b[39;00m CircuitError(\n\u001b[0;32m    205\u001b[0m         \u001b[38;5;124m\"\u001b[39m\u001b[38;5;124mThe applied unitary cannot mix between the modes \u001b[39m\u001b[38;5;132;01m{}\u001b[39;00m\u001b[38;5;124m-\u001b[39m\u001b[38;5;132;01m{}\u001b[39;00m\u001b[38;5;124m and modes \u001b[39m\u001b[38;5;132;01m{}\u001b[39;00m\u001b[38;5;124m-\u001b[39m\u001b[38;5;132;01m{}\u001b[39;00m\u001b[38;5;124m.\u001b[39m\u001b[38;5;124m\"\u001b[39m\u001b[38;5;241m.\u001b[39mformat(\n\u001b[0;32m    206\u001b[0m             \u001b[38;5;241m0\u001b[39m, half_n_modes \u001b[38;5;241m-\u001b[39m \u001b[38;5;241m1\u001b[39m, half_n_modes, n_modes \u001b[38;5;241m-\u001b[39m \u001b[38;5;241m1\u001b[39m\n\u001b[0;32m    207\u001b[0m         )\n\u001b[0;32m    208\u001b[0m     )\n\u001b[0;32m    210\u001b[0m \u001b[38;5;28;01mif\u001b[39;00m \u001b[38;5;129;01mnot\u001b[39;00m np\u001b[38;5;241m.\u001b[39mallclose(U11, U22):\n\u001b[0;32m    211\u001b[0m     \u001b[38;5;66;03m# Not a symmetric bipartite graph\u001b[39;00m\n\u001b[0;32m    212\u001b[0m     \u001b[38;5;28;01mraise\u001b[39;00m CircuitError(\n\u001b[0;32m    213\u001b[0m         \u001b[38;5;124m\"\u001b[39m\u001b[38;5;124mThe applied unitary on modes \u001b[39m\u001b[38;5;132;01m{}\u001b[39;00m\u001b[38;5;124m-\u001b[39m\u001b[38;5;132;01m{}\u001b[39;00m\u001b[38;5;124m must be identical to the applied unitary on modes \u001b[39m\u001b[38;5;132;01m{}\u001b[39;00m\u001b[38;5;124m-\u001b[39m\u001b[38;5;132;01m{}\u001b[39;00m\u001b[38;5;124m.\u001b[39m\u001b[38;5;124m\"\u001b[39m\u001b[38;5;241m.\u001b[39mformat(\n\u001b[0;32m    214\u001b[0m             \u001b[38;5;241m0\u001b[39m, half_n_modes \u001b[38;5;241m-\u001b[39m \u001b[38;5;241m1\u001b[39m, half_n_modes, n_modes \u001b[38;5;241m-\u001b[39m \u001b[38;5;241m1\u001b[39m\n\u001b[0;32m    215\u001b[0m         )\n\u001b[0;32m    216\u001b[0m     )\n",
      "\u001b[1;31mCircuitError\u001b[0m: The applied unitary cannot mix between the modes 0-3 and modes 4-7."
     ]
    }
   ],
   "source": [
    "results = eng.run(prog, shots=4)"
   ]
  },
  {
   "cell_type": "code",
   "execution_count": null,
   "id": "09d5c85e",
   "metadata": {},
   "outputs": [
    {
     "data": {
      "text/plain": [
       "array([[0, 0, 0, 0, 1, 1, 0, 0],\n",
       "       [0, 2, 0, 0, 0, 3, 1, 0],\n",
       "       [1, 2, 1, 1, 1, 0, 1, 1],\n",
       "       [0, 0, 1, 0, 0, 1, 0, 1]])"
      ]
     },
     "execution_count": 9,
     "metadata": {},
     "output_type": "execute_result"
    }
   ],
   "source": [
    "results.samples"
   ]
  },
  {
   "cell_type": "code",
   "execution_count": null,
   "id": "bdb3eddd",
   "metadata": {},
   "outputs": [],
   "source": []
  },
  {
   "cell_type": "code",
   "execution_count": null,
   "id": "9f27c5a0",
   "metadata": {},
   "outputs": [],
   "source": []
  },
  {
   "cell_type": "code",
   "execution_count": null,
   "id": "61ab2eb6",
   "metadata": {},
   "outputs": [
    {
     "ename": "NameError",
     "evalue": "name 'engine' is not defined",
     "output_type": "error",
     "traceback": [
      "\u001b[1;31m---------------------------------------------------------------------------\u001b[0m",
      "\u001b[1;31mNameError\u001b[0m                                 Traceback (most recent call last)",
      "Cell \u001b[1;32mIn[10], line 2\u001b[0m\n\u001b[0;32m      1\u001b[0m \u001b[38;5;66;03m# print(engine.device_spec.modes)\u001b[39;00m\n\u001b[1;32m----> 2\u001b[0m \u001b[38;5;28mprint\u001b[39m(\u001b[43mengine\u001b[49m)\n",
      "\u001b[1;31mNameError\u001b[0m: name 'engine' is not defined"
     ]
    }
   ],
   "source": [
    "# print(engine.device_spec.modes)\n",
    "print(engine)"
   ]
  },
  {
   "cell_type": "code",
   "execution_count": null,
   "id": "9e9cf071",
   "metadata": {},
   "outputs": [],
   "source": []
  }
 ],
 "metadata": {
  "kernelspec": {
   "display_name": "StrawberryFieldsVenv",
   "language": "python",
   "name": "python3"
  },
  "language_info": {
   "codemirror_mode": {
    "name": "ipython",
    "version": 3
   },
   "file_extension": ".py",
   "mimetype": "text/x-python",
   "name": "python",
   "nbconvert_exporter": "python",
   "pygments_lexer": "ipython3",
   "version": "3.9.13"
  }
 },
 "nbformat": 4,
 "nbformat_minor": 5
}
