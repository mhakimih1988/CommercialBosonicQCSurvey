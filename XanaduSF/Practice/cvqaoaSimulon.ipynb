{
  "cells": [
    {
      "cell_type": "code",
      "execution_count": 1,
      "metadata": {
        "collapsed": false
      },
      "outputs": [],
      "source": [
        "# This cell is added by sphinx-gallery\n",
        "# It can be customized to whatever you like\n",
        "# %matplotlib inline"
      ]
    },
    {
      "cell_type": "code",
      "execution_count": 2,
      "metadata": {
        "collapsed": false
      },
      "outputs": [],
      "source": [
        "# from strawberryfields.utils import random_interferometer\n",
        "# U_GBS = random_interferometer(4)"
      ]
    },
    {
      "cell_type": "code",
      "execution_count": 3,
      "metadata": {},
      "outputs": [],
      "source": [
        "from strawberryfields.ops import *\n"
      ]
    },
    {
      "cell_type": "code",
      "execution_count": 4,
      "metadata": {},
      "outputs": [],
      "source": [
        "parabolic_min = 1              # if it was 10 it caused error for running even 2 didn't work\n",
        "alpha_param = [0.5, 0.5, 0.5]\n",
        "beta_param = [0.5, 0.5, 0.5]"
      ]
    },
    {
      "cell_type": "code",
      "execution_count": 5,
      "metadata": {
        "collapsed": false
      },
      "outputs": [],
      "source": [
        "import strawberryfields as sf\n",
        "from strawberryfields import ops\n",
        "\n",
        "nr_modes = 8\n",
        "gbs_prog = sf.Program(nr_modes)\n",
        "with gbs_prog.context as q:\n",
        "    Squeezed(-0.5,0) | q[0]\n",
        "\n",
        "    # Zgate(parabolic_min*4*beta_param[0]) | q[0]\n",
        "    # Pgate(-4*beta_param[0]) | q[0]\n",
        "    # Rgate(-1*alpha_param[0]) | q[0]\n",
        "    # Zgate(parabolic_min*4*beta_param[1]) | q[0]\n",
        "    # Pgate(-4*beta_param[1]) | q[0]\n",
        "    # Rgate(-1*alpha_param[1]) | q[0]\n",
        "    # Zgate(parabolic_min*4*beta_param[2]) | q[0]\n",
        "    # Pgate(-4*beta_param[2]) | q[0]\n",
        "    # Rgate(-1*alpha_param[2]) | q[0]\n",
        "\n",
        "\n",
        "    Zgate(parabolic_min * 4 * beta_param[0]) | q[0]\n",
        "    # Approximate Pgate(-4 * beta_param[0]) using R-Z-R sandwich (not equivalent)\n",
        "    Rgate(0.1) | q[0]\n",
        "    Zgate(-4 * beta_param[0]) | q[0]\n",
        "    Rgate(-0.1) | q[0]\n",
        "    Rgate(-1 * alpha_param[0]) | q[0]\n",
        "\n",
        "    Zgate(parabolic_min * 4 * beta_param[1]) | q[0]\n",
        "    # Approximate Pgate(-4 * beta_param[1]) using R-Z-R sandwich (not equivalent)\n",
        "    Rgate(0.1) | q[0]\n",
        "    Zgate(-4 * beta_param[1]) | q[0]\n",
        "    Rgate(-0.1) | q[0]\n",
        "    Rgate(-1 * alpha_param[1]) | q[0]\n",
        "\n",
        "    Zgate(parabolic_min * 4 * beta_param[2]) | q[0]\n",
        "    # Approximate Pgate(-4 * beta_param[2]) using R-Z-R sandwich (not equivalent)\n",
        "    Rgate(0.1) | q[0]\n",
        "    Zgate(-4 * beta_param[2]) | q[0]\n",
        "    Rgate(-0.1) | q[0]\n",
        "    Rgate(-1 * alpha_param[2]) | q[0]\n",
        "\n",
        "\n",
        "    # MeasureX | q[0]\n",
        "    # Fock(2) | q[0]            #The operation Fock cannot be used with the compiler 'gaussian'.\n",
        "\n",
        "    # ops.MeasureFock() | q[0]\n",
        "    ops.MeasureFock() | q"
      ]
    },
    {
      "cell_type": "code",
      "execution_count": 6,
      "metadata": {
        "collapsed": false
      },
      "outputs": [
        {
          "name": "stderr",
          "output_type": "stream",
          "text": [
            "2025-06-12 14:37:39,638 - INFO - Compiling program for device simulon_gaussian using compiler gaussian.\n",
            "2025-06-12 14:37:42,744 - INFO - The remote job d3c42fba-4ad2-481b-8c3d-b732098e7686 has been completed.\n"
          ]
        }
      ],
      "source": [
        "from strawberryfields import RemoteEngine\n",
        "\n",
        "eng = sf.RemoteEngine(\"simulon_gaussian\")\n",
        "gbs_results = eng.run(gbs_prog, shots=1)\n",
        "gbs_samples = gbs_results.samples"
      ]
    },
    {
      "cell_type": "code",
      "execution_count": 12,
      "metadata": {},
      "outputs": [
        {
          "name": "stderr",
          "output_type": "stream",
          "text": [
            "2025-06-12 14:40:45,550 - INFO - Compiling program for device simulon_gaussian using compiler gaussian.\n",
            "2025-06-12 14:40:50,092 - INFO - The remote job 1b6340e9-1e71-4dca-84a3-efb5eef87da6 has been completed.\n"
          ]
        }
      ],
      "source": [
        "state = eng.run(gbs_prog, shots=1).state\n"
      ]
    },
    {
      "cell_type": "code",
      "execution_count": 13,
      "metadata": {},
      "outputs": [
        {
          "name": "stdout",
          "output_type": "stream",
          "text": [
            "None\n"
          ]
        }
      ],
      "source": [
        "print(state)"
      ]
    },
    {
      "cell_type": "code",
      "execution_count": null,
      "metadata": {},
      "outputs": [],
      "source": [
        "a = state.wigner(0, [i/10 for i in range(-30, 30)], [i/10 for i in range(-30, 30)])"
      ]
    }
  ],
  "metadata": {
    "kernelspec": {
      "display_name": "StrawberryFieldsVenv",
      "language": "python",
      "name": "python3"
    },
    "language_info": {
      "codemirror_mode": {
        "name": "ipython",
        "version": 3
      },
      "file_extension": ".py",
      "mimetype": "text/x-python",
      "name": "python",
      "nbconvert_exporter": "python",
      "pygments_lexer": "ipython3",
      "version": "3.9.13"
    }
  },
  "nbformat": 4,
  "nbformat_minor": 0
}
