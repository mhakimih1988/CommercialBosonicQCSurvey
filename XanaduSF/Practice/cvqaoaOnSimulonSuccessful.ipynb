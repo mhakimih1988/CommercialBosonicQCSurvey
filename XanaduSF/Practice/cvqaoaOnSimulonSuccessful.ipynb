{
 "cells": [
  {
   "cell_type": "code",
   "execution_count": 31,
   "metadata": {},
   "outputs": [],
   "source": [
    "#Installing all dependencies\n",
    "\n",
    "import strawberryfields as sf\n",
    "from strawberryfields.ops import *\n",
    "# from strawberryfields.utils import scale\n",
    "from numpy import pi, sqrt\n",
    "import math\n",
    "import random\n",
    "from scipy.optimize import minimize\n",
    "\n",
    "import numpy as np\n",
    "\n",
    "from matplotlib import pyplot as plt\n",
    "from mpl_toolkits.mplot3d import Axes3D\n",
    "from scipy.integrate import simps"
   ]
  },
  {
   "cell_type": "code",
   "execution_count": 32,
   "metadata": {},
   "outputs": [],
   "source": [
    "# from scipy.integrate import simps\n",
    "\n",
    "# sf.hbar = 0.5\n",
    "# # eng = sf.Engine(\"fock\", backend_options={\"cutoff_dim\":10})\n",
    "# eng = sf.RemoteEngine(\"simulon_gaussian\")\n",
    "# prog = sf.Program(2)\n",
    "\n",
    "# with prog.context as q:\n",
    "    \n",
    "#     Fock(2) | q[0]\n",
    "\n",
    "# state = eng.run(prog), run_options={\"eval\": False}).state\n",
    "# wigner = a = state.wigner(0, [i/10 for i in range(-40, 40)], [i/10 for i in range(-40, 40)])"
   ]
  },
  {
   "cell_type": "markdown",
   "metadata": {},
   "source": [
    "Now, let's compose our integrating method. Notice how when we sample Wigner function values, we only get points ranging from $-4$ to $4$. The peak of our distribution should be around $1$, so outisde of these bounds (especially $-4$), the probability of any measurement will be practically $0$, thus we approximate $\\pm \\infty$ to $\\pm 4$. We have to integrate across each set of points with the same value of $x$, as this will give us the **total probability** of measuring that specific value of $x$, for any arbitrary value of $p$. Thus, we have:"
   ]
  },
  {
   "cell_type": "code",
   "execution_count": 33,
   "metadata": {},
   "outputs": [],
   "source": [
    "# x = [i/10 for i in range(-40, 40)]\n",
    "\n",
    "# def wigner_transform(x, wigner):\n",
    "\n",
    "#     y = []\n",
    "\n",
    "#     for i in range(0, len(x)):\n",
    "#         res = simps([wigner[k][i] for k in range(0, len(x))], x)\n",
    "#         y.append(res)\n",
    "\n",
    "#     return y\n",
    "\n",
    "# data = wigner_transform(x, wigner)"
   ]
  },
  {
   "cell_type": "markdown",
   "metadata": {},
   "source": [
    "Finally, we have to plot our data as a quadrature graph:"
   ]
  },
  {
   "cell_type": "code",
   "execution_count": 34,
   "metadata": {},
   "outputs": [],
   "source": [
    "# plt.plot(x, data)\n",
    "# plt.xlabel(\"Value of X\")\n",
    "# plt.ylabel(\"Probability\")\n",
    "\n",
    "# plt.show()"
   ]
  },
  {
   "cell_type": "markdown",
   "metadata": {},
   "source": [
    "It works!"
   ]
  },
  {
   "cell_type": "markdown",
   "metadata": {},
   "source": [
    "**Simulating Continuous-Variable QAOA For a Simple Problem** <div id=\"5\"></div>\n",
    "\n",
    "Now that we understand why QAOA/VQE actually work, let's try to implement a basic simulation of the algorithm for a basic cost function. Consider the horizontally translated parabloa:\n",
    "\n",
    "<br><br>\n",
    "$$f(x) \\ = \\ (x \\ - \\ a)^2$$\n",
    "<br><br>\n",
    "\n",
    "We can easily translate this to the language of \"quantum cost Hamiltonians\" with the method outlined in the previous section to get:\n",
    "\n",
    "<br><br>\n",
    "$$\\hat{H}_{C} \\ = \\ (\\hat{x} \\ - \\ a)^2$$\n",
    "<br><br>\n",
    "\n",
    "For our circuit, the unitary $U(\\alpha, \\ \\gamma)$ is given as:\n",
    "\n",
    "<br><br>\n",
    "$$U(\\alpha, \\ \\gamma) \\ = \\ e^{-i \\alpha \\hat{H}_{M}} e^{-i \\gamma (\\hat{x} \\ - \\ a)^2} \\ \\Rightarrow \\ \\hat{H}_{M} \\ \\in \\ \\{ \\hat{H}_{K}, \\ \\hat{H}_{N} \\}$$\n",
    "<br><br>\n",
    "\n",
    "In order to implement this on a photonic quantum circuit, we need to express these unitaries in terms of products of gates in the allowed gate set for our quantum computer. For our simulations, we will be using Strawberry Fields, so we are confined to the gate state that the Strawberry Fields library provides (we can technically make custom gates, but that feels like cheating). Anyways, let's expand and **separate**. Now, I hope you're saying (unless you're on step ahead of me): \"Jack, separating a matrix exponential??? Don't you need an infinite number of terms for the Baker-Campbell-Hausdorff expansion???\". Well, the answer is yes, but practically all of those terms end up being equal to one. The operators $\\hat{x}^{n}$ and $\\hat{x}^{m}$ will commute, thus Baker-Campbell-Hausdorff greatly reduces, ands we get:\n",
    "\n",
    "<br><br>\n",
    "$$e^{-i \\gamma (\\hat{x} \\ - \\ a)^2} \\ = \\ e^{-i \\gamma (\\hat{x}^2 \\ - \\ 2a\\hat{x} \\ + \\ a^2)} \\ = \\ e^{-i \\gamma \\hat{x}^2} e^{i \\gamma 2a \\hat{x}} e^{-i \\gamma a^2} \\ \\Rightarrow \\ e^{-i \\gamma \\hat{x}^2} e^{i \\gamma 2a \\hat{x}}$$\n",
    "<br><br>\n",
    "\n",
    "We just dropped the exponential $e^{-i \\gamma a^2}$ because it is an overall phase and does not affect our quantum state. Conceptually, this makes sense, as $a^2$ simply acts to shift our entire parabola vertically, not affecting the $x$-coordinate of the global minimum, thus we mught as well drop it from the cost function (we'll keep it in there for the classical post-processing). We have two gates that we need to act upon a photonic mode. In order to implement these unitaries on the quantum circuit, we express them as momentum displacement and quadratic phase operator. First, the momentum displacement operator is defined as:\n",
    "\n",
    "<br><br>\n",
    "$$Z(p) \\ = \\ \\exp(i p \\hat{x}/ \\hbar)$$\n",
    "<br><br>\n",
    "\n",
    "So we then have:\n",
    "\n",
    "<br><br>\n",
    "$$e^{i \\gamma 2a \\hat{x}} \\ \\Rightarrow \\ 2\\gamma a \\ = \\ \\frac{p}{\\hbar} \\ \\Rightarrow \\ p \\ = \\ 2 \\gamma a \\hbar$$\n",
    "<br><br>\n",
    "\n",
    "We also utilize the quadratic phase gate:\n",
    "\n",
    "<br><br>\n",
    "$$P(s) \\ = \\ \\exp \\Big( i \\frac{s}{2\\hbar} \\hat{x}^2 \\Big) \\ \\Rightarrow \\ e^{-i \\gamma \\hat{x}^2} \\ \\Rightarrow \\ -\\gamma \\ = \\ \\frac{s}{2\\hbar} \\ \\Rightarrow \\ s \\ = \\ -2 \\gamma \\hbar$$\n",
    "<br><br>\n",
    "\n",
    "We can code this up in Strawberry Fields! First, we have to initialize the value of Planck's constant, as well as the value of $a$. For now, we will pick some arbitrary value (I chose $0.83$). You can change this later, if you want to convince yourself that the algorithm works for other values of $a$ as well:"
   ]
  },
  {
   "cell_type": "code",
   "execution_count": 35,
   "metadata": {},
   "outputs": [],
   "source": [
    "eng = sf.RemoteEngine(\"simulon_gaussian\")"
   ]
  },
  {
   "cell_type": "code",
   "execution_count": 36,
   "metadata": {},
   "outputs": [],
   "source": [
    "#Defines the value of h-bar\n",
    "\n",
    "sf.hbar = 0.5\n",
    "hbar = 0.5\n",
    "\n",
    "#Defines the value of the parabolic minimum\n",
    "\n",
    "parabolic_min = 0.83"
   ]
  },
  {
   "cell_type": "markdown",
   "metadata": {},
   "source": [
    "We will now define our classical cost function, which is fairly easy in Python:"
   ]
  },
  {
   "cell_type": "code",
   "execution_count": 37,
   "metadata": {},
   "outputs": [],
   "source": [
    "#Defines the classical cost function\n",
    "\n",
    "def function_optimize(x, parabolic_min):\n",
    "    y = (x - parabolic_min)**2\n",
    "    return y"
   ]
  },
  {
   "cell_type": "markdown",
   "metadata": {},
   "source": [
    "We now have to define our cost unitary, to be used in the QAOA process, which again, we can do fairly easily:"
   ]
  },
  {
   "cell_type": "code",
   "execution_count": 38,
   "metadata": {},
   "outputs": [],
   "source": [
    "#Defines the cost unitary for QAOA\n",
    "\n",
    "def cost_ham(q, p):\n",
    "\n",
    "    Zgate(parabolic_min*2*hbar*p) | q[0]\n",
    "    # Pgate(-2*hbar*p) | q[0]\n",
    "    Rgate(-np.pi/2) | q[0]\n",
    "    Zgate(-2 * hbar * p) | q[0]\n",
    "    Rgate(np.pi/2)  | q[0]"
   ]
  },
  {
   "cell_type": "markdown",
   "metadata": {},
   "source": [
    "Now we can turn our attention to implementing the mixer Hamiltonian. Let's start with the kinetic mixer, then move to the number mixer. In order to implement this gate, we simply perform a Fourier gate-operation on both sides of the qudratic phase gate:\n",
    "\n",
    "<br><br>\n",
    "$$\\exp \\Big( i \\frac{s}{2\\hbar} \\hat{p}^2 \\Big) \\ = \\ \\exp \\Big( i \\frac{s}{2\\hbar} F^{\\dagger} \\hat{x} F F^{\\dagger} \\hat{x} F \\Big) \\ = \\ \\exp \\Big( i \\frac{s}{2\\hbar} F^{\\dagger} \\hat{x}^2 F \\Big) \\ = \\ \\displaystyle\\sum_{i \\ = \\ 0}^{\\infty} \\frac{(i \\frac{s}{2\\hbar})^{i} (F^{\\dagger} \\hat{x}^2 F)^{i}}{i!} \\ = \\ F^{\\dagger} \\displaystyle\\sum_{i \\ = \\ 0}^{\\infty} \\frac{(i \\frac{s}{2\\hbar})^{i} (\\hat{x}^2)^{i} }{i!} F \\ = \\ F^{\\dagger} P(s) F$$\n",
    "<br><br>\n",
    "\n",
    "If the removal of those Fourier operations from the sum made you do a double-take, never fear! Consider the following:\n",
    "\n",
    "<br><br>\n",
    "$$M N^n M^{-1} \\ = \\ M (N \\mathbb{I})^n M^{-1} \\ = \\ M (N M^{-1} M)^n M^{-1} \\ = \\ (M N M^{-1})^n$$\n",
    "<br><br>\n",
    "\n",
    "Since $F^{\\dagger}$ is the inverse of $F$, as these operations are unitary, the same logic follows. We can then code this into our Strawberry Fields program, with the parameter $s \\ = \\ -\\frac{1}{2} \\hbar \\alpha$:"
   ]
  },
  {
   "cell_type": "code",
   "execution_count": 39,
   "metadata": {},
   "outputs": [],
   "source": [
    "#Defines the kinetic mixer unitary for QAOA\n",
    "\n",
    "def mixer_ham(q, p):\n",
    "\n",
    "    Rgate(-1*math.pi/2) | q[0]\n",
    "    # Pgate(-1*hbar*p) | q[0]\n",
    "    Rgate(-np.pi/2)     | q[0]\n",
    "    Zgate(-hbar * p)    | q[0]\n",
    "    Rgate(np.pi/2)      | q[0]\n",
    "\n",
    "    Rgate(math.pi/2) | q[0]\n",
    "\n",
    "    return q "
   ]
  },
  {
   "cell_type": "markdown",
   "metadata": {},
   "source": [
    "We have a few more parameters that we have to define as well before we run our simulation. We have to choose our circuit depth, which is the number of times the cost-mixer unitary is applied and the photon cutoff dimension for our Strawberry Fields simulation. In addition, we have to choose our **squeezing parameter**. We will be initializing our simulation in a squeezed state over the $x$-quadrature, in order to ensure that our algorithm searches over a large space of possible solutions:"
   ]
  },
  {
   "cell_type": "code",
   "execution_count": 40,
   "metadata": {},
   "outputs": [],
   "source": [
    "#Defines the circuit depth, cutoff dimension, and the squeezing parameter\n",
    "\n",
    "circuit_depth = 3\n",
    "squeezing = -0.5\n",
    "cutoff = 5"
   ]
  },
  {
   "cell_type": "markdown",
   "metadata": {},
   "source": [
    "Now, we are in a position to define our first circuit, which will return numerical values for our graphical visualization. Note that this is not the function that we will be using for the actual optimization of the circuit, as this function does not sample the circuit, but rather returns Wigner function values for our graph.  We will find Wigner function values ranging from $-30$ to $30$, for both the $x$ and $p$ quadratures, with a spacing of $0.1$ between measured values. In addition, we will only optimize over one parameter, as the function we are optimizing is a fairly simple one:"
   ]
  },
  {
   "cell_type": "code",
   "execution_count": 41,
   "metadata": {},
   "outputs": [],
   "source": [
    "#Defines the function used to run the circuit and return numerical data\n",
    "\n",
    "def run_circuit(param):\n",
    "\n",
    "    # eng = sf.Engine(\"fock\", backend_options={\"cutoff_dim\":cutoff})\n",
    "    prog = sf.Program(1)\n",
    "\n",
    "    param1 = [param[0] for i in range(0, circuit_depth)]\n",
    "    param2 = [param[0] for i in range(0, circuit_depth)]\n",
    "\n",
    "    with prog.context as q:\n",
    "\n",
    "        Squeezed(squeezing,0) | q[0]\n",
    "\n",
    "        for i in range(0, circuit_depth):\n",
    "\n",
    "            cost_ham(q, param1[i])\n",
    "            mixer_ham(q, param2[i])\n",
    "\n",
    "    result = eng.run(prog, shots=100) # run_options={\"eval\": False})\n",
    "    state = result.state\n",
    "    a = state.wigner(0, [i/10 for i in range(-30, 30)], [i/10 for i in range(-30, 30)])\n",
    "    return a"
   ]
  },
  {
   "cell_type": "markdown",
   "metadata": {},
   "source": [
    "Next, we will define our \"sampling function\", which is identical to the one that we just provided, except instead of returning numerical Wigner function values, we will actually sample the circuit for individual values:"
   ]
  },
  {
   "cell_type": "code",
   "execution_count": 42,
   "metadata": {},
   "outputs": [],
   "source": [
    "#Defines the sampling circuit simulation\n",
    "\n",
    "def old_circuit(param):\n",
    "\n",
    "    # eng = sf.Engine(\"fock\", backend_options={\"cutoff_dim\":cutoff})\n",
    "    prog = sf.Program(1)\n",
    "\n",
    "    param1 = [param[0] for i in range(0, circuit_depth)]\n",
    "    param2 = [param[0] for i in range(0, circuit_depth)]\n",
    "\n",
    "    with prog.context as q:\n",
    "\n",
    "        Squeezed(squeezing,0) | q[0]\n",
    "\n",
    "        for i in range(0,circuit_depth):\n",
    "\n",
    "            cost_ham(q, param1[i])\n",
    "            mixer_ham(q, param2[i])\n",
    "\n",
    "        MeasureX | q[0]\n",
    "\n",
    "    result = eng.run(prog, shots=1)\n",
    "    return result.samples[0][0]"
   ]
  },
  {
   "cell_type": "markdown",
   "metadata": {},
   "source": [
    "We now have to specify how many times we will sample the circuit, to obtain a decently accurate value for the expectation value of our cost Hamiltonian. For now, we will choose $15$ as the number of our samples."
   ]
  },
  {
   "cell_type": "code",
   "execution_count": 43,
   "metadata": {},
   "outputs": [],
   "source": [
    "#Defines the number of iterations that the circuit is sampled\n",
    "\n",
    "shots = 15"
   ]
  },
  {
   "cell_type": "markdown",
   "metadata": {},
   "source": [
    "We now have to define our **objective function**, which is the function that we will attempt to optimize with our classical optimizer. As the cost, we will return the average of our repeated samples of the circuit:"
   ]
  },
  {
   "cell_type": "code",
   "execution_count": 44,
   "metadata": {},
   "outputs": [],
   "source": [
    "#Defines the objective function that is minimized\n",
    "\n",
    "def objective(param):\n",
    "\n",
    "    costly = 0\n",
    "\n",
    "    for i in range(0, shots):\n",
    "\n",
    "        av = old_circuit(param)\n",
    "        result1 = av\n",
    "        calculation = function_optimize(result1, parabolic_min)\n",
    "        costly = costly + calculation\n",
    "\n",
    "    costly = costly/shots\n",
    "\n",
    "\n",
    "    print(\"Paramter: \"+str(param))\n",
    "    print(\"Value of Cost Function: \"+str(costly))\n",
    "\n",
    "    return costly"
   ]
  },
  {
   "cell_type": "markdown",
   "metadata": {},
   "source": [
    "Next, we will define the actual classical optimizer that we will use to minimize the objective function. For this implementation, we will use the Nelder-Mead optimizer. For our initial parameter, we will choose a random value from $-3$  to $3$ (this was arbitrary, there is probably a better way to choose this initial parameter based on traditional gradient descent methods, but for now, a random value in this aarbitrary range will suffice). Finally, we will run our numerical circuit one more time with the optimal parameters, in order to get Wigner function values for our graphical visualization:"
   ]
  },
  {
   "cell_type": "code",
   "execution_count": 45,
   "metadata": {},
   "outputs": [
    {
     "name": "stderr",
     "output_type": "stream",
     "text": [
      "2025-06-29 01:45:37,257 - INFO - Compiling program for device simulon_gaussian using compiler gaussian.\n",
      "2025-06-29 01:45:40,098 - INFO - The remote job 25f7282d-4b4e-40ac-a86f-8ea3a1e96148 has been completed.\n",
      "2025-06-29 01:45:40,414 - INFO - Compiling program for device simulon_gaussian using compiler gaussian.\n",
      "2025-06-29 01:45:44,840 - INFO - The remote job f665423b-0441-446c-bf9d-64b3e308b059 has been completed.\n",
      "2025-06-29 01:45:45,149 - INFO - Compiling program for device simulon_gaussian using compiler gaussian.\n",
      "2025-06-29 01:45:49,347 - INFO - The remote job 40d72af5-3f32-4b31-aa83-4d40469e5c04 has been completed.\n",
      "2025-06-29 01:45:49,618 - INFO - Compiling program for device simulon_gaussian using compiler gaussian.\n",
      "2025-06-29 01:45:52,730 - INFO - The remote job 3d68d22e-5414-4f41-9059-b360f31e2578 has been completed.\n",
      "2025-06-29 01:45:53,007 - INFO - Compiling program for device simulon_gaussian using compiler gaussian.\n",
      "2025-06-29 01:45:55,896 - INFO - The remote job 22aab3d8-11bd-4cd5-95aa-24cdb0f24de1 has been completed.\n",
      "2025-06-29 01:45:56,214 - INFO - Compiling program for device simulon_gaussian using compiler gaussian.\n",
      "2025-06-29 01:46:00,334 - INFO - The remote job be024510-8c65-4e47-9126-595e30f55c48 has been completed.\n",
      "2025-06-29 01:46:00,633 - INFO - Compiling program for device simulon_gaussian using compiler gaussian.\n",
      "2025-06-29 01:46:04,959 - INFO - The remote job 4b7dfecb-6132-49aa-ac46-588ce59b48d9 has been completed.\n",
      "2025-06-29 01:46:05,253 - INFO - Compiling program for device simulon_gaussian using compiler gaussian.\n",
      "2025-06-29 01:46:09,420 - INFO - The remote job 4c8f431c-fe31-4961-bdf5-7cc210c6b293 has been completed.\n",
      "2025-06-29 01:46:09,693 - INFO - Compiling program for device simulon_gaussian using compiler gaussian.\n",
      "2025-06-29 01:46:12,695 - INFO - The remote job 1c67376f-8733-45b9-882e-a83f126234bd has been completed.\n",
      "2025-06-29 01:46:13,015 - INFO - Compiling program for device simulon_gaussian using compiler gaussian.\n",
      "2025-06-29 01:46:15,910 - INFO - The remote job 6d4d8b20-2917-4f35-a6b5-11767fcb60d2 has been completed.\n",
      "2025-06-29 01:46:16,191 - INFO - Compiling program for device simulon_gaussian using compiler gaussian.\n"
     ]
    },
    {
     "ename": "KeyboardInterrupt",
     "evalue": "",
     "output_type": "error",
     "traceback": [
      "\u001b[1;31m---------------------------------------------------------------------------\u001b[0m",
      "\u001b[1;31mKeyboardInterrupt\u001b[0m                         Traceback (most recent call last)",
      "Cell \u001b[1;32mIn[45], line 3\u001b[0m\n\u001b[0;32m      1\u001b[0m \u001b[38;5;66;03m#Defines the optimizer that minimizes the objective function\u001b[39;00m\n\u001b[1;32m----> 3\u001b[0m out \u001b[38;5;241m=\u001b[39m \u001b[43mminimize\u001b[49m\u001b[43m(\u001b[49m\u001b[43mobjective\u001b[49m\u001b[43m,\u001b[49m\u001b[43m \u001b[49m\u001b[43mx0\u001b[49m\u001b[38;5;241;43m=\u001b[39;49m\u001b[43m[\u001b[49m\u001b[43mrandom\u001b[49m\u001b[38;5;241;43m.\u001b[39;49m\u001b[43mrandint\u001b[49m\u001b[43m(\u001b[49m\u001b[38;5;241;43m-\u001b[39;49m\u001b[38;5;241;43m150\u001b[39;49m\u001b[43m,\u001b[49m\u001b[38;5;241;43m150\u001b[39;49m\u001b[43m)\u001b[49m\u001b[38;5;241;43m/\u001b[39;49m\u001b[38;5;241;43m100\u001b[39;49m\u001b[43m]\u001b[49m\u001b[43m,\u001b[49m\u001b[43m \u001b[49m\u001b[43mmethod\u001b[49m\u001b[38;5;241;43m=\u001b[39;49m\u001b[38;5;124;43m\"\u001b[39;49m\u001b[38;5;124;43mNelder-Mead\u001b[39;49m\u001b[38;5;124;43m\"\u001b[39;49m\u001b[43m,\u001b[49m\u001b[43m \u001b[49m\u001b[43moptions\u001b[49m\u001b[38;5;241;43m=\u001b[39;49m\u001b[43m{\u001b[49m\u001b[38;5;124;43m'\u001b[39;49m\u001b[38;5;124;43mmaxiter\u001b[39;49m\u001b[38;5;124;43m'\u001b[39;49m\u001b[43m:\u001b[49m\u001b[38;5;241;43m20\u001b[39;49m\u001b[43m}\u001b[49m\u001b[43m)\u001b[49m\n\u001b[0;32m      4\u001b[0m \u001b[38;5;28mprint\u001b[39m(out)\n\u001b[0;32m      6\u001b[0m \u001b[38;5;66;03m# #Creates the graphical visualization\u001b[39;00m\n\u001b[0;32m      7\u001b[0m \n\u001b[0;32m      8\u001b[0m \u001b[38;5;66;03m# final = run_circuit(out['x'])\u001b[39;00m\n\u001b[1;32m   (...)\u001b[0m\n\u001b[0;32m     20\u001b[0m \n\u001b[0;32m     21\u001b[0m \u001b[38;5;66;03m# plt.show()\u001b[39;00m\n",
      "File \u001b[1;32mc:\\Users\\mhakimi\\Documents\\strawberryfields9\\StrawberryFieldsVenv\\lib\\site-packages\\scipy\\optimize\\_minimize.py:701\u001b[0m, in \u001b[0;36mminimize\u001b[1;34m(fun, x0, args, method, jac, hess, hessp, bounds, constraints, tol, callback, options)\u001b[0m\n\u001b[0;32m    698\u001b[0m callback \u001b[38;5;241m=\u001b[39m _wrap_callback(callback, meth)\n\u001b[0;32m    700\u001b[0m \u001b[38;5;28;01mif\u001b[39;00m meth \u001b[38;5;241m==\u001b[39m \u001b[38;5;124m'\u001b[39m\u001b[38;5;124mnelder-mead\u001b[39m\u001b[38;5;124m'\u001b[39m:\n\u001b[1;32m--> 701\u001b[0m     res \u001b[38;5;241m=\u001b[39m _minimize_neldermead(fun, x0, args, callback, bounds\u001b[38;5;241m=\u001b[39mbounds,\n\u001b[0;32m    702\u001b[0m                                \u001b[38;5;241m*\u001b[39m\u001b[38;5;241m*\u001b[39moptions)\n\u001b[0;32m    703\u001b[0m \u001b[38;5;28;01melif\u001b[39;00m meth \u001b[38;5;241m==\u001b[39m \u001b[38;5;124m'\u001b[39m\u001b[38;5;124mpowell\u001b[39m\u001b[38;5;124m'\u001b[39m:\n\u001b[0;32m    704\u001b[0m     res \u001b[38;5;241m=\u001b[39m _minimize_powell(fun, x0, args, callback, bounds, \u001b[38;5;241m*\u001b[39m\u001b[38;5;241m*\u001b[39moptions)\n",
      "File \u001b[1;32mc:\\Users\\mhakimi\\Documents\\strawberryfields9\\StrawberryFieldsVenv\\lib\\site-packages\\scipy\\optimize\\_optimize.py:818\u001b[0m, in \u001b[0;36m_minimize_neldermead\u001b[1;34m(func, x0, args, callback, maxiter, maxfev, disp, return_all, initial_simplex, xatol, fatol, adaptive, bounds, **unknown_options)\u001b[0m\n\u001b[0;32m    816\u001b[0m \u001b[38;5;28;01mtry\u001b[39;00m:\n\u001b[0;32m    817\u001b[0m     \u001b[38;5;28;01mfor\u001b[39;00m k \u001b[38;5;129;01min\u001b[39;00m \u001b[38;5;28mrange\u001b[39m(N \u001b[38;5;241m+\u001b[39m \u001b[38;5;241m1\u001b[39m):\n\u001b[1;32m--> 818\u001b[0m         fsim[k] \u001b[38;5;241m=\u001b[39m \u001b[43mfunc\u001b[49m\u001b[43m(\u001b[49m\u001b[43msim\u001b[49m\u001b[43m[\u001b[49m\u001b[43mk\u001b[49m\u001b[43m]\u001b[49m\u001b[43m)\u001b[49m\n\u001b[0;32m    819\u001b[0m \u001b[38;5;28;01mexcept\u001b[39;00m _MaxFuncCallError:\n\u001b[0;32m    820\u001b[0m     \u001b[38;5;28;01mpass\u001b[39;00m\n",
      "File \u001b[1;32mc:\\Users\\mhakimi\\Documents\\strawberryfields9\\StrawberryFieldsVenv\\lib\\site-packages\\scipy\\optimize\\_optimize.py:526\u001b[0m, in \u001b[0;36m_wrap_scalar_function_maxfun_validation.<locals>.function_wrapper\u001b[1;34m(x, *wrapper_args)\u001b[0m\n\u001b[0;32m    524\u001b[0m ncalls[\u001b[38;5;241m0\u001b[39m] \u001b[38;5;241m+\u001b[39m\u001b[38;5;241m=\u001b[39m \u001b[38;5;241m1\u001b[39m\n\u001b[0;32m    525\u001b[0m \u001b[38;5;66;03m# A copy of x is sent to the user function (gh13740)\u001b[39;00m\n\u001b[1;32m--> 526\u001b[0m fx \u001b[38;5;241m=\u001b[39m \u001b[43mfunction\u001b[49m\u001b[43m(\u001b[49m\u001b[43mnp\u001b[49m\u001b[38;5;241;43m.\u001b[39;49m\u001b[43mcopy\u001b[49m\u001b[43m(\u001b[49m\u001b[43mx\u001b[49m\u001b[43m)\u001b[49m\u001b[43m,\u001b[49m\u001b[43m \u001b[49m\u001b[38;5;241;43m*\u001b[39;49m\u001b[43m(\u001b[49m\u001b[43mwrapper_args\u001b[49m\u001b[43m \u001b[49m\u001b[38;5;241;43m+\u001b[39;49m\u001b[43m \u001b[49m\u001b[43margs\u001b[49m\u001b[43m)\u001b[49m\u001b[43m)\u001b[49m\n\u001b[0;32m    527\u001b[0m \u001b[38;5;66;03m# Ideally, we'd like to a have a true scalar returned from f(x). For\u001b[39;00m\n\u001b[0;32m    528\u001b[0m \u001b[38;5;66;03m# backwards-compatibility, also allow np.array([1.3]),\u001b[39;00m\n\u001b[0;32m    529\u001b[0m \u001b[38;5;66;03m# np.array([[1.3]]) etc.\u001b[39;00m\n\u001b[0;32m    530\u001b[0m \u001b[38;5;28;01mif\u001b[39;00m \u001b[38;5;129;01mnot\u001b[39;00m np\u001b[38;5;241m.\u001b[39misscalar(fx):\n",
      "Cell \u001b[1;32mIn[44], line 9\u001b[0m, in \u001b[0;36mobjective\u001b[1;34m(param)\u001b[0m\n\u001b[0;32m      5\u001b[0m costly \u001b[38;5;241m=\u001b[39m \u001b[38;5;241m0\u001b[39m\n\u001b[0;32m      7\u001b[0m \u001b[38;5;28;01mfor\u001b[39;00m i \u001b[38;5;129;01min\u001b[39;00m \u001b[38;5;28mrange\u001b[39m(\u001b[38;5;241m0\u001b[39m, shots):\n\u001b[1;32m----> 9\u001b[0m     av \u001b[38;5;241m=\u001b[39m \u001b[43mold_circuit\u001b[49m\u001b[43m(\u001b[49m\u001b[43mparam\u001b[49m\u001b[43m)\u001b[49m\n\u001b[0;32m     10\u001b[0m     result1 \u001b[38;5;241m=\u001b[39m av\n\u001b[0;32m     11\u001b[0m     calculation \u001b[38;5;241m=\u001b[39m function_optimize(result1, parabolic_min)\n",
      "Cell \u001b[1;32mIn[42], line 22\u001b[0m, in \u001b[0;36mold_circuit\u001b[1;34m(param)\u001b[0m\n\u001b[0;32m     18\u001b[0m         mixer_ham(q, param2[i])\n\u001b[0;32m     20\u001b[0m     MeasureX \u001b[38;5;241m|\u001b[39m q[\u001b[38;5;241m0\u001b[39m]\n\u001b[1;32m---> 22\u001b[0m result \u001b[38;5;241m=\u001b[39m \u001b[43meng\u001b[49m\u001b[38;5;241;43m.\u001b[39;49m\u001b[43mrun\u001b[49m\u001b[43m(\u001b[49m\u001b[43mprog\u001b[49m\u001b[43m,\u001b[49m\u001b[43m \u001b[49m\u001b[43mshots\u001b[49m\u001b[38;5;241;43m=\u001b[39;49m\u001b[38;5;241;43m1\u001b[39;49m\u001b[43m)\u001b[49m\n\u001b[0;32m     23\u001b[0m \u001b[38;5;28;01mreturn\u001b[39;00m result\u001b[38;5;241m.\u001b[39msamples[\u001b[38;5;241m0\u001b[39m][\u001b[38;5;241m0\u001b[39m]\n",
      "File \u001b[1;32mc:\\Users\\mhakimi\\Documents\\strawberryfields9\\StrawberryFieldsVenv\\lib\\site-packages\\strawberryfields\\engine.py:706\u001b[0m, in \u001b[0;36mRemoteEngine.run\u001b[1;34m(self, program, compile_options, recompile, **kwargs)\u001b[0m\n\u001b[0;32m    672\u001b[0m \u001b[38;5;28;01mdef\u001b[39;00m\u001b[38;5;250m \u001b[39m\u001b[38;5;21mrun\u001b[39m(\n\u001b[0;32m    673\u001b[0m     \u001b[38;5;28mself\u001b[39m, program: Program, \u001b[38;5;241m*\u001b[39m, compile_options\u001b[38;5;241m=\u001b[39m\u001b[38;5;28;01mNone\u001b[39;00m, recompile\u001b[38;5;241m=\u001b[39m\u001b[38;5;28;01mFalse\u001b[39;00m, \u001b[38;5;241m*\u001b[39m\u001b[38;5;241m*\u001b[39mkwargs\n\u001b[0;32m    674\u001b[0m ) \u001b[38;5;241m-\u001b[39m\u001b[38;5;241m>\u001b[39m Optional[Result]:\n\u001b[0;32m    675\u001b[0m \u001b[38;5;250m    \u001b[39m\u001b[38;5;124;03m\"\"\"Runs a blocking job.\u001b[39;00m\n\u001b[0;32m    676\u001b[0m \n\u001b[0;32m    677\u001b[0m \u001b[38;5;124;03m    In the blocking mode, the engine blocks until the job is completed, failed, or\u001b[39;00m\n\u001b[1;32m   (...)\u001b[0m\n\u001b[0;32m    704\u001b[0m \u001b[38;5;124;03m        FailedJobError: if the remote job fails on the server side (\"cancelled\" or \"failed\")\u001b[39;00m\n\u001b[0;32m    705\u001b[0m \u001b[38;5;124;03m    \"\"\"\u001b[39;00m\n\u001b[1;32m--> 706\u001b[0m     job \u001b[38;5;241m=\u001b[39m \u001b[38;5;28mself\u001b[39m\u001b[38;5;241m.\u001b[39mrun_async(\n\u001b[0;32m    707\u001b[0m         program, compile_options\u001b[38;5;241m=\u001b[39mcompile_options, recompile\u001b[38;5;241m=\u001b[39mrecompile, \u001b[38;5;241m*\u001b[39m\u001b[38;5;241m*\u001b[39mkwargs\n\u001b[0;32m    708\u001b[0m     )\n\u001b[0;32m    709\u001b[0m     \u001b[38;5;28;01mtry\u001b[39;00m:\n\u001b[0;32m    710\u001b[0m         \u001b[38;5;28;01mwhile\u001b[39;00m \u001b[38;5;28;01mTrue\u001b[39;00m:\n\u001b[0;32m    711\u001b[0m             \u001b[38;5;66;03m# TODO: needed to refresh connection; remove once xcc.Connection\u001b[39;00m\n\u001b[0;32m    712\u001b[0m             \u001b[38;5;66;03m# is able to refresh config info dynamically\u001b[39;00m\n",
      "File \u001b[1;32mc:\\Users\\mhakimi\\Documents\\strawberryfields9\\StrawberryFieldsVenv\\lib\\site-packages\\strawberryfields\\engine.py:842\u001b[0m, in \u001b[0;36mRemoteEngine.run_async\u001b[1;34m(self, program, compile_options, recompile, **kwargs)\u001b[0m\n\u001b[0;32m    838\u001b[0m circuit \u001b[38;5;241m=\u001b[39m bb\u001b[38;5;241m.\u001b[39mserialize()\n\u001b[0;32m    840\u001b[0m connection \u001b[38;5;241m=\u001b[39m \u001b[38;5;28mself\u001b[39m\u001b[38;5;241m.\u001b[39mconnection\n\u001b[1;32m--> 842\u001b[0m job \u001b[38;5;241m=\u001b[39m \u001b[43mxcc\u001b[49m\u001b[38;5;241;43m.\u001b[39;49m\u001b[43mJob\u001b[49m\u001b[38;5;241;43m.\u001b[39;49m\u001b[43msubmit\u001b[49m\u001b[43m(\u001b[49m\n\u001b[0;32m    843\u001b[0m \u001b[43m    \u001b[49m\u001b[43mconnection\u001b[49m\u001b[38;5;241;43m=\u001b[39;49m\u001b[43mconnection\u001b[49m\u001b[43m,\u001b[49m\n\u001b[0;32m    844\u001b[0m \u001b[43m    \u001b[49m\u001b[43mname\u001b[49m\u001b[38;5;241;43m=\u001b[39;49m\u001b[43mprogram\u001b[49m\u001b[38;5;241;43m.\u001b[39;49m\u001b[43mname\u001b[49m\u001b[43m,\u001b[49m\n\u001b[0;32m    845\u001b[0m \u001b[43m    \u001b[49m\u001b[43mtarget\u001b[49m\u001b[38;5;241;43m=\u001b[39;49m\u001b[38;5;28;43mself\u001b[39;49m\u001b[38;5;241;43m.\u001b[39;49m\u001b[43mtarget\u001b[49m\u001b[43m,\u001b[49m\n\u001b[0;32m    846\u001b[0m \u001b[43m    \u001b[49m\u001b[43mcircuit\u001b[49m\u001b[38;5;241;43m=\u001b[39;49m\u001b[43mcircuit\u001b[49m\u001b[43m,\u001b[49m\n\u001b[0;32m    847\u001b[0m \u001b[43m    \u001b[49m\u001b[43mlanguage\u001b[49m\u001b[38;5;241;43m=\u001b[39;49m\u001b[38;5;124;43mf\u001b[39;49m\u001b[38;5;124;43m\"\u001b[39;49m\u001b[38;5;124;43mblackbird:\u001b[39;49m\u001b[38;5;132;43;01m{\u001b[39;49;00m\u001b[43mbb\u001b[49m\u001b[38;5;241;43m.\u001b[39;49m\u001b[43mversion\u001b[49m\u001b[38;5;132;43;01m}\u001b[39;49;00m\u001b[38;5;124;43m\"\u001b[39;49m\u001b[43m,\u001b[49m\n\u001b[0;32m    848\u001b[0m \u001b[43m\u001b[49m\u001b[43m)\u001b[49m\n\u001b[0;32m    850\u001b[0m \u001b[38;5;28;01mreturn\u001b[39;00m job\n",
      "File \u001b[1;32mc:\\Users\\mhakimi\\Documents\\strawberryfields9\\StrawberryFieldsVenv\\lib\\site-packages\\xcc\\job.py:156\u001b[0m, in \u001b[0;36mJob.submit\u001b[1;34m(connection, name, target, circuit, language)\u001b[0m\n\u001b[0;32m    138\u001b[0m \u001b[38;5;250m\u001b[39m\u001b[38;5;124;03m\"\"\"Submits a job to the Xanadu Cloud.\u001b[39;00m\n\u001b[0;32m    139\u001b[0m \n\u001b[0;32m    140\u001b[0m \u001b[38;5;124;03mArgs:\u001b[39;00m\n\u001b[1;32m   (...)\u001b[0m\n\u001b[0;32m    148\u001b[0m \u001b[38;5;124;03m    Job: job submitted to the Xanadu Cloud\u001b[39;00m\n\u001b[0;32m    149\u001b[0m \u001b[38;5;124;03m\"\"\"\u001b[39;00m\n\u001b[0;32m    150\u001b[0m payload \u001b[38;5;241m=\u001b[39m {\n\u001b[0;32m    151\u001b[0m     \u001b[38;5;124m\"\u001b[39m\u001b[38;5;124mname\u001b[39m\u001b[38;5;124m\"\u001b[39m: name,\n\u001b[0;32m    152\u001b[0m     \u001b[38;5;124m\"\u001b[39m\u001b[38;5;124mtarget\u001b[39m\u001b[38;5;124m\"\u001b[39m: target,\n\u001b[0;32m    153\u001b[0m     \u001b[38;5;124m\"\u001b[39m\u001b[38;5;124mcircuit\u001b[39m\u001b[38;5;124m\"\u001b[39m: circuit,\n\u001b[0;32m    154\u001b[0m     \u001b[38;5;124m\"\u001b[39m\u001b[38;5;124mlanguage\u001b[39m\u001b[38;5;124m\"\u001b[39m: language,\n\u001b[0;32m    155\u001b[0m }\n\u001b[1;32m--> 156\u001b[0m response \u001b[38;5;241m=\u001b[39m \u001b[43mconnection\u001b[49m\u001b[38;5;241;43m.\u001b[39;49m\u001b[43mrequest\u001b[49m\u001b[43m(\u001b[49m\u001b[38;5;124;43m\"\u001b[39;49m\u001b[38;5;124;43mPOST\u001b[39;49m\u001b[38;5;124;43m\"\u001b[39;49m\u001b[43m,\u001b[49m\u001b[43m \u001b[49m\u001b[38;5;124;43m\"\u001b[39;49m\u001b[38;5;124;43m/jobs\u001b[39;49m\u001b[38;5;124;43m\"\u001b[39;49m\u001b[43m,\u001b[49m\u001b[43m \u001b[49m\u001b[43mjson\u001b[49m\u001b[38;5;241;43m=\u001b[39;49m\u001b[43mpayload\u001b[49m\u001b[43m)\u001b[49m\n\u001b[0;32m    157\u001b[0m details \u001b[38;5;241m=\u001b[39m response\u001b[38;5;241m.\u001b[39mjson()\n\u001b[0;32m    159\u001b[0m job \u001b[38;5;241m=\u001b[39m Job(details[\u001b[38;5;124m\"\u001b[39m\u001b[38;5;124mid\u001b[39m\u001b[38;5;124m\"\u001b[39m], connection\u001b[38;5;241m=\u001b[39mconnection)\n",
      "File \u001b[1;32mc:\\Users\\mhakimi\\Documents\\strawberryfields9\\StrawberryFieldsVenv\\lib\\site-packages\\xcc\\connection.py:246\u001b[0m, in \u001b[0;36mConnection.request\u001b[1;34m(self, method, path, headers, **kwargs)\u001b[0m\n\u001b[0;32m    243\u001b[0m \u001b[38;5;28;01melse\u001b[39;00m:\n\u001b[0;32m    244\u001b[0m     headers \u001b[38;5;241m=\u001b[39m \u001b[38;5;28mself\u001b[39m\u001b[38;5;241m.\u001b[39mheaders\n\u001b[1;32m--> 246\u001b[0m response \u001b[38;5;241m=\u001b[39m \u001b[38;5;28mself\u001b[39m\u001b[38;5;241m.\u001b[39m_request(method\u001b[38;5;241m=\u001b[39mmethod, url\u001b[38;5;241m=\u001b[39murl, headers\u001b[38;5;241m=\u001b[39mheaders, \u001b[38;5;241m*\u001b[39m\u001b[38;5;241m*\u001b[39mkwargs)\n\u001b[0;32m    248\u001b[0m \u001b[38;5;28;01mif\u001b[39;00m response\u001b[38;5;241m.\u001b[39mstatus_code \u001b[38;5;241m==\u001b[39m \u001b[38;5;241m401\u001b[39m:\n\u001b[0;32m    249\u001b[0m     \u001b[38;5;28mself\u001b[39m\u001b[38;5;241m.\u001b[39mupdate_access_token()\n",
      "File \u001b[1;32mc:\\Users\\mhakimi\\Documents\\strawberryfields9\\StrawberryFieldsVenv\\lib\\site-packages\\xcc\\connection.py:361\u001b[0m, in \u001b[0;36mConnection._request\u001b[1;34m(self, method, url, **kwargs)\u001b[0m\n\u001b[0;32m    358\u001b[0m \u001b[38;5;28;01mtry\u001b[39;00m:\n\u001b[0;32m    359\u001b[0m     timeout \u001b[38;5;241m=\u001b[39m kwargs\u001b[38;5;241m.\u001b[39mpop(\u001b[38;5;124m\"\u001b[39m\u001b[38;5;124mtimeout\u001b[39m\u001b[38;5;124m\"\u001b[39m, \u001b[38;5;241m10\u001b[39m)\n\u001b[1;32m--> 361\u001b[0m     \u001b[38;5;28;01mreturn\u001b[39;00m requests\u001b[38;5;241m.\u001b[39mrequest(method\u001b[38;5;241m=\u001b[39mmethod, url\u001b[38;5;241m=\u001b[39murl, timeout\u001b[38;5;241m=\u001b[39mtimeout, \u001b[38;5;241m*\u001b[39m\u001b[38;5;241m*\u001b[39mkwargs)\n\u001b[0;32m    363\u001b[0m \u001b[38;5;28;01mexcept\u001b[39;00m requests\u001b[38;5;241m.\u001b[39mexceptions\u001b[38;5;241m.\u001b[39mTimeout \u001b[38;5;28;01mas\u001b[39;00m exc:\n\u001b[0;32m    364\u001b[0m     message \u001b[38;5;241m=\u001b[39m \u001b[38;5;124mf\u001b[39m\u001b[38;5;124m\"\u001b[39m\u001b[38;5;132;01m{\u001b[39;00mmethod\u001b[38;5;132;01m}\u001b[39;00m\u001b[38;5;124m request to \u001b[39m\u001b[38;5;124m'\u001b[39m\u001b[38;5;132;01m{\u001b[39;00murl\u001b[38;5;132;01m}\u001b[39;00m\u001b[38;5;124m'\u001b[39m\u001b[38;5;124m timed out\u001b[39m\u001b[38;5;124m\"\u001b[39m\n",
      "File \u001b[1;32mc:\\Users\\mhakimi\\Documents\\strawberryfields9\\StrawberryFieldsVenv\\lib\\site-packages\\requests\\api.py:59\u001b[0m, in \u001b[0;36mrequest\u001b[1;34m(method, url, **kwargs)\u001b[0m\n\u001b[0;32m     55\u001b[0m \u001b[38;5;66;03m# By using the 'with' statement we are sure the session is closed, thus we\u001b[39;00m\n\u001b[0;32m     56\u001b[0m \u001b[38;5;66;03m# avoid leaving sockets open which can trigger a ResourceWarning in some\u001b[39;00m\n\u001b[0;32m     57\u001b[0m \u001b[38;5;66;03m# cases, and look like a memory leak in others.\u001b[39;00m\n\u001b[0;32m     58\u001b[0m \u001b[38;5;28;01mwith\u001b[39;00m sessions\u001b[38;5;241m.\u001b[39mSession() \u001b[38;5;28;01mas\u001b[39;00m session:\n\u001b[1;32m---> 59\u001b[0m     \u001b[38;5;28;01mreturn\u001b[39;00m session\u001b[38;5;241m.\u001b[39mrequest(method\u001b[38;5;241m=\u001b[39mmethod, url\u001b[38;5;241m=\u001b[39murl, \u001b[38;5;241m*\u001b[39m\u001b[38;5;241m*\u001b[39mkwargs)\n",
      "File \u001b[1;32mc:\\Users\\mhakimi\\Documents\\strawberryfields9\\StrawberryFieldsVenv\\lib\\site-packages\\requests\\sessions.py:589\u001b[0m, in \u001b[0;36mSession.request\u001b[1;34m(self, method, url, params, data, headers, cookies, files, auth, timeout, allow_redirects, proxies, hooks, stream, verify, cert, json)\u001b[0m\n\u001b[0;32m    584\u001b[0m send_kwargs \u001b[38;5;241m=\u001b[39m {\n\u001b[0;32m    585\u001b[0m     \u001b[38;5;124m\"\u001b[39m\u001b[38;5;124mtimeout\u001b[39m\u001b[38;5;124m\"\u001b[39m: timeout,\n\u001b[0;32m    586\u001b[0m     \u001b[38;5;124m\"\u001b[39m\u001b[38;5;124mallow_redirects\u001b[39m\u001b[38;5;124m\"\u001b[39m: allow_redirects,\n\u001b[0;32m    587\u001b[0m }\n\u001b[0;32m    588\u001b[0m send_kwargs\u001b[38;5;241m.\u001b[39mupdate(settings)\n\u001b[1;32m--> 589\u001b[0m resp \u001b[38;5;241m=\u001b[39m \u001b[38;5;28mself\u001b[39m\u001b[38;5;241m.\u001b[39msend(prep, \u001b[38;5;241m*\u001b[39m\u001b[38;5;241m*\u001b[39msend_kwargs)\n\u001b[0;32m    591\u001b[0m \u001b[38;5;28;01mreturn\u001b[39;00m resp\n",
      "File \u001b[1;32mc:\\Users\\mhakimi\\Documents\\strawberryfields9\\StrawberryFieldsVenv\\lib\\site-packages\\requests\\sessions.py:703\u001b[0m, in \u001b[0;36mSession.send\u001b[1;34m(self, request, **kwargs)\u001b[0m\n\u001b[0;32m    700\u001b[0m start \u001b[38;5;241m=\u001b[39m preferred_clock()\n\u001b[0;32m    702\u001b[0m \u001b[38;5;66;03m# Send the request\u001b[39;00m\n\u001b[1;32m--> 703\u001b[0m r \u001b[38;5;241m=\u001b[39m adapter\u001b[38;5;241m.\u001b[39msend(request, \u001b[38;5;241m*\u001b[39m\u001b[38;5;241m*\u001b[39mkwargs)\n\u001b[0;32m    705\u001b[0m \u001b[38;5;66;03m# Total elapsed time of the request (approximately)\u001b[39;00m\n\u001b[0;32m    706\u001b[0m elapsed \u001b[38;5;241m=\u001b[39m preferred_clock() \u001b[38;5;241m-\u001b[39m start\n",
      "File \u001b[1;32mc:\\Users\\mhakimi\\Documents\\strawberryfields9\\StrawberryFieldsVenv\\lib\\site-packages\\requests\\adapters.py:667\u001b[0m, in \u001b[0;36mHTTPAdapter.send\u001b[1;34m(self, request, stream, timeout, verify, cert, proxies)\u001b[0m\n\u001b[0;32m    664\u001b[0m     timeout \u001b[38;5;241m=\u001b[39m TimeoutSauce(connect\u001b[38;5;241m=\u001b[39mtimeout, read\u001b[38;5;241m=\u001b[39mtimeout)\n\u001b[0;32m    666\u001b[0m \u001b[38;5;28;01mtry\u001b[39;00m:\n\u001b[1;32m--> 667\u001b[0m     resp \u001b[38;5;241m=\u001b[39m \u001b[43mconn\u001b[49m\u001b[38;5;241;43m.\u001b[39;49m\u001b[43murlopen\u001b[49m\u001b[43m(\u001b[49m\n\u001b[0;32m    668\u001b[0m \u001b[43m        \u001b[49m\u001b[43mmethod\u001b[49m\u001b[38;5;241;43m=\u001b[39;49m\u001b[43mrequest\u001b[49m\u001b[38;5;241;43m.\u001b[39;49m\u001b[43mmethod\u001b[49m\u001b[43m,\u001b[49m\n\u001b[0;32m    669\u001b[0m \u001b[43m        \u001b[49m\u001b[43murl\u001b[49m\u001b[38;5;241;43m=\u001b[39;49m\u001b[43murl\u001b[49m\u001b[43m,\u001b[49m\n\u001b[0;32m    670\u001b[0m \u001b[43m        \u001b[49m\u001b[43mbody\u001b[49m\u001b[38;5;241;43m=\u001b[39;49m\u001b[43mrequest\u001b[49m\u001b[38;5;241;43m.\u001b[39;49m\u001b[43mbody\u001b[49m\u001b[43m,\u001b[49m\n\u001b[0;32m    671\u001b[0m \u001b[43m        \u001b[49m\u001b[43mheaders\u001b[49m\u001b[38;5;241;43m=\u001b[39;49m\u001b[43mrequest\u001b[49m\u001b[38;5;241;43m.\u001b[39;49m\u001b[43mheaders\u001b[49m\u001b[43m,\u001b[49m\n\u001b[0;32m    672\u001b[0m \u001b[43m        \u001b[49m\u001b[43mredirect\u001b[49m\u001b[38;5;241;43m=\u001b[39;49m\u001b[38;5;28;43;01mFalse\u001b[39;49;00m\u001b[43m,\u001b[49m\n\u001b[0;32m    673\u001b[0m \u001b[43m        \u001b[49m\u001b[43massert_same_host\u001b[49m\u001b[38;5;241;43m=\u001b[39;49m\u001b[38;5;28;43;01mFalse\u001b[39;49;00m\u001b[43m,\u001b[49m\n\u001b[0;32m    674\u001b[0m \u001b[43m        \u001b[49m\u001b[43mpreload_content\u001b[49m\u001b[38;5;241;43m=\u001b[39;49m\u001b[38;5;28;43;01mFalse\u001b[39;49;00m\u001b[43m,\u001b[49m\n\u001b[0;32m    675\u001b[0m \u001b[43m        \u001b[49m\u001b[43mdecode_content\u001b[49m\u001b[38;5;241;43m=\u001b[39;49m\u001b[38;5;28;43;01mFalse\u001b[39;49;00m\u001b[43m,\u001b[49m\n\u001b[0;32m    676\u001b[0m \u001b[43m        \u001b[49m\u001b[43mretries\u001b[49m\u001b[38;5;241;43m=\u001b[39;49m\u001b[38;5;28;43mself\u001b[39;49m\u001b[38;5;241;43m.\u001b[39;49m\u001b[43mmax_retries\u001b[49m\u001b[43m,\u001b[49m\n\u001b[0;32m    677\u001b[0m \u001b[43m        \u001b[49m\u001b[43mtimeout\u001b[49m\u001b[38;5;241;43m=\u001b[39;49m\u001b[43mtimeout\u001b[49m\u001b[43m,\u001b[49m\n\u001b[0;32m    678\u001b[0m \u001b[43m        \u001b[49m\u001b[43mchunked\u001b[49m\u001b[38;5;241;43m=\u001b[39;49m\u001b[43mchunked\u001b[49m\u001b[43m,\u001b[49m\n\u001b[0;32m    679\u001b[0m \u001b[43m    \u001b[49m\u001b[43m)\u001b[49m\n\u001b[0;32m    681\u001b[0m \u001b[38;5;28;01mexcept\u001b[39;00m (ProtocolError, \u001b[38;5;167;01mOSError\u001b[39;00m) \u001b[38;5;28;01mas\u001b[39;00m err:\n\u001b[0;32m    682\u001b[0m     \u001b[38;5;28;01mraise\u001b[39;00m \u001b[38;5;167;01mConnectionError\u001b[39;00m(err, request\u001b[38;5;241m=\u001b[39mrequest)\n",
      "File \u001b[1;32mc:\\Users\\mhakimi\\Documents\\strawberryfields9\\StrawberryFieldsVenv\\lib\\site-packages\\urllib3\\connectionpool.py:787\u001b[0m, in \u001b[0;36mHTTPConnectionPool.urlopen\u001b[1;34m(self, method, url, body, headers, retries, redirect, assert_same_host, timeout, pool_timeout, release_conn, chunked, body_pos, preload_content, decode_content, **response_kw)\u001b[0m\n\u001b[0;32m    784\u001b[0m response_conn \u001b[38;5;241m=\u001b[39m conn \u001b[38;5;28;01mif\u001b[39;00m \u001b[38;5;129;01mnot\u001b[39;00m release_conn \u001b[38;5;28;01melse\u001b[39;00m \u001b[38;5;28;01mNone\u001b[39;00m\n\u001b[0;32m    786\u001b[0m \u001b[38;5;66;03m# Make the request on the HTTPConnection object\u001b[39;00m\n\u001b[1;32m--> 787\u001b[0m response \u001b[38;5;241m=\u001b[39m \u001b[38;5;28mself\u001b[39m\u001b[38;5;241m.\u001b[39m_make_request(\n\u001b[0;32m    788\u001b[0m     conn,\n\u001b[0;32m    789\u001b[0m     method,\n\u001b[0;32m    790\u001b[0m     url,\n\u001b[0;32m    791\u001b[0m     timeout\u001b[38;5;241m=\u001b[39mtimeout_obj,\n\u001b[0;32m    792\u001b[0m     body\u001b[38;5;241m=\u001b[39mbody,\n\u001b[0;32m    793\u001b[0m     headers\u001b[38;5;241m=\u001b[39mheaders,\n\u001b[0;32m    794\u001b[0m     chunked\u001b[38;5;241m=\u001b[39mchunked,\n\u001b[0;32m    795\u001b[0m     retries\u001b[38;5;241m=\u001b[39mretries,\n\u001b[0;32m    796\u001b[0m     response_conn\u001b[38;5;241m=\u001b[39mresponse_conn,\n\u001b[0;32m    797\u001b[0m     preload_content\u001b[38;5;241m=\u001b[39mpreload_content,\n\u001b[0;32m    798\u001b[0m     decode_content\u001b[38;5;241m=\u001b[39mdecode_content,\n\u001b[0;32m    799\u001b[0m     \u001b[38;5;241m*\u001b[39m\u001b[38;5;241m*\u001b[39mresponse_kw,\n\u001b[0;32m    800\u001b[0m )\n\u001b[0;32m    802\u001b[0m \u001b[38;5;66;03m# Everything went great!\u001b[39;00m\n\u001b[0;32m    803\u001b[0m clean_exit \u001b[38;5;241m=\u001b[39m \u001b[38;5;28;01mTrue\u001b[39;00m\n",
      "File \u001b[1;32mc:\\Users\\mhakimi\\Documents\\strawberryfields9\\StrawberryFieldsVenv\\lib\\site-packages\\urllib3\\connectionpool.py:534\u001b[0m, in \u001b[0;36mHTTPConnectionPool._make_request\u001b[1;34m(self, conn, method, url, body, headers, retries, timeout, chunked, response_conn, preload_content, decode_content, enforce_content_length)\u001b[0m\n\u001b[0;32m    532\u001b[0m \u001b[38;5;66;03m# Receive the response from the server\u001b[39;00m\n\u001b[0;32m    533\u001b[0m \u001b[38;5;28;01mtry\u001b[39;00m:\n\u001b[1;32m--> 534\u001b[0m     response \u001b[38;5;241m=\u001b[39m \u001b[43mconn\u001b[49m\u001b[38;5;241;43m.\u001b[39;49m\u001b[43mgetresponse\u001b[49m\u001b[43m(\u001b[49m\u001b[43m)\u001b[49m\n\u001b[0;32m    535\u001b[0m \u001b[38;5;28;01mexcept\u001b[39;00m (BaseSSLError, \u001b[38;5;167;01mOSError\u001b[39;00m) \u001b[38;5;28;01mas\u001b[39;00m e:\n\u001b[0;32m    536\u001b[0m     \u001b[38;5;28mself\u001b[39m\u001b[38;5;241m.\u001b[39m_raise_timeout(err\u001b[38;5;241m=\u001b[39me, url\u001b[38;5;241m=\u001b[39murl, timeout_value\u001b[38;5;241m=\u001b[39mread_timeout)\n",
      "File \u001b[1;32mc:\\Users\\mhakimi\\Documents\\strawberryfields9\\StrawberryFieldsVenv\\lib\\site-packages\\urllib3\\connection.py:516\u001b[0m, in \u001b[0;36mHTTPConnection.getresponse\u001b[1;34m(self)\u001b[0m\n\u001b[0;32m    513\u001b[0m _shutdown \u001b[38;5;241m=\u001b[39m \u001b[38;5;28mgetattr\u001b[39m(\u001b[38;5;28mself\u001b[39m\u001b[38;5;241m.\u001b[39msock, \u001b[38;5;124m\"\u001b[39m\u001b[38;5;124mshutdown\u001b[39m\u001b[38;5;124m\"\u001b[39m, \u001b[38;5;28;01mNone\u001b[39;00m)\n\u001b[0;32m    515\u001b[0m \u001b[38;5;66;03m# Get the response from http.client.HTTPConnection\u001b[39;00m\n\u001b[1;32m--> 516\u001b[0m httplib_response \u001b[38;5;241m=\u001b[39m \u001b[38;5;28;43msuper\u001b[39;49m\u001b[43m(\u001b[49m\u001b[43m)\u001b[49m\u001b[38;5;241;43m.\u001b[39;49m\u001b[43mgetresponse\u001b[49m\u001b[43m(\u001b[49m\u001b[43m)\u001b[49m\n\u001b[0;32m    518\u001b[0m \u001b[38;5;28;01mtry\u001b[39;00m:\n\u001b[0;32m    519\u001b[0m     assert_header_parsing(httplib_response\u001b[38;5;241m.\u001b[39mmsg)\n",
      "File \u001b[1;32mC:\\Python309\\lib\\http\\client.py:1377\u001b[0m, in \u001b[0;36mHTTPConnection.getresponse\u001b[1;34m(self)\u001b[0m\n\u001b[0;32m   1375\u001b[0m \u001b[38;5;28;01mtry\u001b[39;00m:\n\u001b[0;32m   1376\u001b[0m     \u001b[38;5;28;01mtry\u001b[39;00m:\n\u001b[1;32m-> 1377\u001b[0m         \u001b[43mresponse\u001b[49m\u001b[38;5;241;43m.\u001b[39;49m\u001b[43mbegin\u001b[49m\u001b[43m(\u001b[49m\u001b[43m)\u001b[49m\n\u001b[0;32m   1378\u001b[0m     \u001b[38;5;28;01mexcept\u001b[39;00m \u001b[38;5;167;01mConnectionError\u001b[39;00m:\n\u001b[0;32m   1379\u001b[0m         \u001b[38;5;28mself\u001b[39m\u001b[38;5;241m.\u001b[39mclose()\n",
      "File \u001b[1;32mC:\\Python309\\lib\\http\\client.py:320\u001b[0m, in \u001b[0;36mHTTPResponse.begin\u001b[1;34m(self)\u001b[0m\n\u001b[0;32m    318\u001b[0m \u001b[38;5;66;03m# read until we get a non-100 response\u001b[39;00m\n\u001b[0;32m    319\u001b[0m \u001b[38;5;28;01mwhile\u001b[39;00m \u001b[38;5;28;01mTrue\u001b[39;00m:\n\u001b[1;32m--> 320\u001b[0m     version, status, reason \u001b[38;5;241m=\u001b[39m \u001b[38;5;28;43mself\u001b[39;49m\u001b[38;5;241;43m.\u001b[39;49m\u001b[43m_read_status\u001b[49m\u001b[43m(\u001b[49m\u001b[43m)\u001b[49m\n\u001b[0;32m    321\u001b[0m     \u001b[38;5;28;01mif\u001b[39;00m status \u001b[38;5;241m!=\u001b[39m CONTINUE:\n\u001b[0;32m    322\u001b[0m         \u001b[38;5;28;01mbreak\u001b[39;00m\n",
      "File \u001b[1;32mC:\\Python309\\lib\\http\\client.py:281\u001b[0m, in \u001b[0;36mHTTPResponse._read_status\u001b[1;34m(self)\u001b[0m\n\u001b[0;32m    280\u001b[0m \u001b[38;5;28;01mdef\u001b[39;00m\u001b[38;5;250m \u001b[39m\u001b[38;5;21m_read_status\u001b[39m(\u001b[38;5;28mself\u001b[39m):\n\u001b[1;32m--> 281\u001b[0m     line \u001b[38;5;241m=\u001b[39m \u001b[38;5;28mstr\u001b[39m(\u001b[38;5;28;43mself\u001b[39;49m\u001b[38;5;241;43m.\u001b[39;49m\u001b[43mfp\u001b[49m\u001b[38;5;241;43m.\u001b[39;49m\u001b[43mreadline\u001b[49m\u001b[43m(\u001b[49m\u001b[43m_MAXLINE\u001b[49m\u001b[43m \u001b[49m\u001b[38;5;241;43m+\u001b[39;49m\u001b[43m \u001b[49m\u001b[38;5;241;43m1\u001b[39;49m\u001b[43m)\u001b[49m, \u001b[38;5;124m\"\u001b[39m\u001b[38;5;124miso-8859-1\u001b[39m\u001b[38;5;124m\"\u001b[39m)\n\u001b[0;32m    282\u001b[0m     \u001b[38;5;28;01mif\u001b[39;00m \u001b[38;5;28mlen\u001b[39m(line) \u001b[38;5;241m>\u001b[39m _MAXLINE:\n\u001b[0;32m    283\u001b[0m         \u001b[38;5;28;01mraise\u001b[39;00m LineTooLong(\u001b[38;5;124m\"\u001b[39m\u001b[38;5;124mstatus line\u001b[39m\u001b[38;5;124m\"\u001b[39m)\n",
      "File \u001b[1;32mC:\\Python309\\lib\\socket.py:704\u001b[0m, in \u001b[0;36mSocketIO.readinto\u001b[1;34m(self, b)\u001b[0m\n\u001b[0;32m    702\u001b[0m \u001b[38;5;28;01mwhile\u001b[39;00m \u001b[38;5;28;01mTrue\u001b[39;00m:\n\u001b[0;32m    703\u001b[0m     \u001b[38;5;28;01mtry\u001b[39;00m:\n\u001b[1;32m--> 704\u001b[0m         \u001b[38;5;28;01mreturn\u001b[39;00m \u001b[38;5;28;43mself\u001b[39;49m\u001b[38;5;241;43m.\u001b[39;49m\u001b[43m_sock\u001b[49m\u001b[38;5;241;43m.\u001b[39;49m\u001b[43mrecv_into\u001b[49m\u001b[43m(\u001b[49m\u001b[43mb\u001b[49m\u001b[43m)\u001b[49m\n\u001b[0;32m    705\u001b[0m     \u001b[38;5;28;01mexcept\u001b[39;00m timeout:\n\u001b[0;32m    706\u001b[0m         \u001b[38;5;28mself\u001b[39m\u001b[38;5;241m.\u001b[39m_timeout_occurred \u001b[38;5;241m=\u001b[39m \u001b[38;5;28;01mTrue\u001b[39;00m\n",
      "File \u001b[1;32mC:\\Python309\\lib\\ssl.py:1242\u001b[0m, in \u001b[0;36mSSLSocket.recv_into\u001b[1;34m(self, buffer, nbytes, flags)\u001b[0m\n\u001b[0;32m   1238\u001b[0m     \u001b[38;5;28;01mif\u001b[39;00m flags \u001b[38;5;241m!=\u001b[39m \u001b[38;5;241m0\u001b[39m:\n\u001b[0;32m   1239\u001b[0m         \u001b[38;5;28;01mraise\u001b[39;00m \u001b[38;5;167;01mValueError\u001b[39;00m(\n\u001b[0;32m   1240\u001b[0m           \u001b[38;5;124m\"\u001b[39m\u001b[38;5;124mnon-zero flags not allowed in calls to recv_into() on \u001b[39m\u001b[38;5;132;01m%s\u001b[39;00m\u001b[38;5;124m\"\u001b[39m \u001b[38;5;241m%\u001b[39m\n\u001b[0;32m   1241\u001b[0m           \u001b[38;5;28mself\u001b[39m\u001b[38;5;241m.\u001b[39m\u001b[38;5;18m__class__\u001b[39m)\n\u001b[1;32m-> 1242\u001b[0m     \u001b[38;5;28;01mreturn\u001b[39;00m \u001b[38;5;28;43mself\u001b[39;49m\u001b[38;5;241;43m.\u001b[39;49m\u001b[43mread\u001b[49m\u001b[43m(\u001b[49m\u001b[43mnbytes\u001b[49m\u001b[43m,\u001b[49m\u001b[43m \u001b[49m\u001b[43mbuffer\u001b[49m\u001b[43m)\u001b[49m\n\u001b[0;32m   1243\u001b[0m \u001b[38;5;28;01melse\u001b[39;00m:\n\u001b[0;32m   1244\u001b[0m     \u001b[38;5;28;01mreturn\u001b[39;00m \u001b[38;5;28msuper\u001b[39m()\u001b[38;5;241m.\u001b[39mrecv_into(buffer, nbytes, flags)\n",
      "File \u001b[1;32mC:\\Python309\\lib\\ssl.py:1100\u001b[0m, in \u001b[0;36mSSLSocket.read\u001b[1;34m(self, len, buffer)\u001b[0m\n\u001b[0;32m   1098\u001b[0m \u001b[38;5;28;01mtry\u001b[39;00m:\n\u001b[0;32m   1099\u001b[0m     \u001b[38;5;28;01mif\u001b[39;00m buffer \u001b[38;5;129;01mis\u001b[39;00m \u001b[38;5;129;01mnot\u001b[39;00m \u001b[38;5;28;01mNone\u001b[39;00m:\n\u001b[1;32m-> 1100\u001b[0m         \u001b[38;5;28;01mreturn\u001b[39;00m \u001b[38;5;28;43mself\u001b[39;49m\u001b[38;5;241;43m.\u001b[39;49m\u001b[43m_sslobj\u001b[49m\u001b[38;5;241;43m.\u001b[39;49m\u001b[43mread\u001b[49m\u001b[43m(\u001b[49m\u001b[38;5;28;43mlen\u001b[39;49m\u001b[43m,\u001b[49m\u001b[43m \u001b[49m\u001b[43mbuffer\u001b[49m\u001b[43m)\u001b[49m\n\u001b[0;32m   1101\u001b[0m     \u001b[38;5;28;01melse\u001b[39;00m:\n\u001b[0;32m   1102\u001b[0m         \u001b[38;5;28;01mreturn\u001b[39;00m \u001b[38;5;28mself\u001b[39m\u001b[38;5;241m.\u001b[39m_sslobj\u001b[38;5;241m.\u001b[39mread(\u001b[38;5;28mlen\u001b[39m)\n",
      "\u001b[1;31mKeyboardInterrupt\u001b[0m: "
     ]
    }
   ],
   "source": [
    "#Defines the optimizer that minimizes the objective function\n",
    "\n",
    "out = minimize(objective, x0=[random.randint(-150,150)/100], method=\"Nelder-Mead\", options={'maxiter':20})\n",
    "print(out)\n",
    "\n",
    "# #Creates the graphical visualization\n",
    "\n",
    "# final = run_circuit(out['x'])\n",
    "\n",
    "# x = [i/10 for i in range(-30, 30)]\n",
    "# y = []\n",
    "\n",
    "\n",
    "# for i in range(0, len(x)):\n",
    "#     res = simps([final[k][i] for k in range(0, len(x))], x)\n",
    "#     y.append(res)\n",
    "\n",
    "# plt.plot(x, y)\n",
    "# plt.plot([parabolic_min, parabolic_min, parabolic_min, parabolic_min, parabolic_min], [0, 0.25*max(y), 0.5*max(y), 0.75*max(y), max(y)])\n",
    "\n",
    "# plt.show()"
   ]
  },
  {
   "cell_type": "code",
   "execution_count": null,
   "metadata": {},
   "outputs": [
    {
     "name": "stdout",
     "output_type": "stream",
     "text": [
      "       message: Optimization terminated successfully.\n",
      "       success: True\n",
      "        status: 0\n",
      "           fun: 1.0745850236452489e-08\n",
      "             x: [-4.699e-01]\n",
      "           nit: 18\n",
      "          nfev: 36\n",
      " final_simplex: (array([[-4.699e-01],\n",
      "                       [-4.700e-01]]), array([ 1.075e-08,  1.697e-07]))\n"
     ]
    }
   ],
   "source": [
    "print(out)"
   ]
  },
  {
   "cell_type": "code",
   "execution_count": null,
   "metadata": {},
   "outputs": [
    {
     "name": "stdout",
     "output_type": "stream",
     "text": [
      "[-0.46990625]\n"
     ]
    }
   ],
   "source": [
    "print(out['x'])"
   ]
  },
  {
   "cell_type": "code",
   "execution_count": null,
   "metadata": {},
   "outputs": [
    {
     "name": "stderr",
     "output_type": "stream",
     "text": [
      "2025-06-24 11:17:33,222 - INFO - Compiling program for device simulon_gaussian using compiler gaussian.\n",
      "2025-06-24 11:17:36,104 - INFO - The remote job b3fc36ec-f6b3-48f7-8e8d-23f337a057aa has been completed.\n"
     ]
    },
    {
     "ename": "AttributeError",
     "evalue": "'NoneType' object has no attribute 'wigner'",
     "output_type": "error",
     "traceback": [
      "\u001b[1;31m---------------------------------------------------------------------------\u001b[0m",
      "\u001b[1;31mAttributeError\u001b[0m                            Traceback (most recent call last)",
      "Cell \u001b[1;32mIn[22], line 3\u001b[0m\n\u001b[0;32m      1\u001b[0m \u001b[38;5;66;03m#Creates the graphical visualization\u001b[39;00m\n\u001b[1;32m----> 3\u001b[0m final \u001b[38;5;241m=\u001b[39m \u001b[43mrun_circuit\u001b[49m\u001b[43m(\u001b[49m\u001b[43mout\u001b[49m\u001b[43m[\u001b[49m\u001b[38;5;124;43m'\u001b[39;49m\u001b[38;5;124;43mx\u001b[39;49m\u001b[38;5;124;43m'\u001b[39;49m\u001b[43m]\u001b[49m\u001b[43m)\u001b[49m\n\u001b[0;32m      5\u001b[0m x \u001b[38;5;241m=\u001b[39m [i\u001b[38;5;241m/\u001b[39m\u001b[38;5;241m10\u001b[39m \u001b[38;5;28;01mfor\u001b[39;00m i \u001b[38;5;129;01min\u001b[39;00m \u001b[38;5;28mrange\u001b[39m(\u001b[38;5;241m-\u001b[39m\u001b[38;5;241m30\u001b[39m, \u001b[38;5;241m30\u001b[39m)]\n\u001b[0;32m      6\u001b[0m y \u001b[38;5;241m=\u001b[39m []\n",
      "Cell \u001b[1;32mIn[21], line 22\u001b[0m, in \u001b[0;36mrun_circuit\u001b[1;34m(param)\u001b[0m\n\u001b[0;32m     20\u001b[0m result \u001b[38;5;241m=\u001b[39m eng\u001b[38;5;241m.\u001b[39mrun(prog, shots\u001b[38;5;241m=\u001b[39m\u001b[38;5;241m1\u001b[39m) \u001b[38;5;66;03m# run_options={\"eval\": False})\u001b[39;00m\n\u001b[0;32m     21\u001b[0m state \u001b[38;5;241m=\u001b[39m result\u001b[38;5;241m.\u001b[39mstate\n\u001b[1;32m---> 22\u001b[0m a \u001b[38;5;241m=\u001b[39m \u001b[43mstate\u001b[49m\u001b[38;5;241;43m.\u001b[39;49m\u001b[43mwigner\u001b[49m(\u001b[38;5;241m0\u001b[39m, [i\u001b[38;5;241m/\u001b[39m\u001b[38;5;241m10\u001b[39m \u001b[38;5;28;01mfor\u001b[39;00m i \u001b[38;5;129;01min\u001b[39;00m \u001b[38;5;28mrange\u001b[39m(\u001b[38;5;241m-\u001b[39m\u001b[38;5;241m30\u001b[39m, \u001b[38;5;241m30\u001b[39m)], [i\u001b[38;5;241m/\u001b[39m\u001b[38;5;241m10\u001b[39m \u001b[38;5;28;01mfor\u001b[39;00m i \u001b[38;5;129;01min\u001b[39;00m \u001b[38;5;28mrange\u001b[39m(\u001b[38;5;241m-\u001b[39m\u001b[38;5;241m30\u001b[39m, \u001b[38;5;241m30\u001b[39m)])\n\u001b[0;32m     23\u001b[0m \u001b[38;5;28;01mreturn\u001b[39;00m a\n",
      "\u001b[1;31mAttributeError\u001b[0m: 'NoneType' object has no attribute 'wigner'"
     ]
    }
   ],
   "source": [
    "# #Creates the graphical visualization\n",
    "\n",
    "# final = run_circuit(out['x'])\n",
    "\n",
    "# x = [i/10 for i in range(-30, 30)]\n",
    "# y = []\n",
    "\n",
    "\n",
    "# for i in range(0, len(x)):\n",
    "#     res = simps([final[k][i] for k in range(0, len(x))], x)\n",
    "#     y.append(res)\n",
    "\n",
    "# plt.plot(x, y)\n",
    "# plt.plot([parabolic_min, parabolic_min, parabolic_min, parabolic_min, parabolic_min], [0, 0.25*max(y), 0.5*max(y), 0.75*max(y), max(y)])\n",
    "\n",
    "# plt.show()"
   ]
  },
  {
   "cell_type": "markdown",
   "metadata": {},
   "source": [
    "So the optimizer performs decently well. As you can see, the $x$-quadrature has spiked pretty close to the optimal point, which is marked by the orange line!\n",
    "\n",
    "You are welcome to play around further with other mixers, parameters, circuit depth, etc. to see what works the best before you proceed in this notebook, but for now, I'm going to move onto something a bit more interesting! For some reason, the optimizer does not do as well when $a$ is chosen outside the range of $-1$ to $1$, but this can be improved by playing around with the squeezing parameters, as well as the value of Planck's constant. For instance, let's increase the value of Planck's constant to one and try to run the simulation for a larger value of $a$ (I include the results as an image so I don't have to re-write all the code below). All other parameters were kept constant, except the value of Planck's constant, and the value of $a$, which is now $-1.41$:\n",
    "\n",
    "<br>\n",
    "<img src=\"image1.png\" style=\"height:400px;\">\n",
    "<br>\n",
    "\n",
    "As you can see, we get pretty decent results! It is important to note that when I was playing around with it, the optimizer was super finicky, and sometimes would not work. There are a lot of sources of error that could account for this, including limits in classical optimizers when sampling stochastic functions, low cutoff dimension, etc."
   ]
  },
  {
   "cell_type": "markdown",
   "metadata": {},
   "source": [
    "**Simulating Continuous-Variable QAOA For Harder Problems** <div id=\"6\"></div>\n",
    "\n",
    "Anyways, we have solved a very simple problem, but what if we want to solve something a bit more complex, like a question involving two variables? Well, we can implement that as well, but this time, we will have to use two optical modes instead of one, to encode both variables in our cost function. Let's try to minimize the function given by:\n",
    "\n",
    "<br><br>\n",
    "$$f(x, \\ y) \\ = \\ (2x-y)^2 + (x-1)(y+1) \\ = \\ x^2 \\ + \\ y^2 \\ + \\ x \\ + \\ y \\ + \\ xy$$\n",
    "\n",
    "$$\\Rightarrow \\ \\min f(x, \\ y) \\ = \\ -\\frac{1}{3} \\ \\Rightarrow \\ (x, \\ y) \\ = \\ \\Big( -\\frac{1}{3}, \\ -\\frac{1}{3} \\Big) \\ \\approx \\ (-0.333333333, \\ -0.333333333)$$\n",
    "<br><br>"
   ]
  },
  {
   "cell_type": "markdown",
   "metadata": {},
   "source": [
    "As far as more complex functions go, this one is fairly simple and \"symetric\" in terms of its minimum. We can put this in the form of our unitary:\n",
    "\n",
    "<br><br>\n",
    "$$U(\\alpha, \\ \\gamma) \\ = \\ e^{-i\\alpha \\hat{H}_{M}} e^{-i \\gamma (\\hat{x}^2 \\ + \\ \\hat{x}\\hat{y} \\ + \\ \\hat{x} \\ + \\ \\hat{y}^2 \\ + \\ \\hat{y})}$$\n",
    "<br><br>\n",
    "\n",
    "Since the position operators all commute, we can write this unitary as a series of exponentials, which we can translate to photonic gates. We have:\n",
    "\n",
    "<br><br>\n",
    "$$e^{-i \\gamma (\\hat{x}^2 \\ + \\ \\hat{x}\\hat{y} \\ + \\ \\hat{x} \\ + \\ \\hat{y}^2 \\ + \\ \\hat{y})} \\ = \\ e^{-i \\gamma \\hat{x}^2} e^{-i \\gamma \\hat{x}\\hat{y}} e^{-i \\gamma \\hat{x}} e^{-i \\gamma \\hat{y}^2} e^{-i \\gamma \\hat{y}}$$\n",
    "<br><br>\n",
    "\n",
    "And then, doing all of the necessary algebra, we find that we can represent this series of unitaries as photonic gates:\n",
    "\n",
    "<br><br>\n",
    "$$\\Rightarrow \\ e^{-i \\gamma \\hat{x}^2} \\ = \\ P_{1}(-2 \\hbar \\gamma)$$\n",
    "<br>\n",
    "$$\\Rightarrow \\ e^{-i \\gamma \\hat{x}\\hat{y}} \\ = \\ CZ_{12}(-3 \\hbar \\gamma)$$\n",
    "<br>\n",
    "$$\\Rightarrow \\ e^{-i \\gamma \\hat{x}} \\ = \\ Z_{1}(-\\hbar \\gamma)$$\n",
    "<br>\n",
    "$$\\Rightarrow \\ e^{-i \\gamma \\hat{y}^2} \\ = \\ P_{2}(-2 \\hbar \\gamma)$$\n",
    "<br>\n",
    "$$\\Rightarrow \\ e^{-i \\gamma \\hat{y}} \\ = \\ Z_{2}(-\\hbar\\gamma)$$\n",
    "<br>\n",
    "$$U(\\alpha, \\ \\gamma) \\ = \\ e^{-i\\alpha \\hat{H}_{M}} \\ P_{1}(-2 \\hbar \\gamma) \\ CZ_{12}(-3 \\hbar \\gamma) \\ Z_{1}(-\\hbar \\gamma) \\ P_{2}(-2 \\hbar \\gamma) \\ Z_{2}(-\\hbar\\gamma)$$\n",
    "<br><br>\n",
    "\n",
    "Next, let's code this into our pre-existing simulation. We'll try both of the previous mixers in our simulations. Let's start with the kinetic mixer again, giving us a final unitary of:\n",
    "\n",
    "<br><br>\n",
    "$$U(\\alpha, \\ \\gamma) \\ = \\ F^{\\dagger}_{1} \\ F^{\\dagger}_{2} \\ P_{1}(-\\hbar\\alpha) \\ P_{2}(-\\hbar\\alpha) \\ F_{1} \\ F_{2} \\ P_{1}(-2 \\hbar \\gamma) \\ CZ_{12}(-3 \\hbar \\gamma) \\ Z_{1}(-\\hbar \\gamma) \\ P_{2}(-2 \\hbar \\gamma) \\ Z_{2}(-\\hbar\\gamma)$$\n",
    "<br><br>\n",
    "\n",
    "Without further delay, let's code up our simulation! We have a new classical cost function that we have to implement first. In addition, we have define the value of Planck's constant:"
   ]
  },
  {
   "cell_type": "code",
   "execution_count": null,
   "metadata": {},
   "outputs": [],
   "source": [
    "#Defining the value of h-bar\n",
    "\n",
    "sf.hbar = 0.5\n",
    "hbar = 0.5\n",
    "\n",
    "#Defining the classical cost function\n",
    "\n",
    "def function_optimize(x1, x2):\n",
    "    y = x1**2 + x2**2 + x1 + x2 + x1*x2\n",
    "    return y"
   ]
  },
  {
   "cell_type": "markdown",
   "metadata": {},
   "source": [
    "Next, we will have to define the new cost unitary, which we will be using in the QAOA procedure. This is fairly simple to do, as we have already come up with a gate-sequence that gives us our desired gate:"
   ]
  },
  {
   "cell_type": "code",
   "execution_count": null,
   "metadata": {},
   "outputs": [],
   "source": [
    "#Defining the cost unitary used in the QAOA procedure\n",
    "\n",
    "def cost_ham(q, p):\n",
    "\n",
    "    Zgate(-1**hbar*p) | q[1]\n",
    "    Pgate(-2*hbar*p) | q[1]\n",
    "    Zgate(-1*hbar*p) | q[0]\n",
    "    Pgate(-2*hbar*p) | q[0]\n",
    "    CZgate(-3*hbar*p) | (q[0], q[1])\n",
    "\n",
    "    return q"
   ]
  },
  {
   "cell_type": "markdown",
   "metadata": {},
   "source": [
    "We will also implement the kinetic mixer for two modes:"
   ]
  },
  {
   "cell_type": "code",
   "execution_count": null,
   "metadata": {},
   "outputs": [],
   "source": [
    "#Defining the mixer unitary used in the QAOA process\n",
    "\n",
    "def mixer_ham(q, p):\n",
    "\n",
    "    Rgate(-1*math.pi/2) | q[0]\n",
    "    Rgate(-1*math.pi/2) | q[1]\n",
    "\n",
    "    Pgate(-1*hbar*p) | q[0]\n",
    "    Pgate(-1*hbar*p) | q[1]\n",
    "\n",
    "    Rgate(math.pi/2) | q[0]\n",
    "    Rgate(math.pi/2) | q[1]\n",
    "\n",
    "    return q"
   ]
  },
  {
   "cell_type": "markdown",
   "metadata": {},
   "source": [
    "Just as we did before, we will assert the parameters that we will use to run our simulation. These parameters, like before, will be the squeezing parameter, the circuit depth, and the cutoff dimension:"
   ]
  },
  {
   "cell_type": "code",
   "execution_count": null,
   "metadata": {},
   "outputs": [],
   "source": [
    "#Defining circuit depth, cutoff dimension, and squeezing parameter\n",
    "\n",
    "squeezing = -0.4\n",
    "cutoff = 8\n",
    "circuit_depth = 3"
   ]
  },
  {
   "cell_type": "markdown",
   "metadata": {},
   "source": [
    "Once again, like we did before, we will define wo functions that run our circuit, one that returns numerical data for our visualizations, and one that samples the circuit. Again, we will optimize over only one parameter:"
   ]
  },
  {
   "cell_type": "code",
   "execution_count": null,
   "metadata": {},
   "outputs": [],
   "source": [
    "#Defining the function that simulates the circuit and returns results\n",
    "\n",
    "def run_circuit(param):\n",
    "\n",
    "    eng = sf.Engine(\"fock\", backend_options={\"cutoff_dim\":cutoff})\n",
    "    prog = sf.Program(2)\n",
    "\n",
    "    param1 = [param[0] for i in range(0, circuit_depth)]\n",
    "    param2 = [param[1] for i in range(0, circuit_depth)]\n",
    "\n",
    "    with prog.context as q:\n",
    "\n",
    "        Squeezed(squeezing,0) | q[0]\n",
    "        Squeezed(squeezing,0) | q[1]\n",
    "\n",
    "        for i in range(0, circuit_depth):\n",
    "            cost_ham(q, param1[i])\n",
    "            mixer_ham(q, param2[i])\n",
    "\n",
    "    state = eng.run(prog, run_options={\"eval\": False}).state\n",
    "\n",
    "    a = state.wigner(0, [i/10 for i in range(-40, 40)], [i/10 for i in range(-40, 40)])\n",
    "    b = state.wigner(1, [i/10 for i in range(-40, 40)], [i/10 for i in range(-40, 40)])\n",
    "\n",
    "    return [a, b]\n",
    "\n",
    "#Defining the sampling circuit\n",
    "\n",
    "def old_circuit(param):\n",
    "\n",
    "    eng = sf.Engine(\"fock\", backend_options={\"cutoff_dim\":cutoff})\n",
    "    prog = sf.Program(2)\n",
    "\n",
    "    param1 = [param[0] for i in range(0, circuit_depth)]\n",
    "    param2 = [param[1] for i in range(0, circuit_depth)]\n",
    "\n",
    "    with prog.context as q:\n",
    "\n",
    "        Squeezed(squeezing,0) | q[0]\n",
    "        Squeezed(squeezing,0) | q[1]\n",
    "\n",
    "        for i in range(0, circuit_depth):\n",
    "            cost_ham(q, param1[i])\n",
    "            mixer_ham(q, param2[i])\n",
    "\n",
    "\n",
    "        MeasureX | q[0]\n",
    "        MeasureX | q[1]\n",
    "\n",
    "    result = eng.run(prog)\n",
    "    # return [result.samples[0], result.samples[1]]\n",
    "    return result.samples[0].tolist()\n"
   ]
  },
  {
   "cell_type": "markdown",
   "metadata": {},
   "source": [
    "We will choose our number of iterations, and specify the objective function:"
   ]
  },
  {
   "cell_type": "code",
   "execution_count": null,
   "metadata": {},
   "outputs": [],
   "source": [
    "#Define the number of iterations that should be sampled from the circuit\n",
    "\n",
    "shots = 15\n",
    "\n",
    "#Defining the objective function that is optimized\n",
    "\n",
    "def objective(param):\n",
    "\n",
    "    costly = 0\n",
    "\n",
    "    for i in range(0, shots):\n",
    "\n",
    "        av = old_circuit(param)\n",
    "        result1 = av[0]\n",
    "        result2 = av[1]\n",
    "        calculation = function_optimize(result1, result2)\n",
    "        costly = costly + calculation\n",
    "\n",
    "    costly = costly/shots\n",
    "\n",
    "    print(\"Paramter: \"+str(param))\n",
    "    print(\"Value of Cost Function: \"+str(costly))\n",
    "\n",
    "    return costly"
   ]
  },
  {
   "cell_type": "markdown",
   "metadata": {},
   "source": [
    "Then, we choose our optimizer once again. Finally, we can construct our visualizations, just as we did before. This time, we will examine a contour plot showing the probability of measuring a specific point $(x, \\ y)$, as well as the quadratures showing the probability densities for the individual modes. It is important to note that the contour plot is not exact: since we passed the modes through a controlled-phase gate, they are no longer \"independent\", and thus, the probability of a particular measurement can't be determined by simply multiplying the individual probabilities of measurement. However, we can still get a decent approximation from the contour plot, so it is useful to examine as well:"
   ]
  },
  {
   "cell_type": "code",
   "execution_count": null,
   "metadata": {},
   "outputs": [
    {
     "name": "stdout",
     "output_type": "stream",
     "text": [
      "Paramter: [-0.35  0.78]\n",
      "Value of Cost Function: 2.087153210688833\n",
      "Paramter: [0.65 0.78]\n",
      "Value of Cost Function: 0.42322306025221595\n",
      "Paramter: [0.65 1.78]\n",
      "Value of Cost Function: 1.8463513225418164\n",
      "Paramter: [1.40995521 0.13002456]\n",
      "Value of Cost Function: -0.10238848512613022\n",
      "Paramter: [ 1.0635363  -0.80805536]\n",
      "Value of Cost Function: 1.7194858668453892\n",
      "Paramter: [1.81631333 0.4213544 ]\n",
      "Value of Cost Function: 0.6120235205092082\n",
      "Paramter: [1.21687867 0.28883717]\n",
      "Value of Cost Function: 0.3203424449168642\n",
      "Paramter: [ 1.41777829 -0.11985301]\n",
      "Value of Cost Function: 0.32032979319716404\n",
      "Paramter: [1.52213471 0.18516763]\n",
      "Value of Cost Function: 0.34908166903180615\n",
      "Paramter: [1.35047062 0.14920354]\n",
      "Value of Cost Function: 1.0185352964374093\n",
      "Paramter: [1.43051332 0.07100241]\n",
      "Value of Cost Function: -0.12997647954992658\n",
      "Paramter: [1.46022338 0.08069131]\n",
      "Value of Cost Function: 0.7366072295042626\n",
      "Paramter: [1.4011695  0.06025521]\n",
      "Value of Cost Function: 0.2813829990651762\n",
      "Paramter: [1.44543271 0.07564486]\n",
      "Value of Cost Function: 0.14016982774920456\n",
      "Paramter: [1.43283455 0.06354271]\n",
      "Value of Cost Function: -0.015371017185473264\n",
      "Paramter: [1.41613353 0.07711487]\n",
      "Value of Cost Function: -0.054987810317374104\n",
      "Paramter: [1.42854427 0.06344212]\n",
      "Value of Cost Function: 0.5228107706631325\n",
      "Paramter: [1.43224125 0.0745057 ]\n",
      "Value of Cost Function: 0.12352829572022825\n"
     ]
    },
    {
     "ename": "KeyboardInterrupt",
     "evalue": "",
     "output_type": "error",
     "traceback": [
      "\u001b[1;31m---------------------------------------------------------------------------\u001b[0m",
      "\u001b[1;31mKeyboardInterrupt\u001b[0m                         Traceback (most recent call last)",
      "Cell \u001b[1;32mIn[22], line 1\u001b[0m\n\u001b[1;32m----> 1\u001b[0m out \u001b[38;5;241m=\u001b[39m \u001b[43mminimize\u001b[49m\u001b[43m(\u001b[49m\u001b[43mobjective\u001b[49m\u001b[43m,\u001b[49m\u001b[43m \u001b[49m\u001b[43mx0\u001b[49m\u001b[38;5;241;43m=\u001b[39;49m\u001b[43m[\u001b[49m\u001b[43mrandom\u001b[49m\u001b[38;5;241;43m.\u001b[39;49m\u001b[43mrandint\u001b[49m\u001b[43m(\u001b[49m\u001b[38;5;241;43m-\u001b[39;49m\u001b[38;5;241;43m100\u001b[39;49m\u001b[43m,\u001b[49m\u001b[38;5;241;43m100\u001b[39;49m\u001b[43m)\u001b[49m\u001b[38;5;241;43m/\u001b[39;49m\u001b[38;5;241;43m100\u001b[39;49m\u001b[43m,\u001b[49m\u001b[43m \u001b[49m\u001b[43mrandom\u001b[49m\u001b[38;5;241;43m.\u001b[39;49m\u001b[43mrandint\u001b[49m\u001b[43m(\u001b[49m\u001b[38;5;241;43m-\u001b[39;49m\u001b[38;5;241;43m100\u001b[39;49m\u001b[43m,\u001b[49m\u001b[38;5;241;43m100\u001b[39;49m\u001b[43m)\u001b[49m\u001b[38;5;241;43m/\u001b[39;49m\u001b[38;5;241;43m100\u001b[39;49m\u001b[43m]\u001b[49m\u001b[43m,\u001b[49m\u001b[43m \u001b[49m\u001b[43mmethod\u001b[49m\u001b[38;5;241;43m=\u001b[39;49m\u001b[38;5;124;43m\"\u001b[39;49m\u001b[38;5;124;43mCOBYLA\u001b[39;49m\u001b[38;5;124;43m\"\u001b[39;49m\u001b[43m,\u001b[49m\u001b[43m \u001b[49m\u001b[43moptions\u001b[49m\u001b[38;5;241;43m=\u001b[39;49m\u001b[43m{\u001b[49m\u001b[38;5;124;43m'\u001b[39;49m\u001b[38;5;124;43mmaxiter\u001b[39;49m\u001b[38;5;124;43m'\u001b[39;49m\u001b[43m:\u001b[49m\u001b[38;5;241;43m20\u001b[39;49m\u001b[43m}\u001b[49m\u001b[43m)\u001b[49m\n\u001b[0;32m      2\u001b[0m \u001b[38;5;28mprint\u001b[39m(\u001b[38;5;124m\"\u001b[39m\u001b[38;5;124m-----------------------------\u001b[39m\u001b[38;5;124m\"\u001b[39m)\n\u001b[0;32m      3\u001b[0m \u001b[38;5;28mprint\u001b[39m(out)\n",
      "File \u001b[1;32mc:\\Users\\mhakimi\\Documents\\strawberryfields9\\StrawberryFieldsVenv\\lib\\site-packages\\scipy\\optimize\\_minimize.py:719\u001b[0m, in \u001b[0;36mminimize\u001b[1;34m(fun, x0, args, method, jac, hess, hessp, bounds, constraints, tol, callback, options)\u001b[0m\n\u001b[0;32m    716\u001b[0m     res \u001b[38;5;241m=\u001b[39m _minimize_tnc(fun, x0, args, jac, bounds, callback\u001b[38;5;241m=\u001b[39mcallback,\n\u001b[0;32m    717\u001b[0m                         \u001b[38;5;241m*\u001b[39m\u001b[38;5;241m*\u001b[39moptions)\n\u001b[0;32m    718\u001b[0m \u001b[38;5;28;01melif\u001b[39;00m meth \u001b[38;5;241m==\u001b[39m \u001b[38;5;124m'\u001b[39m\u001b[38;5;124mcobyla\u001b[39m\u001b[38;5;124m'\u001b[39m:\n\u001b[1;32m--> 719\u001b[0m     res \u001b[38;5;241m=\u001b[39m _minimize_cobyla(fun, x0, args, constraints, callback\u001b[38;5;241m=\u001b[39mcallback,\n\u001b[0;32m    720\u001b[0m                            bounds\u001b[38;5;241m=\u001b[39mbounds, \u001b[38;5;241m*\u001b[39m\u001b[38;5;241m*\u001b[39moptions)\n\u001b[0;32m    721\u001b[0m \u001b[38;5;28;01melif\u001b[39;00m meth \u001b[38;5;241m==\u001b[39m \u001b[38;5;124m'\u001b[39m\u001b[38;5;124mslsqp\u001b[39m\u001b[38;5;124m'\u001b[39m:\n\u001b[0;32m    722\u001b[0m     res \u001b[38;5;241m=\u001b[39m _minimize_slsqp(fun, x0, args, jac, bounds,\n\u001b[0;32m    723\u001b[0m                           constraints, callback\u001b[38;5;241m=\u001b[39mcallback, \u001b[38;5;241m*\u001b[39m\u001b[38;5;241m*\u001b[39moptions)\n",
      "File \u001b[1;32mc:\\Users\\mhakimi\\Documents\\strawberryfields9\\StrawberryFieldsVenv\\lib\\site-packages\\scipy\\optimize\\_cobyla_py.py:35\u001b[0m, in \u001b[0;36msynchronized.<locals>.wrapper\u001b[1;34m(*args, **kwargs)\u001b[0m\n\u001b[0;32m     32\u001b[0m \u001b[38;5;129m@functools\u001b[39m\u001b[38;5;241m.\u001b[39mwraps(func)\n\u001b[0;32m     33\u001b[0m \u001b[38;5;28;01mdef\u001b[39;00m\u001b[38;5;250m \u001b[39m\u001b[38;5;21mwrapper\u001b[39m(\u001b[38;5;241m*\u001b[39margs, \u001b[38;5;241m*\u001b[39m\u001b[38;5;241m*\u001b[39mkwargs):\n\u001b[0;32m     34\u001b[0m     \u001b[38;5;28;01mwith\u001b[39;00m _module_lock:\n\u001b[1;32m---> 35\u001b[0m         \u001b[38;5;28;01mreturn\u001b[39;00m func(\u001b[38;5;241m*\u001b[39margs, \u001b[38;5;241m*\u001b[39m\u001b[38;5;241m*\u001b[39mkwargs)\n",
      "File \u001b[1;32mc:\\Users\\mhakimi\\Documents\\strawberryfields9\\StrawberryFieldsVenv\\lib\\site-packages\\scipy\\optimize\\_cobyla_py.py:293\u001b[0m, in \u001b[0;36m_minimize_cobyla\u001b[1;34m(fun, x0, args, constraints, rhobeg, tol, maxiter, disp, catol, callback, bounds, **unknown_options)\u001b[0m\n\u001b[0;32m    290\u001b[0m         callback(np\u001b[38;5;241m.\u001b[39mcopy(x))\n\u001b[0;32m    292\u001b[0m info \u001b[38;5;241m=\u001b[39m np\u001b[38;5;241m.\u001b[39mzeros(\u001b[38;5;241m4\u001b[39m, np\u001b[38;5;241m.\u001b[39mfloat64)\n\u001b[1;32m--> 293\u001b[0m xopt, info \u001b[38;5;241m=\u001b[39m \u001b[43mcobyla\u001b[49m\u001b[38;5;241;43m.\u001b[39;49m\u001b[43mminimize\u001b[49m\u001b[43m(\u001b[49m\u001b[43mcalcfc\u001b[49m\u001b[43m,\u001b[49m\u001b[43m \u001b[49m\u001b[43mm\u001b[49m\u001b[38;5;241;43m=\u001b[39;49m\u001b[43mm\u001b[49m\u001b[43m,\u001b[49m\u001b[43m \u001b[49m\u001b[43mx\u001b[49m\u001b[38;5;241;43m=\u001b[39;49m\u001b[43mnp\u001b[49m\u001b[38;5;241;43m.\u001b[39;49m\u001b[43mcopy\u001b[49m\u001b[43m(\u001b[49m\u001b[43mx0\u001b[49m\u001b[43m)\u001b[49m\u001b[43m,\u001b[49m\u001b[43m \u001b[49m\u001b[43mrhobeg\u001b[49m\u001b[38;5;241;43m=\u001b[39;49m\u001b[43mrhobeg\u001b[49m\u001b[43m,\u001b[49m\n\u001b[0;32m    294\u001b[0m \u001b[43m                              \u001b[49m\u001b[43mrhoend\u001b[49m\u001b[38;5;241;43m=\u001b[39;49m\u001b[43mrhoend\u001b[49m\u001b[43m,\u001b[49m\u001b[43m \u001b[49m\u001b[43miprint\u001b[49m\u001b[38;5;241;43m=\u001b[39;49m\u001b[43miprint\u001b[49m\u001b[43m,\u001b[49m\u001b[43m \u001b[49m\u001b[43mmaxfun\u001b[49m\u001b[38;5;241;43m=\u001b[39;49m\u001b[43mmaxfun\u001b[49m\u001b[43m,\u001b[49m\n\u001b[0;32m    295\u001b[0m \u001b[43m                              \u001b[49m\u001b[43mdinfo\u001b[49m\u001b[38;5;241;43m=\u001b[39;49m\u001b[43minfo\u001b[49m\u001b[43m,\u001b[49m\u001b[43m \u001b[49m\u001b[43mcallback\u001b[49m\u001b[38;5;241;43m=\u001b[39;49m\u001b[43mwrapped_callback\u001b[49m\u001b[43m)\u001b[49m\n\u001b[0;32m    297\u001b[0m \u001b[38;5;28;01mif\u001b[39;00m info[\u001b[38;5;241m3\u001b[39m] \u001b[38;5;241m>\u001b[39m catol:\n\u001b[0;32m    298\u001b[0m     \u001b[38;5;66;03m# Check constraint violation\u001b[39;00m\n\u001b[0;32m    299\u001b[0m     info[\u001b[38;5;241m0\u001b[39m] \u001b[38;5;241m=\u001b[39m \u001b[38;5;241m4\u001b[39m\n",
      "File \u001b[1;32mc:\\Users\\mhakimi\\Documents\\strawberryfields9\\StrawberryFieldsVenv\\lib\\site-packages\\scipy\\optimize\\_cobyla_py.py:281\u001b[0m, in \u001b[0;36m_minimize_cobyla.<locals>.calcfc\u001b[1;34m(x, con)\u001b[0m\n\u001b[0;32m    280\u001b[0m \u001b[38;5;28;01mdef\u001b[39;00m\u001b[38;5;250m \u001b[39m\u001b[38;5;21mcalcfc\u001b[39m(x, con):\n\u001b[1;32m--> 281\u001b[0m     f \u001b[38;5;241m=\u001b[39m \u001b[43msf\u001b[49m\u001b[38;5;241;43m.\u001b[39;49m\u001b[43mfun\u001b[49m\u001b[43m(\u001b[49m\u001b[43mx\u001b[49m\u001b[43m)\u001b[49m\n\u001b[0;32m    282\u001b[0m     i \u001b[38;5;241m=\u001b[39m \u001b[38;5;241m0\u001b[39m\n\u001b[0;32m    283\u001b[0m     \u001b[38;5;28;01mfor\u001b[39;00m size, c \u001b[38;5;129;01min\u001b[39;00m izip(cons_lengths, constraints):\n",
      "File \u001b[1;32mc:\\Users\\mhakimi\\Documents\\strawberryfields9\\StrawberryFieldsVenv\\lib\\site-packages\\scipy\\optimize\\_differentiable_functions.py:278\u001b[0m, in \u001b[0;36mScalarFunction.fun\u001b[1;34m(self, x)\u001b[0m\n\u001b[0;32m    276\u001b[0m \u001b[38;5;28;01mif\u001b[39;00m \u001b[38;5;129;01mnot\u001b[39;00m np\u001b[38;5;241m.\u001b[39marray_equal(x, \u001b[38;5;28mself\u001b[39m\u001b[38;5;241m.\u001b[39mx):\n\u001b[0;32m    277\u001b[0m     \u001b[38;5;28mself\u001b[39m\u001b[38;5;241m.\u001b[39m_update_x_impl(x)\n\u001b[1;32m--> 278\u001b[0m \u001b[38;5;28;43mself\u001b[39;49m\u001b[38;5;241;43m.\u001b[39;49m\u001b[43m_update_fun\u001b[49m\u001b[43m(\u001b[49m\u001b[43m)\u001b[49m\n\u001b[0;32m    279\u001b[0m \u001b[38;5;28;01mreturn\u001b[39;00m \u001b[38;5;28mself\u001b[39m\u001b[38;5;241m.\u001b[39mf\n",
      "File \u001b[1;32mc:\\Users\\mhakimi\\Documents\\strawberryfields9\\StrawberryFieldsVenv\\lib\\site-packages\\scipy\\optimize\\_differentiable_functions.py:262\u001b[0m, in \u001b[0;36mScalarFunction._update_fun\u001b[1;34m(self)\u001b[0m\n\u001b[0;32m    260\u001b[0m \u001b[38;5;28;01mdef\u001b[39;00m\u001b[38;5;250m \u001b[39m\u001b[38;5;21m_update_fun\u001b[39m(\u001b[38;5;28mself\u001b[39m):\n\u001b[0;32m    261\u001b[0m     \u001b[38;5;28;01mif\u001b[39;00m \u001b[38;5;129;01mnot\u001b[39;00m \u001b[38;5;28mself\u001b[39m\u001b[38;5;241m.\u001b[39mf_updated:\n\u001b[1;32m--> 262\u001b[0m         \u001b[38;5;28;43mself\u001b[39;49m\u001b[38;5;241;43m.\u001b[39;49m\u001b[43m_update_fun_impl\u001b[49m\u001b[43m(\u001b[49m\u001b[43m)\u001b[49m\n\u001b[0;32m    263\u001b[0m         \u001b[38;5;28mself\u001b[39m\u001b[38;5;241m.\u001b[39mf_updated \u001b[38;5;241m=\u001b[39m \u001b[38;5;28;01mTrue\u001b[39;00m\n",
      "File \u001b[1;32mc:\\Users\\mhakimi\\Documents\\strawberryfields9\\StrawberryFieldsVenv\\lib\\site-packages\\scipy\\optimize\\_differentiable_functions.py:163\u001b[0m, in \u001b[0;36mScalarFunction.__init__.<locals>.update_fun\u001b[1;34m()\u001b[0m\n\u001b[0;32m    162\u001b[0m \u001b[38;5;28;01mdef\u001b[39;00m\u001b[38;5;250m \u001b[39m\u001b[38;5;21mupdate_fun\u001b[39m():\n\u001b[1;32m--> 163\u001b[0m     \u001b[38;5;28mself\u001b[39m\u001b[38;5;241m.\u001b[39mf \u001b[38;5;241m=\u001b[39m \u001b[43mfun_wrapped\u001b[49m\u001b[43m(\u001b[49m\u001b[38;5;28;43mself\u001b[39;49m\u001b[38;5;241;43m.\u001b[39;49m\u001b[43mx\u001b[49m\u001b[43m)\u001b[49m\n",
      "File \u001b[1;32mc:\\Users\\mhakimi\\Documents\\strawberryfields9\\StrawberryFieldsVenv\\lib\\site-packages\\scipy\\optimize\\_differentiable_functions.py:145\u001b[0m, in \u001b[0;36mScalarFunction.__init__.<locals>.fun_wrapped\u001b[1;34m(x)\u001b[0m\n\u001b[0;32m    141\u001b[0m \u001b[38;5;28mself\u001b[39m\u001b[38;5;241m.\u001b[39mnfev \u001b[38;5;241m+\u001b[39m\u001b[38;5;241m=\u001b[39m \u001b[38;5;241m1\u001b[39m\n\u001b[0;32m    142\u001b[0m \u001b[38;5;66;03m# Send a copy because the user may overwrite it.\u001b[39;00m\n\u001b[0;32m    143\u001b[0m \u001b[38;5;66;03m# Overwriting results in undefined behaviour because\u001b[39;00m\n\u001b[0;32m    144\u001b[0m \u001b[38;5;66;03m# fun(self.x) will change self.x, with the two no longer linked.\u001b[39;00m\n\u001b[1;32m--> 145\u001b[0m fx \u001b[38;5;241m=\u001b[39m \u001b[43mfun\u001b[49m\u001b[43m(\u001b[49m\u001b[43mnp\u001b[49m\u001b[38;5;241;43m.\u001b[39;49m\u001b[43mcopy\u001b[49m\u001b[43m(\u001b[49m\u001b[43mx\u001b[49m\u001b[43m)\u001b[49m\u001b[43m,\u001b[49m\u001b[43m \u001b[49m\u001b[38;5;241;43m*\u001b[39;49m\u001b[43margs\u001b[49m\u001b[43m)\u001b[49m\n\u001b[0;32m    146\u001b[0m \u001b[38;5;66;03m# Make sure the function returns a true scalar\u001b[39;00m\n\u001b[0;32m    147\u001b[0m \u001b[38;5;28;01mif\u001b[39;00m \u001b[38;5;129;01mnot\u001b[39;00m np\u001b[38;5;241m.\u001b[39misscalar(fx):\n",
      "Cell \u001b[1;32mIn[21], line 13\u001b[0m, in \u001b[0;36mobjective\u001b[1;34m(param)\u001b[0m\n\u001b[0;32m      9\u001b[0m costly \u001b[38;5;241m=\u001b[39m \u001b[38;5;241m0\u001b[39m\n\u001b[0;32m     11\u001b[0m \u001b[38;5;28;01mfor\u001b[39;00m i \u001b[38;5;129;01min\u001b[39;00m \u001b[38;5;28mrange\u001b[39m(\u001b[38;5;241m0\u001b[39m, shots):\n\u001b[1;32m---> 13\u001b[0m     av \u001b[38;5;241m=\u001b[39m \u001b[43mold_circuit\u001b[49m\u001b[43m(\u001b[49m\u001b[43mparam\u001b[49m\u001b[43m)\u001b[49m\n\u001b[0;32m     14\u001b[0m     result1 \u001b[38;5;241m=\u001b[39m av[\u001b[38;5;241m0\u001b[39m]\n\u001b[0;32m     15\u001b[0m     result2 \u001b[38;5;241m=\u001b[39m av[\u001b[38;5;241m1\u001b[39m]\n",
      "Cell \u001b[1;32mIn[20], line 50\u001b[0m, in \u001b[0;36mold_circuit\u001b[1;34m(param)\u001b[0m\n\u001b[0;32m     47\u001b[0m     MeasureX \u001b[38;5;241m|\u001b[39m q[\u001b[38;5;241m0\u001b[39m]\n\u001b[0;32m     48\u001b[0m     MeasureX \u001b[38;5;241m|\u001b[39m q[\u001b[38;5;241m1\u001b[39m]\n\u001b[1;32m---> 50\u001b[0m result \u001b[38;5;241m=\u001b[39m \u001b[43meng\u001b[49m\u001b[38;5;241;43m.\u001b[39;49m\u001b[43mrun\u001b[49m\u001b[43m(\u001b[49m\u001b[43mprog\u001b[49m\u001b[43m)\u001b[49m\n\u001b[0;32m     51\u001b[0m \u001b[38;5;66;03m# return [result.samples[0], result.samples[1]]\u001b[39;00m\n\u001b[0;32m     52\u001b[0m \u001b[38;5;28;01mreturn\u001b[39;00m result\u001b[38;5;241m.\u001b[39msamples[\u001b[38;5;241m0\u001b[39m]\u001b[38;5;241m.\u001b[39mtolist()\n",
      "File \u001b[1;32mc:\\Users\\mhakimi\\Documents\\strawberryfields9\\StrawberryFieldsVenv\\lib\\site-packages\\strawberryfields\\engine.py:570\u001b[0m, in \u001b[0;36mLocalEngine.run\u001b[1;34m(self, program, args, compile_options, **kwargs)\u001b[0m\n\u001b[0;32m    565\u001b[0m         \u001b[38;5;28;01mif\u001b[39;00m c\u001b[38;5;241m.\u001b[39mop\u001b[38;5;241m.\u001b[39mmeasurement_deps \u001b[38;5;129;01mand\u001b[39;00m eng_run_options[\u001b[38;5;124m\"\u001b[39m\u001b[38;5;124mshots\u001b[39m\u001b[38;5;124m\"\u001b[39m] \u001b[38;5;241m>\u001b[39m \u001b[38;5;241m1\u001b[39m:\n\u001b[0;32m    566\u001b[0m             \u001b[38;5;28;01mraise\u001b[39;00m \u001b[38;5;167;01mNotImplementedError\u001b[39;00m(\n\u001b[0;32m    567\u001b[0m                 \u001b[38;5;124m\"\u001b[39m\u001b[38;5;124mFeed-forwarding of measurements cannot be used together with multiple shots.\u001b[39m\u001b[38;5;124m\"\u001b[39m\n\u001b[0;32m    568\u001b[0m             )\n\u001b[1;32m--> 570\u001b[0m \u001b[38;5;28;01mreturn\u001b[39;00m \u001b[38;5;28msuper\u001b[39m()\u001b[38;5;241m.\u001b[39m_run(\n\u001b[0;32m    571\u001b[0m     program_lst, args\u001b[38;5;241m=\u001b[39margs, compile_options\u001b[38;5;241m=\u001b[39mcompile_options, \u001b[38;5;241m*\u001b[39m\u001b[38;5;241m*\u001b[39meng_run_options\n\u001b[0;32m    572\u001b[0m )\n",
      "File \u001b[1;32mc:\\Users\\mhakimi\\Documents\\strawberryfields9\\StrawberryFieldsVenv\\lib\\site-packages\\strawberryfields\\engine.py:306\u001b[0m, in \u001b[0;36mBaseEngine._run\u001b[1;34m(self, program, args, compile_options, **kwargs)\u001b[0m\n\u001b[0;32m    303\u001b[0m p\u001b[38;5;241m.\u001b[39mbind_params(args)\n\u001b[0;32m    304\u001b[0m p\u001b[38;5;241m.\u001b[39mlock()\n\u001b[1;32m--> 306\u001b[0m _, \u001b[38;5;28mself\u001b[39m\u001b[38;5;241m.\u001b[39msamples, \u001b[38;5;28mself\u001b[39m\u001b[38;5;241m.\u001b[39msamples_dict \u001b[38;5;241m=\u001b[39m \u001b[38;5;28mself\u001b[39m\u001b[38;5;241m.\u001b[39m_run_program(p, \u001b[38;5;241m*\u001b[39m\u001b[38;5;241m*\u001b[39mkwargs)\n\u001b[0;32m    307\u001b[0m \u001b[38;5;28mself\u001b[39m\u001b[38;5;241m.\u001b[39mrun_progs\u001b[38;5;241m.\u001b[39mappend(p)\n\u001b[0;32m    309\u001b[0m \u001b[38;5;28;01mif\u001b[39;00m \u001b[38;5;28misinstance\u001b[39m(p, TDMProgram) \u001b[38;5;129;01mand\u001b[39;00m received_rolled:\n",
      "File \u001b[1;32mc:\\Users\\mhakimi\\Documents\\strawberryfields9\\StrawberryFieldsVenv\\lib\\site-packages\\strawberryfields\\engine.py:430\u001b[0m, in \u001b[0;36mLocalEngine._run_program\u001b[1;34m(self, prog, **kwargs)\u001b[0m\n\u001b[0;32m    427\u001b[0m \u001b[38;5;28;01mfor\u001b[39;00m cmd \u001b[38;5;129;01min\u001b[39;00m prog\u001b[38;5;241m.\u001b[39mcircuit:\n\u001b[0;32m    428\u001b[0m     \u001b[38;5;28;01mtry\u001b[39;00m:\n\u001b[0;32m    429\u001b[0m         \u001b[38;5;66;03m# try to apply it to the backend and, if op is a measurement, store it in values\u001b[39;00m\n\u001b[1;32m--> 430\u001b[0m         val \u001b[38;5;241m=\u001b[39m cmd\u001b[38;5;241m.\u001b[39mop\u001b[38;5;241m.\u001b[39mapply(cmd\u001b[38;5;241m.\u001b[39mreg, \u001b[38;5;28mself\u001b[39m\u001b[38;5;241m.\u001b[39mbackend, \u001b[38;5;241m*\u001b[39m\u001b[38;5;241m*\u001b[39mkwargs)\n\u001b[0;32m    431\u001b[0m         \u001b[38;5;28;01mif\u001b[39;00m val \u001b[38;5;129;01mis\u001b[39;00m \u001b[38;5;129;01mnot\u001b[39;00m \u001b[38;5;28;01mNone\u001b[39;00m:\n\u001b[0;32m    432\u001b[0m             \u001b[38;5;28;01mfor\u001b[39;00m i, r \u001b[38;5;129;01min\u001b[39;00m \u001b[38;5;28menumerate\u001b[39m(cmd\u001b[38;5;241m.\u001b[39mreg):\n",
      "File \u001b[1;32mc:\\Users\\mhakimi\\Documents\\strawberryfields9\\StrawberryFieldsVenv\\lib\\site-packages\\strawberryfields\\ops.py:325\u001b[0m, in \u001b[0;36mMeasurement.apply\u001b[1;34m(self, reg, backend, **kwargs)\u001b[0m\n\u001b[0;32m    322\u001b[0m \u001b[38;5;28;01mif\u001b[39;00m _shots \u001b[38;5;129;01mis\u001b[39;00m \u001b[38;5;28;01mNone\u001b[39;00m:\n\u001b[0;32m    323\u001b[0m     \u001b[38;5;28;01mreturn\u001b[39;00m \u001b[38;5;28;01mNone\u001b[39;00m\n\u001b[1;32m--> 325\u001b[0m values \u001b[38;5;241m=\u001b[39m \u001b[38;5;28msuper\u001b[39m()\u001b[38;5;241m.\u001b[39mapply(reg, backend, \u001b[38;5;241m*\u001b[39m\u001b[38;5;241m*\u001b[39mkwargs)\n\u001b[0;32m    327\u001b[0m \u001b[38;5;66;03m# store the results in the register reference objects\u001b[39;00m\n\u001b[0;32m    328\u001b[0m \u001b[38;5;28;01mfor\u001b[39;00m v, r \u001b[38;5;129;01min\u001b[39;00m \u001b[38;5;28mzip\u001b[39m(np\u001b[38;5;241m.\u001b[39mtranspose(values), reg):\n",
      "File \u001b[1;32mc:\\Users\\mhakimi\\Documents\\strawberryfields9\\StrawberryFieldsVenv\\lib\\site-packages\\strawberryfields\\ops.py:228\u001b[0m, in \u001b[0;36mOperation.apply\u001b[1;34m(self, reg, backend, **kwargs)\u001b[0m\n\u001b[0;32m    226\u001b[0m temp \u001b[38;5;241m=\u001b[39m [rr\u001b[38;5;241m.\u001b[39mind \u001b[38;5;28;01mfor\u001b[39;00m rr \u001b[38;5;129;01min\u001b[39;00m reg]\n\u001b[0;32m    227\u001b[0m \u001b[38;5;66;03m# call the child class specialized _apply method\u001b[39;00m\n\u001b[1;32m--> 228\u001b[0m \u001b[38;5;28;01mreturn\u001b[39;00m \u001b[38;5;28mself\u001b[39m\u001b[38;5;241m.\u001b[39m_apply(temp, backend, \u001b[38;5;241m*\u001b[39m\u001b[38;5;241m*\u001b[39mkwargs)\n",
      "File \u001b[1;32mc:\\Users\\mhakimi\\Documents\\strawberryfields9\\StrawberryFieldsVenv\\lib\\site-packages\\strawberryfields\\ops.py:1276\u001b[0m, in \u001b[0;36mMeasureHomodyne._apply\u001b[1;34m(self, reg, backend, shots, **kwargs)\u001b[0m\n\u001b[0;32m   1273\u001b[0m \u001b[38;5;28;01mif\u001b[39;00m select \u001b[38;5;129;01mis\u001b[39;00m \u001b[38;5;129;01mnot\u001b[39;00m \u001b[38;5;28;01mNone\u001b[39;00m:\n\u001b[0;32m   1274\u001b[0m     select \u001b[38;5;241m=\u001b[39m select \u001b[38;5;241m/\u001b[39m s\n\u001b[1;32m-> 1276\u001b[0m \u001b[38;5;28;01mreturn\u001b[39;00m s \u001b[38;5;241m*\u001b[39m backend\u001b[38;5;241m.\u001b[39mmeasure_homodyne(p[\u001b[38;5;241m0\u001b[39m], \u001b[38;5;241m*\u001b[39mreg, shots\u001b[38;5;241m=\u001b[39mshots, select\u001b[38;5;241m=\u001b[39mselect, \u001b[38;5;241m*\u001b[39m\u001b[38;5;241m*\u001b[39mkwargs)\n",
      "File \u001b[1;32mc:\\Users\\mhakimi\\Documents\\strawberryfields9\\StrawberryFieldsVenv\\lib\\site-packages\\strawberryfields\\backends\\fockbackend\\backend.py:198\u001b[0m, in \u001b[0;36mFockBackend.measure_homodyne\u001b[1;34m(self, phi, mode, shots, select, **kwargs)\u001b[0m\n\u001b[0;32m    194\u001b[0m \u001b[38;5;28;01mif\u001b[39;00m shots \u001b[38;5;241m!=\u001b[39m \u001b[38;5;241m1\u001b[39m:\n\u001b[0;32m    195\u001b[0m     \u001b[38;5;28;01mraise\u001b[39;00m \u001b[38;5;167;01mNotImplementedError\u001b[39;00m(\n\u001b[0;32m    196\u001b[0m         \u001b[38;5;124m\"\u001b[39m\u001b[38;5;124mfock backend currently does not support \u001b[39m\u001b[38;5;124m\"\u001b[39m \u001b[38;5;124m\"\u001b[39m\u001b[38;5;124mshots != 1 for homodyne measurement\u001b[39m\u001b[38;5;124m\"\u001b[39m\n\u001b[0;32m    197\u001b[0m     )\n\u001b[1;32m--> 198\u001b[0m \u001b[38;5;28;01mreturn\u001b[39;00m \u001b[38;5;28mself\u001b[39m\u001b[38;5;241m.\u001b[39mcircuit\u001b[38;5;241m.\u001b[39mmeasure_homodyne(phi, \u001b[38;5;28mself\u001b[39m\u001b[38;5;241m.\u001b[39m_remap_modes(mode), select\u001b[38;5;241m=\u001b[39mselect, \u001b[38;5;241m*\u001b[39m\u001b[38;5;241m*\u001b[39mkwargs)\n",
      "File \u001b[1;32mc:\\Users\\mhakimi\\Documents\\strawberryfields9\\StrawberryFieldsVenv\\lib\\site-packages\\strawberryfields\\backends\\fockbackend\\circuit.py:749\u001b[0m, in \u001b[0;36mCircuit.measure_homodyne\u001b[1;34m(self, phi, mode, select, **kwargs)\u001b[0m\n\u001b[0;32m    747\u001b[0m H_matrix \u001b[38;5;241m=\u001b[39m np\u001b[38;5;241m.\u001b[39mzeros((\u001b[38;5;28mself\u001b[39m\u001b[38;5;241m.\u001b[39m_trunc, \u001b[38;5;28mself\u001b[39m\u001b[38;5;241m.\u001b[39m_trunc, num_bins))\n\u001b[0;32m    748\u001b[0m \u001b[38;5;28;01mfor\u001b[39;00m n, m \u001b[38;5;129;01min\u001b[39;00m product(\u001b[38;5;28mrange\u001b[39m(\u001b[38;5;28mself\u001b[39m\u001b[38;5;241m.\u001b[39m_trunc), repeat\u001b[38;5;241m=\u001b[39m\u001b[38;5;241m2\u001b[39m):\n\u001b[1;32m--> 749\u001b[0m     \u001b[43mH_matrix\u001b[49m\u001b[43m[\u001b[49m\u001b[43mn\u001b[49m\u001b[43m]\u001b[49m\u001b[43m[\u001b[49m\u001b[43mm\u001b[49m\u001b[43m]\u001b[49m \u001b[38;5;241m=\u001b[39m \u001b[38;5;241m1\u001b[39m \u001b[38;5;241m/\u001b[39m sqrt(\u001b[38;5;241m2\u001b[39m\u001b[38;5;241m*\u001b[39m\u001b[38;5;241m*\u001b[39mn \u001b[38;5;241m*\u001b[39m bang(n) \u001b[38;5;241m*\u001b[39m \u001b[38;5;241m2\u001b[39m\u001b[38;5;241m*\u001b[39m\u001b[38;5;241m*\u001b[39mm \u001b[38;5;241m*\u001b[39m bang(m)) \u001b[38;5;241m*\u001b[39m Hvals[n] \u001b[38;5;241m*\u001b[39m Hvals[m]\n\u001b[0;32m    750\u001b[0m H_terms \u001b[38;5;241m=\u001b[39m np\u001b[38;5;241m.\u001b[39mexpand_dims(reduced, \u001b[38;5;241m-\u001b[39m\u001b[38;5;241m1\u001b[39m) \u001b[38;5;241m*\u001b[39m np\u001b[38;5;241m.\u001b[39mexpand_dims(H_matrix, \u001b[38;5;241m0\u001b[39m)\n\u001b[0;32m    751\u001b[0m rho_dist \u001b[38;5;241m=\u001b[39m (\n\u001b[0;32m    752\u001b[0m     np\u001b[38;5;241m.\u001b[39msum(H_terms, axis\u001b[38;5;241m=\u001b[39m(\u001b[38;5;241m1\u001b[39m, \u001b[38;5;241m2\u001b[39m))\n\u001b[0;32m    753\u001b[0m     \u001b[38;5;241m*\u001b[39m (m_omega_over_hbar \u001b[38;5;241m/\u001b[39m pi) \u001b[38;5;241m*\u001b[39m\u001b[38;5;241m*\u001b[39m \u001b[38;5;241m0.5\u001b[39m\n\u001b[0;32m    754\u001b[0m     \u001b[38;5;241m*\u001b[39m np\u001b[38;5;241m.\u001b[39mexp(\u001b[38;5;241m-\u001b[39mm_omega_over_hbar \u001b[38;5;241m*\u001b[39m q_tensor\u001b[38;5;241m*\u001b[39m\u001b[38;5;241m*\u001b[39m\u001b[38;5;241m2\u001b[39m)\n\u001b[0;32m    755\u001b[0m     \u001b[38;5;241m*\u001b[39m (q_tensor[\u001b[38;5;241m1\u001b[39m] \u001b[38;5;241m-\u001b[39m q_tensor[\u001b[38;5;241m0\u001b[39m])\n\u001b[0;32m    756\u001b[0m )  \u001b[38;5;66;03m# Delta_q for normalization (only works if the bins are equally spaced)\u001b[39;00m\n",
      "\u001b[1;31mKeyboardInterrupt\u001b[0m: "
     ]
    }
   ],
   "source": [
    "out = minimize(objective, x0=[random.randint(-100,100)/100, random.randint(-100,100)/100], method=\"COBYLA\", options={'maxiter':20})\n",
    "print(\"-----------------------------\")\n",
    "print(out)\n",
    "\n",
    "#Define the y array for the first mode\n",
    "\n",
    "f = run_circuit(out['x'])\n",
    "final = f[0]\n",
    "\n",
    "x = [i/10 for i in range(-40, 40)]\n",
    "y = []\n",
    "\n",
    "for i in range(0, len(x)):\n",
    "    res = simps([final[k][i] for k in range(0, len(x))], x)\n",
    "    y.append(res)\n",
    "\n",
    "#Define the y array for the second mode\n",
    "\n",
    "final2 = f[1]\n",
    "\n",
    "x2 = [i/10 for i in range(-40, 40)]\n",
    "y2 = []\n",
    "\n",
    "for i in range(0, len(x2)):\n",
    "    res = simps([final2[k][i] for k in range(0, len(x2))], x2)\n",
    "    y2.append(res)\n",
    "\n",
    "\n",
    "#Defines the contour plot that gives the final probability density function\n",
    "\n",
    "fig = plt.figure(figsize=(6,5))\n",
    "left, bottom, width, height = 0.1, 0.1, 0.8, 0.8\n",
    "ax = fig.add_axes([left, bottom, width, height])\n",
    "\n",
    "x_vals = x\n",
    "y_vals = x2\n",
    "X, Y = np.meshgrid(x, x2)\n",
    "\n",
    "\n",
    "Z = np.array([[i*j for i in y] for j in y2])\n",
    "\n",
    "cp = plt.contourf(X, Y, Z)\n",
    "plt.colorbar(cp)\n",
    "\n",
    "ax.set_title('Contour Plot')\n",
    "plt.scatter([float(-1)/3], [float(-1)/3])\n",
    "plt.show()\n",
    "\n",
    "#Defines the probability density graph of the first mode\n",
    "\n",
    "plt.subplot(2, 1, 1)\n",
    "plt.plot(x, y)\n",
    "plt.plot([float(-1)/3 for o in range(0, 5)], [0, 0.25*max(y), 0.5*max(y), 0.75*max(y), max(y)])\n",
    "\n",
    "#Defines the probability density graph of the second mode\n",
    "\n",
    "plt.subplot(2, 1, 2)\n",
    "plt.plot(x2, y2)\n",
    "plt.plot([float(-1)/3 for o in range(0, 5)], [0, 0.25*max(y2), 0.5*max(y2), 0.75*max(y2), max(y2)])\n",
    "\n",
    "plt.show()"
   ]
  },
  {
   "cell_type": "markdown",
   "metadata": {},
   "source": [
    "The blue dot on the contour graph corresponds to the optimal point. I really feel like I'm cheating with respect to this implementation, as I went through many different values of the parameters, like squeezing, cutoff dimension, and circuit depth to find this solution (which is really good)! For the most part, this example, when I ran it locally, was super volatile, and didn't work a lot of the time. I think it would be interesting to see an extension of this algorithm, where not only the unitaries are parametrized, but so are other parameters (like the squeezing parameter, cutoff dimension, and circuit depth). I would also hope that the algorithm performs better and more consistently when we are able to choose our initial parameters with an actual strategy rather than blinding picking some arbitrary set of numbers. Let's try another example, but this time, let's be a bit harder on ourselves and actually sample the function to obtain an optimal value (as one is supposed to do with an optimization algorithm)! Consider the function given as:\n",
    "\n",
    "<br><br>\n",
    "$$f(x, \\ y) \\ = \\ 2x^2 \\ + \\ 2xy \\ - \\ 6x \\ + \\ 2y^2 \\ - \\ 5y \\ + \\ 10$$\n",
    "<br>\n",
    "$$\\text{min} \\ f(x, \\ y) \\ = \\ \\frac{29}{6} \\ \\Rightarrow \\ (x, \\ y) \\ = \\ \\Big( \\frac{7}{6}, \\ \\frac{2}{3} \\Big)$$\n",
    "<br><br>\n",
    "\n",
    "Let's try optimizing this! For this function, since the distance between the optimal values of $x$ and $y$ is larger, we will st Planck's constant to $1$ to acheive larger variance without applying ridiculous amounts of squeezing (which can also mess up the simulation). By this point, you pretty much get the idea of how we implement the algorithm, so I won't go through all of it. Note that I am only re-defining the things that change, the rest will stay the same from the previous example:"
   ]
  },
  {
   "cell_type": "code",
   "execution_count": null,
   "metadata": {},
   "outputs": [
    {
     "name": "stdout",
     "output_type": "stream",
     "text": [
      "Paramter: [0.22 0.42]\n",
      "Value of Cost Function: 21.44940514475795\n",
      "Paramter: [1.22 0.42]\n",
      "Value of Cost Function: 24.225151977950368\n",
      "Paramter: [0.22 1.42]\n",
      "Value of Cost Function: 34.338880653112504\n",
      "Paramter: [ 0.00947639 -0.55758877]\n",
      "Value of Cost Function: 23.54485606796687\n",
      "Paramter: [ 0.11473819 -0.06879439]\n",
      "Value of Cost Function: 9.12718111084283\n",
      "Paramter: [ 0.05870257 -0.56564447]\n",
      "Value of Cost Function: 32.813836711986184\n",
      "Paramter: [-0.13368685 -0.04077657]\n",
      "Value of Cost Function: 13.937002724394118\n",
      "Paramter: [0.35360758 0.37045659]\n",
      "Value of Cost Function: 12.811921045806388\n",
      "Paramter: [0.23417289 0.1508311 ]\n",
      "Value of Cost Function: 12.584910661488069\n",
      "Paramter: [ 0.18426878 -0.17267171]\n",
      "Value of Cost Function: 10.34514074404703\n",
      "Paramter: [ 0.05294348 -0.07815728]\n",
      "Value of Cost Function: 11.713067556313149\n",
      "Paramter: [ 0.15911743 -0.02478605]\n",
      "Value of Cost Function: 9.753432920349727\n",
      "Paramter: [ 0.13395457 -0.09343771]\n",
      "Value of Cost Function: 7.417216546122531\n",
      "Paramter: [ 0.15153346 -0.1192746 ]\n",
      "Value of Cost Function: 6.5408078028353085\n",
      "Paramter: [ 0.15143758 -0.15052446]\n",
      "Value of Cost Function: 9.013357398246626\n",
      "Paramter: [ 0.17975764 -0.10585975]\n",
      "Value of Cost Function: 7.537397588664698\n",
      "Paramter: [ 0.14662181 -0.13410755]\n",
      "Value of Cost Function: 9.487844944750107\n",
      "Paramter: [ 0.15842817 -0.11560063]\n",
      "Value of Cost Function: 7.139794369840081\n",
      "Paramter: [ 0.1464826  -0.11331441]\n",
      "Value of Cost Function: 9.431528704030923\n",
      "Paramter: [ 0.15268029 -0.12300871]\n",
      "Value of Cost Function: 7.519884066129332\n",
      "-----------------------------\n",
      " message: Maximum number of function evaluations has been exceeded.\n",
      " success: False\n",
      "  status: 2\n",
      "     fun: 6.5408078028353085\n",
      "       x: [ 1.515e-01 -1.193e-01]\n",
      "    nfev: 20\n",
      "   maxcv: 0.0\n",
      "[0.7383073830738311, 1.034910349103491]\n",
      "[0.841308413084132, 0.9767097670976721]\n",
      "[0.8135081350813511, 0.763107631076311]\n",
      "[0.9971099710997109, 0.4875048750487512]\n",
      "[0.850908509085091, 0.7467074670746712]\n",
      "[1.234512345123452, 0.671306713067132]\n",
      "The Optimal Value Is: [1.234512345123452, 0.671306713067132]\n"
     ]
    },
    {
     "name": "stderr",
     "output_type": "stream",
     "text": [
      "C:\\Users\\mhakimi\\AppData\\Local\\Temp\\ipykernel_23304\\4188642262.py:162: DeprecationWarning: 'scipy.integrate.simps' is deprecated in favour of 'scipy.integrate.simpson' and will be removed in SciPy 1.14.0\n",
      "C:\\Users\\mhakimi\\AppData\\Local\\Temp\\ipykernel_23304\\4188642262.py:173: DeprecationWarning: 'scipy.integrate.simps' is deprecated in favour of 'scipy.integrate.simpson' and will be removed in SciPy 1.14.0\n"
     ]
    },
    {
     "data": {
      "image/png": "[encoded data removed]",
      "text/plain": [
       "<Figure size 600x500 with 2 Axes>"
      ]
     },
     "metadata": {},
     "output_type": "display_data"
    },
    {
     "data": {
      "image/png": "[encoded data removed]",
      "text/plain": [
       "<Figure size 640x480 with 2 Axes>"
      ]
     },
     "metadata": {},
     "output_type": "display_data"
    }
   ],
   "source": [
    "#Defining the value of h-bar\n",
    "\n",
    "sf.hbar = 2\n",
    "hbar = 2\n",
    "\n",
    "#Defining the classical cost function\n",
    "\n",
    "def function_optimize(x1, x2):\n",
    "    y = 2*(x1**2) + 2*x1*x2 - 6*x1 + 2*(x2**2) - 5*x2 + 10\n",
    "    return y\n",
    "\n",
    "#Defining the cost unitary used in the QAOA procedure\n",
    "\n",
    "def cost_ham(q, p):\n",
    "\n",
    "    Zgate(5*hbar*p) | q[1]\n",
    "    Pgate(-4*hbar*p) | q[1]\n",
    "    Zgate(6*hbar*p) | q[0]\n",
    "    Pgate(-4*hbar*p) | q[0]\n",
    "    CZgate(-6*hbar*p) | (q[0], q[1])\n",
    "\n",
    "    return q\n",
    "\n",
    "#Defining the mixer unitary used in the QAOA process\n",
    "\n",
    "def mixer_ham(q, p):\n",
    "\n",
    "    Rgate(-1*math.pi/2) | q[0]\n",
    "    Rgate(-1*math.pi/2) | q[1]\n",
    "\n",
    "    Pgate(-1*hbar*p) | q[0]\n",
    "    Pgate(-1*hbar*p) | q[1]\n",
    "\n",
    "    Rgate(math.pi/2) | q[0]\n",
    "    Rgate(math.pi/2) | q[1]\n",
    "\n",
    "    return q\n",
    "\n",
    "#Defining circuit depth, cutoff dimension, and squeezing parameter\n",
    "\n",
    "squeezing = -0.4\n",
    "cutoff = 6\n",
    "circuit_depth = 4\n",
    "\n",
    "#Define the number of iterations that should be sampled from the circuit\n",
    "\n",
    "shots = 15\n",
    "\n",
    "#Defining the function that simulates the circuit and returns results\n",
    "\n",
    "def run_circuit(param):\n",
    "\n",
    "    eng = sf.Engine(\"fock\", backend_options={\"cutoff_dim\":cutoff})\n",
    "    prog = sf.Program(2)\n",
    "\n",
    "    param1 = [param[0] for i in range(0, circuit_depth)]\n",
    "    param2 = [param[1] for i in range(0, circuit_depth)]\n",
    "\n",
    "    with prog.context as q:\n",
    "\n",
    "        Squeezed(squeezing,0) | q[0]\n",
    "        Squeezed(squeezing,0) | q[1]\n",
    "\n",
    "        for i in range(0, circuit_depth):\n",
    "            if (i%2 == 0):\n",
    "                cost_ham(q, param1[i])\n",
    "                mixer_ham(q, param1[i])\n",
    "            else:\n",
    "                cost_ham(q, param2[i])\n",
    "                mixer_ham(q, param2[i])\n",
    "\n",
    "    state = eng.run(prog, run_options={\"eval\": False}).state\n",
    "\n",
    "    a = state.wigner(0, [i/10 for i in range(-40, 40)], [i/10 for i in range(-40, 40)])\n",
    "    b = state.wigner(1, [i/10 for i in range(-40, 40)], [i/10 for i in range(-40, 40)])\n",
    "\n",
    "    return [a, b]\n",
    "\n",
    "#Defining the sampling circuit\n",
    "\n",
    "def old_circuit(param):\n",
    "\n",
    "    eng = sf.Engine(\"fock\", backend_options={\"cutoff_dim\":cutoff})\n",
    "    prog = sf.Program(2)\n",
    "\n",
    "    param1 = [param[0] for i in range(0, circuit_depth)]\n",
    "    param2 = [param[1] for i in range(0, circuit_depth)]\n",
    "\n",
    "    with prog.context as q:\n",
    "\n",
    "        Squeezed(squeezing,0) | q[0]\n",
    "        Squeezed(squeezing,0) | q[1]\n",
    "\n",
    "        for i in range(0, circuit_depth):\n",
    "            if (i%2 == 0):\n",
    "                cost_ham(q, param1[i])\n",
    "                mixer_ham(q, param1[i])\n",
    "            else:\n",
    "                cost_ham(q, param2[i])\n",
    "                mixer_ham(q, param2[i])\n",
    "\n",
    "\n",
    "        MeasureX | q[0]\n",
    "        MeasureX | q[1]\n",
    "\n",
    "    result = eng.run(prog)\n",
    "    # return [result.samples[0], result.samples[1]]\n",
    "    return result.samples[0].tolist()\n",
    "\n",
    "#Defining the objective function that is optimized\n",
    "\n",
    "def objective(param):\n",
    "\n",
    "    costly = 0\n",
    "\n",
    "    for i in range(0, shots):\n",
    "\n",
    "        av = old_circuit(param)\n",
    "        result1 = av[0]\n",
    "        result2 = av[1]\n",
    "        calculation = function_optimize(result1, result2)\n",
    "        costly = costly + calculation\n",
    "\n",
    "    costly = costly/shots\n",
    "\n",
    "    print(\"Paramter: \"+str(param))\n",
    "    print(\"Value of Cost Function: \"+str(costly))\n",
    "\n",
    "    return costly\n",
    "\n",
    "#Define the optimizer that is used to find the optimal value of the objective function\n",
    "\n",
    "out = minimize(objective, x0=[random.randint(-50,50)/100, random.randint(-50,50)/100], method=\"COBYLA\", options={'maxiter':20})\n",
    "print(\"-----------------------------\")\n",
    "print(out)\n",
    "\n",
    "#Defines the sampling method that finds the exact optimal value\n",
    "samples = 200\n",
    "\n",
    "optimal_cost = math.inf\n",
    "optimal_val = 0\n",
    "\n",
    "for t in range(0, samples):\n",
    "    final_function = old_circuit(out['x'])\n",
    "    if (function_optimize(final_function[0], final_function[1]) < optimal_cost):\n",
    "        optimal_val = final_function\n",
    "        print(optimal_val)\n",
    "        optimal_cost = function_optimize(final_function[0], final_function[1])\n",
    "\n",
    "print(\"The Optimal Value Is: \"+str(optimal_val))\n",
    "\n",
    "\n",
    "#Define the y array for the first mode\n",
    "\n",
    "f = run_circuit(out['x'])\n",
    "final = f[0]\n",
    "\n",
    "x = [i/10 for i in range(-40, 40)]\n",
    "y = []\n",
    "\n",
    "for i in range(0, len(x)):\n",
    "    res = simps([final[k][i] for k in range(0, len(x))], x)\n",
    "    y.append(res)\n",
    "\n",
    "#Define the y array for the second mode\n",
    "\n",
    "final2 = f[1]\n",
    "\n",
    "x2 = [i/10 for i in range(-40, 40)]\n",
    "y2 = []\n",
    "\n",
    "for i in range(0, len(x2)):\n",
    "    res = simps([final2[k][i] for k in range(0, len(x2))], x2)\n",
    "    y2.append(res)\n",
    "\n",
    "\n",
    "#Defines the contour plot that gives the final probability density function\n",
    "\n",
    "fig = plt.figure(figsize=(6,5))\n",
    "left, bottom, width, height = 0.1, 0.1, 0.8, 0.8\n",
    "ax = fig.add_axes([left, bottom, width, height])\n",
    "\n",
    "x_vals = x\n",
    "y_vals = x2\n",
    "X, Y = np.meshgrid(x, x2)\n",
    "\n",
    "\n",
    "Z = np.array([[i*j for i in y] for j in y2])\n",
    "\n",
    "cp = plt.contourf(X, Y, Z)\n",
    "plt.colorbar(cp)\n",
    "\n",
    "ax.set_title('Contour Plot')\n",
    "plt.scatter([float(7)/6], [float(2)/3])\n",
    "plt.show()\n",
    "\n",
    "#Defines the probability density graph of the first mode\n",
    "\n",
    "plt.subplot(2, 1, 1)\n",
    "plt.plot(x, y)\n",
    "plt.plot([float(7)/6 for o in range(0, 5)], [0, 0.25*max(y), 0.5*max(y), 0.75*max(y), max(y)])\n",
    "\n",
    "#Defines the probability density graph of the second mode\n",
    "\n",
    "plt.subplot(2, 1, 2)\n",
    "plt.plot(x2, y2)\n",
    "plt.plot([float(2)/3 for o in range(0, 5)], [0, 0.25*max(y2), 0.5*max(y2), 0.75*max(y2), max(y2)])\n",
    "\n",
    "plt.show()"
   ]
  },
  {
   "cell_type": "markdown",
   "metadata": {},
   "source": [
    "So it's not awful, but it isn't amazing either. Even so, I still feel like I'm cheating because I'm still being super selective with the parameters. In addition, this implementation uses a new approach to applying the parameters, where two parameters are optimized, and applied to the circuit in both the mixer and cost unitaries on even and odd numbered iterations respectively. The algorithm does appear to favour a region fairly close to our optimal value, however, there is a lot of variance due to us setting Planck's constant to $2$.\n",
    "\n",
    "**The Not-So Grand Finale: A Quartic Function With Two Global Minima** <div id=\"7\"></div>\n",
    "\n",
    "Now, for the grand finale! We will attempt to implement to apply CV QAOA to the optimization of a **quartic** function. However, before we do this, we need to take a bit of a detour, and discuss how the heck we are actually going to create a quartic phase gate."
   ]
  },
  {
   "cell_type": "markdown",
   "metadata": {},
   "source": [
    "**Another Small Tangent: Higher-Order Gate Decomposition** <div id=\"8\"></div>\n",
    "\n",
    "Now, you're probably thinking: \"hold on one second....how are we supposed to deal with exponentials of $\\hat{x}^4$?\". Well, never fear, we actually have a method to decompose this gate exactly, using the research presented by Kalajdzievski and Arrazola in the paper \"Exact gate decompositions for photonic quantum computing\" (see references for a link to the paper). The paper is genius, if you're interested I **highly** reccomend at least quickly going through it), but we can essentially decompose our quartic gate into a product of a bunch of lower-order gates. I'm not going to go through the proofs/calculations, but, for even $N$, the paper arrives at the relation:\n",
    "\n",
    "<br><br>\n",
    "$$e^{i \\alpha \\hat{x}_k^N} \\ = \\ e^{2i \\alpha \\hat{p}_j \\hat{x}_k^{N/2}} e^{i \\alpha \\hat{x}_j^2} e^{-2i \\alpha \\hat{p}_j \\hat{x}_k^{N/2}} e^{-i \\alpha \\hat{x}_j^2} e^{-2i \\alpha \\hat{x}_j \\hat{x}_k^{N/2}}$$\n",
    "<br><br>\n",
    "\n",
    "So for the case of $N \\ = \\ 4$, we get:\n",
    "\n",
    "<br><br>\n",
    "$$e^{i \\alpha \\hat{x}_k^4} \\ = \\ e^{2i \\alpha \\hat{p}_j \\hat{x}_k^{2}} e^{i \\alpha \\hat{x}_j^2} e^{-2i \\alpha \\hat{p}_j \\hat{x}_k^{2}} e^{-i \\alpha \\hat{x}_j^2} e^{-2i \\alpha \\hat{x}_j \\hat{x}_k^{2}} \\ = \\ e^{2i \\alpha \\hat{p}_j \\hat{x}_k^{2}} e^{i \\alpha \\hat{x}_j^2} e^{-2i \\alpha \\hat{p}_j \\hat{x}_k^{2}} e^{-i \\alpha \\hat{x}_j^2} F^{\\dagger}_j e^{-2i \\alpha \\hat{p}_j \\hat{x}_k^{2}} F_j$$\n",
    "<br><br>\n",
    "\n",
    "The paper also gives as an identity:\n",
    "\n",
    "<br><br>\n",
    "$$e^{i3\\beta^2 t \\hat{p}_k \\hat{x}_j^2} \\ = \\ e^{i2\\beta \\hat{x}_j \\hat{x}_k} e^{i t \\hat{p}_k^3} e^{-i \\beta \\hat{x}_j \\hat{x}_k} e^{-i t \\hat{p}_k^3} e^{-i2\\beta \\hat{x}_j \\hat{x}_k} e^{i t \\hat{p}_k^3} e^{i \\beta \\hat{x}_j \\hat{x}_k} e^{-i t \\hat{p}_k^3} e^{i \\beta^3 t \\frac{3}{4} \\hat{x}^3_j}$$\n",
    "<br><br>\n",
    "$$\\Rightarrow \\ e^{i3 t \\hat{p}_k \\hat{x}_j^2} \\ = \\ e^{i2 \\hat{x}_j \\hat{x}_k} e^{i t \\hat{p}_k^3} e^{-i \\hat{x}_j \\hat{x}_k} e^{-i t \\hat{p}_k^3} e^{-i2 \\hat{x}_j \\hat{x}_k} e^{i t \\hat{p}_k^3} e^{i \\hat{x}_j \\hat{x}_k} e^{-i t \\hat{p}_k^3} e^{i t \\frac{3}{4} \\hat{x}^3_j} \\ = \\ e^{i2 \\hat{x}_j \\hat{x}_k} F^{\\dagger} e^{-i t \\hat{x}_k^3} F e^{-i \\hat{x}_j \\hat{x}_k} F^{\\dagger} e^{i t \\hat{x}_k^3} F e^{-i2 \\hat{x}_j \\hat{x}_k} F^{\\dagger} e^{-i t \\hat{x}_k^3} F e^{i \\hat{x}_j \\hat{x}_k} F^{\\dagger} e^{i t \\hat{x}_k^3} F e^{i t \\frac{3}{4} \\hat{x}^3_j}$$\n",
    "<br><br>\n",
    "$$\\Rightarrow e^{i \\omega \\hat{p}_k \\hat{x}_j^2} \\ = \\ e^{i2 \\hat{x}_j \\hat{x}_k} F^{\\dagger} e^{-i \\frac{\\omega}{3} \\hat{x}_k^3} F e^{-i \\hat{x}_j \\hat{x}_k} F^{\\dagger} e^{i \\frac{\\omega}{3} \\hat{x}_k^3} F e^{-i2 \\hat{x}_j \\hat{x}_k} F^{\\dagger} e^{-i \\frac{\\omega}{3} \\hat{x}_k^3} F e^{i \\hat{x}_j \\hat{x}_k} F^{\\dagger} e^{i \\frac{\\omega}{3} \\hat{x}_k^3} F e^{i \\frac{\\omega}{4} \\hat{x}^3_j}$$\n",
    "<br><br>\n",
    "\n",
    "So we have a method to implement gates of the form $e^{i \\alpha \\hat{p}_k \\hat{x}_j^2}$, as well as gates of the form $e^{i \\alpha \\hat{x}_k \\hat{x}_j^2}$ (all we have to do is use a couple Fourier gates). I know, it's a bit of a mess, but we'll break it down, and implement it into our simulation in chunks. We can start by creating a function that generates this specific gate:"
   ]
  },
  {
   "cell_type": "code",
   "execution_count": null,
   "metadata": {},
   "outputs": [],
   "source": [
    "#Implementing the sub-component gate involved in quartic decomposition\n",
    "\n",
    "def crazy_gate(omega, q, selector):\n",
    "\n",
    "    Vgate(0.25*3*hbar*omega) | q[selector+1]\n",
    "    Rgate(math.pi/2) | q[selector]\n",
    "    Vgate(hbar*omega) | q[selector]\n",
    "    Rgate(-1*math.pi/2) | q[selector]\n",
    "    CZgate(hbar) | (q[selector], q[selector+1])\n",
    "    Rgate(math.pi/2) | q[selector]\n",
    "    Vgate(-1*hbar*omega) | q[selector]\n",
    "    Rgate(-1*math.pi/2) | q[selector]\n",
    "    CZgate(-2*hbar) | (q[selector], q[selector+1])\n",
    "    Rgate(math.pi/2) | q[selector]\n",
    "    Vgate(hbar*omega) | q[selector]\n",
    "    Rgate(-1*math.pi/2) | q[selector]\n",
    "    CZgate(-1*hbar) | (q[selector], q[selector+1])\n",
    "    Rgate(math.pi/2) | q[selector]\n",
    "    Vgate(-1*hbar*omega) | q[selector]\n",
    "    Rgate(-1*math.pi/2) | q[selector]\n",
    "    CZgate(2*hbar) | (q[selector], q[selector+1])\n",
    "    \n",
    "    return q"
   ]
  },
  {
   "cell_type": "markdown",
   "metadata": {},
   "source": [
    "We can then construct a function that returns the quartic gate:"
   ]
  },
  {
   "cell_type": "code",
   "execution_count": null,
   "metadata": {},
   "outputs": [],
   "source": [
    "#Defining the quartic gate, in terms of a decomposition\n",
    "\n",
    "def quartic_gate(q, alpha, selector):\n",
    "\n",
    "    Rgate(math.pi/2) | q[selector+1]\n",
    "    crazy_gate(-2*alpha, q, selector)\n",
    "    Rgate(math.pi/2) | q[selector+1]\n",
    "    Pgate(-2*hbar*alpha) | q[selector+1]\n",
    "    crazy_gate(-2*alpha, q, selector)\n",
    "    Pgate(2*hbar*alpha) | q[selector+1]\n",
    "    crazy_gate(2*alpha, q, selector)"
   ]
  },
  {
   "cell_type": "markdown",
   "metadata": {},
   "source": [
    "And that concludes our small detour! Now, let us turn our attention to the function that we wish to optimize, which is:\n",
    "\n",
    "<br><br>\n",
    "$$f(x, \\ y) \\ = \\ 0.5x^4 \\ - \\ 8x^2$$\n",
    "<br>\n",
    "$$\\text{min} \\ f(x, \\ y) \\ = \\ -32 \\ \\Rightarrow \\ x \\ = \\ \\pm \\ 2 \\sqrt{2}$$\n",
    "<br><br>\n",
    "\n",
    "Excellent, so we can now implement our simulation one more time. As usual, we first have to define our value of Planck's constant, ass well as our classical cost function, which will be given as:"
   ]
  },
  {
   "cell_type": "code",
   "execution_count": null,
   "metadata": {},
   "outputs": [],
   "source": [
    "#Defining the value of h-bar\n",
    "\n",
    "sf.hbar = 1\n",
    "hbar = 1\n",
    "\n",
    "#Defining the classical cost function that we are trying to optimize\n",
    "\n",
    "def function_optimize(x1):\n",
    "    y = 0.5*(x1**4) - 8*(x1**2)\n",
    "    return y"
   ]
  },
  {
   "cell_type": "markdown",
   "metadata": {},
   "source": [
    "Next, we define our cost and mixer unitaries:"
   ]
  },
  {
   "cell_type": "code",
   "execution_count": null,
   "metadata": {},
   "outputs": [],
   "source": [
    "#Defining the cost unitary to be used in QAOA\n",
    "\n",
    "def cost_ham(q, p):\n",
    "\n",
    "    quartic_gate(q, -0.5, 0)\n",
    "    Pgate(16*hbar*p) | q[0]\n",
    "\n",
    "#Defining the kinetic mixer unitary to be used in QAOA\n",
    "\n",
    "def mixer_ham(q, p):\n",
    "\n",
    "    Rgate(-1*math.pi/2) | q[0]\n",
    "    Pgate(-1*hbar*p) | q[0]\n",
    "    Rgate(math.pi/2) | q[0]\n",
    "\n",
    "    return q"
   ]
  },
  {
   "cell_type": "markdown",
   "metadata": {},
   "source": [
    "We then define our parameters, and our numerical circuit simulator:"
   ]
  },
  {
   "cell_type": "code",
   "execution_count": null,
   "metadata": {},
   "outputs": [],
   "source": [
    "#Defining the depth of the QAOA circuit to be constructed, the squeezing parameter, and the cutoff dimension\n",
    "\n",
    "circuit_depth = 10\n",
    "squeezing = -0.5\n",
    "cutoff = 7\n",
    "\n",
    "\n",
    "# Defining the function that simulates the circuit, and returns the results\n",
    "\n",
    "def run_circuit(param):\n",
    "\n",
    "    eng = sf.Engine(\"fock\", backend_options={\"cutoff_dim\":cutoff})\n",
    "    prog = sf.Program(2)\n",
    "\n",
    "    param1 = [param[0] for i in range(0, circuit_depth)]\n",
    "    param2 = [param[1] for i in range(0, circuit_depth)]\n",
    "\n",
    "    with prog.context as q:\n",
    "\n",
    "        Squeezed(squeezing,0) | q[0]\n",
    "\n",
    "        for i in range(0, circuit_depth):\n",
    "\n",
    "            cost_ham(q, param1[i])\n",
    "            mixer_ham(q, param2[i])\n",
    "\n",
    "    state = eng.run(prog, run_options={\"eval\": False}).state\n",
    "    a = state.wigner(0, [i/100 for i in range(-500, 500)], [i/100 for i in range(-500,500)])\n",
    "\n",
    "    return a"
   ]
  },
  {
   "cell_type": "markdown",
   "metadata": {},
   "source": [
    "Now here is where things get interesting........."
   ]
  },
  {
   "cell_type": "markdown",
   "metadata": {},
   "source": [
    "**I Promise This is Our Last Detour: Numerically Calculating the Cost Hamiltonian Expectation Value** <div id=\"9\"></div>\n",
    "\n",
    "The next step of our simulation should be to define our objective function, which we will minimize. Usually we would od this through finite sampling, but in thi case, we will try something new.\n",
    "\n",
    "Our cost Hamiltonian is of the form:\n",
    "\n",
    "<br><br>\n",
    "$$H_{C} \\ = \\ \\hat{x}^4 \\ - \\ 8\\hat{x}^2$$\n",
    "<br><br>\n",
    "\n",
    "Thus, when QAOA terminates for each iteration, we want to find, for the prepared state vector $|s\\rangle$:\n",
    "\n",
    "<br><br>\n",
    "$$\\langle H_{C} \\rangle \\ = \\ \\langle s | 0.5\\hat{x}^4 \\ - \\ 8\\hat{x}^2 | s \\rangle$$\n",
    "<br><br>\n",
    "\n",
    "Usually, we would have to sample the circuit repeatedly to obtain this expectation value. However, we're going to be sneaky for this simulation, because sampling a circuit this deep will take a nightmarishly long time (not really, but I'm super impatient). We have:\n",
    "\n",
    "<br><br>\n",
    "$$\\langle s | 0.5\\hat{x}^4 \\ - \\ 8\\hat{x}^2 | s \\rangle \\ = \\ 0.5 \\langle s | \\hat{x}^4 | s \\rangle \\ - \\ 8 \\langle s |\\hat{x}^2 | s\\rangle \\ = \\  0.5 \\displaystyle\\int \\langle s | x \\rangle \\langle x | dx \\ \\hat{x}^4 \\displaystyle\\int |y \\rangle \\langle y | s \\rangle dy \\ - \\ 8 \\displaystyle\\int \\langle s | x \\rangle \\langle x | dx \\ \\hat{x}^2 \\displaystyle\\int | y \\rangle \\langle y | s\\rangle dy$$\n",
    "<br>\n",
    "$$\\Rightarrow \\ 0.5 \\displaystyle\\int \\displaystyle\\int x^4 \\langle s | x \\rangle \\langle x |y \\rangle \\langle y | s \\rangle \\ dy \\ dx \\ - \\ 8 \\displaystyle\\int \\displaystyle\\int x^2 \\langle s | x \\rangle \\langle x |y \\rangle \\langle y | s\\rangle \\ dy \\ dx \\ = \\ 0.5 \\displaystyle\\int x^4 \\langle s | x \\rangle \\langle x | s \\rangle \\ dx \\ - \\ 8 \\displaystyle\\int x^2 \\langle s | x \\rangle \\langle x | s \\rangle \\ dx$$\n",
    "<br>\n",
    "$$\\Rightarrow \\ 0.5 \\displaystyle\\int x^4 |\\langle x | s \\rangle|^2 \\ dx \\ - \\ 8 \\displaystyle\\int x^2 |\\langle x | s \\rangle|^2 \\ dx$$\n",
    "<br><br>\n",
    "\n",
    "This tells us something very useful. Essentially, we already know $|\\langle x | s \\rangle|^2$, this is just the $x$-quadrature probability values. We also already know how to integrate over it numerically, thus, while we take this integral, we simply have multiply either $x^2$ or $x^4$ inside the integrand, and then put the obtained values back into this formula to get the expectation value of the cost Hamiltonian by only evaluating the circuit once! This, technically, is cheating, but we are just experimenting, so I'm going to accept that this is allowed.\n",
    "\n",
    "Based on what we have just found, we define our new, **numerical** objective function:"
   ]
  },
  {
   "cell_type": "code",
   "execution_count": null,
   "metadata": {},
   "outputs": [],
   "source": [
    "#Defining the objective function that will be minimized by the optimizer\n",
    "\n",
    "def new_objective(param):\n",
    "\n",
    "    av = run_circuit(param)\n",
    "\n",
    "    y = []\n",
    "    x = [i/100 for i in range(-500, 500)]\n",
    "    for i in range(0, len(x)):\n",
    "        res = simps([av[k][i] for k in range(0, len(x))], x)\n",
    "        y.append(res)\n",
    "\n",
    "    norm_factor = simps(y, x)\n",
    "    y = [y[i]/norm_factor for i in range(0, len(y))]\n",
    "\n",
    "    first_x_2 = [(x[i]**2)*y[i] for i in range(0, len(x))]\n",
    "    first_x_4 = [(x[i]**4)*y[i] for i in range(0, len(x))]\n",
    "\n",
    "    i2 = simps(first_x_2, x)\n",
    "    i3 = simps(first_x_4, x)\n",
    "\n",
    "    calculation = 0.5*i3 - 8*i2\n",
    "\n",
    "    print(\"Value of Cost Function: \"+str(calculation))\n",
    "\n",
    "    return calculation"
   ]
  },
  {
   "cell_type": "markdown",
   "metadata": {},
   "source": [
    "As you can see, we run the numerical circuit simulator once, and integrate to get expectation values for $x^4$ and $x^2$. You should also notice that we normalize our data points before integrating. This is just due to quartic gates leading to highly unnormalized final states, with ridiculously small values as data points. This leads to Python occasionally getting confused, and thinking it is dividing by $0$ (yes, the probabilities get that small). To get around this issue, we simply normalize the data before we calculate the expectation values.\n",
    "\n",
    "Finally, we define our optimizer and our visualization:"
   ]
  },
  {
   "cell_type": "code",
   "execution_count": null,
   "metadata": {},
   "outputs": [
    {
     "name": "stderr",
     "output_type": "stream",
     "text": [
      "C:\\Users\\mhakimi\\AppData\\Local\\Temp\\ipykernel_23304\\354043049.py:10: DeprecationWarning: 'scipy.integrate.simps' is deprecated in favour of 'scipy.integrate.simpson' and will be removed in SciPy 1.14.0\n",
      "C:\\Users\\mhakimi\\AppData\\Local\\Temp\\ipykernel_23304\\354043049.py:13: DeprecationWarning: 'scipy.integrate.simps' is deprecated in favour of 'scipy.integrate.simpson' and will be removed in SciPy 1.14.0\n",
      "C:\\Users\\mhakimi\\AppData\\Local\\Temp\\ipykernel_23304\\354043049.py:19: DeprecationWarning: 'scipy.integrate.simps' is deprecated in favour of 'scipy.integrate.simpson' and will be removed in SciPy 1.14.0\n",
      "C:\\Users\\mhakimi\\AppData\\Local\\Temp\\ipykernel_23304\\354043049.py:20: DeprecationWarning: 'scipy.integrate.simps' is deprecated in favour of 'scipy.integrate.simpson' and will be removed in SciPy 1.14.0\n"
     ]
    },
    {
     "name": "stdout",
     "output_type": "stream",
     "text": [
      "Value of Cost Function: -16.070976622275197\n",
      "Value of Cost Function: -16.11969004157163\n",
      "Value of Cost Function: -15.05350916027996\n",
      "Value of Cost Function: -17.608221212018748\n",
      "Value of Cost Function: -18.446435594551588\n",
      "Value of Cost Function: -18.804278719562873\n",
      "Value of Cost Function: -19.001550343932276\n",
      "Value of Cost Function: -19.107094664005988\n",
      "Value of Cost Function: -19.132772928716808\n",
      "Value of Cost Function: -19.14517195451392\n",
      "Value of Cost Function: -19.12339882427577\n",
      "Value of Cost Function: -19.151856640711067\n",
      "Value of Cost Function: -19.156860870731915\n",
      "Value of Cost Function: -19.160908077291257\n",
      "Value of Cost Function: -19.165225752905297\n",
      "Value of Cost Function: -19.16829782932872\n",
      "Value of Cost Function: -19.171002290629087\n",
      "Value of Cost Function: -19.17334447461524\n",
      "Value of Cost Function: -19.170753301491917\n",
      "Value of Cost Function: -19.175288791630866\n",
      " message: Maximum number of function evaluations has been exceeded.\n",
      " success: False\n",
      "  status: 2\n",
      "     fun: -19.175288791630866\n",
      "       x: [ 1.016e+01 -9.065e+00]\n",
      "    nfev: 20\n",
      "   maxcv: 0.0\n"
     ]
    },
    {
     "data": {
      "image/png": "[encoded data removed]",
      "text/plain": [
       "<Figure size 640x480 with 2 Axes>"
      ]
     },
     "metadata": {},
     "output_type": "display_data"
    }
   ],
   "source": [
    "#Define the optimizer that is used to find the optimal value of the cost function\n",
    "\n",
    "out = minimize(new_objective, x0=[random.randint(-500,500)/100, random.randint(-500,500)/100], method=\"COBYLA\", options={'maxiter':20})\n",
    "print(out)\n",
    "\n",
    "#Runs the circuit a final time, with the optimal parameters\n",
    "\n",
    "final = run_circuit(out['x'])\n",
    "\n",
    "#Define the arrays used for the graphical visualization\n",
    "\n",
    "x = [i/100 for i in range(-500, 500)]\n",
    "x2 = [i/100 for i in range(-400, 400)]\n",
    "y = []\n",
    "\n",
    "#Construct the quadrature graph\n",
    "\n",
    "for i in range(0, len(x)):\n",
    "    res = simps([final[k][i] for k in range(0, len(x))], x)\n",
    "    y.append(res)\n",
    "\n",
    "plt.subplot(2, 1, 1)\n",
    "plt.plot(x, y)\n",
    "\n",
    "#Plot vertical lines corresponding to the actual optimal solutions\n",
    "\n",
    "plt.plot([2*math.sqrt(2) for i in range(0, 5)], [0, 0.25*max(y), 0.5*max(y), 0.75*max(y), max(y)])\n",
    "plt.plot([-2*math.sqrt(2) for i in range(0, 5)], [0, 0.25*max(y), 0.5*max(y), 0.75*max(y), max(y)])\n",
    "\n",
    "#Plot the actual cost function itself\n",
    "\n",
    "plt.subplot(2, 1, 2)\n",
    "plt.plot(x2, [function_optimize(x2[i]) for i in range(0, len(x2))])\n",
    "\n",
    "plt.show()"
   ]
  },
  {
   "cell_type": "markdown",
   "metadata": {},
   "source": [
    "So we get pretty great results, with two \"spikes\" appearing at the minima of the cost function. This simulation, however, required a very deep circuit (depth of $8$), so there is definitely a trade-off that must be considered, between accuracy of the algorithms, and dpeth of the circuit (which on a real quantum computer, would lead to loss of coherence).\n",
    "\n",
    "**Conclusion** <div id=\"10\"></div>\n",
    "\n",
    "In conclusion, this notebook was meant to act as expository material, to give the reader an idea of what QAOA and CV QAOA are all about through some interesting physical theory in the first section, and concrete simulations in the second part. I really hope you, the reader, has gained more clarity about the power of an algorithm like QAOA (specifically CV QAOA)!\n",
    "\n",
    "To address to topic of the accuracy of these simulations, I feel like for a lot of these results, I kind of got lucky. When I ran tests locally, I got a lot of great results, but at the same time, I got a lot of not-so-great results. I also feel as though I am \"selecting\" ideal parameters for each of the simulations, as a lot of the squeezing parameters, cutoff dimensions, etc. that I tested (which I didn't include in this notebook), did not work very well. Nevertheless, I think this is an interesting starting point to dive further into CV QAOA and conceptualize better training techniques, and more general ways to choose parameters such that convergence of the algorithm can be ensured to a higher degree.\n",
    "\n",
    "**Acknowledgements** <div id=\"11\"></div>\n",
    "\n",
    "This notebook would not have been compelted without all the help of Guillaume Verdon, Josh Izaac, Nicolas Quesada, Juan Miguel Arrazola, and Nathan Killoran. Thank you to all of you guys, I really appreciate that you took the time to answer my never-ending stream of questions!\n",
    "\n",
    "**References**\n",
    "\n",
    "Original CV QAOA Paper: [https://arxiv.org/abs/1902.00409](https://arxiv.org/abs/1902.00409)\n",
    "<br>\n",
    "CV Gate Decomposition Paper: [https://arxiv.org/abs/1811.10651](https://arxiv.org/abs/1811.10651)\n",
    "<br>\n",
    "The Code for the Contour Graph was Based Off of a StackExchange Answer (Will Update With Link)\n",
    "<br>\n",
    "Gaussian Quantum Information: [https://arxiv.org/abs/1110.3234](https://arxiv.org/abs/1110.3234)\n",
    "<br>\n",
    "Original QAOA Paper: [https://arxiv.org/abs/1411.4028](https://arxiv.org/abs/1411.4028)\n",
    "<br>\n",
    "Basic Explanation of QAE For QC: [https://quantumcomputing.stackexchange.com/a/5572/4907](https://quantumcomputing.stackexchange.com/a/5572/4907)"
   ]
  },
  {
   "cell_type": "code",
   "execution_count": null,
   "metadata": {},
   "outputs": [],
   "source": []
  }
 ],
 "metadata": {
  "kernelspec": {
   "display_name": "StrawberryFieldsVenv",
   "language": "python",
   "name": "python3"
  },
  "language_info": {
   "codemirror_mode": {
    "name": "ipython",
    "version": 3
   },
   "file_extension": ".py",
   "mimetype": "text/x-python",
   "name": "python",
   "nbconvert_exporter": "python",
   "pygments_lexer": "ipython3",
   "version": "3.9.13"
  }
 },
 "nbformat": 4,
 "nbformat_minor": 2
}
