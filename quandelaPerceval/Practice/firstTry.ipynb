{
 "cells": [
  {
   "cell_type": "code",
   "execution_count": null,
   "id": "19933682",
   "metadata": {},
   "outputs": [],
   "source": []
  },
  {
   "cell_type": "code",
   "execution_count": 2,
   "id": "a2ccab58",
   "metadata": {},
   "outputs": [
    {
     "name": "stdout",
     "output_type": "stream",
     "text": [
      "number of modes 2\n",
      "number of photons 2\n",
      "the state |1,1>\n"
     ]
    }
   ],
   "source": [
    "import perceval as pcvl\n",
    "\n",
    "fock_state = pcvl.BasicState(\"|1,1>\")\n",
    "\n",
    "print(\"number of modes\", fock_state.m)\n",
    "print(\"number of photons\", fock_state.n)\n",
    "print(\"the state\", fock_state)"
   ]
  },
  {
   "cell_type": "code",
   "execution_count": null,
   "id": "8f1fe141",
   "metadata": {},
   "outputs": [],
   "source": []
  }
 ],
 "metadata": {
  "kernelspec": {
   "display_name": "percevalVenv",
   "language": "python",
   "name": "python3"
  },
  "language_info": {
   "codemirror_mode": {
    "name": "ipython",
    "version": 3
   },
   "file_extension": ".py",
   "mimetype": "text/x-python",
   "name": "python",
   "nbconvert_exporter": "python",
   "pygments_lexer": "ipython3",
   "version": "3.13.3"
  }
 },
 "nbformat": 4,
 "nbformat_minor": 5
}
