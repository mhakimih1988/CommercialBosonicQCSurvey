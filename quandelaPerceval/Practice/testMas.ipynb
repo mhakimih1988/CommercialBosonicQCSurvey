{
 "cells": [
  {
   "cell_type": "code",
   "execution_count": null,
   "id": "869c1bc8",
   "metadata": {},
   "outputs": [],
   "source": []
  },
  {
   "cell_type": "code",
   "execution_count": 1,
   "id": "a90301f4",
   "metadata": {},
   "outputs": [],
   "source": [
    "from tqdm.auto import tqdm\n",
    "\n",
    "import perceval as pcvl\n",
    "\n",
    "import numpy as np\n",
    "from scipy.optimize import minimize\n",
    "import random\n",
    "import matplotlib.pyplot as plt"
   ]
  },
  {
   "cell_type": "code",
   "execution_count": 3,
   "id": "c6db7248",
   "metadata": {},
   "outputs": [],
   "source": [
    "psi = [0, 0, 0, 0,]"
   ]
  },
  {
   "cell_type": "code",
   "execution_count": null,
   "id": "2bef9521",
   "metadata": {},
   "outputs": [],
   "source": []
  }
 ],
 "metadata": {
  "kernelspec": {
   "display_name": "percevalVenv",
   "language": "python",
   "name": "python3"
  },
  "language_info": {
   "codemirror_mode": {
    "name": "ipython",
    "version": 3
   },
   "file_extension": ".py",
   "mimetype": "text/x-python",
   "name": "python",
   "nbconvert_exporter": "python",
   "pygments_lexer": "ipython3",
   "version": "3.13.3"
  }
 },
 "nbformat": 4,
 "nbformat_minor": 5
}
