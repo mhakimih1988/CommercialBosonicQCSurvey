{
 "cells": [
  {
   "cell_type": "code",
   "execution_count": null,
   "id": "5e908ba0",
   "metadata": {},
   "outputs": [],
   "source": []
  },
  {
   "cell_type": "code",
   "execution_count": 1,
   "id": "dc38de95",
   "metadata": {},
   "outputs": [],
   "source": [
    "import strawberryfields as sf"
   ]
  },
  {
   "cell_type": "code",
   "execution_count": 2,
   "id": "774cd01a",
   "metadata": {},
   "outputs": [],
   "source": [
    "from strawberryfields import ops"
   ]
  },
  {
   "cell_type": "code",
   "execution_count": 3,
   "id": "4dc0f292",
   "metadata": {},
   "outputs": [],
   "source": [
    "from strawberryfields.ops import *"
   ]
  },
  {
   "cell_type": "code",
   "execution_count": 4,
   "id": "83d94b40",
   "metadata": {},
   "outputs": [],
   "source": [
    "from strawberryfields.utils import random_interferometer"
   ]
  },
  {
   "cell_type": "code",
   "execution_count": 5,
   "id": "b5854145",
   "metadata": {},
   "outputs": [],
   "source": [
    "prog = sf.Program(8)"
   ]
  },
  {
   "cell_type": "code",
   "execution_count": 6,
   "id": "a88fd5ce",
   "metadata": {},
   "outputs": [],
   "source": [
    "U = random_interferometer(4)"
   ]
  },
  {
   "cell_type": "code",
   "execution_count": 7,
   "id": "4b4af616",
   "metadata": {},
   "outputs": [],
   "source": [
    "parabolic_min = 1\n",
    "alpha_param = [0.5, 0.5, 0.5]\n",
    "beta_param = [0.5, 0.5, 0.5]"
   ]
  },
  {
   "cell_type": "code",
   "execution_count": 8,
   "id": "d905095c",
   "metadata": {},
   "outputs": [],
   "source": [
    "# with prog.context as q:\n",
    "\n",
    "#     Squeezed(-0.5,0) | q[0]\n",
    "\n",
    "#     Zgate(parabolic_min*4*beta_param[0]) | q[0]\n",
    "#     # Pgate(-4*beta_param[0]) | q[0]\n",
    "#     Rgate(-1*alpha_param[0]) | q[0]\n",
    "#     Zgate(parabolic_min*4*beta_param[1]) | q[0]\n",
    "#     # Pgate(-4*beta_param[1]) | q[0]\n",
    "#     Rgate(-1*alpha_param[1]) | q[0]\n",
    "#     Zgate(parabolic_min*4*beta_param[2]) | q[0]\n",
    "#     # Pgate(-4*beta_param[2]) | q[0]\n",
    "#     Rgate(-1*alpha_param[2]) | q[0]\n",
    "\n",
    "#     # MeasureX | q[0]\n",
    "#     # Fock(2) | q[0]            #The operation Fock cannot be used with the compiler 'gaussian'.\n",
    "\n",
    "#     # ops.MeasureFock() | q[0]\n",
    "#     ops.MeasureFock() | q\n",
    "\n",
    "#     # state = eng.run(prog, cutoff_dim=5)\n",
    "    "
   ]
  },
  {
   "cell_type": "code",
   "execution_count": 9,
   "id": "040036ce",
   "metadata": {},
   "outputs": [],
   "source": [
    "# import strawberryfields as sf\n",
    "# from strawberryfields import ops\n",
    "\n",
    "nr_modes = 8\n",
    "gbs_prog = sf.Program(nr_modes)\n",
    "with gbs_prog.context as q:\n",
    "    Squeezed(-0.5,0) | q[0]\n",
    "\n",
    "    Zgate(parabolic_min*4*beta_param[0]) | q[0]\n",
    "    # Pgate(-4*beta_param[0]) | q[0]\n",
    "    Rgate(-1*alpha_param[0]) | q[0]\n",
    "    Zgate(parabolic_min*4*beta_param[1]) | q[0]\n",
    "    # Pgate(-4*beta_param[1]) | q[0]\n",
    "    Rgate(-1*alpha_param[1]) | q[0]\n",
    "    Zgate(parabolic_min*4*beta_param[2]) | q[0]\n",
    "    # Pgate(-4*beta_param[2]) | q[0]\n",
    "    Rgate(-1*alpha_param[2]) | q[0]\n",
    "\n",
    "    # MeasureX | q[0]\n",
    "    # Fock(2) | q[0]            #The operation Fock cannot be used with the compiler 'gaussian'.\n",
    "\n",
    "    # ops.MeasureFock() | q[0]\n",
    "    ops.MeasureFock() | q"
   ]
  },
  {
   "cell_type": "code",
   "execution_count": 10,
   "id": "cef34968",
   "metadata": {},
   "outputs": [],
   "source": [
    "eng = sf.RemoteEngine(\"simulon_gaussian\")\n",
    "# eng = sf.RemoteEngine(\"X8\")\n",
    "\n"
   ]
  },
  {
   "cell_type": "code",
   "execution_count": 11,
   "id": "888b7585",
   "metadata": {},
   "outputs": [
    {
     "name": "stderr",
     "output_type": "stream",
     "text": [
      "2025-06-12 14:37:02,914 - INFO - Compiling program for device simulon_gaussian using compiler gaussian.\n",
      "2025-06-12 14:37:06,644 - ERROR - The remote job d41c9583-b1ed-4da8-a6e0-203acf6ad08c failed due to an internal server error: {'error-code': 'device-error', 'error-detail': 'The device was unable to process your job request. The error has been forwarded to technical support.'}. Please try again.\n"
     ]
    },
    {
     "ename": "FailedJobError",
     "evalue": "The remote job d41c9583-b1ed-4da8-a6e0-203acf6ad08c failed due to an internal server error: {'error-code': 'device-error', 'error-detail': 'The device was unable to process your job request. The error has been forwarded to technical support.'}. Please try again.",
     "output_type": "error",
     "traceback": [
      "\u001b[1;31m---------------------------------------------------------------------------\u001b[0m",
      "\u001b[1;31mFailedJobError\u001b[0m                            Traceback (most recent call last)",
      "Cell \u001b[1;32mIn[11], line 1\u001b[0m\n\u001b[1;32m----> 1\u001b[0m results \u001b[38;5;241m=\u001b[39m \u001b[43meng\u001b[49m\u001b[38;5;241;43m.\u001b[39;49m\u001b[43mrun\u001b[49m\u001b[43m(\u001b[49m\u001b[43mprog\u001b[49m\u001b[43m,\u001b[49m\u001b[43m \u001b[49m\u001b[43mshots\u001b[49m\u001b[38;5;241;43m=\u001b[39;49m\u001b[38;5;241;43m4\u001b[39;49m\u001b[43m)\u001b[49m\n",
      "File \u001b[1;32mc:\\Users\\mhakimi\\Documents\\strawberryfields9\\StrawberryFieldsVenv\\lib\\site-packages\\strawberryfields\\engine.py:730\u001b[0m, in \u001b[0;36mRemoteEngine.run\u001b[1;34m(self, program, compile_options, recompile, **kwargs)\u001b[0m\n\u001b[0;32m    725\u001b[0m     message \u001b[38;5;241m=\u001b[39m (\n\u001b[0;32m    726\u001b[0m         \u001b[38;5;124mf\u001b[39m\u001b[38;5;124m\"\u001b[39m\u001b[38;5;124mThe remote job \u001b[39m\u001b[38;5;132;01m{\u001b[39;00mjob\u001b[38;5;241m.\u001b[39mid\u001b[38;5;132;01m}\u001b[39;00m\u001b[38;5;124m failed due to an internal \u001b[39m\u001b[38;5;124m\"\u001b[39m\n\u001b[0;32m    727\u001b[0m         \u001b[38;5;124mf\u001b[39m\u001b[38;5;124m\"\u001b[39m\u001b[38;5;124mserver error: \u001b[39m\u001b[38;5;132;01m{\u001b[39;00mjob\u001b[38;5;241m.\u001b[39mmetadata\u001b[38;5;132;01m}\u001b[39;00m\u001b[38;5;124m. Please try again.\u001b[39m\u001b[38;5;124m\"\u001b[39m\n\u001b[0;32m    728\u001b[0m     )\n\u001b[0;32m    729\u001b[0m     \u001b[38;5;28mself\u001b[39m\u001b[38;5;241m.\u001b[39mlog\u001b[38;5;241m.\u001b[39merror(message)\n\u001b[1;32m--> 730\u001b[0m     \u001b[38;5;28;01mraise\u001b[39;00m FailedJobError(message)\n\u001b[0;32m    732\u001b[0m \u001b[38;5;28;01mif\u001b[39;00m job\u001b[38;5;241m.\u001b[39mstatus \u001b[38;5;241m==\u001b[39m \u001b[38;5;124m\"\u001b[39m\u001b[38;5;124mcomplete\u001b[39m\u001b[38;5;124m\"\u001b[39m:\n\u001b[0;32m    733\u001b[0m     \u001b[38;5;28mself\u001b[39m\u001b[38;5;241m.\u001b[39mlog\u001b[38;5;241m.\u001b[39minfo(\u001b[38;5;124mf\u001b[39m\u001b[38;5;124m\"\u001b[39m\u001b[38;5;124mThe remote job \u001b[39m\u001b[38;5;132;01m{\u001b[39;00mjob\u001b[38;5;241m.\u001b[39mid\u001b[38;5;132;01m}\u001b[39;00m\u001b[38;5;124m has been completed.\u001b[39m\u001b[38;5;124m\"\u001b[39m)\n",
      "\u001b[1;31mFailedJobError\u001b[0m: The remote job d41c9583-b1ed-4da8-a6e0-203acf6ad08c failed due to an internal server error: {'error-code': 'device-error', 'error-detail': 'The device was unable to process your job request. The error has been forwarded to technical support.'}. Please try again."
     ]
    }
   ],
   "source": [
    "results = eng.run(prog, shots=4)"
   ]
  },
  {
   "cell_type": "code",
   "execution_count": null,
   "id": "09d5c85e",
   "metadata": {},
   "outputs": [
    {
     "data": {
      "text/plain": [
       "array([], shape=(0, 0), dtype=float64)"
      ]
     },
     "execution_count": 11,
     "metadata": {},
     "output_type": "execute_result"
    }
   ],
   "source": [
    "results.samples"
   ]
  },
  {
   "cell_type": "code",
   "execution_count": null,
   "id": "bdb3eddd",
   "metadata": {},
   "outputs": [],
   "source": []
  },
  {
   "cell_type": "code",
   "execution_count": null,
   "id": "9f27c5a0",
   "metadata": {},
   "outputs": [],
   "source": []
  },
  {
   "cell_type": "code",
   "execution_count": null,
   "id": "61ab2eb6",
   "metadata": {},
   "outputs": [
    {
     "ename": "NameError",
     "evalue": "name 'engine' is not defined",
     "output_type": "error",
     "traceback": [
      "\u001b[1;31m---------------------------------------------------------------------------\u001b[0m",
      "\u001b[1;31mNameError\u001b[0m                                 Traceback (most recent call last)",
      "Cell \u001b[1;32mIn[12], line 2\u001b[0m\n\u001b[0;32m      1\u001b[0m \u001b[38;5;66;03m# print(engine.device_spec.modes)\u001b[39;00m\n\u001b[1;32m----> 2\u001b[0m \u001b[38;5;28mprint\u001b[39m(\u001b[43mengine\u001b[49m)\n",
      "\u001b[1;31mNameError\u001b[0m: name 'engine' is not defined"
     ]
    }
   ],
   "source": [
    "# print(engine.device_spec.modes)\n",
    "print(engine)"
   ]
  },
  {
   "cell_type": "code",
   "execution_count": null,
   "id": "9e9cf071",
   "metadata": {},
   "outputs": [],
   "source": []
  },
  {
   "cell_type": "code",
   "execution_count": null,
   "id": "9612826d",
   "metadata": {},
   "outputs": [],
   "source": []
  },
  {
   "cell_type": "code",
   "execution_count": null,
   "id": "7fa40c83",
   "metadata": {},
   "outputs": [],
   "source": []
  },
  {
   "cell_type": "code",
   "execution_count": null,
   "id": "b83a19a7",
   "metadata": {},
   "outputs": [],
   "source": []
  }
 ],
 "metadata": {
  "kernelspec": {
   "display_name": "StrawberryFieldsVenv",
   "language": "python",
   "name": "python3"
  },
  "language_info": {
   "codemirror_mode": {
    "name": "ipython",
    "version": 3
   },
   "file_extension": ".py",
   "mimetype": "text/x-python",
   "name": "python",
   "nbconvert_exporter": "python",
   "pygments_lexer": "ipython3",
   "version": "3.9.13"
  }
 },
 "nbformat": 4,
 "nbformat_minor": 5
}
